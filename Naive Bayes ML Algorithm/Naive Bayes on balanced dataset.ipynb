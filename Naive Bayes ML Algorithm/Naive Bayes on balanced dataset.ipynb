{
 "cells": [
  {
   "cell_type": "markdown",
   "metadata": {
    "id": "Dnubs-Nnb3cw"
   },
   "source": [
    "# Apply Naive Bayes on `Donors Choose` dataset"
   ]
  },
  {
   "cell_type": "markdown",
   "metadata": {
    "id": "RW0zYHb5m_wI"
   },
   "source": [
    "<ol>\n",
    "    <li>Minimum data points need to be considered for people having 4GB RAM is <strong>50k</strong> and for 8GB RAM is <strong>100k</strong></li>\n",
    "    <li>When using RandomSearchCV or GridSearchCV we need not split the data into X_train,X_cv,X_test. As the above methods use k-fold. The model will learn better if train data is more so splitting to X_train,X_test will suffice.</li>\n",
    "    <li>If you are writing for-loops to tune your model then you need split the data into X_train,X_cv,X_test.</li>\n",
    "    <li>While splitting the data explore stratify parameter. </li>\n",
    "    <li><strong>Apply Multinomial NB on these feature sets</strong></li>\n",
    "        <ul>\n",
    "            <li>Features that need to be considered</li> \n",
    "                <dl>\n",
    "                  <dt>essay</dt>\n",
    "                    <dd>while encoding essay, try to experiment with the max_features and n_grams parameter of vectorizers and see if it increases AUC score.</dd>\n",
    "                  <dt>categorical features</dt>\n",
    "                  <dd> - teacher_prefix</dd>\n",
    "                  <dd> - project_grade_category</dd>\n",
    "                  <dd> - school_state</dd>\n",
    "                  <dd> - clean_categories</dd>\n",
    "                  <dd> - clean_subcategories</dd>\n",
    "                  <dt>numerical features</dt>\n",
    "                  <dd> - price</dd>\n",
    "                  <dd> - teacher_number_of_previously_posted_projects</dd>\n",
    "                  <dd>while encoding the numerical features check <a href='https://imgur.com/ldZA1zg'>this</a> and <a href='https://ac-classroom-production.s3.amazonaws.com/public/COMMENT/Annotation_2020-05-21_225912_0lyZzN8.jpg'>this</a></dd>\n",
    "                </dl>    \n",
    "            <li><font color='blue'>Set 1</font>: categorical, numerical features + preprocessed_essay (BOW)</li>\n",
    "            <li><font color='blue'>Set 2</font>: categorical, numerical features + preprocessed_essay (TFIDF)</li>\n",
    "        </ul>\n",
    "    <li><strong>The hyper paramter tuning(find best alpha:smoothing parameter)</strong>\n",
    "        <ul>\n",
    "    <li>Consider alpha values in range: 10^-5 to 10^2 like [0.00001,0.0005, 0.0001,0.005,0.001,0.05,0.01,0.1,0.5,1,5,10,50,100]</li>\n",
    "    <li>Explore class_prior = [0.5, 0.5] parameter which can be present in MultinomialNB function(go through <a href='https://scikit-learn.org/stable/modules/generated/sklearn.naive_bayes.MultinomialNB.html'>this</a> ) then check how results might change.\n",
    "    <li>Find the best hyper parameter which will give the maximum <a href='https://www.appliedaicourse.com/course/applied-ai-course-online/lessons/receiver-operating-characteristic-curve-roc-curve-and-auc-1/'>AUC</a> value</li>\n",
    "    <li>For hyper parameter tuning using k-fold cross validation(use GridsearchCV or RandomsearchCV)/simple cross validation data (write for loop to iterate over hyper parameter values)</li>\n",
    "    <li>You need to plot the performance of model both on train data and cross validation data for each hyper parameter, like shown in the figure\n",
    "    <img src='https://i.imgur.com/hUv6aEy.jpg' width=300px><dd>-while plotting take log(alpha) on your X-axis so that it will be more readable</dd></li>\n",
    "    <li>Once after you found the best hyper parameter, you need to train your model with it, and find the AUC on test data and plot the ROC curve on both train and test.\n",
    "    <img src='https://imgur.com/q2P65L5.jpg' width=300px></li>\n",
    "    <li>Along with plotting ROC curve, you need to print the <a href='https://www.appliedaicourse.com/course/applied-ai-course-online/lessons/confusion-matrix-tpr-fpr-fnr-tnr-1/'>confusion matrix</a> with predicted and original labels of test data points\n",
    "        <img src='https://i.imgur.com/IdN5Ctv.png' width=300px><dd>-plot the confusion matrix in heatmaps, while plotting the confusion matrix go through the <a href='https://stackoverflow.com/questions/61748441/how-to-fix-the-values-displayed-in-a-confusion-matrix-in-exponential-form-to-nor'>link </a>\n",
    "</dd></li>\n",
    "        </ul>\n",
    "<li>find the top 20 features from either from feature <font color='red'>Set 1</font> or feature <font color='red'>Set 2</font> using values of `feature_log_prob_ ` parameter of `MultinomialNB` \n",
    "(https://scikit-learn.org/stable/modules/generated/sklearn.naive_bayes.MultinomialNB.html) and print <strong>BOTH</strong> positive as well as negative corresponding feature names. <dd> - go through the <a href='https://imgur.com/mWvE7gj'>link </a> </dd>\n",
    "    </li>\n",
    "    <li>You need to summarize the results at the end of the notebook, summarize it in the table format\n",
    "        <img src='http://i.imgur.com/YVpIGGE.jpg' width=400px>\n",
    "    </li>\n",
    "</ol>"
   ]
  },
  {
   "cell_type": "markdown",
   "metadata": {},
   "source": [
    "### Importing all the required libraries"
   ]
  },
  {
   "cell_type": "code",
   "execution_count": 1,
   "metadata": {
    "id": "chpSjDaXm9KG"
   },
   "outputs": [],
   "source": [
    "%matplotlib inline\n",
    "import warnings\n",
    "warnings.filterwarnings(\"ignore\")\n",
    "\n",
    "import pandas as pd\n",
    "import numpy as np\n",
    "import matplotlib.pyplot as plt\n",
    "import seaborn as sns\n",
    "import nltk\n",
    "\n",
    "from sklearn.feature_extraction.text import CountVectorizer\n",
    "from sklearn.feature_extraction.text import TfidfVectorizer\n",
    "from collections import Counter\n",
    "\n",
    "from sklearn import metrics\n",
    "from sklearn.metrics import confusion_matrix\n",
    "from sklearn.metrics import auc, roc_curve"
   ]
  },
  {
   "cell_type": "code",
   "execution_count": 2,
   "metadata": {},
   "outputs": [],
   "source": [
    "import re\n",
    "\n",
    "import os\n",
    "from tqdm import tqdm\n",
    "import pickle"
   ]
  },
  {
   "cell_type": "code",
   "execution_count": 3,
   "metadata": {},
   "outputs": [
    {
     "name": "stdout",
     "output_type": "stream",
     "text": [
      "Requirement already satisfied: PrettyTable in c:\\users\\venne\\anaconda3\\lib\\site-packages (2.2.0)\n",
      "Requirement already satisfied: wcwidth in c:\\users\\venne\\anaconda3\\lib\\site-packages (from PrettyTable) (0.2.5)\n"
     ]
    }
   ],
   "source": [
    "# https://www.geeksforgeeks.org/creating-tables-with-prettytable-library-python/\n",
    "\n",
    "!pip install PrettyTable"
   ]
  },
  {
   "cell_type": "markdown",
   "metadata": {
    "id": "FYqCIxzFb3c5"
   },
   "source": [
    "## 1.1 Loading Data"
   ]
  },
  {
   "cell_type": "code",
   "execution_count": 4,
   "metadata": {
    "id": "dA1jknyqb3c_"
   },
   "outputs": [
    {
     "name": "stdout",
     "output_type": "stream",
     "text": [
      "Index(['school_state', 'teacher_prefix', 'project_grade_category',\n",
      "       'teacher_number_of_previously_posted_projects', 'project_is_approved',\n",
      "       'clean_categories', 'clean_subcategories', 'essay', 'price'],\n",
      "      dtype='object')\n"
     ]
    }
   ],
   "source": [
    "data = pd.read_csv('preprocessed_data.csv', nrows = 50000)\n",
    "column_names = data.columns\n",
    "print(column_names)"
   ]
  },
  {
   "cell_type": "code",
   "execution_count": 5,
   "metadata": {},
   "outputs": [
    {
     "data": {
      "text/html": [
       "<div>\n",
       "<style scoped>\n",
       "    .dataframe tbody tr th:only-of-type {\n",
       "        vertical-align: middle;\n",
       "    }\n",
       "\n",
       "    .dataframe tbody tr th {\n",
       "        vertical-align: top;\n",
       "    }\n",
       "\n",
       "    .dataframe thead th {\n",
       "        text-align: right;\n",
       "    }\n",
       "</style>\n",
       "<table border=\"1\" class=\"dataframe\">\n",
       "  <thead>\n",
       "    <tr style=\"text-align: right;\">\n",
       "      <th></th>\n",
       "      <th>school_state</th>\n",
       "      <th>teacher_prefix</th>\n",
       "      <th>project_grade_category</th>\n",
       "      <th>teacher_number_of_previously_posted_projects</th>\n",
       "      <th>project_is_approved</th>\n",
       "      <th>clean_categories</th>\n",
       "      <th>clean_subcategories</th>\n",
       "      <th>essay</th>\n",
       "      <th>price</th>\n",
       "    </tr>\n",
       "  </thead>\n",
       "  <tbody>\n",
       "    <tr>\n",
       "      <th>0</th>\n",
       "      <td>ca</td>\n",
       "      <td>mrs</td>\n",
       "      <td>grades_prek_2</td>\n",
       "      <td>53</td>\n",
       "      <td>1</td>\n",
       "      <td>math_science</td>\n",
       "      <td>appliedsciences health_lifescience</td>\n",
       "      <td>i fortunate enough use fairy tale stem kits cl...</td>\n",
       "      <td>725.05</td>\n",
       "    </tr>\n",
       "    <tr>\n",
       "      <th>1</th>\n",
       "      <td>ut</td>\n",
       "      <td>ms</td>\n",
       "      <td>grades_3_5</td>\n",
       "      <td>4</td>\n",
       "      <td>1</td>\n",
       "      <td>specialneeds</td>\n",
       "      <td>specialneeds</td>\n",
       "      <td>imagine 8 9 years old you third grade classroo...</td>\n",
       "      <td>213.03</td>\n",
       "    </tr>\n",
       "  </tbody>\n",
       "</table>\n",
       "</div>"
      ],
      "text/plain": [
       "  school_state teacher_prefix project_grade_category  \\\n",
       "0           ca            mrs          grades_prek_2   \n",
       "1           ut             ms             grades_3_5   \n",
       "\n",
       "   teacher_number_of_previously_posted_projects  project_is_approved  \\\n",
       "0                                            53                    1   \n",
       "1                                             4                    1   \n",
       "\n",
       "  clean_categories                 clean_subcategories  \\\n",
       "0     math_science  appliedsciences health_lifescience   \n",
       "1     specialneeds                        specialneeds   \n",
       "\n",
       "                                               essay   price  \n",
       "0  i fortunate enough use fairy tale stem kits cl...  725.05  \n",
       "1  imagine 8 9 years old you third grade classroo...  213.03  "
      ]
     },
     "execution_count": 5,
     "metadata": {},
     "output_type": "execute_result"
    }
   ],
   "source": [
    "# Have a sneak-peek into the dataset\n",
    "\n",
    "data.head(2)"
   ]
  },
  {
   "cell_type": "code",
   "execution_count": 6,
   "metadata": {},
   "outputs": [
    {
     "name": "stdout",
     "output_type": "stream",
     "text": [
      "(41993, 9)\n"
     ]
    }
   ],
   "source": [
    "positive_datapoints = data[data['project_is_approved'] == 1]\n",
    "print(positive_datapoints.shape)"
   ]
  },
  {
   "cell_type": "code",
   "execution_count": 7,
   "metadata": {},
   "outputs": [
    {
     "name": "stdout",
     "output_type": "stream",
     "text": [
      "(8007, 9)\n"
     ]
    }
   ],
   "source": [
    "negative_datapoints = data[data['project_is_approved'] == 0]\n",
    "print(negative_datapoints.shape)"
   ]
  },
  {
   "cell_type": "markdown",
   "metadata": {},
   "source": [
    "Since this is an imbalanced dataset, increase the count of negative datapoints using the upsampling/downsampling techniques. Here we used the <b>upsampling</b> technique."
   ]
  },
  {
   "cell_type": "code",
   "execution_count": 8,
   "metadata": {},
   "outputs": [],
   "source": [
    "from sklearn.utils import resample\n",
    "upsampled_negative = resample(negative_datapoints, n_samples = 41993, replace = True, random_state = 42)"
   ]
  },
  {
   "cell_type": "code",
   "execution_count": 9,
   "metadata": {},
   "outputs": [
    {
     "name": "stdout",
     "output_type": "stream",
     "text": [
      "(41993, 9)\n"
     ]
    }
   ],
   "source": [
    "print(upsampled_negative.shape)"
   ]
  },
  {
   "cell_type": "code",
   "execution_count": 10,
   "metadata": {},
   "outputs": [
    {
     "name": "stdout",
     "output_type": "stream",
     "text": [
      "(83986, 9)\n"
     ]
    }
   ],
   "source": [
    "modified_dataset = pd.concat([positive_datapoints, upsampled_negative])\n",
    "print(modified_dataset.shape)"
   ]
  },
  {
   "cell_type": "code",
   "execution_count": 11,
   "metadata": {},
   "outputs": [
    {
     "data": {
      "text/html": [
       "<div>\n",
       "<style scoped>\n",
       "    .dataframe tbody tr th:only-of-type {\n",
       "        vertical-align: middle;\n",
       "    }\n",
       "\n",
       "    .dataframe tbody tr th {\n",
       "        vertical-align: top;\n",
       "    }\n",
       "\n",
       "    .dataframe thead th {\n",
       "        text-align: right;\n",
       "    }\n",
       "</style>\n",
       "<table border=\"1\" class=\"dataframe\">\n",
       "  <thead>\n",
       "    <tr style=\"text-align: right;\">\n",
       "      <th></th>\n",
       "      <th>school_state</th>\n",
       "      <th>teacher_prefix</th>\n",
       "      <th>project_grade_category</th>\n",
       "      <th>teacher_number_of_previously_posted_projects</th>\n",
       "      <th>clean_categories</th>\n",
       "      <th>clean_subcategories</th>\n",
       "      <th>essay</th>\n",
       "      <th>price</th>\n",
       "    </tr>\n",
       "  </thead>\n",
       "  <tbody>\n",
       "    <tr>\n",
       "      <th>0</th>\n",
       "      <td>ca</td>\n",
       "      <td>mrs</td>\n",
       "      <td>grades_prek_2</td>\n",
       "      <td>53</td>\n",
       "      <td>math_science</td>\n",
       "      <td>appliedsciences health_lifescience</td>\n",
       "      <td>i fortunate enough use fairy tale stem kits cl...</td>\n",
       "      <td>725.05</td>\n",
       "    </tr>\n",
       "    <tr>\n",
       "      <th>1</th>\n",
       "      <td>ut</td>\n",
       "      <td>ms</td>\n",
       "      <td>grades_3_5</td>\n",
       "      <td>4</td>\n",
       "      <td>specialneeds</td>\n",
       "      <td>specialneeds</td>\n",
       "      <td>imagine 8 9 years old you third grade classroo...</td>\n",
       "      <td>213.03</td>\n",
       "    </tr>\n",
       "  </tbody>\n",
       "</table>\n",
       "</div>"
      ],
      "text/plain": [
       "  school_state teacher_prefix project_grade_category  \\\n",
       "0           ca            mrs          grades_prek_2   \n",
       "1           ut             ms             grades_3_5   \n",
       "\n",
       "   teacher_number_of_previously_posted_projects clean_categories  \\\n",
       "0                                            53     math_science   \n",
       "1                                             4     specialneeds   \n",
       "\n",
       "                  clean_subcategories  \\\n",
       "0  appliedsciences health_lifescience   \n",
       "1                        specialneeds   \n",
       "\n",
       "                                               essay   price  \n",
       "0  i fortunate enough use fairy tale stem kits cl...  725.05  \n",
       "1  imagine 8 9 years old you third grade classroo...  213.03  "
      ]
     },
     "execution_count": 11,
     "metadata": {},
     "output_type": "execute_result"
    }
   ],
   "source": [
    "y = modified_dataset['project_is_approved'].values\n",
    "X = modified_dataset.drop(['project_is_approved'], axis = 1)\n",
    "X.head(2)"
   ]
  },
  {
   "cell_type": "code",
   "execution_count": 12,
   "metadata": {},
   "outputs": [
    {
     "name": "stdout",
     "output_type": "stream",
     "text": [
      "(83986, 8)\n",
      "(83986,)\n"
     ]
    }
   ],
   "source": [
    "print(X.shape)\n",
    "print(y.shape)"
   ]
  },
  {
   "cell_type": "markdown",
   "metadata": {
    "id": "WtVV13Fyb3dH"
   },
   "source": [
    "## 1.2 Splitting data into Train and cross validation(or test): Stratified Sampling"
   ]
  },
  {
   "cell_type": "markdown",
   "metadata": {},
   "source": [
    "Whenever we want to perform simple cross-validation, we need to split the dataset into the train, CV and the test sets. If we want to perform K-fold CV(using 'for' loops) or GridSearch cross-validation or RandomSearch cross-validation, just split the dataset into the train and the test sets. The CV set gets created internally during the cross-validation. Even if we create a separate CV set while splitting the whole dataset, it goes waste without any usage. Hence, commented out the code lines where we have CV splitting & computation on the dataset."
   ]
  },
  {
   "cell_type": "code",
   "execution_count": 13,
   "metadata": {},
   "outputs": [],
   "source": [
    "from sklearn.model_selection import train_test_split\n",
    "X_train, X_test, y_train, y_test = train_test_split(X, y, test_size = 0.33, stratify = y)\n",
    "# X_train, X_cv, y_train, y_cv = train_test_split(X_train, y_train, test_size = 0.33, stratify = y_train)"
   ]
  },
  {
   "cell_type": "code",
   "execution_count": 14,
   "metadata": {},
   "outputs": [
    {
     "name": "stdout",
     "output_type": "stream",
     "text": [
      "# of points in Train Dataset:  (56270, 8) (56270,)\n",
      "# of points in Test Dataset:  (27716, 8) (27716,)\n"
     ]
    }
   ],
   "source": [
    "# Check the number of datapoints in each set after data splits\n",
    "print(\"# of points in Train Dataset: \",X_train.shape, y_train.shape)\n",
    "print(\"# of points in Test Dataset: \",X_test.shape, y_test.shape)\n",
    "# print(\"# of points in CV Dataset: \",X_cv.shape, y_cv.shape)"
   ]
  },
  {
   "cell_type": "markdown",
   "metadata": {
    "id": "EnZwVNULb3dO"
   },
   "source": [
    "## 1.3 Make Data Model Ready: encoding `essay`\n",
    "### 1.3.1 Set 1: Encoding `essay` using BoW Vectorization"
   ]
  },
  {
   "cell_type": "code",
   "execution_count": 15,
   "metadata": {},
   "outputs": [
    {
     "name": "stdout",
     "output_type": "stream",
     "text": [
      "After vectorization\n",
      "\n",
      "Train_essay_bow shape:  (56270, 50000) (56270,)\n",
      "Test_essay_bow shape:  (27716, 50000) (27716,)\n",
      "\n",
      "some `essay` BoW feature names:  ['desk students', 'desk table', 'desk the', 'desk this', 'desk top', 'desk work', 'desk would', 'desks', 'desks allow', 'desks allow students', 'desks chairs', 'desks classroom', 'desks day', 'desks give', 'desks hard']\n",
      "\n",
      "The total number of features: 50000\n"
     ]
    }
   ],
   "source": [
    "vectorizer = CountVectorizer(min_df = 10, ngram_range = (1, 4), max_features = 50000)\n",
    "vectorizer.fit(X_train['essay'].values)    # fit has to happen only on the train dataset ALWAYS\n",
    "\n",
    "# Use fitted CountVectorizer to convert text into vector \n",
    "X_train_essay_bow = vectorizer.transform(X_train['essay'].values)\n",
    "X_test_essay_bow = vectorizer.transform(X_test['essay'].values)\n",
    "# X_cv_essay_bow = vectorizer.transform(X_cv['essay'].values)\n",
    "\n",
    "print(\"After vectorization\")\n",
    "print()\n",
    "print('Train_essay_bow shape: ', X_train_essay_bow.shape, y_train.shape)\n",
    "print('Test_essay_bow shape: ', X_test_essay_bow.shape, y_test.shape)\n",
    "# print('CV_essay_bow shape: ', X_cv_essay_bow.shape, y_cv.shape)\n",
    "\n",
    "essay_bow_features = vectorizer.get_feature_names()\n",
    "print()\n",
    "print('some `essay` BoW feature names: ', essay_bow_features[10000:10015])\n",
    "print()\n",
    "print('The total number of features:', len(essay_bow_features))"
   ]
  },
  {
   "cell_type": "markdown",
   "metadata": {
    "id": "bGy86kgHb3dX"
   },
   "source": [
    "<h2>1.4 Make Data Model Ready: encoding numerical, categorical features</h2>"
   ]
  },
  {
   "cell_type": "markdown",
   "metadata": {},
   "source": [
    "### 1.4.1 Encoding `CATEGORICAL` features \n",
    "\n",
    "<h4> Perform <i>ONE-HOT ENCODING</i></h4>"
   ]
  },
  {
   "cell_type": "markdown",
   "metadata": {},
   "source": [
    "#### 1.4.1.1 encoding categorical feature: `school_state`"
   ]
  },
  {
   "cell_type": "code",
   "execution_count": 16,
   "metadata": {},
   "outputs": [
    {
     "name": "stdout",
     "output_type": "stream",
     "text": [
      "After vectorization\n",
      "\n",
      "Train_school_state shape:  (56270, 51) (56270,)\n",
      "Test_school_state shape:  (27716, 51) (27716,)\n",
      "\n",
      "school_state feature names:  ['ak', 'al', 'ar', 'az', 'ca', 'co', 'ct', 'dc', 'de', 'fl', 'ga', 'hi', 'ia', 'id', 'il', 'in', 'ks', 'ky', 'la', 'ma', 'md', 'me', 'mi', 'mn', 'mo', 'ms', 'mt', 'nc', 'nd', 'ne', 'nh', 'nj', 'nm', 'nv', 'ny', 'oh', 'ok', 'or', 'pa', 'ri', 'sc', 'sd', 'tn', 'tx', 'ut', 'va', 'vt', 'wa', 'wi', 'wv', 'wy']\n",
      "\n",
      "The total number of features: 51\n"
     ]
    }
   ],
   "source": [
    "vectorizer = CountVectorizer()\n",
    "# vectorizer.fit(X_train['school_state'].values)    # ALWAYS fit on the train dataset only\n",
    "\n",
    "# Use fit_transform on the train dataset directly\n",
    "X_train_school_state_ohe = vectorizer.fit_transform(X_train['school_state'].values) \n",
    "\n",
    "# Use fitted CountVectorizer to convert text into vector \n",
    "X_test_school_state_ohe = vectorizer.transform(X_test['school_state'].values)\n",
    "# X_cv_school_state_ohe = vectorizer.transform(X_cv['school_state'].values)\n",
    "\n",
    "print(\"After vectorization\")\n",
    "print()\n",
    "print('Train_school_state shape: ', X_train_school_state_ohe.shape, y_train.shape)\n",
    "print('Test_school_state shape: ', X_test_school_state_ohe.shape, y_test.shape)\n",
    "# print('CV_school_state shape: ', X_cv_school_state_ohe.shape, y_cv.shape)\n",
    "\n",
    "school_state_features = vectorizer.get_feature_names()\n",
    "print()\n",
    "print('school_state feature names: ', school_state_features)\n",
    "print()\n",
    "print('The total number of features:', len(school_state_features))"
   ]
  },
  {
   "cell_type": "markdown",
   "metadata": {},
   "source": [
    "#### 1.4.1.2 encoding categorical feature: `teacher_prefix`"
   ]
  },
  {
   "cell_type": "code",
   "execution_count": 17,
   "metadata": {},
   "outputs": [
    {
     "name": "stdout",
     "output_type": "stream",
     "text": [
      "After vectorization\n",
      "\n",
      "Train_teacher_prefix shape:  (56270, 5) (56270,)\n",
      "Test_teacher_prefix shape:  (27716, 5) (27716,)\n",
      "\n",
      "teacher_prefix feature names:  ['dr', 'mr', 'mrs', 'ms', 'teacher']\n",
      "\n",
      "The total number of features: 5\n"
     ]
    }
   ],
   "source": [
    "vectorizer = CountVectorizer()\n",
    "# vectorizer.fit(X_train['teacher_prefix'].values)    # ALWAYS fit on the train dataset only\n",
    "\n",
    "# Use fit_transform on the train dataset directly\n",
    "X_train_teacher_prefix_ohe = vectorizer.fit_transform(X_train['teacher_prefix'].values) \n",
    "\n",
    "# Use fitted CountVectorizer to convert text into vector \n",
    "X_test_teacher_prefix_ohe = vectorizer.transform(X_test['teacher_prefix'].values)\n",
    "# X_cv_teacher_prefix_ohe = vectorizer.transform(X_cv['teacher_prefix'].values)\n",
    "\n",
    "print(\"After vectorization\")\n",
    "print()\n",
    "print('Train_teacher_prefix shape: ', X_train_teacher_prefix_ohe.shape, y_train.shape)\n",
    "print('Test_teacher_prefix shape: ', X_test_teacher_prefix_ohe.shape, y_test.shape)\n",
    "# print('CV_teacher_prefix shape: ', X_cv_teacher_prefix_ohe.shape, y_cv.shape)\n",
    "\n",
    "teacher_prefix_features = vectorizer.get_feature_names()\n",
    "print()\n",
    "print('teacher_prefix feature names: ', teacher_prefix_features)\n",
    "print()\n",
    "print('The total number of features:', len(teacher_prefix_features))"
   ]
  },
  {
   "cell_type": "markdown",
   "metadata": {},
   "source": [
    "#### 1.4.1.3 encoding categorical feature: `project_grade_category`"
   ]
  },
  {
   "cell_type": "code",
   "execution_count": 18,
   "metadata": {},
   "outputs": [
    {
     "name": "stdout",
     "output_type": "stream",
     "text": [
      "After vectorization\n",
      "\n",
      "Train_project_grade_category shape:  (56270, 4) (56270,)\n",
      "Test_project_grade_category shape:  (27716, 4) (27716,)\n",
      "\n",
      "project_grade_category feature names:  ['grades_3_5', 'grades_6_8', 'grades_9_12', 'grades_prek_2']\n",
      "\n",
      "The total number of features: 4\n"
     ]
    }
   ],
   "source": [
    "vectorizer = CountVectorizer()\n",
    "# vectorizer.fit(X_train['project_grade_category'].values)    # ALWAYS fit on the train dataset only\n",
    "\n",
    "# Use fit_transform on the train dataset directly\n",
    "X_train_project_grade_category_ohe = vectorizer.fit_transform(X_train['project_grade_category'].values) \n",
    "\n",
    "# Use fitted CountVectorizer to convert text into vector \n",
    "X_test_project_grade_category_ohe = vectorizer.transform(X_test['project_grade_category'].values)\n",
    "# X_cv_project_grade_category_ohe = vectorizer.transform(X_cv['project_grade_category'].values)\n",
    "\n",
    "print(\"After vectorization\")\n",
    "print()\n",
    "print('Train_project_grade_category shape: ', X_train_project_grade_category_ohe.shape, y_train.shape)\n",
    "print('Test_project_grade_category shape: ', X_test_project_grade_category_ohe.shape, y_test.shape)\n",
    "# print('CV_project_grade_category shape: ', X_cv_project_grade_category_ohe.shape, y_cv.shape)\n",
    "\n",
    "project_grade_category_features = vectorizer.get_feature_names()\n",
    "print()\n",
    "print('project_grade_category feature names: ', project_grade_category_features)\n",
    "print()\n",
    "print('The total number of features:', len(project_grade_category_features))"
   ]
  },
  {
   "cell_type": "markdown",
   "metadata": {},
   "source": [
    "#### 1.4.1.4 encoding categorical feature: `clean_categories`"
   ]
  },
  {
   "cell_type": "code",
   "execution_count": 19,
   "metadata": {},
   "outputs": [
    {
     "name": "stdout",
     "output_type": "stream",
     "text": [
      "After vectorization\n",
      "\n",
      "Train_clean_categories shape:  (56270, 9) (56270,)\n",
      "Test_clean_categories shape:  (27716, 9) (27716,)\n",
      "\n",
      "clean_categories feature names:  ['appliedlearning', 'care_hunger', 'health_sports', 'history_civics', 'literacy_language', 'math_science', 'music_arts', 'specialneeds', 'warmth']\n",
      "\n",
      "The total number of features: 9\n"
     ]
    }
   ],
   "source": [
    "vectorizer = CountVectorizer()\n",
    "# vectorizer.fit(X_train['clean_categories'].values)    # ALWAYS fit on the train dataset ONLY\n",
    "\n",
    "# Use fit_transform on the train dataset directly\n",
    "X_train_clean_categories_ohe = vectorizer.fit_transform(X_train['clean_categories'].values) \n",
    "\n",
    "# Use fitted CountVectorizer to convert text into vector \n",
    "X_test_clean_categories_ohe = vectorizer.transform(X_test['clean_categories'].values)\n",
    "# X_cv_clean_categories_ohe = vectorizer.transform(X_cv['clean_categories'].values)\n",
    "\n",
    "print(\"After vectorization\")\n",
    "print()\n",
    "print('Train_clean_categories shape: ', X_train_clean_categories_ohe.shape, y_train.shape)\n",
    "print('Test_clean_categories shape: ', X_test_clean_categories_ohe.shape, y_test.shape)\n",
    "# print('CV_clean_categories shape: ', X_cv_clean_categories_ohe.shape, y_cv.shape)\n",
    "\n",
    "clean_categories_features = vectorizer.get_feature_names()\n",
    "print()\n",
    "print('clean_categories feature names: ', clean_categories_features)\n",
    "print()\n",
    "print('The total number of features:', len(clean_categories_features))"
   ]
  },
  {
   "cell_type": "markdown",
   "metadata": {},
   "source": [
    "#### 1.4.1.5 encoding categorical feature: `clean_subcategories`"
   ]
  },
  {
   "cell_type": "code",
   "execution_count": 20,
   "metadata": {},
   "outputs": [
    {
     "name": "stdout",
     "output_type": "stream",
     "text": [
      "After vectorization\n",
      "\n",
      "Train_clean_subcategories shape:  (56270, 30) (56270,)\n",
      "Test_clean_subcategories shape:  (27716, 30) (27716,)\n",
      "\n",
      "clean_subcategories feature names:  ['appliedsciences', 'care_hunger', 'charactereducation', 'civics_government', 'college_careerprep', 'communityservice', 'earlydevelopment', 'economics', 'environmentalscience', 'esl', 'extracurricular', 'financialliteracy', 'foreignlanguages', 'gym_fitness', 'health_lifescience', 'health_wellness', 'history_geography', 'literacy', 'literature_writing', 'mathematics', 'music', 'nutritioneducation', 'other', 'parentinvolvement', 'performingarts', 'socialsciences', 'specialneeds', 'teamsports', 'visualarts', 'warmth']\n",
      "\n",
      "The total number of features: 30\n"
     ]
    }
   ],
   "source": [
    "vectorizer = CountVectorizer()\n",
    "# vectorizer.fit(X_train['clean_subcategories'].values)    # ALWAYS fit on the train dataset only\n",
    "\n",
    "# Use fit_transform on the train dataset directly\n",
    "X_train_clean_subcategories_ohe = vectorizer.fit_transform(X_train['clean_subcategories'].values) \n",
    "\n",
    "# Use fitted CountVectorizer to convert text into vector \n",
    "X_test_clean_subcategories_ohe = vectorizer.transform(X_test['clean_subcategories'].values)\n",
    "# X_cv_clean_subcategories_ohe = vectorizer.transform(X_cv['clean_subcategories'].values)\n",
    "\n",
    "print(\"After vectorization\")\n",
    "print()\n",
    "print('Train_clean_subcategories shape: ', X_train_clean_subcategories_ohe.shape, y_train.shape)\n",
    "print('Test_clean_subcategories shape: ', X_test_clean_subcategories_ohe.shape, y_test.shape)\n",
    "# print('CV_clean_subcategories shape: ', X_cv_clean_subcategories_ohe.shape, y_cv.shape)\n",
    "\n",
    "clean_subcategories_features = vectorizer.get_feature_names()\n",
    "print()\n",
    "print('clean_subcategories feature names: ', clean_subcategories_features)\n",
    "print()\n",
    "print('The total number of features:', len(clean_subcategories_features))"
   ]
  },
  {
   "cell_type": "markdown",
   "metadata": {},
   "source": [
    "### 1.4.2 Encoding `NUMERICAL` features"
   ]
  },
  {
   "cell_type": "markdown",
   "metadata": {},
   "source": [
    "#### 1.4.2.1 encoding numerical feature: `price`"
   ]
  },
  {
   "cell_type": "code",
   "execution_count": 21,
   "metadata": {},
   "outputs": [
    {
     "name": "stdout",
     "output_type": "stream",
     "text": [
      "After vectorization\n",
      "\n",
      "Train_price shape:  (1, 56270) (56270,)\n",
      "Test_price shape:  (1, 27716) (27716,)\n"
     ]
    }
   ],
   "source": [
    "from sklearn.preprocessing import Normalizer\n",
    "normalizer = Normalizer()\n",
    "\n",
    "# Use fit_transform on the train dataset directly\n",
    "X_train_price_norm = normalizer.fit_transform(X_train['price'].values.reshape(1, -1))\n",
    "\n",
    "# Use fitted Normalizer to normalize the values \n",
    "X_test_price_norm = normalizer.transform(X_test['price'].values.reshape(1, -1))\n",
    "# X_cv_price_norm = normalizer.transform(X_cv['price'].values.reshape(1, -1))\n",
    "\n",
    "print(\"After vectorization\")\n",
    "print()\n",
    "print('Train_price shape: ', X_train_price_norm.shape, y_train.shape)\n",
    "print('Test_price shape: ', X_test_price_norm.shape, y_test.shape)\n",
    "# print('CV_price shape: ', X_cv_price_norm.shape, y_cv.shape)"
   ]
  },
  {
   "cell_type": "markdown",
   "metadata": {},
   "source": [
    "#### 1.4.2.2 encoding numerical feature: `teacher_number_of_previously_posted_projects`"
   ]
  },
  {
   "cell_type": "code",
   "execution_count": 22,
   "metadata": {},
   "outputs": [
    {
     "name": "stdout",
     "output_type": "stream",
     "text": [
      "After vectorization\n",
      "\n",
      "Train_price shape:  (1, 56270) (56270,)\n",
      "Test_price shape:  (1, 27716) (27716,)\n"
     ]
    }
   ],
   "source": [
    "from sklearn.preprocessing import Normalizer\n",
    "normalizer = Normalizer()\n",
    "\n",
    "# Use fit_transform on the train dataset directly\n",
    "X_train_teacher_number_of_previously_posted_projects_norm = normalizer.fit_transform(X_train['teacher_number_of_previously_posted_projects'].values.reshape(1, -1))\n",
    "\n",
    "# Use fitted Normalizer to normalize the values \n",
    "X_test_teacher_number_of_previously_posted_projects_norm = normalizer.transform(X_test['teacher_number_of_previously_posted_projects'].values.reshape(1, -1))\n",
    "# X_cv_teacher_number_of_previously_posted_projects_norm = normalizer.transform(X_cv['teacher_number_of_previously_posted_projects'].values.reshape(1, -1))\n",
    "\n",
    "print(\"After vectorization\")\n",
    "print()\n",
    "print('Train_price shape: ', X_train_teacher_number_of_previously_posted_projects_norm.shape, y_train.shape)\n",
    "print('Test_price shape: ', X_test_teacher_number_of_previously_posted_projects_norm.shape, y_test.shape)\n",
    "# print('CV_price shape: ', X_cv_teacher_number_of_previously_posted_projects_norm.shape, y_cv.shape)"
   ]
  },
  {
   "cell_type": "markdown",
   "metadata": {},
   "source": [
    "<h3> Concatenating all BoW <i>tranformed features</i> </h3>"
   ]
  },
  {
   "cell_type": "code",
   "execution_count": 23,
   "metadata": {},
   "outputs": [
    {
     "name": "stdout",
     "output_type": "stream",
     "text": [
      "Final matrix:\n",
      "\n",
      "(56270, 50101) (56270,)\n",
      "(27716, 50101) (27716,)\n"
     ]
    }
   ],
   "source": [
    "X_train_price_norm = X_train_price_norm.reshape(56270, 1)\n",
    "X_test_price_norm = X_test_price_norm.reshape(27716, 1)\n",
    "# X_cv_price_norm = X_cv_price_norm.reshape(11055, 1)\n",
    "\n",
    "X_train_teacher_number_of_previously_posted_projects_norm = X_train_teacher_number_of_previously_posted_projects_norm.reshape(56270, 1)\n",
    "X_test_teacher_number_of_previously_posted_projects_norm = X_test_teacher_number_of_previously_posted_projects_norm.reshape(27716, 1)\n",
    "# X_cv_teacher_number_of_previously_posted_projects_norm = X_cv_teacher_number_of_previously_posted_projects_norm.reshape(11055, 1)\n",
    "\n",
    "from scipy.sparse import hstack\n",
    "\n",
    "X_Train_set1 = hstack((X_train_essay_bow, X_train_school_state_ohe, X_train_teacher_prefix_ohe, \n",
    "                  X_train_project_grade_category_ohe, \n",
    "                  X_train_clean_categories_ohe, X_train_clean_subcategories_ohe, X_train_price_norm, \n",
    "                  X_train_teacher_number_of_previously_posted_projects_norm)).tocsr()\n",
    "\n",
    "X_Test_set1 = hstack((X_test_essay_bow, X_test_school_state_ohe, X_test_teacher_prefix_ohe, \n",
    "                  X_test_project_grade_category_ohe, \n",
    "                  X_test_clean_categories_ohe, X_test_clean_subcategories_ohe, X_test_price_norm, \n",
    "                  X_test_teacher_number_of_previously_posted_projects_norm)).tocsr()\n",
    "\n",
    "# X_CV_set1 = hstack((X_cv_essay_bow, X_cv_school_state_ohe, X_cv_teacher_prefix_ohe, \n",
    "#                   X_cv_project_grade_category_ohe, \n",
    "#                   X_cv_clean_categories_ohe, X_cv_clean_subcategories_ohe, X_cv_price_norm, \n",
    "#                   X_cv_teacher_number_of_previously_posted_projects_norm)).tocsr()\n",
    "\n",
    "print(\"Final matrix:\")\n",
    "print()\n",
    "print(X_Train_set1.shape, y_train.shape)\n",
    "# print(X_CV_set1.shape, y_cv.shape)\n",
    "print(X_Test_set1.shape, y_test.shape)"
   ]
  },
  {
   "cell_type": "markdown",
   "metadata": {},
   "source": [
    "### 1.3.2 Set 2: Encoding `essay` using TFIDF Vectorization"
   ]
  },
  {
   "cell_type": "code",
   "execution_count": 24,
   "metadata": {},
   "outputs": [
    {
     "name": "stdout",
     "output_type": "stream",
     "text": [
      "After Vectorization\n",
      "Train_essay_tfidf shape:  (56270, 50000) (56270,)\n",
      "Test_essay_tfidf shape:  (27716, 50000) (27716,)\n",
      "\n",
      "some TFIDF `essay` feature names:  ['desk students', 'desk table', 'desk the', 'desk this', 'desk top', 'desk work', 'desk would', 'desks', 'desks allow', 'desks allow students', 'desks chairs', 'desks classroom', 'desks day', 'desks give', 'desks hard']\n",
      "\n",
      "The total number of features: 50000\n"
     ]
    }
   ],
   "source": [
    "vector = TfidfVectorizer(min_df = 10, ngram_range = (1, 4), max_features = 50000)\n",
    "vector.fit(X_train['essay'].values)    # ALWAYS fit has to happen only on the train dataset only\n",
    "\n",
    "# Use fitted TFIDF Vectorizer to convert text into vector \n",
    "X_train_essay_tfidf = vector.transform(X_train['essay'].values)\n",
    "X_test_essay_tfidf = vector.transform(X_test['essay'].values)\n",
    "# X_cv_essay_tfidf = vector.transform(X_cv['essay'].values)\n",
    "\n",
    "print(\"After Vectorization\")\n",
    "print('Train_essay_tfidf shape: ', X_train_essay_tfidf.shape, y_train.shape)\n",
    "print('Test_essay_tfidf shape: ', X_test_essay_tfidf.shape, y_test.shape)\n",
    "# print('CV_essay_tfidf shape: ', X_cv_essay_tfidf.shape, y_cv.shape)\n",
    "\n",
    "print()\n",
    "essay_tfidf_features = vector.get_feature_names()\n",
    "print(\"some TFIDF `essay` feature names: \", essay_tfidf_features[10000:10015])\n",
    "print()\n",
    "print('The total number of features:', len(essay_tfidf_features))"
   ]
  },
  {
   "cell_type": "markdown",
   "metadata": {},
   "source": [
    "<h3> Concatenating all TFIDF <i>tranformed features</i> </h3>"
   ]
  },
  {
   "cell_type": "code",
   "execution_count": 25,
   "metadata": {},
   "outputs": [
    {
     "name": "stdout",
     "output_type": "stream",
     "text": [
      "Final matrix:\n",
      "\n",
      "(56270, 50101) (56270,)\n",
      "(27716, 50101) (27716,)\n"
     ]
    }
   ],
   "source": [
    "X_train_price_norm = X_train_price_norm.reshape(56270, 1)\n",
    "X_test_price_norm = X_test_price_norm.reshape(27716, 1)\n",
    "# X_cv_price_norm = X_cv_price_norm.reshape(11055, 1)\n",
    "\n",
    "X_train_teacher_number_of_previously_posted_projects_norm = X_train_teacher_number_of_previously_posted_projects_norm.reshape(56270, 1)\n",
    "X_test_teacher_number_of_previously_posted_projects_norm = X_test_teacher_number_of_previously_posted_projects_norm.reshape(27716, 1)\n",
    "# X_cv_teacher_number_of_previously_posted_projects_norm = X_cv_teacher_number_of_previously_posted_projects_norm.reshape(11055, 1)\n",
    "\n",
    "from scipy.sparse import hstack\n",
    "\n",
    "X_Train_set2 = hstack((X_train_essay_tfidf, X_train_school_state_ohe, X_train_teacher_prefix_ohe, \n",
    "                  X_train_project_grade_category_ohe, \n",
    "                  X_train_clean_categories_ohe, X_train_clean_subcategories_ohe, X_train_price_norm, \n",
    "                  X_train_teacher_number_of_previously_posted_projects_norm)).tocsr()\n",
    "\n",
    "X_Test_set2 = hstack((X_test_essay_tfidf, X_test_school_state_ohe, X_test_teacher_prefix_ohe, \n",
    "                  X_test_project_grade_category_ohe, \n",
    "                  X_test_clean_categories_ohe, X_test_clean_subcategories_ohe, X_test_price_norm, \n",
    "                  X_test_teacher_number_of_previously_posted_projects_norm)).tocsr()\n",
    "\n",
    "# X_CV_set2 = hstack((X_cv_essay_tfidf, X_cv_school_state_ohe, X_cv_teacher_prefix_ohe, \n",
    "#                   X_cv_project_grade_category_ohe, \n",
    "#                   X_cv_clean_categories_ohe, X_cv_clean_subcategories_ohe, X_cv_price_norm, \n",
    "#                   X_cv_teacher_number_of_previously_posted_projects_norm)).tocsr()\n",
    "\n",
    "print(\"Final matrix:\")\n",
    "print()\n",
    "print(X_Train_set2.shape, y_train.shape)\n",
    "# print(X_CV_set2.shape, y_cv.shape)\n",
    "print(X_Test_set2.shape, y_test.shape)"
   ]
  },
  {
   "cell_type": "markdown",
   "metadata": {
    "id": "yYHPYadYb3dh"
   },
   "source": [
    "## 1.5 Appling Naive Bayes on different kind of featurization \n",
    "<br> Apply NB on different kind of featurization as mentioned in the instructions\n",
    "<br> For Every model that you work on make sure you do the step 2 and step 3 of instructions"
   ]
  },
  {
   "cell_type": "markdown",
   "metadata": {},
   "source": [
    "#### Whenever the training dataset is highly imbalanced, we can make the initializations fit_prior = False, class_prior = [0.5, 0.5] in MultinomialNB(). "
   ]
  },
  {
   "cell_type": "markdown",
   "metadata": {},
   "source": [
    "### 1.5.1 Applying Multinomial Naive Bayes on `feature set 1`"
   ]
  },
  {
   "cell_type": "code",
   "execution_count": 26,
   "metadata": {},
   "outputs": [
    {
     "data": {
      "image/png": "[encoded data removed]",
      "text/plain": [
       "<Figure size 432x288 with 1 Axes>"
      ]
     },
     "metadata": {
      "needs_background": "light"
     },
     "output_type": "display_data"
    },
    {
     "data": {
      "text/html": [
       "<div>\n",
       "<style scoped>\n",
       "    .dataframe tbody tr th:only-of-type {\n",
       "        vertical-align: middle;\n",
       "    }\n",
       "\n",
       "    .dataframe tbody tr th {\n",
       "        vertical-align: top;\n",
       "    }\n",
       "\n",
       "    .dataframe thead th {\n",
       "        text-align: right;\n",
       "    }\n",
       "</style>\n",
       "<table border=\"1\" class=\"dataframe\">\n",
       "  <thead>\n",
       "    <tr style=\"text-align: right;\">\n",
       "      <th></th>\n",
       "      <th>mean_fit_time</th>\n",
       "      <th>std_fit_time</th>\n",
       "      <th>mean_score_time</th>\n",
       "      <th>std_score_time</th>\n",
       "      <th>param_alpha</th>\n",
       "      <th>params</th>\n",
       "      <th>split0_test_score</th>\n",
       "      <th>split1_test_score</th>\n",
       "      <th>split2_test_score</th>\n",
       "      <th>mean_test_score</th>\n",
       "      <th>std_test_score</th>\n",
       "      <th>rank_test_score</th>\n",
       "      <th>split0_train_score</th>\n",
       "      <th>split1_train_score</th>\n",
       "      <th>split2_train_score</th>\n",
       "      <th>mean_train_score</th>\n",
       "      <th>std_train_score</th>\n",
       "    </tr>\n",
       "  </thead>\n",
       "  <tbody>\n",
       "    <tr>\n",
       "      <th>3</th>\n",
       "      <td>0.135270</td>\n",
       "      <td>0.009687</td>\n",
       "      <td>0.044901</td>\n",
       "      <td>0.006359</td>\n",
       "      <td>1</td>\n",
       "      <td>{'alpha': 1}</td>\n",
       "      <td>0.800846</td>\n",
       "      <td>0.811620</td>\n",
       "      <td>0.806203</td>\n",
       "      <td>0.806223</td>\n",
       "      <td>0.004398</td>\n",
       "      <td>1</td>\n",
       "      <td>0.877868</td>\n",
       "      <td>0.874231</td>\n",
       "      <td>0.873167</td>\n",
       "      <td>0.875089</td>\n",
       "      <td>0.002013</td>\n",
       "    </tr>\n",
       "    <tr>\n",
       "      <th>7</th>\n",
       "      <td>0.155284</td>\n",
       "      <td>0.015573</td>\n",
       "      <td>0.068101</td>\n",
       "      <td>0.013314</td>\n",
       "      <td>1</td>\n",
       "      <td>{'alpha': 1}</td>\n",
       "      <td>0.800846</td>\n",
       "      <td>0.811620</td>\n",
       "      <td>0.806203</td>\n",
       "      <td>0.806223</td>\n",
       "      <td>0.004398</td>\n",
       "      <td>1</td>\n",
       "      <td>0.877868</td>\n",
       "      <td>0.874231</td>\n",
       "      <td>0.873167</td>\n",
       "      <td>0.875089</td>\n",
       "      <td>0.002013</td>\n",
       "    </tr>\n",
       "    <tr>\n",
       "      <th>4</th>\n",
       "      <td>0.141659</td>\n",
       "      <td>0.015621</td>\n",
       "      <td>0.044575</td>\n",
       "      <td>0.005954</td>\n",
       "      <td>4</td>\n",
       "      <td>{'alpha': 4}</td>\n",
       "      <td>0.795064</td>\n",
       "      <td>0.806019</td>\n",
       "      <td>0.800441</td>\n",
       "      <td>0.800508</td>\n",
       "      <td>0.004473</td>\n",
       "      <td>3</td>\n",
       "      <td>0.869752</td>\n",
       "      <td>0.865985</td>\n",
       "      <td>0.864977</td>\n",
       "      <td>0.866905</td>\n",
       "      <td>0.002055</td>\n",
       "    </tr>\n",
       "    <tr>\n",
       "      <th>5</th>\n",
       "      <td>0.160488</td>\n",
       "      <td>0.014384</td>\n",
       "      <td>0.073891</td>\n",
       "      <td>0.043565</td>\n",
       "      <td>6</td>\n",
       "      <td>{'alpha': 6}</td>\n",
       "      <td>0.791974</td>\n",
       "      <td>0.802976</td>\n",
       "      <td>0.797387</td>\n",
       "      <td>0.797446</td>\n",
       "      <td>0.004492</td>\n",
       "      <td>4</td>\n",
       "      <td>0.865335</td>\n",
       "      <td>0.861472</td>\n",
       "      <td>0.860522</td>\n",
       "      <td>0.862443</td>\n",
       "      <td>0.002081</td>\n",
       "    </tr>\n",
       "    <tr>\n",
       "      <th>9</th>\n",
       "      <td>0.137020</td>\n",
       "      <td>0.026541</td>\n",
       "      <td>0.046539</td>\n",
       "      <td>0.008387</td>\n",
       "      <td>6</td>\n",
       "      <td>{'alpha': 6}</td>\n",
       "      <td>0.791974</td>\n",
       "      <td>0.802976</td>\n",
       "      <td>0.797387</td>\n",
       "      <td>0.797446</td>\n",
       "      <td>0.004492</td>\n",
       "      <td>4</td>\n",
       "      <td>0.865335</td>\n",
       "      <td>0.861472</td>\n",
       "      <td>0.860522</td>\n",
       "      <td>0.862443</td>\n",
       "      <td>0.002081</td>\n",
       "    </tr>\n",
       "  </tbody>\n",
       "</table>\n",
       "</div>"
      ],
      "text/plain": [
       "   mean_fit_time  std_fit_time  mean_score_time  std_score_time param_alpha  \\\n",
       "3       0.135270      0.009687         0.044901        0.006359           1   \n",
       "7       0.155284      0.015573         0.068101        0.013314           1   \n",
       "4       0.141659      0.015621         0.044575        0.005954           4   \n",
       "5       0.160488      0.014384         0.073891        0.043565           6   \n",
       "9       0.137020      0.026541         0.046539        0.008387           6   \n",
       "\n",
       "         params  split0_test_score  split1_test_score  split2_test_score  \\\n",
       "3  {'alpha': 1}           0.800846           0.811620           0.806203   \n",
       "7  {'alpha': 1}           0.800846           0.811620           0.806203   \n",
       "4  {'alpha': 4}           0.795064           0.806019           0.800441   \n",
       "5  {'alpha': 6}           0.791974           0.802976           0.797387   \n",
       "9  {'alpha': 6}           0.791974           0.802976           0.797387   \n",
       "\n",
       "   mean_test_score  std_test_score  rank_test_score  split0_train_score  \\\n",
       "3         0.806223        0.004398                1            0.877868   \n",
       "7         0.806223        0.004398                1            0.877868   \n",
       "4         0.800508        0.004473                3            0.869752   \n",
       "5         0.797446        0.004492                4            0.865335   \n",
       "9         0.797446        0.004492                4            0.865335   \n",
       "\n",
       "   split1_train_score  split2_train_score  mean_train_score  std_train_score  \n",
       "3            0.874231            0.873167          0.875089         0.002013  \n",
       "7            0.874231            0.873167          0.875089         0.002013  \n",
       "4            0.865985            0.864977          0.866905         0.002055  \n",
       "5            0.861472            0.860522          0.862443         0.002081  \n",
       "9            0.861472            0.860522          0.862443         0.002081  "
      ]
     },
     "execution_count": 26,
     "metadata": {},
     "output_type": "execute_result"
    }
   ],
   "source": [
    "# https://scikit-learn.org/stable/modules/generated/sklearn.model_selection.GridSearchCV.html\n",
    "from sklearn.model_selection import GridSearchCV\n",
    "from scipy.stats import randint as sp_randint\n",
    "from sklearn.model_selection import RandomizedSearchCV\n",
    "from sklearn.naive_bayes import MultinomialNB\n",
    "from sklearn.metrics import roc_auc_score\n",
    "from sklearn.model_selection import cross_validate\n",
    "\n",
    "model = MultinomialNB()\n",
    "parameters = {'alpha': sp_randint(0.1, 10)}\n",
    "clf1 = RandomizedSearchCV(estimator = model, param_distributions = parameters, cv = 3, scoring = 'roc_auc', \n",
    "                         return_train_score = True)\n",
    "clf1.fit(X_Train_set1, y_train)\n",
    "\n",
    "results = pd.DataFrame.from_dict(clf1.cv_results_)\n",
    "results = results.sort_values(['param_alpha'])\n",
    "\n",
    "train_auc = results['mean_train_score']\n",
    "train_auc_std = results['std_train_score']\n",
    "cv_auc = results['mean_test_score'] \n",
    "cv_auc_std = results['std_test_score']\n",
    "alpha =  results['param_alpha']\n",
    "\n",
    "plt.plot(alpha, train_auc, label = 'Train AUC')\n",
    "# this code is copied from here: https://stackoverflow.com/a/48803361/4084039\n",
    "# plt.gca().fill_between(K, train_auc - train_auc_std,train_auc + train_auc_std,alpha=0.2,color='darkblue')\n",
    "\n",
    "plt.plot(alpha, cv_auc, label = 'CV AUC')\n",
    "# this code is copied from here: https://stackoverflow.com/a/48803361/4084039\n",
    "# plt.gca().fill_between(K, cv_auc - cv_auc_std,cv_auc + cv_auc_std,alpha=0.2,color='darkorange')\n",
    "\n",
    "plt.scatter(alpha, train_auc, label = 'Train AUC points')\n",
    "plt.scatter(alpha, cv_auc, label = 'CV AUC points')\n",
    "\n",
    "\n",
    "plt.legend()\n",
    "plt.xlabel(\"Hyperparameter: alpha\")\n",
    "plt.ylabel(\"AUC\")\n",
    "plt.title(\"Hyperparameter vs AUC plot\", fontname = \"Brush Script MT\", fontsize = 25, pad = 20)\n",
    "plt.grid()\n",
    "plt.show()\n",
    "\n",
    "results.head()"
   ]
  },
  {
   "cell_type": "code",
   "execution_count": 27,
   "metadata": {},
   "outputs": [
    {
     "name": "stdout",
     "output_type": "stream",
     "text": [
      "Best alpha: 1\n"
     ]
    }
   ],
   "source": [
    "best_alpha_set1 = clf1.best_estimator_\n",
    "print(\"Best alpha:\", best_alpha_set1.alpha)"
   ]
  },
  {
   "cell_type": "markdown",
   "metadata": {},
   "source": [
    "### 1.5.2 Applying Multinomial Naive Bayes on `feature set 2`"
   ]
  },
  {
   "cell_type": "code",
   "execution_count": 28,
   "metadata": {},
   "outputs": [
    {
     "data": {
      "image/png": "[encoded data removed]",
      "text/plain": [
       "<Figure size 432x288 with 1 Axes>"
      ]
     },
     "metadata": {
      "needs_background": "light"
     },
     "output_type": "display_data"
    },
    {
     "data": {
      "text/html": [
       "<div>\n",
       "<style scoped>\n",
       "    .dataframe tbody tr th:only-of-type {\n",
       "        vertical-align: middle;\n",
       "    }\n",
       "\n",
       "    .dataframe tbody tr th {\n",
       "        vertical-align: top;\n",
       "    }\n",
       "\n",
       "    .dataframe thead th {\n",
       "        text-align: right;\n",
       "    }\n",
       "</style>\n",
       "<table border=\"1\" class=\"dataframe\">\n",
       "  <thead>\n",
       "    <tr style=\"text-align: right;\">\n",
       "      <th></th>\n",
       "      <th>mean_fit_time</th>\n",
       "      <th>std_fit_time</th>\n",
       "      <th>mean_score_time</th>\n",
       "      <th>std_score_time</th>\n",
       "      <th>param_alpha</th>\n",
       "      <th>params</th>\n",
       "      <th>split0_test_score</th>\n",
       "      <th>split1_test_score</th>\n",
       "      <th>split2_test_score</th>\n",
       "      <th>mean_test_score</th>\n",
       "      <th>std_test_score</th>\n",
       "      <th>rank_test_score</th>\n",
       "      <th>split0_train_score</th>\n",
       "      <th>split1_train_score</th>\n",
       "      <th>split2_train_score</th>\n",
       "      <th>mean_train_score</th>\n",
       "      <th>std_train_score</th>\n",
       "    </tr>\n",
       "  </thead>\n",
       "  <tbody>\n",
       "    <tr>\n",
       "      <th>2</th>\n",
       "      <td>0.162127</td>\n",
       "      <td>0.027226</td>\n",
       "      <td>0.049797</td>\n",
       "      <td>0.011901</td>\n",
       "      <td>0</td>\n",
       "      <td>{'alpha': 0}</td>\n",
       "      <td>0.811502</td>\n",
       "      <td>0.818151</td>\n",
       "      <td>0.814567</td>\n",
       "      <td>0.814740</td>\n",
       "      <td>0.002717</td>\n",
       "      <td>1</td>\n",
       "      <td>0.894528</td>\n",
       "      <td>0.891101</td>\n",
       "      <td>0.890690</td>\n",
       "      <td>0.892107</td>\n",
       "      <td>0.001721</td>\n",
       "    </tr>\n",
       "    <tr>\n",
       "      <th>3</th>\n",
       "      <td>0.137770</td>\n",
       "      <td>0.011926</td>\n",
       "      <td>0.058395</td>\n",
       "      <td>0.004602</td>\n",
       "      <td>2</td>\n",
       "      <td>{'alpha': 2}</td>\n",
       "      <td>0.775543</td>\n",
       "      <td>0.780816</td>\n",
       "      <td>0.776999</td>\n",
       "      <td>0.777786</td>\n",
       "      <td>0.002223</td>\n",
       "      <td>2</td>\n",
       "      <td>0.847045</td>\n",
       "      <td>0.842532</td>\n",
       "      <td>0.841667</td>\n",
       "      <td>0.843748</td>\n",
       "      <td>0.002358</td>\n",
       "    </tr>\n",
       "    <tr>\n",
       "      <th>5</th>\n",
       "      <td>0.181635</td>\n",
       "      <td>0.021968</td>\n",
       "      <td>0.063992</td>\n",
       "      <td>0.015407</td>\n",
       "      <td>2</td>\n",
       "      <td>{'alpha': 2}</td>\n",
       "      <td>0.775543</td>\n",
       "      <td>0.780816</td>\n",
       "      <td>0.776999</td>\n",
       "      <td>0.777786</td>\n",
       "      <td>0.002223</td>\n",
       "      <td>2</td>\n",
       "      <td>0.847045</td>\n",
       "      <td>0.842532</td>\n",
       "      <td>0.841667</td>\n",
       "      <td>0.843748</td>\n",
       "      <td>0.002358</td>\n",
       "    </tr>\n",
       "    <tr>\n",
       "      <th>7</th>\n",
       "      <td>0.161617</td>\n",
       "      <td>0.034119</td>\n",
       "      <td>0.053766</td>\n",
       "      <td>0.014286</td>\n",
       "      <td>4</td>\n",
       "      <td>{'alpha': 4}</td>\n",
       "      <td>0.756660</td>\n",
       "      <td>0.761099</td>\n",
       "      <td>0.757669</td>\n",
       "      <td>0.758476</td>\n",
       "      <td>0.001900</td>\n",
       "      <td>4</td>\n",
       "      <td>0.821030</td>\n",
       "      <td>0.816286</td>\n",
       "      <td>0.815186</td>\n",
       "      <td>0.817501</td>\n",
       "      <td>0.002536</td>\n",
       "    </tr>\n",
       "    <tr>\n",
       "      <th>0</th>\n",
       "      <td>0.156895</td>\n",
       "      <td>0.019420</td>\n",
       "      <td>0.059194</td>\n",
       "      <td>0.006846</td>\n",
       "      <td>5</td>\n",
       "      <td>{'alpha': 5}</td>\n",
       "      <td>0.749534</td>\n",
       "      <td>0.753631</td>\n",
       "      <td>0.750362</td>\n",
       "      <td>0.751176</td>\n",
       "      <td>0.001769</td>\n",
       "      <td>5</td>\n",
       "      <td>0.811087</td>\n",
       "      <td>0.806316</td>\n",
       "      <td>0.805125</td>\n",
       "      <td>0.807510</td>\n",
       "      <td>0.002576</td>\n",
       "    </tr>\n",
       "  </tbody>\n",
       "</table>\n",
       "</div>"
      ],
      "text/plain": [
       "   mean_fit_time  std_fit_time  mean_score_time  std_score_time param_alpha  \\\n",
       "2       0.162127      0.027226         0.049797        0.011901           0   \n",
       "3       0.137770      0.011926         0.058395        0.004602           2   \n",
       "5       0.181635      0.021968         0.063992        0.015407           2   \n",
       "7       0.161617      0.034119         0.053766        0.014286           4   \n",
       "0       0.156895      0.019420         0.059194        0.006846           5   \n",
       "\n",
       "         params  split0_test_score  split1_test_score  split2_test_score  \\\n",
       "2  {'alpha': 0}           0.811502           0.818151           0.814567   \n",
       "3  {'alpha': 2}           0.775543           0.780816           0.776999   \n",
       "5  {'alpha': 2}           0.775543           0.780816           0.776999   \n",
       "7  {'alpha': 4}           0.756660           0.761099           0.757669   \n",
       "0  {'alpha': 5}           0.749534           0.753631           0.750362   \n",
       "\n",
       "   mean_test_score  std_test_score  rank_test_score  split0_train_score  \\\n",
       "2         0.814740        0.002717                1            0.894528   \n",
       "3         0.777786        0.002223                2            0.847045   \n",
       "5         0.777786        0.002223                2            0.847045   \n",
       "7         0.758476        0.001900                4            0.821030   \n",
       "0         0.751176        0.001769                5            0.811087   \n",
       "\n",
       "   split1_train_score  split2_train_score  mean_train_score  std_train_score  \n",
       "2            0.891101            0.890690          0.892107         0.001721  \n",
       "3            0.842532            0.841667          0.843748         0.002358  \n",
       "5            0.842532            0.841667          0.843748         0.002358  \n",
       "7            0.816286            0.815186          0.817501         0.002536  \n",
       "0            0.806316            0.805125          0.807510         0.002576  "
      ]
     },
     "execution_count": 28,
     "metadata": {},
     "output_type": "execute_result"
    }
   ],
   "source": [
    "model = MultinomialNB()\n",
    "parameters = {'alpha': sp_randint(0.1, 10)}\n",
    "clf2 = RandomizedSearchCV(estimator = model, param_distributions = parameters, cv = 3, scoring = 'roc_auc', \n",
    "                         return_train_score = True)\n",
    "clf2.fit(X_Train_set2, y_train)\n",
    "\n",
    "results = pd.DataFrame.from_dict(clf2.cv_results_)\n",
    "results = results.sort_values(['param_alpha'])\n",
    "\n",
    "train_auc = results['mean_train_score']\n",
    "train_auc_std = results['std_train_score']\n",
    "cv_auc = results['mean_test_score'] \n",
    "cv_auc_std = results['std_test_score']\n",
    "alpha =  results['param_alpha']\n",
    "\n",
    "plt.plot(alpha, train_auc, label = 'Train AUC')\n",
    "# this code is copied from here: https://stackoverflow.com/a/48803361/4084039\n",
    "# plt.gca().fill_between(K, train_auc - train_auc_std,train_auc + train_auc_std,alpha=0.2,color='darkblue')\n",
    "\n",
    "plt.plot(alpha, cv_auc, label = 'CV AUC')\n",
    "# this code is copied from here: https://stackoverflow.com/a/48803361/4084039\n",
    "# plt.gca().fill_between(K, cv_auc - cv_auc_std,cv_auc + cv_auc_std,alpha=0.2,color='darkorange')\n",
    "\n",
    "plt.scatter(alpha, train_auc, label = 'Train AUC points')\n",
    "plt.scatter(alpha, cv_auc, label = 'CV AUC points')\n",
    "\n",
    "\n",
    "plt.legend()\n",
    "plt.xlabel(\"Hyperparameter: alpha\")\n",
    "plt.ylabel(\"AUC\")\n",
    "plt.title(\"Hyperparameter vs AUC plot\", fontname = \"Brush Script MT\", fontsize = 25, pad = 20)\n",
    "plt.grid()\n",
    "plt.show()\n",
    "\n",
    "results.head()"
   ]
  },
  {
   "cell_type": "code",
   "execution_count": 29,
   "metadata": {},
   "outputs": [
    {
     "name": "stdout",
     "output_type": "stream",
     "text": [
      "Best alpha: 0\n"
     ]
    }
   ],
   "source": [
    "best_alpha_set2 = clf2.best_estimator_\n",
    "print(\"Best alpha:\", best_alpha_set2.alpha)"
   ]
  },
  {
   "cell_type": "markdown",
   "metadata": {},
   "source": [
    "### 1.6 Train Model using the best Hyperparameters\n",
    "\n",
    "#### 1.6.1 For `feature set 1` "
   ]
  },
  {
   "cell_type": "code",
   "execution_count": 30,
   "metadata": {},
   "outputs": [],
   "source": [
    "def batch_predict(clf, data):\n",
    "    # roc_auc_score(y_true, y_score) the 2nd parameter should be probability estimates of the positive class\n",
    "    # not the predicted outputs\n",
    "\n",
    "    y_data_pred = []\n",
    "    tr_loop = data.shape[0] - data.shape[0]%1000\n",
    "    # consider you X_tr shape is 49041, then your tr_loop will be 49041 - 49041%1000 = 49000\n",
    "    # in this for loop we will iterate unti the last 1000 multiplier\n",
    "    for i in range(0, tr_loop, 1000):\n",
    "        y_data_pred.extend(clf.predict_proba(data[i:i+1000])[:,1])\n",
    "    # we will be predicting for the last data points\n",
    "    if data.shape[0]%1000 !=0:\n",
    "        y_data_pred.extend(clf.predict_proba(data[tr_loop:])[:,1])\n",
    "    \n",
    "    return y_data_pred"
   ]
  },
  {
   "cell_type": "code",
   "execution_count": 31,
   "metadata": {},
   "outputs": [
    {
     "data": {
      "image/png": "[encoded data removed]",
      "text/plain": [
       "<Figure size 432x288 with 1 Axes>"
      ]
     },
     "metadata": {
      "needs_background": "light"
     },
     "output_type": "display_data"
    }
   ],
   "source": [
    "clf_set1 = MultinomialNB(best_alpha_set1.alpha)\n",
    "clf_set1.fit(X_Train_set1, y_train)\n",
    "\n",
    "y_train_pred1 = batch_predict(clf_set1, X_Train_set1)    \n",
    "y_test_pred1 = batch_predict(clf_set1, X_Test_set1)\n",
    "\n",
    "train_fpr, train_tpr, tr_thresholds = roc_curve(y_train, y_train_pred1)\n",
    "test_fpr, test_tpr, te_thresholds = roc_curve(y_test, y_test_pred1)\n",
    "\n",
    "auc_set1 = auc(test_fpr, test_tpr)\n",
    "\n",
    "plt.plot(train_fpr, train_tpr, label=\"train AUC =\"+str(auc(train_fpr, train_tpr)))\n",
    "plt.plot(test_fpr, test_tpr, label=\"test AUC =\"+str(auc(test_fpr, test_tpr)))\n",
    "plt.legend()\n",
    "plt.xlabel(\"FPR\")\n",
    "plt.ylabel(\"TPR\")\n",
    "plt.title(\"AUC Plot - ROC Curves\", fontname = \"Brush Script MT\", fontsize = 25, pad = 20)\n",
    "plt.grid()\n",
    "plt.show()"
   ]
  },
  {
   "cell_type": "markdown",
   "metadata": {},
   "source": [
    "#### 1.6.2 For `feature set 2` "
   ]
  },
  {
   "cell_type": "code",
   "execution_count": 32,
   "metadata": {},
   "outputs": [
    {
     "data": {
      "image/png": "[encoded data removed]",
      "text/plain": [
       "<Figure size 432x288 with 1 Axes>"
      ]
     },
     "metadata": {
      "needs_background": "light"
     },
     "output_type": "display_data"
    }
   ],
   "source": [
    "clf_set2 = MultinomialNB(best_alpha_set2.alpha)\n",
    "clf_set2.fit(X_Train_set2, y_train)\n",
    "\n",
    "y_train_pred2 = batch_predict(clf_set2, X_Train_set2)    \n",
    "y_test_pred2 = batch_predict(clf_set2, X_Test_set2)\n",
    "\n",
    "train_fpr, train_tpr, tr_thresholds = roc_curve(y_train, y_train_pred2)\n",
    "test_fpr, test_tpr, te_thresholds = roc_curve(y_test, y_test_pred2)\n",
    "\n",
    "auc_set2 = auc(test_fpr, test_tpr)\n",
    "\n",
    "plt.plot(train_fpr, train_tpr, label=\"train AUC =\"+str(auc(train_fpr, train_tpr)))\n",
    "plt.plot(test_fpr, test_tpr, label=\"test AUC =\"+str(auc(test_fpr, test_tpr)))\n",
    "plt.legend()\n",
    "plt.xlabel(\"FPR\")\n",
    "plt.ylabel(\"TPR\")\n",
    "plt.title(\"AUC Plot - ROC Curves\", fontname =\"Brush Script MT\", fontsize = 25, pad = 20)\n",
    "plt.grid()\n",
    "plt.show()"
   ]
  },
  {
   "cell_type": "markdown",
   "metadata": {},
   "source": [
    "### 1.7 Confusion Matrix "
   ]
  },
  {
   "cell_type": "code",
   "execution_count": 33,
   "metadata": {},
   "outputs": [],
   "source": [
    "# we are writing our own function for predict, with defined thresould\n",
    "# we will pick a threshold that will give the least fpr\n",
    "def find_best_threshold(threshold, fpr, tpr):\n",
    "    t = threshold[np.argmax(tpr * (1 - fpr))]\n",
    "    # (tpr*(1-fpr)) will be maximum if your fpr is very low and tpr is very high\n",
    "    print(\"the maximum value of tpr*(1-fpr)\", max(tpr * (1 - fpr)), \"for threshold\", np.round(t, 3))\n",
    "    return t\n",
    "\n",
    "def predict_with_best_t(proba, threshold):\n",
    "    predictions = []\n",
    "    for i in proba:\n",
    "        if i >= threshold:\n",
    "            predictions.append(1)\n",
    "        else:\n",
    "            predictions.append(0)\n",
    "    return predictions"
   ]
  },
  {
   "cell_type": "code",
   "execution_count": 35,
   "metadata": {},
   "outputs": [
    {
     "name": "stdout",
     "output_type": "stream",
     "text": [
      "the maximum value of tpr*(1-fpr) 0.6339272685273777 for threshold 0.5\n"
     ]
    }
   ],
   "source": [
    "from sklearn.metrics import confusion_matrix\n",
    "best_t = find_best_threshold(tr_thresholds, train_fpr, train_tpr)"
   ]
  },
  {
   "cell_type": "markdown",
   "metadata": {},
   "source": [
    "#### For `feature set 1`"
   ]
  },
  {
   "cell_type": "code",
   "execution_count": 36,
   "metadata": {},
   "outputs": [
    {
     "data": {
      "image/png": "[encoded data removed]",
      "text/plain": [
       "<Figure size 432x288 with 2 Axes>"
      ]
     },
     "metadata": {
      "needs_background": "light"
     },
     "output_type": "display_data"
    }
   ],
   "source": [
    "ax = plt.subplot()\n",
    "sns.heatmap(confusion_matrix(y_train, predict_with_best_t(y_train_pred1, best_t)), annot = True, ax = ax, fmt = 'd', \n",
    "            cmap = \"Blues\")\n",
    "\n",
    "ax.set_xlabel('Predicted Labels');\n",
    "ax.set_ylabel('Actual Labels');\n",
    "ax.set_title('Train Confusion Matrix', fontname =\"Brush Script MT\", fontsize = 25, pad = 20);"
   ]
  },
  {
   "cell_type": "code",
   "execution_count": 37,
   "metadata": {},
   "outputs": [
    {
     "data": {
      "image/png": "[encoded data removed]",
      "text/plain": [
       "<Figure size 432x288 with 2 Axes>"
      ]
     },
     "metadata": {
      "needs_background": "light"
     },
     "output_type": "display_data"
    }
   ],
   "source": [
    "ax = plt.subplot()\n",
    "sns.heatmap(confusion_matrix(y_test, predict_with_best_t(y_test_pred1, best_t)), annot = True, ax = ax, fmt = 'd', \n",
    "            cmap = \"Blues\")\n",
    "\n",
    "ax.set_xlabel('Predicted Labels');\n",
    "ax.set_ylabel('Actual Labels');\n",
    "ax.set_title('Test Confusion Matrix', fontname =\"Brush Script MT\", fontsize = 25, pad = 20);"
   ]
  },
  {
   "cell_type": "markdown",
   "metadata": {},
   "source": [
    "#### For `feature set 2`"
   ]
  },
  {
   "cell_type": "code",
   "execution_count": 38,
   "metadata": {},
   "outputs": [
    {
     "data": {
      "image/png": "[encoded data removed]",
      "text/plain": [
       "<Figure size 432x288 with 2 Axes>"
      ]
     },
     "metadata": {
      "needs_background": "light"
     },
     "output_type": "display_data"
    }
   ],
   "source": [
    "ax = plt.subplot()\n",
    "sns.heatmap(confusion_matrix(y_train, predict_with_best_t(y_train_pred2, best_t)), annot = True, ax = ax, fmt = 'd', \n",
    "            cmap = \"Blues\")\n",
    "\n",
    "ax.set_xlabel('Predicted Labels');\n",
    "ax.set_ylabel('Actual Labels');\n",
    "ax.set_title('Train Confusion Matrix', fontname =\"Brush Script MT\", fontsize = 25, pad = 20);"
   ]
  },
  {
   "cell_type": "code",
   "execution_count": 39,
   "metadata": {},
   "outputs": [
    {
     "data": {
      "image/png": "[encoded data removed]",
      "text/plain": [
       "<Figure size 432x288 with 2 Axes>"
      ]
     },
     "metadata": {
      "needs_background": "light"
     },
     "output_type": "display_data"
    }
   ],
   "source": [
    "ax = plt.subplot()\n",
    "sns.heatmap(confusion_matrix(y_test, predict_with_best_t(y_test_pred2, best_t)), annot = True, ax = ax, fmt = 'd', \n",
    "            cmap = \"Blues\")\n",
    "\n",
    "ax.set_xlabel('Predicted Labels');\n",
    "ax.set_ylabel('Actual Labels');\n",
    "ax.set_title('Test Confusion Matrix', fontname =\"Brush Script MT\", fontsize = 25, pad = 20);"
   ]
  },
  {
   "cell_type": "markdown",
   "metadata": {
    "id": "DNwqilFxb3di"
   },
   "source": [
    "### 1.8 TOP 20 FEATURES from `Set 1`"
   ]
  },
  {
   "cell_type": "code",
   "execution_count": 40,
   "metadata": {},
   "outputs": [
    {
     "name": "stdout",
     "output_type": "stream",
     "text": [
      "Total # of features: 50101\n",
      "\n",
      "Positive features:  ['love use hands learning' 'this first full' 'first full year teach'\n",
      " 'year teach kindergarten we' 'not dare' 'full year teach kindergarten'\n",
      " 'this first full year' 'experiences make difference students'\n",
      " 'experiences make difference' 'they love use hands'\n",
      " 'teach kindergarten we' 'washington high' 'full year teach'\n",
      " 'washington high school' 'important area' 'nasp' 'care_hunger' 'warmth'\n",
      " 'materials experiences make' 'care_hunger']\n",
      "\n",
      "Negative features:  ['scooter' 'stools wobble' 'risers' 'bee bots' 'use document camera'\n",
      " 'dell chromebook' '60 minute' 'volleyballs' 'clorox wipes'\n",
      " 'learning throughout day' 'these stools allow students' 'wobble cushion'\n",
      " 'tile floor' 'planks' 'usb' 'chairs give students' 'wobble stools allow'\n",
      " 'pete cat' 'wobble chairs students' 'pete']\n"
     ]
    }
   ],
   "source": [
    "import numpy as np\n",
    "features = []\n",
    "features.extend(essay_bow_features)\n",
    "features.extend(school_state_features)\n",
    "features.extend(teacher_prefix_features)\n",
    "features.extend(project_grade_category_features)\n",
    "features.extend(clean_categories_features)\n",
    "features.extend(clean_subcategories_features)\n",
    "features.append('price')\n",
    "features.append('teacher_number_of_previously_posted_projects')\n",
    "\n",
    "print(\"Total # of features:\", len(features))\n",
    "\n",
    "print()\n",
    "\n",
    "positive = np.argsort((clf_set1.feature_log_prob_)[1])[:20]\n",
    "top_20_positive_features = np.take(features, positive)\n",
    "print(\"Positive features: \", top_20_positive_features)\n",
    "\n",
    "print()\n",
    "\n",
    "negative = np.argsort((clf_set1.feature_log_prob_)[0])[:20]\n",
    "top_20_negative_features = np.take(features, negative)\n",
    "print(\"Negative features: \", top_20_negative_features)"
   ]
  },
  {
   "cell_type": "markdown",
   "metadata": {
    "id": "lS9hIHdib3dp"
   },
   "source": [
    "### 1.9 Summary"
   ]
  },
  {
   "cell_type": "code",
   "execution_count": 41,
   "metadata": {},
   "outputs": [
    {
     "name": "stdout",
     "output_type": "stream",
     "text": [
      "+------------+-------------+----------------+--------------------+\n",
      "| Vectorizer |    Model    | Hyperparameter |        AUC         |\n",
      "+------------+-------------+----------------+--------------------+\n",
      "|    BoW     | Naive Bayes |       1        |  0.81135354365676  |\n",
      "|   TFIDF    | Naive Bayes |       0        | 0.8211846416744014 |\n",
      "+------------+-------------+----------------+--------------------+\n"
     ]
    }
   ],
   "source": [
    "from prettytable import PrettyTable\n",
    "    \n",
    "x = PrettyTable()\n",
    "\n",
    "x.field_names = [\"Vectorizer\", \"Model\", \"Hyperparameter\", \"AUC\"]\n",
    "x.add_row([\"BoW\", \"Naive Bayes\", best_alpha_set1.alpha, auc_set1])\n",
    "x.add_row([\"TFIDF\", \"Naive Bayes\", best_alpha_set2.alpha, auc_set2])\n",
    "print(x)"
   ]
  }
 ],
 "metadata": {
  "colab": {
   "collapsed_sections": [],
   "name": "6_Assignment_NB_Instructions.ipynb",
   "provenance": []
  },
  "kernelspec": {
   "display_name": "Python 3",
   "language": "python",
   "name": "python3"
  },
  "language_info": {
   "codemirror_mode": {
    "name": "ipython",
    "version": 3
   },
   "file_extension": ".py",
   "mimetype": "text/x-python",
   "name": "python",
   "nbconvert_exporter": "python",
   "pygments_lexer": "ipython3",
   "version": "3.8.5"
  }
 },
 "nbformat": 4,
 "nbformat_minor": 1
}
