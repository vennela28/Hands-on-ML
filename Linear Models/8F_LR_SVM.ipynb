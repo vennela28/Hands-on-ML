{
 "cells": [
  {
   "cell_type": "markdown",
   "metadata": {
    "id": "c0bKCboN4Zxu"
   },
   "source": [
    "## ___8F: Implementing Platt Scaling to find P(Y==1|X)___"
   ]
  },
  {
   "cell_type": "markdown",
   "metadata": {
    "id": "nMn7OEN94Zxw"
   },
   "source": [
    "Check this <a href='https://drive.google.com/open?id=133odBinMOIVb_rh_GQxxsyMRyW-Zts7a'>PDF</a>\n",
    "<img src='https://i.imgur.com/CAMnVnh.png'>\n"
   ]
  },
  {
   "cell_type": "markdown",
   "metadata": {
    "id": "t0HOqVJq4Zx1"
   },
   "source": [
    "\n",
    "> 4. Apply SGD algorithm with ($f_{cv}$, $y_{cv}$) and find the weight $W$ intercept $b$ ```Note: here our data is of one dimensional so we will have a one dimensional weight vector i.e W.shape (1,)``` \n",
    "\n",
    "> Note1: Don't forget to change the values of $y_{cv}$ as mentioned in the above image. you will calculate y+, y- based on data points in train data\n",
    "\n",
    "> Note2: the Sklearn's SGD algorithm doesn't support the real valued outputs, you need to use the code that was done in the `'Logistic Regression with SGD and L2'` Assignment after modifying loss function, and use same parameters that used in that assignment.\n",
    "<img src='https://i.imgur.com/zKYE9Oc.png'>\n",
    "if Y[i] is 1, it will be replaced with y+ value else it will replaced with y- value\n",
    "\n",
    "> 5. For a given data point from $X_{test}$, $P(Y=1|X) = \\frac{1}{1+exp(-(W*f_{test}+ b))}$ where ` `$f_{test}$ ```= decision_function(```$X_{test}$```)```, W and b will be learned as metioned in the above step"
   ]
  },
  {
   "cell_type": "markdown",
   "metadata": {
    "id": "CM3odN1Z4Zx3"
   },
   "source": [
    "\n",
    "If any one wants to try other calibration algorithm istonic regression also please check these tutorials\n",
    "\n",
    "1. http://fa.bianp.net/blog/tag/scikit-learn.html#fn:1\n",
    "\n",
    "2. https://drive.google.com/open?id=1MzmA7QaP58RDzocB0RBmRiWfl7Co_VJ7\n",
    "\n",
    "3. https://drive.google.com/open?id=133odBinMOIVb_rh_GQxxsyMRyW-Zts7a"
   ]
  },
  {
   "cell_type": "code",
   "execution_count": 1,
   "metadata": {},
   "outputs": [],
   "source": [
    "import warnings\n",
    "warnings.filterwarnings(\"ignore\")\n",
    "\n",
    "%matplotlib inline\n",
    "import matplotlib.pyplot as plt\n",
    "\n",
    "import numpy as np\n",
    "import pandas as pd\n",
    "import math\n",
    "\n",
    "from sklearn.model_selection import train_test_split\n",
    "from sklearn.datasets import make_classification\n",
    "from sklearn.model_selection import GridSearchCV\n",
    "from sklearn import linear_model\n",
    "from sklearn.svm import SVC"
   ]
  },
  {
   "cell_type": "code",
   "execution_count": 2,
   "metadata": {},
   "outputs": [],
   "source": [
    "X, y = make_classification(n_samples = 5000, n_features = 5, n_redundant = 2, n_classes = 2, \n",
    "                           weights = [0.7], class_sep = 0.7, random_state = 15)"
   ]
  },
  {
   "cell_type": "code",
   "execution_count": 3,
   "metadata": {},
   "outputs": [
    {
     "name": "stdout",
     "output_type": "stream",
     "text": [
      "(4000, 5) (4000,) (250, 5) (250,)\n",
      "(250, 5) (250,) (750, 5) (750,)\n"
     ]
    }
   ],
   "source": [
    "Xtrain, Xtest, ytrain, ytest = train_test_split(X, y, test_size = 0.2, random_state = 0)\n",
    "Xcv, Xtest, ycv, ytest = train_test_split(Xtest, ytest, test_size = 0.25, random_state = 0)\n",
    "\n",
    "print(Xtrain.shape, ytrain.shape, Xtest.shape, ytest.shape)\n",
    "print(Xtest.shape, ytest.shape, Xcv.shape, ycv.shape)"
   ]
  },
  {
   "cell_type": "code",
   "execution_count": 4,
   "metadata": {},
   "outputs": [],
   "source": [
    "clf = SVC(kernel = \"rbf\", random_state = 0, decision_function_shape = 'ovo', C = 100, gamma = 0.001)\n",
    "\n",
    "clf = clf.fit(Xtrain, ytrain)  # set the best parameters\n",
    "\n",
    "pred = clf.predict(Xcv)\n",
    "\n",
    "clf_decision = clf.decision_function(Xcv)"
   ]
  },
  {
   "cell_type": "code",
   "execution_count": 5,
   "metadata": {},
   "outputs": [],
   "source": [
    "gamma = 0.001"
   ]
  },
  {
   "cell_type": "code",
   "execution_count": 6,
   "metadata": {},
   "outputs": [
    {
     "name": "stdout",
     "output_type": "stream",
     "text": [
      "[-4.09306149139127, -3.1074169455995415, -0.1543106704656365, -3.4414738367657973, 1.8646927151322616] \n",
      " [-4.09306149 -3.10741695 -0.15431067 -3.44147384  1.86469272]\n"
     ]
    }
   ],
   "source": [
    "def decision_function(clf, data):\n",
    "    add_intercept = []\n",
    "\n",
    "    for x_q in data:\n",
    "        add_intercept.append(np.sum(clf.dual_coef_ * np.exp(-clf._gamma*np.sum((clf.support_vectors_ - x_q)**2, axis=1)))\n",
    "                             + clf.intercept_[0])\n",
    "    return add_intercept\n",
    "\n",
    "fcv = decision_function(clf, Xcv)\n",
    "\n",
    "print(fcv[:5], '\\n', clf_decision[:5])"
   ]
  },
  {
   "cell_type": "code",
   "execution_count": 7,
   "metadata": {},
   "outputs": [
    {
     "name": "stdout",
     "output_type": "stream",
     "text": [
      "[[   0    1]\n",
      " [2818 1182]]\n"
     ]
    }
   ],
   "source": [
    "unique, frequency = np.unique(ytrain, return_counts = True)  \n",
    "count = np.asarray((unique, frequency))\n",
    "\n",
    "print(count)"
   ]
  },
  {
   "cell_type": "code",
   "execution_count": 8,
   "metadata": {},
   "outputs": [],
   "source": [
    "neg, pos = frequency[0], frequency[1]\n",
    "\n",
    "def target_calib(x):\n",
    "    cal_target = []\n",
    "    for i in x:\n",
    "        if i == 1:\n",
    "            cal_target.append((pos + 1)/(pos + 2))\n",
    "        elif i == 0:\n",
    "            cal_target.append(1 / (neg + 2))\n",
    "    return cal_target\n",
    "\n",
    "calibrated_target = target_calib(pred.tolist())"
   ]
  },
  {
   "cell_type": "code",
   "execution_count": 9,
   "metadata": {},
   "outputs": [],
   "source": [
    "def initialize_weights(dim):\n",
    "    w = np.zeros_like((dim))\n",
    "    b = np.zeros_like((1))\n",
    "    print(\"Weights-Initialized : \", w.shape)\n",
    "    return w, b\n",
    "\n",
    "def sigmoid(z):\n",
    "    sigmoid = 1/(1+math.exp(-z))\n",
    "    return sigmoid\n",
    "\n",
    "def logloss(W, b, X, Y):\n",
    "    N = len(X)\n",
    "    loss=[]\n",
    "    for i in range(N):\n",
    "        z = np.dot(X[i],W) + b\n",
    "        pred = sigmoid(z)\n",
    "        if pred < 0.5:\n",
    "            l = (1-Y[i])*np.log10(1-pred)\n",
    "            loss.append(l)\n",
    "        else:\n",
    "            l = Y[i]*np.log10(pred)\n",
    "            loss.append(l)\n",
    "    loss = (-1 * 1/len(loss) * sum(loss))\n",
    "    return loss\n",
    "\n",
    "def gradient_dw(x,y,w,b,alpha,N):\n",
    "    dw = x*(y-sigmoid(np.dot(w,x)+b)) - alpha/N * w\n",
    "    return dw\n",
    "\n",
    "def gradient_db(x,y,w,b):\n",
    "    db = (y-sigmoid(np.dot(w,x)+b))\n",
    "    return db\n",
    "\n",
    "def pred(w, b, X):\n",
    "    N = len(X.tolist())\n",
    "    predict = []\n",
    "    for i in range(N):\n",
    "        z = np.dot(X[i], w) + b\n",
    "        predict.append(sigmoid(z))\n",
    "\n",
    "    return np.array(predict)"
   ]
  },
  {
   "cell_type": "code",
   "execution_count": 10,
   "metadata": {},
   "outputs": [],
   "source": [
    "def train(Y_calibrated,fcv,epochs,alpha,eta0):\n",
    "\n",
    "    ''' In this function, we will implement logistic regression'''\n",
    "    scale_down_factor = 0.0001\n",
    "    epoch = 1\n",
    "    w, b = initialize_weights(1)\n",
    "    wl = []\n",
    "    bl = []\n",
    "    \n",
    "    Lw = np.zeros_like(1)\n",
    "    Lb = 0\n",
    "    \n",
    "    loss = 0\n",
    "    prev = 0\n",
    "    train_loss = []\n",
    "    test_loss = []\n",
    "    \n",
    "    while epoch <= epochs:\n",
    "        \n",
    "        y_train_pred = []\n",
    "        y_test_pred = []\n",
    "        np.random.RandomState(seed=2)\n",
    "        \n",
    "        for m in range(len(Y_calibrated)):\n",
    "            \n",
    "            i = np.random.choice(len(Y_calibrated))\n",
    "            z = np.dot(Y_calibrated[i],w) + b\n",
    "            \n",
    "            Lw = gradient_dw(Y_calibrated[i],fcv[i],w,b,alpha,len(Y_calibrated))\n",
    "            Lb = gradient_db(Y_calibrated[i],fcv[i],w,b)\n",
    "            \n",
    "            w = (1-(alpha * scale_down_factor / epochs)) * w + alpha * Lw\n",
    "            b = b + alpha * Lb\n",
    "            \n",
    "        train_loss.append(round(logloss(w,b,Y_calibrated, fcv), 3))\n",
    "        \n",
    "        if train_loss[-1] == prev:\n",
    "            break;\n",
    "        else:\n",
    "            prev = train_loss[-1]\n",
    "            print(\"Epoch: %d, train_Loss: %.3f\" %(epoch, train_loss[-1]))\n",
    "            epoch += 1\n",
    "        \n",
    "    %matplotlib inline\n",
    "    import matplotlib.pyplot as plt\n",
    "    plt.plot(train_loss, label='train_log_loss')\n",
    "    plt.grid()\n",
    "    plt.legend() \n",
    "    plt.title('Log loss vs epoch')\n",
    "    plt.xlabel('epochs')\n",
    "    plt.ylabel('log loss')\n",
    "    plt.show()\n",
    "        \n",
    "    return w, b"
   ]
  },
  {
   "cell_type": "code",
   "execution_count": 11,
   "metadata": {},
   "outputs": [
    {
     "name": "stdout",
     "output_type": "stream",
     "text": [
      "Weights-Initialized :  ()\n",
      "Epoch: 1, train_Loss: 0.597\n",
      "Epoch: 2, train_Loss: 0.546\n",
      "Epoch: 3, train_Loss: 0.497\n",
      "Epoch: 4, train_Loss: 0.450\n",
      "Epoch: 5, train_Loss: 0.408\n",
      "Epoch: 6, train_Loss: 0.370\n",
      "Epoch: 7, train_Loss: 0.334\n",
      "Epoch: 8, train_Loss: 0.305\n",
      "Epoch: 9, train_Loss: 0.279\n",
      "Epoch: 10, train_Loss: 0.254\n",
      "Epoch: 11, train_Loss: 0.232\n",
      "Epoch: 12, train_Loss: 0.211\n",
      "Epoch: 13, train_Loss: 0.193\n",
      "Epoch: 14, train_Loss: 0.176\n",
      "Epoch: 15, train_Loss: 0.161\n",
      "Epoch: 16, train_Loss: 0.146\n",
      "Epoch: 17, train_Loss: 0.133\n",
      "Epoch: 18, train_Loss: 0.121\n",
      "Epoch: 19, train_Loss: 0.111\n",
      "Epoch: 20, train_Loss: 0.101\n",
      "Epoch: 21, train_Loss: 0.091\n",
      "Epoch: 22, train_Loss: 0.083\n",
      "Epoch: 23, train_Loss: 0.076\n",
      "Epoch: 24, train_Loss: 0.069\n",
      "Epoch: 25, train_Loss: 0.062\n",
      "Epoch: 26, train_Loss: 0.056\n",
      "Epoch: 27, train_Loss: 0.051\n",
      "Epoch: 28, train_Loss: 0.047\n",
      "Epoch: 29, train_Loss: 0.043\n",
      "Epoch: 30, train_Loss: 0.039\n",
      "Epoch: 31, train_Loss: 0.035\n",
      "Epoch: 32, train_Loss: 0.032\n",
      "Epoch: 33, train_Loss: 0.029\n",
      "Epoch: 34, train_Loss: 0.027\n",
      "Epoch: 35, train_Loss: 0.024\n",
      "Epoch: 36, train_Loss: 0.022\n",
      "Epoch: 37, train_Loss: 0.020\n",
      "Epoch: 38, train_Loss: 0.018\n",
      "Epoch: 39, train_Loss: 0.017\n",
      "Epoch: 40, train_Loss: 0.015\n",
      "Epoch: 41, train_Loss: 0.014\n",
      "Epoch: 42, train_Loss: 0.013\n",
      "Epoch: 43, train_Loss: 0.011\n",
      "Epoch: 44, train_Loss: 0.010\n",
      "Epoch: 45, train_Loss: 0.009\n",
      "Epoch: 46, train_Loss: 0.008\n"
     ]
    },
    {
     "data": {
      "image/png": "[encoded data removed]",
      "text/plain": [
       "<Figure size 432x288 with 1 Axes>"
      ]
     },
     "metadata": {
      "needs_background": "light"
     },
     "output_type": "display_data"
    }
   ],
   "source": [
    "alpha = 0.0001\n",
    "eta0 = 0.0001\n",
    "N = len(Xcv)\n",
    "epochs = 50\n",
    "\n",
    "w, b = train(calibrated_target, fcv, epochs, alpha, eta0)"
   ]
  },
  {
   "cell_type": "code",
   "execution_count": 12,
   "metadata": {},
   "outputs": [
    {
     "data": {
      "text/plain": [
       "(1.3341411444161075, -4.6243179289105925)"
      ]
     },
     "execution_count": 12,
     "metadata": {},
     "output_type": "execute_result"
    }
   ],
   "source": [
    "w, b"
   ]
  },
  {
   "cell_type": "code",
   "execution_count": 13,
   "metadata": {},
   "outputs": [
    {
     "name": "stdout",
     "output_type": "stream",
     "text": [
      "[3.59581024e-04 5.96159150e-02 1.95469816e-02 3.56131596e-01\n",
      " 8.77207874e-04 5.41889188e-04 2.63292442e-02 6.22307716e-04\n",
      " 8.51091889e-05 2.48221281e-04]\n"
     ]
    }
   ],
   "source": [
    "f_test = decision_function(clf, Xtest)\n",
    "\n",
    "def calibrated_test(ftest, weight, bias):\n",
    "    test_prediction = []\n",
    "    for i in ftest:\n",
    "        z = np.dot(i,weight) + bias\n",
    "        test_prediction.append(sigmoid(z))\n",
    "    return np.array(test_prediction)\n",
    "test_pred = calibrated_test(f_test, w, b)\n",
    "\n",
    "print(test_pred[:10])"
   ]
  }
 ],
 "metadata": {
  "colab": {
   "collapsed_sections": [],
   "name": "8E&F_LR_SVM.ipynb",
   "provenance": []
  },
  "kernelspec": {
   "display_name": "Python 3 (ipykernel)",
   "language": "python",
   "name": "python3"
  },
  "language_info": {
   "codemirror_mode": {
    "name": "ipython",
    "version": 3
   },
   "file_extension": ".py",
   "mimetype": "text/x-python",
   "name": "python",
   "nbconvert_exporter": "python",
   "pygments_lexer": "ipython3",
   "version": "3.9.7"
  }
 },
 "nbformat": 4,
 "nbformat_minor": 1
}
