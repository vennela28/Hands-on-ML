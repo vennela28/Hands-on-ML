{
 "cells": [
  {
   "cell_type": "markdown",
   "metadata": {
    "id": "c0bKCboN4Zxu"
   },
   "source": [
    "## ___8F: Implementing Platt Scaling to find P(Y==1|X)___"
   ]
  },
  {
   "cell_type": "markdown",
   "metadata": {
    "id": "nMn7OEN94Zxw"
   },
   "source": [
    "Check this <a href='https://drive.google.com/open?id=133odBinMOIVb_rh_GQxxsyMRyW-Zts7a'>PDF</a>\n",
    "<img src='https://i.imgur.com/CAMnVnh.png'>\n"
   ]
  },
  {
   "cell_type": "markdown",
   "metadata": {
    "id": "t0HOqVJq4Zx1"
   },
   "source": [
    "\n",
    "> 4. Apply SGD algorithm with ($f_{cv}$, $y_{cv}$) and find the weight $W$ intercept $b$ ```Note: here our data is of one dimensional so we will have a one dimensional weight vector i.e W.shape (1,)``` \n",
    "\n",
    "> Note1: Don't forget to change the values of $y_{cv}$ as mentioned in the above image. you will calculate y+, y- based on data points in train data\n",
    "\n",
    "> Note2: the Sklearn's SGD algorithm doesn't support the real valued outputs, you need to use the code that was done in the `'Logistic Regression with SGD and L2'` Assignment after modifying loss function, and use same parameters that used in that assignment.\n",
    "<img src='https://i.imgur.com/zKYE9Oc.png'>\n",
    "if Y[i] is 1, it will be replaced with y+ value else it will replaced with y- value\n",
    "\n",
    "> 5. For a given data point from $X_{test}$, $P(Y=1|X) = \\frac{1}{1+exp(-(W*f_{test}+ b))}$ where ` `$f_{test}$ ```= decision_function(```$X_{test}$```)```, W and b will be learned as metioned in the above step"
   ]
  },
  {
   "cell_type": "markdown",
   "metadata": {
    "id": "CM3odN1Z4Zx3"
   },
   "source": [
    "\n",
    "If any one wants to try other calibration algorithm istonic regression also please check these tutorials\n",
    "\n",
    "1. http://fa.bianp.net/blog/tag/scikit-learn.html#fn:1\n",
    "\n",
    "2. https://drive.google.com/open?id=1MzmA7QaP58RDzocB0RBmRiWfl7Co_VJ7\n",
    "\n",
    "3. https://drive.google.com/open?id=133odBinMOIVb_rh_GQxxsyMRyW-Zts7a"
   ]
  },
  {
   "cell_type": "code",
   "execution_count": 1,
   "metadata": {},
   "outputs": [],
   "source": [
    "import warnings\n",
    "warnings.filterwarnings(\"ignore\")\n",
    "\n",
    "%matplotlib inline\n",
    "import matplotlib.pyplot as plt\n",
    "\n",
    "import numpy as np\n",
    "import pandas as pd\n",
    "import math\n",
    "\n",
    "from sklearn.model_selection import train_test_split\n",
    "from sklearn.datasets import make_classification\n",
    "from sklearn.model_selection import GridSearchCV\n",
    "from sklearn.svm import SVC"
   ]
  },
  {
   "cell_type": "code",
   "execution_count": 2,
   "metadata": {},
   "outputs": [],
   "source": [
    "X, y = make_classification(n_samples = 5000, n_features = 5, n_redundant = 2, n_classes = 2, \n",
    "                           weights = [0.7], class_sep = 0.7, random_state = 15)"
   ]
  },
  {
   "cell_type": "code",
   "execution_count": 3,
   "metadata": {},
   "outputs": [
    {
     "name": "stdout",
     "output_type": "stream",
     "text": [
      "(4000, 5) (4000,) (250, 5) (250,)\n",
      "(250, 5) (250,) (750, 5) (750,)\n"
     ]
    }
   ],
   "source": [
    "Xtrain, Xtest, ytrain, ytest = train_test_split(X, y, test_size = 0.2, random_state = 0)\n",
    "Xcv, Xtest, ycv, ytest = train_test_split(Xtest, ytest, test_size = 0.25, random_state = 0)\n",
    "\n",
    "print(Xtrain.shape, ytrain.shape, Xtest.shape, ytest.shape)\n",
    "print(Xtest.shape, ytest.shape, Xcv.shape, ycv.shape)"
   ]
  },
  {
   "cell_type": "code",
   "execution_count": 4,
   "metadata": {},
   "outputs": [],
   "source": [
    "clf = SVC(kernel = \"rbf\", random_state = 0, decision_function_shape = 'ovo', C = 100, gamma = 0.001)\n",
    "\n",
    "clf = clf.fit(Xtrain, ytrain)  # set the best parameters"
   ]
  },
  {
   "cell_type": "code",
   "execution_count": 5,
   "metadata": {},
   "outputs": [],
   "source": [
    "sup_vectors = clf.support_vectors_\n",
    "dual_coefs = clf.dual_coef_\n",
    "intercept = clf.intercept_"
   ]
  },
  {
   "cell_type": "code",
   "execution_count": 6,
   "metadata": {},
   "outputs": [],
   "source": [
    "##https://stackoverflow.com/questions/28503932/calculating-decision-function-of-svm-manually\n",
    "\n",
    "def decision_function(xcv, gamma): \n",
    "    predict = []\n",
    "    decision = []\n",
    "    for xq in xcv:\n",
    "        dec_func = 0\n",
    "        for j in range(len(sup_vectors)):\n",
    "            norm2 = np.linalg.norm(sup_vectors[j, :] -xq) ** 2  # calculating the kernel - K(xi, xq)\n",
    "            dec_func = dec_func + dual_coefs[0, j] * np.exp(-gamma * norm2) # calculating the sign\n",
    "        dec_func += intercept\n",
    "        decision.append(dec_func)\n",
    "        if (dec_func) < 0:                \n",
    "            predict.append(0)\n",
    "        else:\n",
    "            predict.append(1)\n",
    "    return np.array(predict), decision      "
   ]
  },
  {
   "cell_type": "code",
   "execution_count": 7,
   "metadata": {},
   "outputs": [],
   "source": [
    "gamma = 0.001\n",
    "fcv, decision = decision_function(Xcv, gamma)"
   ]
  },
  {
   "cell_type": "code",
   "execution_count": 8,
   "metadata": {},
   "outputs": [],
   "source": [
    "def sigmoid(W, X, b):\n",
    "    return 1 / (1 + np.exp(-(np.dot(X, W.T) + b))) #return 1/1+e(-x)"
   ]
  },
  {
   "cell_type": "code",
   "execution_count": 9,
   "metadata": {},
   "outputs": [],
   "source": [
    "# cost function of logistic regression\n",
    "\n",
    "def logloss(W, X, y, b, reg = 0):\n",
    "    val = sigmoid(W, X, b)\n",
    "    return -np.mean(y * np.log10(val) + (1 - y) * np.log10(1 - val)) + reg  "
   ]
  },
  {
   "cell_type": "code",
   "execution_count": 10,
   "metadata": {},
   "outputs": [],
   "source": [
    "count_one = list(ycv).count(1)\n",
    "count_zero = list(ycv).count(0)      # calculating y+ and y-\n",
    "y_plus = (count_one + 1) / (count_one + 2)\n",
    "y_minus = 1 / (count_zero + 2)"
   ]
  },
  {
   "cell_type": "code",
   "execution_count": 11,
   "metadata": {},
   "outputs": [],
   "source": [
    "# update function convert ycv into y+, y-\n",
    "\n",
    "def update(ycv, y_plus, y_minus):\n",
    "    u_cv=[]\n",
    "    for point in ycv:    \n",
    "        if point==1:\n",
    "                u_cv.append(y_plus)\n",
    "        else:\n",
    "              u_cv.append(y_minus)\n",
    "    return(np.array(u_cv))          "
   ]
  },
  {
   "cell_type": "code",
   "execution_count": 12,
   "metadata": {},
   "outputs": [],
   "source": [
    "ycv = update(ycv, y_plus, y_minus)"
   ]
  },
  {
   "cell_type": "code",
   "execution_count": 13,
   "metadata": {},
   "outputs": [
    {
     "name": "stdout",
     "output_type": "stream",
     "text": [
      "750\n",
      "750\n"
     ]
    }
   ],
   "source": [
    "W = np.zeros_like(fcv[0])        # initial weight vector\n",
    "b = 0                            # initial intercept value\n",
    "eta0  = 0.0001                   # learning rate\n",
    "alpha = 0.0001                   # lambda value\n",
    "N = len(fcv)\n",
    "print(len(ycv))\n",
    "print(N)"
   ]
  },
  {
   "cell_type": "code",
   "execution_count": 14,
   "metadata": {},
   "outputs": [
    {
     "name": "stdout",
     "output_type": "stream",
     "text": [
      "Initial log loss: 0.3010299956639812\n"
     ]
    }
   ],
   "source": [
    "log_loss = logloss(W, fcv, ycv, b)\n",
    "print(\"Initial log loss:\", log_loss)"
   ]
  },
  {
   "cell_type": "code",
   "execution_count": 15,
   "metadata": {},
   "outputs": [],
   "source": [
    "def sgd_algo(fcv, ycv, eta0, alpha, W, b, epoch):\n",
    "    t = 0.001 # tolerence\n",
    "    test_loss = []\n",
    "    epoc = []\n",
    "    for i in range(0, epoch): \n",
    "        epoc.append(i)\n",
    "        for j in range(0, N):\n",
    "            #regularization term\n",
    "            reg = alpha / 2 * np.dot(W.T, W) \n",
    "            # updating weight vector\n",
    "            W = ((1 - eta0 * (alpha / N)) * W) + ((eta0 * fcv[j]) * (ycv[j] - sigmoid(W, fcv[j], b))) \n",
    "            # updating intercept \n",
    "            b = b + (eta0 * (ycv[j] - sigmoid(W, fcv[j], b)))          \n",
    "        test = logloss(W, fcv, ycv, b, reg)\n",
    "        test_loss.append(test)\n",
    "        if i <= t :\n",
    "            continue \n",
    "            # block to check convergence \n",
    "            if abs(test_loss[i] - test_loss[i - 1]) > t: \n",
    "                continue\n",
    "            else:\n",
    "                break \n",
    "    return W, b, epoc, test_loss"
   ]
  },
  {
   "cell_type": "code",
   "execution_count": 16,
   "metadata": {},
   "outputs": [
    {
     "name": "stdout",
     "output_type": "stream",
     "text": [
      "optimal weight: 0.4992649077079374\n",
      "optimal intercept: -0.4610214378783747\n"
     ]
    }
   ],
   "source": [
    "epoch = 50\n",
    "weight, intercept, epo, loss = sgd_algo(fcv, ycv, eta0, alpha, W, b, epoch)\n",
    "print(\"optimal weight:\", weight)\n",
    "print(\"optimal intercept:\", intercept)"
   ]
  },
  {
   "cell_type": "code",
   "execution_count": 17,
   "metadata": {},
   "outputs": [
    {
     "data": {
      "text/plain": [
       "<matplotlib.legend.Legend at 0x2b7d4e9da30>"
      ]
     },
     "execution_count": 17,
     "metadata": {},
     "output_type": "execute_result"
    },
    {
     "data": {
      "image/png": "[encoded data removed]",
      "text/plain": [
       "<Figure size 576x432 with 1 Axes>"
      ]
     },
     "metadata": {
      "needs_background": "light"
     },
     "output_type": "display_data"
    }
   ],
   "source": [
    "plt.figure(figsize = (8, 6))\n",
    "plt.grid()\n",
    "plt.plot(epo, loss, label = 'test log loss')\n",
    "plt.scatter(epo, loss)\n",
    "plt.title('log loss curve of logistic regression')\n",
    "plt.xlabel('epoch number')\n",
    "plt.ylabel(\"log loss\")\n",
    "plt.legend()"
   ]
  },
  {
   "cell_type": "code",
   "execution_count": 21,
   "metadata": {},
   "outputs": [
    {
     "name": "stdout",
     "output_type": "stream",
     "text": [
      "(array([0, 0, 0, 0, 0, 0, 0, 0, 0, 0, 0, 0, 0, 0, 0, 0, 0, 0, 0, 0, 0, 0,\n",
      "       0, 0, 0, 0, 0, 0, 0, 0, 0, 0, 0, 0, 0, 0, 0, 0, 0, 0, 0, 0, 0, 0,\n",
      "       0, 0, 0, 0, 0, 0, 0, 0, 0, 0, 0, 0, 0, 0, 0, 0, 0, 0, 0, 0, 0, 0,\n",
      "       0, 0, 0, 0, 0, 0, 0, 0, 0, 0, 0, 0, 0, 0, 0, 0, 0, 0, 0, 0, 0, 0,\n",
      "       0, 0, 0, 0, 0, 0, 0, 0, 0, 0, 0, 0, 0, 0, 0, 0, 0, 0, 0, 0, 0, 0,\n",
      "       0, 0, 0, 0, 0, 0, 0, 0, 0, 0, 0, 0, 0, 0, 0, 0, 0, 0, 0, 0, 0, 0,\n",
      "       0, 0, 0, 0, 0, 0, 0, 0, 0, 0, 0, 0, 0, 0, 0, 0, 0, 0, 0, 0, 0, 0,\n",
      "       0, 0, 0, 0, 0, 0, 0, 0, 0, 0, 0, 0, 0, 0, 0, 0, 0, 0, 0, 0, 0, 0,\n",
      "       0, 0, 0, 0, 0, 0, 0, 0, 0, 0, 0, 0, 0, 0, 0, 0, 0, 0, 0, 0, 0, 0,\n",
      "       0, 0, 0, 0, 0, 0, 0, 0, 0, 0, 0, 0, 0, 0, 0, 0, 0, 0, 0, 0, 0, 0,\n",
      "       0, 0, 0, 0, 0, 0, 0, 0, 0, 0, 0, 0, 0, 0, 0, 0, 0, 0, 0, 0, 0, 0,\n",
      "       0, 0, 0, 0, 0, 0, 0, 0]), [-9.802017794956017, -5.92548225843328, -6.7925779402120865, -4.301837126779435, -9.13318120896196, -9.494475830151446, -6.5641156791456465, -9.390698485363005, -10.882322575714172, -10.07989717446121, -9.517981857749264, -8.416333068942494, -10.216745124196168, -11.31767617295853, -9.854685593551595, -6.783984947663231, -10.75449674971894, -9.445541722691745, -10.054323959844938, -6.234721969056923, -8.807716146931329, -10.140413132000534, -9.49459966665019, -8.555496500052458, -7.150512146337323, -10.018409636207453, -10.502505360307724, -8.747378779670742, -11.32131315683438, -7.320153604584877, -6.682251372722578, -10.685011248480437, -5.6705276316912885, -9.183830459048638, -11.912414726832298, -9.95635141457875, -9.575138422154867, -8.347681702731196, -9.938535013205994, -5.823291690902852, -8.221346430588186, -9.730717129039947, -9.175536468829778, -9.797696129175195, -10.25987545666297, -11.862146170353343, -5.314817788160357, -6.865559338678312, -10.628441203992383, -10.313994620645234, -8.007244805015818, -5.835811621335895, -4.914739873987489, -8.663097764149542, -9.441875358264058, -4.851223249214928, -9.097027228005347, -10.278009528067317, -8.914088110452512, -5.691976050755332, -6.951554331180463, -11.005458158337193, -8.76367743587551, -6.9490876341656245, -10.074082414131768, -10.068964464830872, -7.136549523452277, -6.071717450702482, -8.360515158473733, -6.67896607174423, -10.348903929053863, -8.07249463278619, -9.953956474279467, -9.517671124538596, -5.713605311220294, -9.633455564129664, -10.389911862694804, -6.8793447161340024, -9.813019200393372, -8.986569756844064, -8.113732076259227, -10.244267599889428, -9.521501550044308, -10.091801212680098, -5.493026029705038, -6.2069720678441085, -9.827941897019913, -5.19067934880741, -9.415886541101644, -9.55677865959541, -5.854262058583049, -10.423177546150756, -7.137399695823421, -5.813694690531579, -9.190705990655944, -7.210715336717118, -10.120010807797145, -12.846575109011726, -11.73053040561692, -10.622106128791062, -10.928633310382212, -8.698947650197598, -6.515416310459417, -10.484823959235657, -8.909909264932212, -10.31053020920625, -9.06789323361703, -10.49236407333021, -5.737524517357275, -5.811332560288679, -9.509745527059296, -8.357985480234392, -5.779454917218405, -6.344291420136076, -5.747089698879509, -5.668918930488334, -9.132827347867705, -5.0633398497071225, -10.025453546851965, -5.865396695429754, -5.53614459576865, -4.910285333915982, -9.365520203067193, -8.15568306306787, -5.782915361642256, -6.288086183634124, -10.894164843477528, -10.716914594866894, -10.00635601768039, -5.499943117482803, -10.401348740859065, -10.28492934058926, -7.960758188409076, -9.608443770729908, -9.44199446232395, -9.113738794015676, -5.808201034532547, -10.414023686861002, -10.219971616289572, -10.616275622896426, -9.493885052255452, -9.929697962171703, -9.56888778894306, -9.649338495267502, -10.158382152638852, -7.266949892483399, -6.016923480626278, -10.477534232764102, -9.129707845258894, -9.43036169082602, -5.3515059588657605, -10.138968680558849, -9.522589061880113, -9.048425639637246, -10.000036349412968, -4.82279146508036, -5.236302271352289, -10.17157393877203, -6.2123279367558295, -10.598079847308599, -5.467284922753694, -10.548209057857266, -8.102928375471224, -5.016854806234764, -8.722009366726512, -10.33957446038747, -8.397263527627972, -9.553426999770169, -11.20912127326507, -7.786957211251564, -9.593616997889471, -11.138003660772087, -5.3839984796729, -10.029587057451765, -6.721667757338937, -6.281232297697929, -11.218575794714555, -5.842444408054308, -10.287092320044197, -4.498316201122154, -5.466391400900764, -10.283424965426564, -9.576981630347676, -9.684781896053453, -6.4367740503731765, -9.631448026068187, -6.318596598403064, -9.875083335478125, -5.477498410614916, -10.105695555522532, -8.533327627703104, -4.343046897569766, -9.30807433944088, -5.511186256960317, -8.739472613331786, -6.052110175295655, -7.683377795464298, -5.553465287079095, -6.010260715411067, -10.173503341072704, -5.600287245116948, -5.989692043279763, -11.169165655239143, -7.749666553646551, -8.990780126198077, -8.267309879965127, -9.130440221321836, -11.001260035568196, -9.091041003732487, -8.839187553655949, -11.626249568239446, -10.225523414660843, -6.243148532446798, -9.554197475515965, -5.383734550727257, -9.790798565958129, -6.83497099023447, -10.465132440004014, -5.656192366807576, -10.191084787119452, -4.768434612588112, -7.931648258311756, -8.078696061805987, -10.069606656335838, -6.220748152000456, -8.412139338021804, -9.53869290991844, -9.564688660466588, -7.479674449262549, -5.705999951236154, -5.909816990047761, -5.412681555903279, -8.917417175342623, -10.495643939701084, -7.996036097960217, -7.930244460747207, -9.795042478510384, -10.690407191800007, -9.53408742503217, -6.045263369497422, -5.48004128829746, -7.573467699133377, -10.999558264444987, -6.961559204837715, -9.124155256823274, -10.164904425292422, -7.395403297650165, -9.079835099604766, -9.458314255316738, -10.42717098907457])\n"
     ]
    }
   ],
   "source": [
    "ftest = decision_function(Xtest, gamma)\n",
    "print(ftest)"
   ]
  },
  {
   "cell_type": "code",
   "execution_count": 22,
   "metadata": {},
   "outputs": [],
   "source": [
    "# to calculate probability P(Y = 1 | X)\n",
    "\n",
    "def probability(ftest, W, b):\n",
    "    p = 1 / (1 + np.exp(W * ftest + b)) \n",
    "    return p"
   ]
  },
  {
   "cell_type": "code",
   "execution_count": 26,
   "metadata": {},
   "outputs": [
    {
     "ename": "TypeError",
     "evalue": "can't multiply sequence by non-int of type 'numpy.float64'",
     "output_type": "error",
     "traceback": [
      "\u001b[1;31m---------------------------------------------------------------------------\u001b[0m",
      "\u001b[1;31mTypeError\u001b[0m                                 Traceback (most recent call last)",
      "\u001b[1;32m~\\AppData\\Local\\Temp/ipykernel_10984/872800891.py\u001b[0m in \u001b[0;36m<module>\u001b[1;34m\u001b[0m\n\u001b[1;32m----> 1\u001b[1;33m \u001b[0mprob\u001b[0m \u001b[1;33m=\u001b[0m \u001b[0mprobability\u001b[0m\u001b[1;33m(\u001b[0m\u001b[0mftest\u001b[0m\u001b[1;33m,\u001b[0m \u001b[0mweight\u001b[0m\u001b[1;33m,\u001b[0m \u001b[0mintercept\u001b[0m\u001b[1;33m)\u001b[0m\u001b[1;33m\u001b[0m\u001b[1;33m\u001b[0m\u001b[0m\n\u001b[0m\u001b[0;32m      2\u001b[0m \u001b[0mprint\u001b[0m\u001b[1;33m(\u001b[0m\u001b[0mprob\u001b[0m\u001b[1;33m[\u001b[0m\u001b[1;33m-\u001b[0m\u001b[1;36m10\u001b[0m\u001b[1;33m:\u001b[0m\u001b[1;33m]\u001b[0m\u001b[1;33m)\u001b[0m\u001b[1;33m\u001b[0m\u001b[1;33m\u001b[0m\u001b[0m\n",
      "\u001b[1;32m~\\AppData\\Local\\Temp/ipykernel_10984/3463442291.py\u001b[0m in \u001b[0;36mprobability\u001b[1;34m(ftest, W, b)\u001b[0m\n\u001b[0;32m      2\u001b[0m \u001b[1;33m\u001b[0m\u001b[0m\n\u001b[0;32m      3\u001b[0m \u001b[1;32mdef\u001b[0m \u001b[0mprobability\u001b[0m\u001b[1;33m(\u001b[0m\u001b[0mftest\u001b[0m\u001b[1;33m,\u001b[0m \u001b[0mW\u001b[0m\u001b[1;33m,\u001b[0m \u001b[0mb\u001b[0m\u001b[1;33m)\u001b[0m\u001b[1;33m:\u001b[0m\u001b[1;33m\u001b[0m\u001b[1;33m\u001b[0m\u001b[0m\n\u001b[1;32m----> 4\u001b[1;33m     \u001b[0mp\u001b[0m \u001b[1;33m=\u001b[0m \u001b[1;36m1\u001b[0m \u001b[1;33m/\u001b[0m \u001b[1;33m(\u001b[0m\u001b[1;36m1\u001b[0m \u001b[1;33m+\u001b[0m \u001b[0mnp\u001b[0m\u001b[1;33m.\u001b[0m\u001b[0mexp\u001b[0m\u001b[1;33m(\u001b[0m\u001b[0mW\u001b[0m \u001b[1;33m*\u001b[0m \u001b[0mftest\u001b[0m \u001b[1;33m+\u001b[0m \u001b[0mb\u001b[0m\u001b[1;33m)\u001b[0m\u001b[1;33m)\u001b[0m\u001b[1;33m\u001b[0m\u001b[1;33m\u001b[0m\u001b[0m\n\u001b[0m\u001b[0;32m      5\u001b[0m     \u001b[1;32mreturn\u001b[0m \u001b[0mp\u001b[0m\u001b[1;33m\u001b[0m\u001b[1;33m\u001b[0m\u001b[0m\n",
      "\u001b[1;31mTypeError\u001b[0m: can't multiply sequence by non-int of type 'numpy.float64'"
     ]
    }
   ],
   "source": [
    "prob = probability(ftest, weight, intercept)\n",
    "print(prob[-10:])"
   ]
  },
  {
   "cell_type": "code",
   "execution_count": null,
   "metadata": {},
   "outputs": [],
   "source": []
  }
 ],
 "metadata": {
  "colab": {
   "collapsed_sections": [],
   "name": "8E&F_LR_SVM.ipynb",
   "provenance": []
  },
  "kernelspec": {
   "display_name": "Python 3 (ipykernel)",
   "language": "python",
   "name": "python3"
  },
  "language_info": {
   "codemirror_mode": {
    "name": "ipython",
    "version": 3
   },
   "file_extension": ".py",
   "mimetype": "text/x-python",
   "name": "python",
   "nbconvert_exporter": "python",
   "pygments_lexer": "ipython3",
   "version": "3.9.7"
  }
 },
 "nbformat": 4,
 "nbformat_minor": 1
}
