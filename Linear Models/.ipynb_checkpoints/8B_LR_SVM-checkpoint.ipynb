{
 "cells": [
  {
   "cell_type": "code",
   "execution_count": 1,
   "metadata": {
    "colab": {},
    "colab_type": "code",
    "id": "8ArWK463kbhL",
    "outputId": "ad250ffe-29ed-4dc9-bf30-fe91ab10656c"
   },
   "outputs": [
    {
     "data": {
      "text/html": [
       "        <script type=\"text/javascript\">\n",
       "        window.PlotlyConfig = {MathJaxConfig: 'local'};\n",
       "        if (window.MathJax) {MathJax.Hub.Config({SVG: {font: \"STIX-Web\"}});}\n",
       "        if (typeof require !== 'undefined') {\n",
       "        require.undef(\"plotly\");\n",
       "        requirejs.config({\n",
       "            paths: {\n",
       "                'plotly': ['https://cdn.plot.ly/plotly-2.8.3.min']\n",
       "            }\n",
       "        });\n",
       "        require(['plotly'], function(Plotly) {\n",
       "            window._Plotly = Plotly;\n",
       "        });\n",
       "        }\n",
       "        </script>\n",
       "        "
      ]
     },
     "metadata": {},
     "output_type": "display_data"
    }
   ],
   "source": [
    "import numpy as np\n",
    "import pandas as pd\n",
    "\n",
    "import plotly\n",
    "import plotly.figure_factory as ff\n",
    "import plotly.graph_objs as go\n",
    "# https://www.tutorialspoint.com/plotly/plotly_plotting_inline_with_jupyter_notebook.htm\n",
    "from plotly.offline import download_plotlyjs, init_notebook_mode, plot, iplot\n",
    "init_notebook_mode(connected=True)\n",
    "\n",
    "from sklearn.linear_model import LogisticRegression\n",
    "from sklearn.linear_model import SGDClassifier\n",
    "\n",
    "from sklearn.preprocessing import StandardScaler\n",
    "from sklearn.preprocessing import MinMaxScaler"
   ]
  },
  {
   "cell_type": "code",
   "execution_count": 2,
   "metadata": {
    "colab": {},
    "colab_type": "code",
    "id": "5mldzJdakbhS"
   },
   "outputs": [],
   "source": [
    "data = pd.read_csv('task_b.csv')\n",
    "data = data.iloc[:,1:]"
   ]
  },
  {
   "cell_type": "code",
   "execution_count": 3,
   "metadata": {
    "colab": {},
    "colab_type": "code",
    "id": "rsCrC2wckbhV",
    "outputId": "fff03fba-880e-4875-9bba-f05797f08d1d",
    "scrolled": true
   },
   "outputs": [
    {
     "data": {
      "text/html": [
       "<div>\n",
       "<style scoped>\n",
       "    .dataframe tbody tr th:only-of-type {\n",
       "        vertical-align: middle;\n",
       "    }\n",
       "\n",
       "    .dataframe tbody tr th {\n",
       "        vertical-align: top;\n",
       "    }\n",
       "\n",
       "    .dataframe thead th {\n",
       "        text-align: right;\n",
       "    }\n",
       "</style>\n",
       "<table border=\"1\" class=\"dataframe\">\n",
       "  <thead>\n",
       "    <tr style=\"text-align: right;\">\n",
       "      <th></th>\n",
       "      <th>f1</th>\n",
       "      <th>f2</th>\n",
       "      <th>f3</th>\n",
       "      <th>y</th>\n",
       "    </tr>\n",
       "  </thead>\n",
       "  <tbody>\n",
       "    <tr>\n",
       "      <th>0</th>\n",
       "      <td>-195.871045</td>\n",
       "      <td>-14843.084171</td>\n",
       "      <td>5.532140</td>\n",
       "      <td>1.0</td>\n",
       "    </tr>\n",
       "    <tr>\n",
       "      <th>1</th>\n",
       "      <td>-1217.183964</td>\n",
       "      <td>-4068.124621</td>\n",
       "      <td>4.416082</td>\n",
       "      <td>1.0</td>\n",
       "    </tr>\n",
       "    <tr>\n",
       "      <th>2</th>\n",
       "      <td>9.138451</td>\n",
       "      <td>4413.412028</td>\n",
       "      <td>0.425317</td>\n",
       "      <td>0.0</td>\n",
       "    </tr>\n",
       "    <tr>\n",
       "      <th>3</th>\n",
       "      <td>363.824242</td>\n",
       "      <td>15474.760647</td>\n",
       "      <td>1.094119</td>\n",
       "      <td>0.0</td>\n",
       "    </tr>\n",
       "    <tr>\n",
       "      <th>4</th>\n",
       "      <td>-768.812047</td>\n",
       "      <td>-7963.932192</td>\n",
       "      <td>1.870536</td>\n",
       "      <td>0.0</td>\n",
       "    </tr>\n",
       "  </tbody>\n",
       "</table>\n",
       "</div>"
      ],
      "text/plain": [
       "            f1            f2        f3    y\n",
       "0  -195.871045 -14843.084171  5.532140  1.0\n",
       "1 -1217.183964  -4068.124621  4.416082  1.0\n",
       "2     9.138451   4413.412028  0.425317  0.0\n",
       "3   363.824242  15474.760647  1.094119  0.0\n",
       "4  -768.812047  -7963.932192  1.870536  0.0"
      ]
     },
     "execution_count": 3,
     "metadata": {},
     "output_type": "execute_result"
    }
   ],
   "source": [
    "data.head()"
   ]
  },
  {
   "cell_type": "code",
   "execution_count": 4,
   "metadata": {
    "colab": {},
    "colab_type": "code",
    "id": "FI18joJ_kbhZ",
    "outputId": "22e420e9-4295-4307-a60f-1a528d07c81d"
   },
   "outputs": [
    {
     "data": {
      "text/plain": [
       "f1    0.067172\n",
       "f2   -0.017944\n",
       "f3    0.839060\n",
       "y     1.000000\n",
       "Name: y, dtype: float64"
      ]
     },
     "execution_count": 4,
     "metadata": {},
     "output_type": "execute_result"
    }
   ],
   "source": [
    "data.corr()['y']"
   ]
  },
  {
   "cell_type": "code",
   "execution_count": 5,
   "metadata": {
    "colab": {},
    "colab_type": "code",
    "id": "u40oCVMikbhc",
    "outputId": "db6dce7e-7469-4aa5-8af3-1c08cd0f0081",
    "scrolled": true
   },
   "outputs": [
    {
     "data": {
      "text/plain": [
       "f1      488.195035\n",
       "f2    10403.417325\n",
       "f3        2.926662\n",
       "y         0.501255\n",
       "dtype: float64"
      ]
     },
     "execution_count": 5,
     "metadata": {},
     "output_type": "execute_result"
    }
   ],
   "source": [
    "data.std()"
   ]
  },
  {
   "cell_type": "code",
   "execution_count": 6,
   "metadata": {
    "colab": {},
    "colab_type": "code",
    "id": "yQIbNaHskbhe",
    "outputId": "f2298482-b1d5-47e0-f15c-31f4a753a9ac"
   },
   "outputs": [
    {
     "name": "stdout",
     "output_type": "stream",
     "text": [
      "(200, 3)\n",
      "(200,)\n"
     ]
    }
   ],
   "source": [
    "X = data[['f1','f2','f3']].values\n",
    "Y = data['y'].values\n",
    "print(X.shape)\n",
    "print(Y.shape)"
   ]
  },
  {
   "cell_type": "markdown",
   "metadata": {
    "colab_type": "text",
    "id": "aUxp9-qEkbhh"
   },
   "source": [
    "# What if the features are with different variance \n",
    "\n",
    "As part of this task you will observe how linear models work in case of data having features with different variance from the output of the above cells you can observe that var(F2) >> var(F1) >> var(F3)\n",
    "\n",
    "- <b>Task1</b>:\n",
    "    1. Apply Logistic regression (SGDClassifier with logloss) on 'data' and check the feature importance\n",
    "    2. Apply SVM (SGDClassifier with hinge) on 'data' and check the feature importance\n",
    "\n",
    "\n",
    "- <b>Task2</b>:\n",
    "    1. Apply Logistic regression (SGDClassifier with logloss) on 'data' after standardization \n",
    "       i.e standardization(data, column wise) : (column-mean(column))/std(column) and check the feature importance\n",
    "    2. Apply SVM (SGDClassifier with hinge) on 'data' after standardization \n",
    "       i.e standardization(data, column wise) : (column-mean(column))/std(column) and check the feature importance"
   ]
  },
  {
   "cell_type": "markdown",
   "metadata": {},
   "source": [
    "## Task 1"
   ]
  },
  {
   "cell_type": "code",
   "execution_count": 7,
   "metadata": {},
   "outputs": [
    {
     "name": "stdout",
     "output_type": "stream",
     "text": [
      "Important features of Logistic Regression [(10189.669879633142, 'f3'), (7878.773036472703, 'f1'), (-4945.734782348944, 'f2')]\n",
      "Important features of SVM [(11027.993538822657, 'f3'), (1802.1097429890663, 'f1'), (-4054.4129056170264, 'f2')]\n"
     ]
    }
   ],
   "source": [
    "features = ['f1','f2','f3']\n",
    "\n",
    "clf_lr = SGDClassifier(loss = 'log')\n",
    "clf_svm = SGDClassifier(loss = 'hinge')\n",
    "\n",
    "clf_lr.fit(X, Y)\n",
    "clf_svm.fit(X, Y)\n",
    "\n",
    "lr_coef = clf_lr.coef_[0]\n",
    "svm_coef = clf_svm.coef_[0]\n",
    "\n",
    "lr_important_features = zip(lr_coef, features)\n",
    "svm_important_features = zip(svm_coef, features)\n",
    "\n",
    "print('Important features of Logistic Regression', sorted(list(lr_important_features), reverse = True))\n",
    "print('Important features of SVM', sorted(list(svm_important_features), reverse = True))"
   ]
  },
  {
   "cell_type": "markdown",
   "metadata": {},
   "source": [
    "#### Observations"
   ]
  },
  {
   "cell_type": "markdown",
   "metadata": {},
   "source": [
    "- The importance of features is related to correlation between them and target variable. Correlation between feature `f3` and the target variable is higher. Hence, `f3` has greater importance in both SVM & Logistic Regression.\n",
    "\n",
    "- When we are using SGDClassifier and since it is probabilistic in nature, the behavior changes over multiple runs giving different feature importances each time.\n",
    "\n",
    "- f3 > f1 > f2 is the order of feature importances. \n",
    "\n",
    "- Since the variance of `f2` is higher, it has lower correlation to target. So, `f2` gets the least feature importance."
   ]
  },
  {
   "cell_type": "markdown",
   "metadata": {},
   "source": [
    "## Task 2 "
   ]
  },
  {
   "cell_type": "code",
   "execution_count": 8,
   "metadata": {},
   "outputs": [
    {
     "name": "stdout",
     "output_type": "stream",
     "text": [
      "Important features of Logistic Regression [(8.724431271363455, 'f3'), (0.10183976899392214, 'f2'), (-1.2769677830803743, 'f1')]\n",
      "Important features of SVM [(22.77132186214848, 'f3'), (4.049457563006254, 'f2'), (-1.1922997268697, 'f1')]\n"
     ]
    }
   ],
   "source": [
    "standardize = StandardScaler()\n",
    "x_std = standardize.fit_transform(X, Y)\n",
    "\n",
    "features = ['f1','f2','f3']\n",
    "\n",
    "clf_lr = SGDClassifier(loss = 'log')\n",
    "clf_svm = SGDClassifier(loss = 'hinge')\n",
    "\n",
    "clf_lr.fit(x_std, Y)\n",
    "clf_svm.fit(x_std, Y)\n",
    "\n",
    "lr_coef = clf_lr.coef_[0]\n",
    "svm_coef = clf_svm.coef_[0]\n",
    "\n",
    "lr_important_features = zip(lr_coef, features)\n",
    "svm_important_features = zip(svm_coef, features)\n",
    "\n",
    "print('Important features of Logistic Regression', sorted(list(lr_important_features), reverse = True))\n",
    "print('Important features of SVM', sorted(list(svm_important_features), reverse = True))"
   ]
  },
  {
   "cell_type": "markdown",
   "metadata": {},
   "source": [
    "#### Observations"
   ]
  },
  {
   "cell_type": "markdown",
   "metadata": {},
   "source": [
    "- After standardization, the effect of variance is nullified.\n",
    "\n",
    "- The importance of features is related to correlation between them and target variable. Correlation between feature `f3` and the target variable is higher. Hence, `f3` has greater importance in both SVM & Logistic Regression.\n",
    "\n",
    "- f3 > f2 > f1 is the new order of feature importances.\n",
    "\n",
    "- After standardization, the most important feature is `f3`."
   ]
  }
 ],
 "metadata": {
  "colab": {
   "name": "8B_LR_SVM.ipynb",
   "provenance": []
  },
  "kernelspec": {
   "display_name": "Python 3 (ipykernel)",
   "language": "python",
   "name": "python3"
  },
  "language_info": {
   "codemirror_mode": {
    "name": "ipython",
    "version": 3
   },
   "file_extension": ".py",
   "mimetype": "text/x-python",
   "name": "python",
   "nbconvert_exporter": "python",
   "pygments_lexer": "ipython3",
   "version": "3.9.7"
  }
 },
 "nbformat": 4,
 "nbformat_minor": 1
}
