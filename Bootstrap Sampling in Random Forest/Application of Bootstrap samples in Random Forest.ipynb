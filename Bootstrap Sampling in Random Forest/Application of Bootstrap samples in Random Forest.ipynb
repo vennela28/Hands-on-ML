{
 "cells": [
  {
   "cell_type": "markdown",
   "metadata": {
    "colab_type": "text",
    "id": "3sNKZq4XrXQh"
   },
   "source": [
    "# *Application of Bootstrap samples in Random Forest*"
   ]
  },
  {
   "cell_type": "markdown",
   "metadata": {
    "colab_type": "text",
    "id": "RAHap1Z3FZC-"
   },
   "source": [
    "<b>There will be some functions that start with the word \"grader\" ex: grader_samples(), grader_30().. etc, you should not change those function definition.\n",
    "\n",
    "Every Grader function has to return True.</b>"
   ]
  },
  {
   "cell_type": "markdown",
   "metadata": {
    "colab_type": "text",
    "id": "cuxBq_bvrwh2"
   },
   "source": [
    "### Importing relevant packages"
   ]
  },
  {
   "cell_type": "code",
   "execution_count": 1,
   "metadata": {},
   "outputs": [
    {
     "name": "stdout",
     "output_type": "stream",
     "text": [
      "Requirement already satisfied: numpy==1.21.2 in c:\\users\\venne\\anaconda3\\lib\\site-packages (1.21.2)\n"
     ]
    }
   ],
   "source": [
    "!pip install numpy==1.21.2"
   ]
  },
  {
   "cell_type": "code",
   "execution_count": 2,
   "metadata": {
    "colab": {},
    "colab_type": "code",
    "id": "m6ag91ijrQOs"
   },
   "outputs": [],
   "source": [
    "import warnings\n",
    "warnings.filterwarnings(\"ignore\")\n",
    "\n",
    "import numpy as np # import numpy for numerical computation\n",
    "from sklearn.datasets import load_boston # Using sklearn's boston dataset\n",
    "from sklearn.metrics import mean_squared_error # import mean_squared_error metric"
   ]
  },
  {
   "cell_type": "code",
   "execution_count": 3,
   "metadata": {
    "colab": {},
    "colab_type": "code",
    "id": "CcHOsONTt1K_"
   },
   "outputs": [],
   "source": [
    "boston = load_boston()\n",
    "x=boston.data #independent variables\n",
    "y=boston.target #target variable"
   ]
  },
  {
   "cell_type": "code",
   "execution_count": 4,
   "metadata": {
    "colab": {
     "base_uri": "https://localhost:8080/",
     "height": 34
    },
    "colab_type": "code",
    "id": "pc1htEFYuLRj",
    "outputId": "f5b60712-98b3-4cdc-b629-3546c1e3859c"
   },
   "outputs": [
    {
     "data": {
      "text/plain": [
       "(506, 13)"
      ]
     },
     "execution_count": 4,
     "metadata": {},
     "output_type": "execute_result"
    }
   ],
   "source": [
    "x.shape"
   ]
  },
  {
   "cell_type": "code",
   "execution_count": 5,
   "metadata": {
    "colab": {
     "base_uri": "https://localhost:8080/",
     "height": 269
    },
    "colab_type": "code",
    "id": "kQle3T_wuOa3",
    "outputId": "521c7bdd-5316-48d5-c534-b61d170d2c28"
   },
   "outputs": [
    {
     "data": {
      "text/plain": [
       "array([[6.3200e-03, 1.8000e+01, 2.3100e+00, 0.0000e+00, 5.3800e-01,\n",
       "        6.5750e+00, 6.5200e+01, 4.0900e+00, 1.0000e+00, 2.9600e+02,\n",
       "        1.5300e+01, 3.9690e+02, 4.9800e+00],\n",
       "       [2.7310e-02, 0.0000e+00, 7.0700e+00, 0.0000e+00, 4.6900e-01,\n",
       "        6.4210e+00, 7.8900e+01, 4.9671e+00, 2.0000e+00, 2.4200e+02,\n",
       "        1.7800e+01, 3.9690e+02, 9.1400e+00],\n",
       "       [2.7290e-02, 0.0000e+00, 7.0700e+00, 0.0000e+00, 4.6900e-01,\n",
       "        7.1850e+00, 6.1100e+01, 4.9671e+00, 2.0000e+00, 2.4200e+02,\n",
       "        1.7800e+01, 3.9283e+02, 4.0300e+00],\n",
       "       [3.2370e-02, 0.0000e+00, 2.1800e+00, 0.0000e+00, 4.5800e-01,\n",
       "        6.9980e+00, 4.5800e+01, 6.0622e+00, 3.0000e+00, 2.2200e+02,\n",
       "        1.8700e+01, 3.9463e+02, 2.9400e+00],\n",
       "       [6.9050e-02, 0.0000e+00, 2.1800e+00, 0.0000e+00, 4.5800e-01,\n",
       "        7.1470e+00, 5.4200e+01, 6.0622e+00, 3.0000e+00, 2.2200e+02,\n",
       "        1.8700e+01, 3.9690e+02, 5.3300e+00]])"
      ]
     },
     "execution_count": 5,
     "metadata": {},
     "output_type": "execute_result"
    }
   ],
   "source": [
    "x[:5]"
   ]
  },
  {
   "cell_type": "markdown",
   "metadata": {
    "colab_type": "text",
    "id": "AEa_HqRZloH4"
   },
   "source": [
    "## *Task 1*"
   ]
  },
  {
   "cell_type": "markdown",
   "metadata": {
    "colab_type": "text",
    "id": "YQ5q8IxHNRk3"
   },
   "source": [
    "### Step - 1"
   ]
  },
  {
   "cell_type": "markdown",
   "metadata": {
    "colab_type": "text",
    "id": "GJCFCaOzl7Mr"
   },
   "source": [
    "##### Creating samples\n",
    "- Randomly create 30 samples from the whole boston data points.\n",
    "\n",
    "- Creating each sample: Consider any random 303(60% of 506) data points from whole data set and then replicate any 203 points from the sampled points.\n",
    "\n",
    "- For better understanding of this procedure lets check this examples, assume we have 10 data points [1,2,3,4,5,6,7,8,9,10], first we take 6 data points randomly , consider we have selected [4, 5, 7, 8, 9, 3] now we will replicate 4 points from [4, 5, 7, 8, 9, 3], consder they are [5, 8, 3,7] so our final sample will be [4, 5, 7, 8, 9, 3, 5, 8, 3,7]\n",
    "\n",
    "##### Create 30 samples \n",
    "\n",
    "- Note that as a part of the Bagging when you are taking the random samples make sure each of the sample will have different set of columns<br>\n",
    "\n",
    "- Ex: Assume we have 10 columns[1 ,2 ,3 ,4 ,5 ,6 ,7 ,8 ,9 ,10] for the first sample we will select [3, 4, 5, 9, 1, 2] and for the second sample  [7, 9, 1, 4, 5, 6, 2] and so on...\n",
    "\n",
    "- Make sure each sample will have atleast 3 feautres/columns/attributes"
   ]
  },
  {
   "cell_type": "markdown",
   "metadata": {
    "colab_type": "text",
    "id": "zUqFEBSvNjCa"
   },
   "source": [
    "### Step - 2 "
   ]
  },
  {
   "cell_type": "markdown",
   "metadata": {
    "colab_type": "text",
    "id": "uqi9AhCYNq3Z"
   },
   "source": [
    "#### Building High Variance Models on each of the sample and finding train MSE value"
   ]
  },
  {
   "cell_type": "markdown",
   "metadata": {
    "colab_type": "text",
    "id": "-lLBnZHXOFln"
   },
   "source": [
    "*  Build a regression trees on each of 30 samples.\n",
    "*  Computed the predicted values of each data point(506 data points) in your corpus.\n",
    "*  Predicted house price of $i^{th}$ data point $y^{i}_{pred} =  \\frac{1}{30}\\sum_{k=1}^{30}(\\text{predicted value of } x^{i} \\text{ with } k^{th} \\text{ model})$\n",
    "*  Now calculate the $MSE =  \\frac{1}{506}\\sum_{i=1}^{506}(y^{i} - y^{i}_{pred})^{2}$"
   ]
  },
  {
   "cell_type": "markdown",
   "metadata": {
    "colab_type": "text",
    "id": "Kls23JLnSN23"
   },
   "source": [
    "### Step - 3 "
   ]
  },
  {
   "cell_type": "markdown",
   "metadata": {
    "colab_type": "text",
    "id": "rz2GchkGSWnh"
   },
   "source": [
    "#### Calculating the OOB score"
   ]
  },
  {
   "cell_type": "markdown",
   "metadata": {
    "colab_type": "text",
    "id": "DGHkVV2kSibm"
   },
   "source": [
    "*  Predicted house price of $i^{th}$ data point $y^{i}_{pred} =  \\frac{1}{k}\\sum_{\\text{k= model which was buit on samples not included } x^{i}}(\\text{predicted value of } x^{i} \\text{ with } k^{th} \\text{ model})$.\n",
    "*  Now calculate the $OOB Score =  \\frac{1}{506}\\sum_{i=1}^{506}(y^{i} - y^{i}_{pred})^{2}$."
   ]
  },
  {
   "cell_type": "markdown",
   "metadata": {
    "colab_type": "text",
    "id": "RK860ocxTyoz"
   },
   "source": [
    "## Task 2"
   ]
  },
  {
   "cell_type": "markdown",
   "metadata": {
    "colab_type": "text",
    "id": "1dme-N6TUCrY"
   },
   "source": [
    "#### Computing CI of OOB Score and Train MSE\n",
    "  *   Repeat Task 1 for 35 times, and for each iteration store the Train MSE and OOB score </li>\n",
    "<li> After this we will have 35 Train MSE values and 35 OOB scores </li>\n",
    "<li> using these 35 values (assume like a sample) find the confidence intervals of MSE and OOB Score </li>\n",
    "<li> you need to report CI of MSE and CI of OOB Score </li>\n",
    "<li> Note: Refer the Central_Limit_theorem.ipynb to check how to find the confidence interval</li>\n",
    "</ol>"
   ]
  },
  {
   "cell_type": "markdown",
   "metadata": {
    "colab_type": "text",
    "id": "O6UcH1x9Uwrj"
   },
   "source": [
    "## Task 3"
   ]
  },
  {
   "cell_type": "markdown",
   "metadata": {
    "colab_type": "text",
    "id": "bOC_AgsLU7OH"
   },
   "source": [
    "#### Given a single query point predict the price of house"
   ]
  },
  {
   "cell_type": "markdown",
   "metadata": {
    "colab_type": "text",
    "id": "HYs5jSFdVILe"
   },
   "source": [
    "Consider xq= [0.18,20.0,5.00,0.0,0.421,5.60,72.2,7.95,7.0,30.0,19.1,372.13,18.60] \n",
    "Predict the house price for this point as mentioned in the step 2 of Task 1."
   ]
  },
  {
   "cell_type": "markdown",
   "metadata": {
    "colab_type": "text",
    "id": "_6gxZEsFWm-8"
   },
   "source": [
    "<br><br>"
   ]
  },
  {
   "cell_type": "markdown",
   "metadata": {
    "colab_type": "text",
    "id": "V2fHTdS_zpgG"
   },
   "source": [
    "## Task 1"
   ]
  },
  {
   "cell_type": "markdown",
   "metadata": {
    "colab_type": "text",
    "id": "e0yGBuryOwHz"
   },
   "source": [
    "### Step - 1"
   ]
  },
  {
   "cell_type": "markdown",
   "metadata": {
    "colab_type": "text",
    "id": "lJXX8vf3z073"
   },
   "source": [
    "#### Creating samples - Algorithm"
   ]
  },
  {
   "cell_type": "markdown",
   "metadata": {
    "colab_type": "text",
    "id": "CSVaWG1F4uCZ"
   },
   "source": [
    "![alt text](https://i.imgur.com/BTVYXQ1.jpg/)"
   ]
  },
  {
   "cell_type": "markdown",
   "metadata": {
    "colab_type": "text",
    "id": "f_oWoN97BhDY"
   },
   "source": [
    "#### Code for generating samples"
   ]
  },
  {
   "cell_type": "code",
   "execution_count": 6,
   "metadata": {
    "colab": {},
    "colab_type": "code",
    "id": "Ph_6D2SDzz7F"
   },
   "outputs": [],
   "source": [
    "def generating_samples(input_data, target_data):\n",
    "\n",
    "    '''In this function, we will write code for generating 30 samples '''\n",
    "    # you can use random.choice to generate random indices without replacement\n",
    "    # Please have a look at this link https://docs.scipy.org/doc/numpy-1.16.0/reference/generated/numpy.random.choice.html for more details\n",
    "    # Please follow above pseudo code for generating samples \n",
    "    \n",
    "    # select 303 rows randomly without replacement from the current dataset having 506 rows \n",
    "    selected_rows = np.random.choice(506, 303, replace = False)\n",
    "    \n",
    "    # replicating 203 rows from the 303 randomly selected rows \n",
    "    replicated_rows = np.random.choice(selected_rows, 203, replace = False)\n",
    "    \n",
    "    # selecting random columns between 3 and 13 indices\n",
    "    columns = np.random.randint(3, 13, size = 1)\n",
    "    selected_columns = np.random.choice(range(13), size = columns, replace = False)\n",
    "    \n",
    "    sample_data = input_data[selected_rows[:, None], selected_columns]\n",
    "    \n",
    "    target_sample_data = target_data[selected_rows]\n",
    "    \n",
    "    \n",
    "    # Replicating Data\n",
    "\n",
    "    replicated_sample_data = input_data[replicated_rows[:, None], selected_columns]\n",
    "    \n",
    "    target_replicated_data = target_data[replicated_rows]\n",
    "    \n",
    "    \n",
    "    # Concatenating Data\n",
    "    \n",
    "    final_sample_data = np.vstack((sample_data, replicated_sample_data))\n",
    "                                  \n",
    "    final_target_data = np.vstack((target_sample_data.reshape(-1, 1), target_replicated_data.reshape(-1, 1)))\n",
    "    \n",
    "    # To calculate the OOB score\n",
    "    oob_rows = np.array([i for i in range(0,506) if i not in selected_rows])\n",
    "    oob_data = input_data[oob_rows[:,None], selected_columns]\n",
    "\n",
    "\n",
    "    return final_sample_data.tolist(), final_target_data.tolist(), selected_rows.tolist(), selected_columns.tolist(), oob_data.tolist()\n",
    "    # return sampled_input_data, sampled_target_data, selected_rows, selected_columns\n",
    "    # NOTE: please return as lists"
   ]
  },
  {
   "cell_type": "code",
   "execution_count": 7,
   "metadata": {},
   "outputs": [
    {
     "name": "stdout",
     "output_type": "stream",
     "text": [
      "506\n",
      "506\n",
      "303\n",
      "4\n",
      "203\n"
     ]
    }
   ],
   "source": [
    "# Print the lengths of the lists generated\n",
    "\n",
    "a, b, c, d, e = generating_samples(x, y)\n",
    "\n",
    "print(len(a)) \n",
    "print(len(b)) \n",
    "print(len(c)) \n",
    "print(len(d)) \n",
    "print(len(e)) "
   ]
  },
  {
   "cell_type": "markdown",
   "metadata": {
    "colab_type": "text",
    "id": "MivEQFlm7iOg"
   },
   "source": [
    "##### Grader function - 1 "
   ]
  },
  {
   "cell_type": "code",
   "execution_count": 8,
   "metadata": {
    "colab": {},
    "colab_type": "code",
    "id": "AVvuhNzm7uld"
   },
   "outputs": [
    {
     "data": {
      "text/plain": [
       "True"
      ]
     },
     "execution_count": 8,
     "metadata": {},
     "output_type": "execute_result"
    }
   ],
   "source": [
    "def grader_samples(a, b, c, d, e):\n",
    "    length = (len(a)==506  and len(b)==506)\n",
    "    sampled = (len(a)-len(set([str(i) for i in a]))==203)\n",
    "    rows_length = (len(c)==303)\n",
    "    column_length = (len(d)>=3)\n",
    "    oob_length = (len(e) == 203)\n",
    "    assert(length and sampled and rows_length and column_length and oob_length)\n",
    "    return True\n",
    "a, b, c, d, e = generating_samples(x, y)\n",
    "grader_samples(a, b, c, d, e)"
   ]
  },
  {
   "cell_type": "markdown",
   "metadata": {
    "colab_type": "text",
    "id": "b4LSsmn4Jn2_"
   },
   "source": [
    "#### Create 30 samples "
   ]
  },
  {
   "cell_type": "markdown",
   "metadata": {
    "colab_type": "text",
    "id": "3ec7MN6sL2BZ"
   },
   "source": [
    "![alt text](https://i.imgur.com/p8eZaWL.jpg)"
   ]
  },
  {
   "cell_type": "code",
   "execution_count": 9,
   "metadata": {
    "colab": {},
    "colab_type": "code",
    "id": "XXlKWjCcBvTk"
   },
   "outputs": [],
   "source": [
    "# Use generating_samples function to create 30 samples \n",
    "# store these created samples in a list\n",
    "\n",
    "def get_sample_lists(x, y):\n",
    "    list_input_data = []\n",
    "    list_output_data = []\n",
    "    list_selected_row = []\n",
    "    list_selected_columns = []\n",
    "    list_oob_data = []\n",
    "\n",
    "    for i in range(0, 30):\n",
    "        a, b, c, d, e = generating_samples(x, y)\n",
    "        list_input_data.append(a)\n",
    "        list_output_data.append(b)\n",
    "        list_selected_row.append(c)\n",
    "        list_selected_columns.append(d)\n",
    "        list_oob_data.append(e)\n",
    "    return list_input_data, list_output_data, list_selected_row, list_selected_columns, list_oob_data"
   ]
  },
  {
   "cell_type": "code",
   "execution_count": 10,
   "metadata": {},
   "outputs": [],
   "source": [
    "list_input_data, list_output_data, list_selected_row, list_selected_columns, get_oob_data = get_sample_lists(x, y)"
   ]
  },
  {
   "cell_type": "markdown",
   "metadata": {
    "colab_type": "text",
    "id": "MXUz9VFiMQkh"
   },
   "source": [
    "##### Grader function - 2 "
   ]
  },
  {
   "cell_type": "code",
   "execution_count": 11,
   "metadata": {
    "colab": {},
    "colab_type": "code",
    "id": "hCvIq8NuMWOC"
   },
   "outputs": [
    {
     "data": {
      "text/plain": [
       "True"
      ]
     },
     "execution_count": 11,
     "metadata": {},
     "output_type": "execute_result"
    }
   ],
   "source": [
    "def grader_30(a):\n",
    "    assert(len(a)==30 and len(a[0])==506)\n",
    "    return True\n",
    "grader_30(list_input_data)"
   ]
  },
  {
   "cell_type": "markdown",
   "metadata": {
    "colab_type": "text",
    "id": "7Pv-mkZkO6dh"
   },
   "source": [
    "<br>"
   ]
  },
  {
   "cell_type": "markdown",
   "metadata": {
    "colab_type": "text",
    "id": "whaHCPB0O8qF"
   },
   "source": [
    "### Step - 2 "
   ]
  },
  {
   "cell_type": "markdown",
   "metadata": {
    "colab_type": "text",
    "id": "XBy4zXSWPtU8"
   },
   "source": [
    "<font color='black'><b>Flowchart for building tree</b></font>"
   ]
  },
  {
   "cell_type": "markdown",
   "metadata": {
    "colab_type": "text",
    "id": "5xvH06HPQBdP"
   },
   "source": [
    "![alt text](https://i.imgur.com/pcXfSmp.png)"
   ]
  },
  {
   "cell_type": "markdown",
   "metadata": {
    "colab_type": "text",
    "id": "WRwPO_uHQjul"
   },
   "source": [
    "#### Code for building regression trees"
   ]
  },
  {
   "cell_type": "code",
   "execution_count": 12,
   "metadata": {
    "colab": {},
    "colab_type": "code",
    "id": "YWQp6tRwMthq"
   },
   "outputs": [],
   "source": [
    "from sklearn.tree import DecisionTreeRegressor # import DecisionTreeRegressor\n",
    "\n",
    "def model_train_gen(list_input_data, list_output_data):\n",
    "    list_models_decision_trees = []\n",
    "    for i in range(0, 30):\n",
    "        clf =  DecisionTreeRegressor(max_depth=None)\n",
    "        clf.fit(list_input_data[i], list_output_data[i])\n",
    "        list_models_decision_trees.append(clf)\n",
    "    return list_models_decision_trees"
   ]
  },
  {
   "cell_type": "markdown",
   "metadata": {
    "colab_type": "text",
    "id": "21j8BKfAQ1U8"
   },
   "source": [
    "<font color='black'><b>Flowchart for calculating MSE </b></font>"
   ]
  },
  {
   "cell_type": "markdown",
   "metadata": {
    "colab_type": "text",
    "id": "8Q0mTBD2RBx_"
   },
   "source": [
    "![alt text](https://i.imgur.com/sPEE618.png)"
   ]
  },
  {
   "cell_type": "markdown",
   "metadata": {
    "colab_type": "text",
    "id": "6e-UamlHRjPy"
   },
   "source": [
    "After getting predicted_y for each data point, we can use sklearns mean_squared_error to calculate the MSE between predicted_y and actual_y."
   ]
  },
  {
   "cell_type": "markdown",
   "metadata": {
    "colab_type": "text",
    "id": "TnIMT7_oR312"
   },
   "source": [
    "#### Code for calculating MSE"
   ]
  },
  {
   "cell_type": "code",
   "execution_count": 13,
   "metadata": {
    "colab": {},
    "colab_type": "code",
    "id": "qWhcvMRWRA9b"
   },
   "outputs": [],
   "source": [
    "def get_MSE(model_list, list_selected_columns, x, y):\n",
    "    prediction_list=[]\n",
    "    for i in range(len(list_models_decision_trees)):\n",
    "        predict = list_models_decision_trees[i].predict(x[:,list_selected_columns[i]])\n",
    "        prediction_list.append(predict.tolist())\n",
    "    predict_array_np = np.array(prediction_list)\n",
    "    final_predict_np = (np.sum(predict_array_np,axis=0))/(len(prediction_list))\n",
    "    MSE = np.sum(np.power((y - final_predict_np ),2))/(len(final_predict_np))\n",
    "    return MSE"
   ]
  },
  {
   "cell_type": "code",
   "execution_count": 14,
   "metadata": {},
   "outputs": [],
   "source": [
    "def mse_score_gen(x,models,selected_columns):\n",
    "    y_pred_for_mse = []\n",
    "\n",
    "    for i in x:\n",
    "        y_pred = []\n",
    "\n",
    "        for j in range(len(models)):\n",
    "            y_pred.append(models[j].predict(i[selected_columns[j]].reshape(1,-1)))\n",
    "        y_pred_for_mse.append(np.median(np.asarray(y_pred)))\n",
    "    \n",
    "    mse = mean_squared_error(y,np.asarray(y_pred_for_mse))\n",
    "    return mse"
   ]
  },
  {
   "cell_type": "code",
   "execution_count": 15,
   "metadata": {},
   "outputs": [],
   "source": [
    "selected_models = model_train_gen(list_input_data, list_output_data)"
   ]
  },
  {
   "cell_type": "code",
   "execution_count": 16,
   "metadata": {},
   "outputs": [
    {
     "name": "stdout",
     "output_type": "stream",
     "text": [
      "0.036897233201580996\n"
     ]
    }
   ],
   "source": [
    "mse = mse_score_gen(x, selected_models, list_selected_columns)\n",
    "print(mse)"
   ]
  },
  {
   "cell_type": "markdown",
   "metadata": {
    "colab_type": "text",
    "id": "RuclPDMnSz8F"
   },
   "source": [
    "### Step - 3"
   ]
  },
  {
   "cell_type": "markdown",
   "metadata": {
    "colab_type": "text",
    "id": "ESb9FSIDTM5V"
   },
   "source": [
    "<font color='black'><b>Flowchart for calculating OOB score</b></font>"
   ]
  },
  {
   "cell_type": "markdown",
   "metadata": {
    "colab_type": "text",
    "id": "HB-d6NMETbd9"
   },
   "source": [
    "![alt text](https://i.imgur.com/95S5Mtm.png)"
   ]
  },
  {
   "cell_type": "markdown",
   "metadata": {
    "colab_type": "text",
    "id": "WW3GOcFzTqbt"
   },
   "source": [
    "Now calculate the $OOB Score =  \\frac{1}{506}\\sum_{i=1}^{506}(y^{i} - y^{i}_{pred})^{2}$."
   ]
  },
  {
   "cell_type": "markdown",
   "metadata": {
    "colab_type": "text",
    "id": "zBqcS03pUYSZ"
   },
   "source": [
    "####  Code for calculating OOB score"
   ]
  },
  {
   "cell_type": "code",
   "execution_count": 17,
   "metadata": {
    "colab": {},
    "colab_type": "code",
    "id": "Fog_6DNdS-h_"
   },
   "outputs": [],
   "source": [
    "def oob_score_gen(x,models,selected_columns,selected_rows):\n",
    "    y_pred_for_oob=[]\n",
    "\n",
    "    for i in range(len(x)):\n",
    "        a=x[i]\n",
    "        y_pred =[]\n",
    "\n",
    "        for j in range(len(models)):\n",
    "            if i not in selected_rows[j]:\n",
    "                y_pred.append(models[j].predict(a[selected_columns[j]].reshape(1,-1)))\n",
    "        y_pred_for_oob.append(np.median(np.asarray(y_pred)))\n",
    "    oob = mean_squared_error(y,np.asarray(y_pred_for_oob))\n",
    "    return oob"
   ]
  },
  {
   "cell_type": "code",
   "execution_count": 18,
   "metadata": {},
   "outputs": [
    {
     "name": "stdout",
     "output_type": "stream",
     "text": [
      "14.282852162933683\n"
     ]
    }
   ],
   "source": [
    "oob = oob_score_gen(x, selected_models, list_selected_columns, list_selected_row)\n",
    "print(oob)"
   ]
  },
  {
   "cell_type": "markdown",
   "metadata": {},
   "source": [
    "<br>"
   ]
  },
  {
   "cell_type": "markdown",
   "metadata": {
    "colab_type": "text",
    "id": "sbuiwX3OUjUI"
   },
   "source": [
    "## Task 2"
   ]
  },
  {
   "cell_type": "markdown",
   "metadata": {},
   "source": [
    "#### Code for computing Confidence Intervals"
   ]
  },
  {
   "cell_type": "code",
   "execution_count": 19,
   "metadata": {
    "colab": {},
    "colab_type": "code",
    "id": "ceW5-D88Uswi"
   },
   "outputs": [],
   "source": [
    "MSE_arr = []\n",
    "OOB_arr = []\n",
    "list_input_data =[]\n",
    "list_output_data =[]\n",
    "list_selected_rows =[]\n",
    "list_selected_columns =[]\n",
    "list_oob_data =[]\n",
    "\n",
    "for j in range(35):\n",
    "\n",
    "    for i in range(30):\n",
    "        o,p,q,r,s = generating_samples(x,y)\n",
    "        list_input_data.append(o)\n",
    "        list_output_data.append(p)\n",
    "        list_selected_rows.append(q)\n",
    "        list_selected_columns.append(r)\n",
    "        list_oob_data.append(s)\n",
    "  \n",
    "    updated_models = model_train_gen(list_input_data, list_output_data)\n",
    "\n",
    "    mse_val = mse_score_gen(x, updated_models, list_selected_columns)\n",
    "    MSE_arr.append(mse_val)\n",
    "  \n",
    "    oob_val = oob_score_gen(x, updated_models, list_selected_columns, list_selected_rows)\n",
    "    OOB_arr.append(oob_val)"
   ]
  },
  {
   "cell_type": "code",
   "execution_count": 20,
   "metadata": {},
   "outputs": [
    {
     "data": {
      "text/plain": [
       "[0.057979249011857706,\n",
       " 0.08346343873517789,\n",
       " 0.06938241106719373,\n",
       " 0.08600790513833993,\n",
       " 0.03737154150197629,\n",
       " 0.08232707509881423,\n",
       " 0.05445158102766799,\n",
       " 0.03904150197628457,\n",
       " 0.06087944664031622,\n",
       " 0.05942687747035573,\n",
       " 0.06389822134387352,\n",
       " 0.06092885375494072,\n",
       " 0.0454199604743083,\n",
       " 0.04787549407114625,\n",
       " 0.0651828063241107,\n",
       " 0.054752964426877486,\n",
       " 0.06138833992094863,\n",
       " 0.07222826086956519,\n",
       " 0.06520256916996048,\n",
       " 0.06112154150197628,\n",
       " 0.06367094861660083,\n",
       " 0.04166996047430831,\n",
       " 0.046902173913043486,\n",
       " 0.07552865612648223,\n",
       " 0.049817193675889306,\n",
       " 0.05971343873517784,\n",
       " 0.07645750988142293,\n",
       " 0.0651877470355731,\n",
       " 0.052020750988142336,\n",
       " 0.05731225296442687,\n",
       " 0.0652124505928854,\n",
       " 0.054970355731225294,\n",
       " 0.07559288537549405,\n",
       " 0.04800889328063243,\n",
       " 0.05686264822134386]"
      ]
     },
     "execution_count": 20,
     "metadata": {},
     "output_type": "execute_result"
    }
   ],
   "source": [
    "MSE_arr"
   ]
  },
  {
   "cell_type": "code",
   "execution_count": 21,
   "metadata": {},
   "outputs": [
    {
     "data": {
      "text/plain": [
       "[13.91105050555165,\n",
       " 12.842478905738844,\n",
       " 12.972098876375862,\n",
       " 12.523880543035725,\n",
       " 13.378944785895513,\n",
       " 13.235716292962225,\n",
       " 13.681451937575355,\n",
       " 11.824330300117412,\n",
       " 13.163098366652324,\n",
       " 12.060955704867846,\n",
       " 13.656523288310975,\n",
       " 14.013053351281226,\n",
       " 12.071046736217543,\n",
       " 11.901761697245034,\n",
       " 14.344616190200872,\n",
       " 13.22501296975531,\n",
       " 11.855351243244334,\n",
       " 13.03049514089856,\n",
       " 13.054875850618833,\n",
       " 13.285145791992687,\n",
       " 13.03341167968065,\n",
       " 13.497954051101924,\n",
       " 12.996145510533195,\n",
       " 13.180294562304498,\n",
       " 13.951789502952446,\n",
       " 13.35256658859475,\n",
       " 13.083254357264973,\n",
       " 13.37202495717351,\n",
       " 13.16640594641374,\n",
       " 13.160595669733896,\n",
       " 13.146612574498393,\n",
       " 12.923966470129153,\n",
       " 12.749411410130588,\n",
       " 11.743523639650453,\n",
       " 13.913413297094458]"
      ]
     },
     "execution_count": 21,
     "metadata": {},
     "output_type": "execute_result"
    }
   ],
   "source": [
    "OOB_arr"
   ]
  },
  {
   "cell_type": "code",
   "execution_count": 22,
   "metadata": {},
   "outputs": [
    {
     "name": "stdout",
     "output_type": "stream",
     "text": [
      "MSE Confidence Interval: 0.05641792246332673 0.06456824354457842\n",
      "OOB Confidence Interval: 12.84687427561041 13.284740507006433\n"
     ]
    }
   ],
   "source": [
    "mse_mean = np.mean(MSE_arr)\n",
    "mse_std_dev = np.std(MSE_arr)\n",
    "oob_std_dev = np.std(OOB_arr)\n",
    "oob_mean = np.mean(OOB_arr)\n",
    "# print(mse_mean)\n",
    "# print(mse_std_dev)\n",
    "# print(oob_std_dev)\n",
    "# print(oob_mean)\n",
    "MSE_conf_interval_ub = mse_mean+2*(mse_std_dev/np.sqrt(35))\n",
    "MSE_conf_interval_lb = mse_mean-2*(mse_std_dev/np.sqrt(35))\n",
    "OOB_conf_interval_ub = oob_mean+2*(oob_std_dev/np.sqrt(35))\n",
    "OOB_conf_interval_lb = oob_mean-2*(oob_std_dev/np.sqrt(35))\n",
    "print(\"MSE Confidence Interval:\", MSE_conf_interval_lb,MSE_conf_interval_ub)\n",
    "print(\"OOB Confidence Interval:\", OOB_conf_interval_lb,OOB_conf_interval_ub)"
   ]
  },
  {
   "cell_type": "markdown",
   "metadata": {},
   "source": [
    "<br>"
   ]
  },
  {
   "cell_type": "markdown",
   "metadata": {
    "colab_type": "text",
    "id": "jKTnJdiBVS_e"
   },
   "source": [
    "## Task 3"
   ]
  },
  {
   "cell_type": "markdown",
   "metadata": {
    "colab_type": "text",
    "id": "eXxrvZqHV1Fr"
   },
   "source": [
    "<font color='black'><b>Flowchart for Task 3</b></font>"
   ]
  },
  {
   "cell_type": "markdown",
   "metadata": {
    "colab_type": "text",
    "id": "NyjwEJ62V6a6"
   },
   "source": [
    "<b>Hint: </b> We created 30 models by using 30 samples in Task - 1. Here, we need send query point \"xq\"  to 30 models and perform the regression on the output generated by 30 models."
   ]
  },
  {
   "cell_type": "markdown",
   "metadata": {
    "colab_type": "text",
    "id": "0emSwLL7VurD"
   },
   "source": [
    "![alt text](https://i.imgur.com/Y5cNhQk.png)"
   ]
  },
  {
   "cell_type": "markdown",
   "metadata": {
    "colab_type": "text",
    "id": "29hjwKlWWDfo"
   },
   "source": [
    "#### Code for Task 3 "
   ]
  },
  {
   "cell_type": "code",
   "execution_count": 23,
   "metadata": {
    "colab": {},
    "colab_type": "code",
    "id": "i_pUlSD-VYD1"
   },
   "outputs": [
    {
     "data": {
      "text/plain": [
       "(1, 13)"
      ]
     },
     "execution_count": 23,
     "metadata": {},
     "output_type": "execute_result"
    }
   ],
   "source": [
    "xq = [0.18, 20.0, 5.00, 0.0, 0.421, 5.60, 72.2, 7.95, 7.0, 30.0, 19.1, 372.13, 18.60]\n",
    "xq = np.array(xq).reshape(1,-1)\n",
    "xq.shape"
   ]
  },
  {
   "cell_type": "code",
   "execution_count": 24,
   "metadata": {},
   "outputs": [],
   "source": [
    "selected_models = model_train_gen(list_input_data, list_output_data)"
   ]
  },
  {
   "cell_type": "code",
   "execution_count": 25,
   "metadata": {
    "colab_type": "text",
    "id": "DJHTGEZgWJjR"
   },
   "outputs": [
    {
     "name": "stdout",
     "output_type": "stream",
     "text": [
      "[18.9]\n"
     ]
    }
   ],
   "source": [
    "def pred_price(xq, models, selected_columns):\n",
    "    y_pred_price=[]\n",
    "\n",
    "    for i in xq:\n",
    "        y_pred = []\n",
    "\n",
    "        for j in range(len(models)):\n",
    "            y_pred.append(models[j].predict(i[selected_columns[j]].reshape(1,-1)))\n",
    "        y_pred_price.append(np.median(np.asarray(y_pred)))\n",
    " \n",
    "    return y_pred_price\n",
    "\n",
    "house_price = pred_price(xq, selected_models, list_selected_columns)\n",
    "print(house_price)"
   ]
  },
  {
   "cell_type": "markdown",
   "metadata": {
    "colab_type": "text",
    "id": "IOdUi-0xWOJ9"
   },
   "source": [
    "### OBSERVATIONS"
   ]
  },
  {
   "cell_type": "markdown",
   "metadata": {
    "colab": {},
    "colab_type": "code",
    "id": "AIcax45hWKT-"
   },
   "source": [
    "##### When trained using 30 samples MSE is 0.036897233201580996 and OOB is 14.282852162933683\n",
    "\n",
    "##### 95% confidence interval of 35 different samples of MSE is [0.05641792246332673 0.06456824354457842] and OOB is [12.84687427561041 13.284740507006433].\n",
    "\n",
    "##### Both MSE and OOB of Task 1 are not in range of 95% CI obtained in Task 2.This could be for reasons that samples taken in Task 1 are just 30. But in Task 2 we did the experiment 35 times by taking sample sizes of 30. According to the Cental Limit Theorem, this should reflect population MSE and OOB more accurately.\n",
    "\n",
    "##### The prediction obtained for the house price given data point is 18.9"
   ]
  }
 ],
 "metadata": {
  "colab": {
   "collapsed_sections": [],
   "name": "Bootstrap_assignment.ipynb",
   "provenance": []
  },
  "kernelspec": {
   "display_name": "Python 3",
   "language": "python",
   "name": "python3"
  },
  "language_info": {
   "codemirror_mode": {
    "name": "ipython",
    "version": 3
   },
   "file_extension": ".py",
   "mimetype": "text/x-python",
   "name": "python",
   "nbconvert_exporter": "python",
   "pygments_lexer": "ipython3",
   "version": "3.8.8"
  }
 },
 "nbformat": 4,
 "nbformat_minor": 1
}
