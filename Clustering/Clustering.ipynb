{
 "cells": [
  {
   "cell_type": "markdown",
   "metadata": {
    "colab_type": "text",
    "id": "MwM5tdEPTp83"
   },
   "source": [
    "# Clustering"
   ]
  },
  {
   "cell_type": "markdown",
   "metadata": {
    "colab_type": "text",
    "id": "aW8pyV-Q5fV2"
   },
   "source": [
    "**There will be some functions that start with the word \"grader\" ex: grader_actors(), grader_movies(), grader_cost1() etc, you should not change those function definition.<br><br>Every Grader function has to return True.**"
   ]
  },
  {
   "cell_type": "markdown",
   "metadata": {
    "colab_type": "text",
    "id": "nOvuWZ1XLFPG"
   },
   "source": [
    "**Please check [clustering assignment helper functions](https://drive.google.com/file/d/1V29KhKo3YnckMX32treEgdtH5r90DIjU/view?usp=sharing) notebook before attempting this assignment.**"
   ]
  },
  {
   "cell_type": "markdown",
   "metadata": {
    "colab_type": "text",
    "id": "KwVzbmIoT621"
   },
   "source": [
    "*  Read graph from the given <font color='blue'>movie_actor_network.csv</font> (note that the graph is bipartite graph.)\n",
    "\n",
    "*  Using stellergaph and gensim packages, get the dense representation(128dimensional vector) of every node in the graph. [Refer <font color='blue'>Clustering_Assignment_Reference.ipynb</font>]\n",
    "\n",
    "* Split the dense representation into actor nodes, movies nodes.(Write you code in <font color='blue'>def data_split()</font>)\n"
   ]
  },
  {
   "cell_type": "markdown",
   "metadata": {
    "colab_type": "text",
    "id": "3lUhnVcTZ3q_"
   },
   "source": [
    "# Task 1: Apply clustering algorithm to group similar ACTORS"
   ]
  },
  {
   "cell_type": "markdown",
   "metadata": {
    "colab_type": "text",
    "id": "dG0XAMMmgi1r"
   },
   "source": [
    " 1. Consider only the actor nodes. \n",
    " 2. Apply any clustering algorithm of your choice. <br>\n",
    "    Refer : https://scikit-learn.org/stable/modules/clustering.html\n",
    " 3. Choose the number of clusters for which you have maximum score of <b>$Cost1*Cost2$</b>.<br>\n",
    " 4. Cost1 = $\\frac{1}{N}\\sum_{\\text{each cluster i}}  \\frac{\\text{(number of nodes in the largest connected component in the graph with the actor nodes and its movie neighbours in cluster i)}}{\\text{(total number of nodes in that cluster i)}}$ where N= number of clusters\n",
    "<br> (Write your code in <font color='blue'>def cost1()</font>).<br>\n",
    " 5. Cost2 = $\\frac{1}{N}\\sum_{\\text{each cluster i}}  \\frac{\\text{(sum of degress of actor nodes in the graph with the actor nodes and its movie neighbours in cluster i)}}{\\text{(number of unique movie nodes in the graph with the actor nodes and its movie neighbours in cluster i)}}$ where N= number of clusters \n",
    " <br> (Write your code in <font color='blue'>def cost2()</font>).<br>\n",
    " 6. Fit the clustering algorithm with the opimal number_of_clusters and get the cluster number for each node. <br>\n",
    " 7. Convert the d-dimensional dense vectors of nodes into 2-dimensional using dimensionality reduction techniques (preferably TSNE).<br>\n",
    " 8. Plot the 2d scatter plot, with the node vectors after step 5 and give colors to nodes such that same cluster nodes will have same color."
   ]
  },
  {
   "cell_type": "markdown",
   "metadata": {
    "colab_type": "text",
    "id": "7pH2axXawRbG"
   },
   "source": [
    "<img src='https://i.imgur.com/4SPYPFa.jpg'>"
   ]
  },
  {
   "cell_type": "markdown",
   "metadata": {
    "colab_type": "text",
    "id": "Qh7HrbKAuGbD"
   },
   "source": [
    "# Task 2: Apply clustering algorithm to group similar MOVIES"
   ]
  },
  {
   "cell_type": "markdown",
   "metadata": {
    "colab_type": "text",
    "id": "e9pALo19uJsw"
   },
   "source": [
    "1. Consider only the movie nodes.\n",
    "2. Apply any clustering algorithm of your choice.<br>\n",
    "3.Choose the number of clusters for which you have maximum score of $Cost1*Cost2$. <br>\n",
    "\n",
    "    Cost1 = $\\frac{1}{N}\\sum_{\\text{each cluster i}}  \\frac{\\text{(number of nodes in the largest connected component in the graph with the movie nodes and its actor neighbours in cluster i)}}{\\text{(total number of nodes in that cluster i)}}$ where N= number of clusters <br>\n",
    "(Write your code in <font color='blue'>def cost1().</font>)<br>\n",
    "\t\n",
    "4. Cost2 = $\\frac{1}{N}\\sum_{\\text{each cluster i}}  \\frac{\\text{(sum of degress of movie nodes in the graph with the movie nodes and its actor neighbours in cluster i)}}{\\text{(number of unique actor nodes in the graph with the movie nodes and its actor neighbours in cluster i)}}$ \n",
    "where N= number of clusters \n",
    "<br>(Write your code in <font color='blue'>def cost2().</font>)<br>\n",
    "\n",
    "6. Fit the clustering algorithm with the opimal number_of_clusters and get the cluster number for each node. <br>\n",
    "7. Convert the d-dimensional dense vectors of nodes into 2-dimensional using dimensionality reduction techniques (preferably TSNE).<br>\n",
    "8. Plot the 2d scatter plot, with the node vectors after step 5 and give colors to nodes such that same cluster nodes will have same color."
   ]
  },
  {
   "cell_type": "markdown",
   "metadata": {
    "colab_type": "text",
    "id": "MrXdWBDSvijT"
   },
   "source": [
    "**Algorithm for actor nodes**"
   ]
  },
  {
   "cell_type": "markdown",
   "metadata": {
    "colab_type": "text",
    "id": "JLAAEftyvs9b"
   },
   "source": [
    "<pre>\n",
    "\tfor number_of_clusters in [3, 5, 10, 30, 50, 100, 200, 500]:\n",
    "\t\talgo = clustering_algorithm(clusters=number_of_clusters)\n",
    "        # you will be passing a matrix of size N*d where N number of actor nodes and d is dimension from gensim\n",
    "\t\talgo.fit(the dense vectors of actor nodes) \n",
    "        You can get the labels for corresponding actor nodes (algo.labels_)\n",
    "        Create a graph for every cluster(ie., if n_clusters=3, create 3 graphs)\n",
    "        (You can use ego_graph to create subgraph from the actual graph)\n",
    "        compute cost1,cost2 \n",
    "           (if n_cluster=3, cost1=cost1(graph1)+cost1(graph2)+cost1(graph3) # here we are doing summation\n",
    "            cost2=cost2(graph1)+cost2(graph2)+cost2(graph3)\n",
    "\t\tcompute the metric Cost = Cost1*Cost2\n",
    "\treturn number_of_clusters which have maximum Cost\n",
    "\t</pre>"
   ]
  },
  {
   "cell_type": "markdown",
   "metadata": {
    "colab_type": "text",
    "id": "DLbRJvsgyniG"
   },
   "source": [
    "<br>"
   ]
  },
  {
   "cell_type": "code",
   "execution_count": 1,
   "metadata": {},
   "outputs": [
    {
     "name": "stdout",
     "output_type": "stream",
     "text": [
      "Requirement already satisfied: numpy==1.21.2 in c:\\users\\venne\\anaconda3\\lib\\site-packages (1.21.2)\n"
     ]
    }
   ],
   "source": [
    "!pip install numpy==1.21.2"
   ]
  },
  {
   "cell_type": "code",
   "execution_count": 2,
   "metadata": {
    "colab": {},
    "colab_type": "code",
    "id": "ppVsL_H-co0G"
   },
   "outputs": [],
   "source": [
    "import warnings\n",
    "warnings.filterwarnings(\"ignore\")\n",
    "\n",
    "import networkx as nx\n",
    "from networkx.algorithms import bipartite\n",
    "\n",
    "import matplotlib.pyplot as plt\n",
    "import numpy as np\n",
    "import pandas as pd\n",
    "\n",
    "from sklearn.cluster import KMeans\n",
    "\n",
    "# you need to have tensorflow \n",
    "from stellargraph.data import UniformRandomMetaPathWalk\n",
    "from stellargraph import StellarGraph"
   ]
  },
  {
   "cell_type": "code",
   "execution_count": 3,
   "metadata": {
    "colab": {},
    "colab_type": "code",
    "id": "QbChYqlFv_cL"
   },
   "outputs": [],
   "source": [
    "data = pd.read_csv('movie_actor_network.csv', index_col = False, names = ['movie', 'actor'])"
   ]
  },
  {
   "cell_type": "code",
   "execution_count": 4,
   "metadata": {},
   "outputs": [
    {
     "data": {
      "text/html": [
       "<div>\n",
       "<style scoped>\n",
       "    .dataframe tbody tr th:only-of-type {\n",
       "        vertical-align: middle;\n",
       "    }\n",
       "\n",
       "    .dataframe tbody tr th {\n",
       "        vertical-align: top;\n",
       "    }\n",
       "\n",
       "    .dataframe thead th {\n",
       "        text-align: right;\n",
       "    }\n",
       "</style>\n",
       "<table border=\"1\" class=\"dataframe\">\n",
       "  <thead>\n",
       "    <tr style=\"text-align: right;\">\n",
       "      <th></th>\n",
       "      <th>movie</th>\n",
       "      <th>actor</th>\n",
       "    </tr>\n",
       "  </thead>\n",
       "  <tbody>\n",
       "    <tr>\n",
       "      <th>0</th>\n",
       "      <td>m1</td>\n",
       "      <td>a1</td>\n",
       "    </tr>\n",
       "    <tr>\n",
       "      <th>1</th>\n",
       "      <td>m2</td>\n",
       "      <td>a1</td>\n",
       "    </tr>\n",
       "    <tr>\n",
       "      <th>2</th>\n",
       "      <td>m2</td>\n",
       "      <td>a2</td>\n",
       "    </tr>\n",
       "    <tr>\n",
       "      <th>3</th>\n",
       "      <td>m3</td>\n",
       "      <td>a1</td>\n",
       "    </tr>\n",
       "    <tr>\n",
       "      <th>4</th>\n",
       "      <td>m3</td>\n",
       "      <td>a3</td>\n",
       "    </tr>\n",
       "  </tbody>\n",
       "</table>\n",
       "</div>"
      ],
      "text/plain": [
       "  movie actor\n",
       "0    m1    a1\n",
       "1    m2    a1\n",
       "2    m2    a2\n",
       "3    m3    a1\n",
       "4    m3    a3"
      ]
     },
     "execution_count": 4,
     "metadata": {},
     "output_type": "execute_result"
    }
   ],
   "source": [
    "data.head(5)"
   ]
  },
  {
   "cell_type": "code",
   "execution_count": 5,
   "metadata": {
    "colab": {},
    "colab_type": "code",
    "id": "gcBsQzFGv_fL"
   },
   "outputs": [
    {
     "name": "stdout",
     "output_type": "stream",
     "text": [
      "[('m1', 'a1'), ('m2', 'a1'), ('m2', 'a2'), ('m3', 'a1'), ('m3', 'a3'), ('m3', 'a4'), ('m3', 'a5'), ('m3', 'a6'), ('m3', 'a7'), ('m4', 'a1'), ('m4', 'a10'), ('m4', 'a8'), ('m4', 'a9'), ('m5', 'a1'), ('m5', 'a11'), ('m5', 'a12'), ('m5', 'a13'), ('m5', 'a14'), ('m5', 'a15'), ('m5', 'a16'), ('m5', 'a17'), ('m5', 'a18'), ('m5', 'a19'), ('m7', 'a21'), ('m7', 'a22'), ('m8', 'a22'), ('m9', 'a22'), ('m9', 'a23'), ('m10', 'a22'), ('m10', 'a24'), ('m10', 'a25'), ('m11', 'a22'), ('m11', 'a26'), ('m11', 'a27'), ('m11', 'a28'), ('m11', 'a29'), ('m24', 'a47'), ('m25', 'a47'), ('m25', 'a48'), ('m25', 'a49'), ('m25', 'a50'), ('m25', 'a51'), ('m25', 'a52'), ('m25', 'a53'), ('m25', 'a54'), ('m25', 'a55'), ('m25', 'a56'), ('m25', 'a57'), ('m25', 'a58'), ('m25', 'a59'), ('m25', 'a60'), ('m25', 'a61'), ('m25', 'a62'), ('m25', 'a63'), ('m25', 'a64'), ('m25', 'a65'), ('m25', 'a66'), ('m25', 'a67'), ('m25', 'a68'), ('m25', 'a69'), ('m25', 'a70'), ('m26', 'a47'), ('m26', 'a71'), ('m26', 'a72'), ('m26', 'a73'), ('m26', 'a74'), ('m26', 'a75'), ('m26', 'a76'), ('m26', 'a77'), ('m26', 'a78'), ('m26', 'a79'), ('m26', 'a80'), ('m26', 'a81'), ('m26', 'a82'), ('m26', 'a83'), ('m26', 'a84'), ('m26', 'a85'), ('m26', 'a86'), ('m26', 'a87'), ('m27', 'a47'), ('m27', 'a50'), ('m27', 'a88'), ('m27', 'a89'), ('m27', 'a90'), ('m27', 'a91'), ('m27', 'a92'), ('m27', 'a93'), ('m27', 'a94'), ('m28', 'a95'), ('m29', 'a95'), ('m29', 'a96'), ('m29', 'a97'), ('m30', 'a100'), ('m30', 'a101'), ('m30', 'a102'), ('m30', 'a103'), ('m30', 'a104'), ('m30', 'a105'), ('m30', 'a106'), ('m30', 'a107')]\n"
     ]
    }
   ],
   "source": [
    "edges = [tuple(x) for x in data.values.tolist()]\n",
    "print(edges[:100])"
   ]
  },
  {
   "cell_type": "code",
   "execution_count": 6,
   "metadata": {
    "colab": {},
    "colab_type": "code",
    "id": "uTzj_WK-v_iL"
   },
   "outputs": [],
   "source": [
    "B = nx.Graph()\n",
    "B.add_nodes_from(data['movie'].unique(), bipartite=0, label='movie')\n",
    "B.add_nodes_from(data['actor'].unique(), bipartite=1, label='actor')\n",
    "B.add_edges_from(edges, label='acted')"
   ]
  },
  {
   "cell_type": "raw",
   "metadata": {
    "colab": {},
    "colab_type": "code",
    "id": "4cNRukL2v_lT"
   },
   "source": [
    "# NOTE - AttributeError: module networkx has no attribute connected_component_subgraphs\n",
    "\n",
    "# A = list(nx.connected_component_subgraphs(B))[0]"
   ]
  },
  {
   "cell_type": "code",
   "execution_count": 7,
   "metadata": {},
   "outputs": [],
   "source": [
    "A = (B.subgraph(c) for c in nx.connected_components(B))\n",
    "A = list(A)[0]"
   ]
  },
  {
   "cell_type": "code",
   "execution_count": 8,
   "metadata": {
    "colab": {},
    "colab_type": "code",
    "id": "Mbrcb_npv_oY"
   },
   "outputs": [
    {
     "name": "stdout",
     "output_type": "stream",
     "text": [
      "number of nodes: 4703\n",
      "number of edges: 9650\n"
     ]
    }
   ],
   "source": [
    "print(\"number of nodes:\", A.number_of_nodes())\n",
    "print(\"number of edges:\", A.number_of_edges())"
   ]
  },
  {
   "cell_type": "code",
   "execution_count": 9,
   "metadata": {
    "colab": {},
    "colab_type": "code",
    "id": "izhQYFBuv_ru"
   },
   "outputs": [
    {
     "data": {
      "image/png": "[encoded data removed]",
      "text/plain": [
       "<Figure size 432x288 with 1 Axes>"
      ]
     },
     "metadata": {},
     "output_type": "display_data"
    }
   ],
   "source": [
    "l, r = nx.bipartite.sets(A)\n",
    "pos = {}\n",
    "\n",
    "pos.update((node, (1, index)) for index, node in enumerate(l))\n",
    "pos.update((node, (2, index)) for index, node in enumerate(r))\n",
    " \n",
    "nx.draw(A, pos = pos, with_labels = True)\n",
    "plt.show()"
   ]
  },
  {
   "cell_type": "code",
   "execution_count": 10,
   "metadata": {
    "colab": {},
    "colab_type": "code",
    "id": "hO1t2gViv_vH"
   },
   "outputs": [
    {
     "name": "stdout",
     "output_type": "stream",
     "text": [
      "number of movies:  1292\n",
      "number of actors:  3411\n"
     ]
    }
   ],
   "source": [
    "movies = []\n",
    "actors = []\n",
    "for i in A.nodes():\n",
    "    if 'm' in i:\n",
    "        movies.append(i)\n",
    "    if 'a' in i:\n",
    "        actors.append(i)\n",
    "print('number of movies: ', len(movies))\n",
    "print('number of actors: ', len(actors))"
   ]
  },
  {
   "cell_type": "code",
   "execution_count": 11,
   "metadata": {
    "colab": {},
    "colab_type": "code",
    "id": "caqMya1xy_QT"
   },
   "outputs": [
    {
     "name": "stdout",
     "output_type": "stream",
     "text": [
      "Number of random walks: 4703\n"
     ]
    }
   ],
   "source": [
    "# Create the random walker\n",
    "rw = UniformRandomMetaPathWalk(StellarGraph(A))\n",
    "\n",
    "# specify the metapath schemas as a list of lists of node types.\n",
    "metapaths = [\n",
    "    [\"movie\", \"actor\", \"movie\"],\n",
    "    [\"actor\", \"movie\", \"actor\"]\n",
    "]\n",
    "\n",
    "walks = rw.run(nodes=list(A.nodes()), # root nodes\n",
    "               length=100,  # maximum length of a random walk\n",
    "               n=1,        # number of random walks per root node \n",
    "               metapaths=metapaths\n",
    "              )\n",
    "\n",
    "print(\"Number of random walks: {}\".format(len(walks)))"
   ]
  },
  {
   "cell_type": "code",
   "execution_count": 12,
   "metadata": {
    "colab": {},
    "colab_type": "code",
    "id": "FYCCAqFhzCpz"
   },
   "outputs": [],
   "source": [
    "# NOTE - TypeError: __init__() got an unexpected keyword argument 'size' \n",
    "# In Word2Vec module the parameter has changed to 'vector_size' instead of 'size'\n",
    "\n",
    "from gensim.models import Word2Vec\n",
    "model = Word2Vec(walks, vector_size = 128, window = 5)"
   ]
  },
  {
   "cell_type": "code",
   "execution_count": 13,
   "metadata": {
    "colab": {},
    "colab_type": "code",
    "id": "x3Xf2z1-co3k"
   },
   "outputs": [
    {
     "data": {
      "text/plain": [
       "(4703, 128)"
      ]
     },
     "execution_count": 13,
     "metadata": {},
     "output_type": "execute_result"
    }
   ],
   "source": [
    "model.wv.vectors.shape  # 128-dimensional vector for each node in the graph"
   ]
  },
  {
   "cell_type": "code",
   "execution_count": 14,
   "metadata": {
    "colab": {},
    "colab_type": "code",
    "id": "ja8oxOWVzE2e"
   },
   "outputs": [
    {
     "name": "stdout",
     "output_type": "stream",
     "text": [
      "['a973', 'a967', 'a964', 'a1731', 'a970', 'a969', 'a1028', 'a1003', 'a1057', 'a965', 'm1094', 'm1111', 'm67', 'a959', 'a988']\n",
      "['actor', 'actor', 'actor', 'actor', 'actor', 'actor', 'actor', 'actor', 'actor', 'actor', 'movie', 'movie', 'movie', 'actor', 'actor']"
     ]
    }
   ],
   "source": [
    "# Retrieve node embeddings and corresponding subjects\n",
    "\n",
    "# NOTE - AttributeError: The index2word attribute has been replaced by index_to_key since Gensim 4.0.0.\n",
    "# NOTE - AttributeError: 'Graph' object has no attribute 'node' so replace A.node as A.nodes\n",
    "\n",
    "node_ids = model.wv.index_to_key  # list of node IDs\n",
    "node_embeddings = model.wv.vectors  # numpy.ndarray of size number of nodes times embeddings dimensionality\n",
    "node_targets = [A.nodes[node_id]['label'] for node_id in node_ids]\n",
    "\n",
    "print(node_ids[:15], end = '')\n",
    "print()\n",
    "print(node_targets[:15], end = '')"
   ]
  },
  {
   "cell_type": "markdown",
   "metadata": {
    "colab_type": "text",
    "id": "TMIE_4D17fp_"
   },
   "source": [
    "![image.png](data:image/png;base64,iVBORw0KGgoAAAANSUhEUgAABTcAAAC7CAYAAACw/qqnAAAgAElEQVR4Ae2dva40V5m2d8oB+ABIfBScgzEBAYFlxAE4dgBy4MCMRAgRCIMlz4iJDRKRQTOSJSQHnpBX37yMIYSQHc3Up7u7791PP71W1aru6vrpvlrab/2t32tda1W/T9fu/fT8/NzxAwMcwAEcwAEcwAEcwAEcwAEcwAEcwAEcwAEcwIGtOfC0tQbTXiYZDuAADuAADuAADuAADuAADuAADuAADuAADuCAHCC4yZOrPLmLAziAAziAAziAAziAAziAAziAAziAAziAA5t0gOAm4m5SXD6d4dMZHMABHMABHMABHMABHMABHMABHMABHMABgpsENwlu4gAO4AAO4AAO4AAO4AAO4AAO4AAO4AAO4MAmHSC4ibibFJdPZvhkBgdwAAdwAAdwAAdwAAdwAAdwAAdwAAdwgOAmwU2CmziAAziAAziAAziAAziAAziAAziAAziAAziwSQfWE9z88sPu/Xfe7N7/4NPu67ll+sMH3dPTB93nM9f7+Y+euqfvfNy9vmm9r7uPv/PUPT09dR/8oTGa/+rj7q0x6VP7d/162tepep9+9PkqJsda23Xxp0w7b9/qPn7VOK5pnJ6f/6P77RtvdJ+88S/dl2fXQpn/71+7f1e6d/+1+0sp3ULz52JupT5wbhVzlDEN8w4ncRIHcAAHcAAHcAAHcAAHcAAHmhy4w+DmF92v33mz+8lvv24C8HwI5L31q9dt6ScU666DmzcP2l4TBDgEfFcSdL04oLOW4Obzgeeqx/waX8h7saMTrpe0AQ9xAAdwAAdwAAdwAAdwAAdwAAdKDqwnuDnZf4LHBDc/7z5Y8MnCeYKbF4g/xZObEwa6/vjp97pvfPS97huffnkegP7Tz/fXdP3k5+fdH6tOEdzcLwb/0/3h3Z4nMl/4HZ7w/Og/zvm/pFl2LpUWN85dMPdfxpO8+IMDOIADOIADOIADOIADOIADOLANBx46uPn6V28t8uvonhwENwcmySFw+eGfvuw+7A1u/rD75PVAWSdBG4KbewenDG4+d8+7J0lHfP3ByZiMGT/Seg1hiws4gAM4gAM4gAM4gAM4gAM4gAOP7sAFwc39k5G//vK5+/q3P9h/T6a+K/OdD0+/t2/3HZo/6H7/1+fuy1/oun9K6Xztze79X3xx/nTYXz/tfvJOoazw/ZynbQnlHeo9/zX1/ZNm1V9H3z29uP8+w5Pvaiw9kXh40nH3/ZK775osf3/nPpgavotSac/KOwTeduUo7aXfqTimnMNTdy91lr+j86z9lV/rbg7amlupnNefdd/9yE9fbji4eQj4vbiR+3qVZ9f4cYvF/+DcmdO3qIsyH/3mRf+ZAziAAziAAziAAziAAziAAziAA3Lg4uDm6R//+br7/QfpjwH5DwQpuPgSsCyke3l663DtJW0YoF1wcx+wPAYp90HWY9lO3/hr6UPfV+jA29NTdwyAnv/qrQN+8Y/17IOhp0HJ/bnToOd5ELBW/mlZoydvX18P/Tz28bnz95DGPu37edoOnYtp3K7zfnlsTrdmN/zHnLYZ3Dxndj6+Zq3g53EMCulKT0X2jevLvDpl7jG61fa8z/PWf6t+US7jiAM4gAM4gAM4gAM4gAM4gAM4gAPrdODy4GZ4anI3uOFJzePx+R/22T9hmZ7e3AViGoKbKfC5eyI0t+O5Lbg5GIBzcDM9aXeabx+EOgalPMgpOHUoKwcCT8t67vaBodMA6LP/WEtqx6gJ1RMEy23YlVtobzFdJYDWnLbC+LxvQ8HNMd+3qTGa49fSK27ksagwOGVYaW8ua3ecngwOT+Nm/845298rtgV3blJPxT3qumLsYHr+WwMwgQkO4AAO4AAO4AAO4AAO4AAOrN6Bi4ObxycoD/+ZPjxdqV9X3wUYDk9uvhwPyjAc3MxlXR7crASLYhsrQZqToNMhmFQKGsV05aDlcxfT9AXcTtNdELzIQbCXflYCcIW+7/tQ+jX68/Zc3d6X9rnsnuDmWdqvu09+pmBn3/dwNoz/WbluS+O2xjyzzceHek8YVtLsv+Py9Gna5YN7Faeu5Un+1d9MlnevcW7iEi7hAA7gAA7gAA7gAA7gAA7gwF05QHCzJnQloHQSdKoFsJ4Pgcun/VOYbcHNw9Oe4Um7l+9p1Llrvsew2s5KIKrSd//BmJd2VZ4mPWFU4zvq/Jjg5nP3vPu+zu913/3d15XJevvg5kswuDKeLwHxCusThpU0BDcJZhFQxAEcwAEcwAEcwAEcwAEcwAEcwIFHd4DgZi3IVgkonQSdqkHD06cy24KbNwy4Vds5MrgZWO04KHBXCHCeMAp5Lp9sI4Obz0Ppb8ja/a0yT4tui2eVNGfBzV2dC/9a+nPFKXNhWwm4Jy/gBCccwAEcwAEcwAEcwAEcwAEcwAEcaHJgsuDm2XdpLvZr6T2/3h6kGAzAVQJKp/lqgZx0vhToOpQfn8g8LXvCYEep/h2LcpBv146np+IfC4oBylp7a+dj3t2+GRQCpKdph4KVidWfft5946PvdR/+KZ1/Gf9yv491Hq43MDjmSXVV/DlLX0l3yjD5FMfuaWW/ll7pz1m/X8YiceN808INT7zBARzAARzAARzAARzAARzAARzAgb0D0wQ3D9+3efI9nIsFN5+73XdxvvOD7vd/7RG9GvA75KkEaU6DTv4jQKcBpl2aw6+k70XbB6eOTzkeglXfeev0180PdR7T9bR/TBCop6/7p0qP7d8df+et7q2TwJ6CffkPHeU+HduaGdUm2/FXt3PZx7L2eUcENw+/kv6NT7/sCRINBTcPfbvy6wD2HhzZFjk0epad2jPWOA2UP8aTCdJmn4p9nqAeys1zhGOcwAEcwAEcwAEcwAEcwAEcwAEceEwHLg5uvv/Om138yX/s57kxuLkPRJ6W5XJfysx/rOgQHCn/QSEN5OHpzdDGk8DrLv8hwPir1+UgWGPQSRPnGKQ7/Epw6fsxHbjcfQfjPiC1DyR+3L0+CfaEwFr4vsaX72g8Sdsj7Ul96VeVU/v2gbNDmt1TlPs2nNZ53q7zvxK/b88+8Jb7VWir21h8cvMQ0Pwo/yX0/bGfyvzL7364e0pTT2r6x9fqi9pQcDOMaWJVL7PQv5IbOWDa7NnxaVJ95+mO/S7vmoKbw1zH8iN92Su4wAUHcAAHcAAHcAAHcAAHcAAHcAAH9g5cHNw8DxZuTyqeMrvNmDUHN1sDtZOnawjC9QZeb8Nt84tSzxPCm+/b5A7iEE7gAA7gAA7gAA7gAA7gAA7gAA7gwBQOPHRw8/nwx0/i915OAfXRy9h+cNNPSQ79ujyL0NH1w5O9xadw4XTkBAtY4AAO4AAO4AAO4AAO4AAO4AAO4MCUDjx4cPO5e+YJvfKv5V/xpNqWg5svXzFw5a+jTzlJ11/WIRgMs8nn0vrHnhsyY4QDOIADOIADOIADOIADOIADOLCsAwQ3FcTb/TrtBp7ScyA2fBenvn/x7Gfhp+d2wc3YroXb40Vmre1y+za73cr8uSJgv9mxoc8EnHEAB3AAB3AAB3AAB3AAB3AAB+7cgQuCm8tGYwkywB8HcAAHcAAHcAAHcAAHcAAHcAAHcAAHcAAHcEAOENy88+g1E52JjgM4gAM4gAM4gAM4gAM4gAM4gAM4gAM4cK8OENwkuMnj2TiAAziAAziAAziAAziAAziAAziAAziAAziwSQcIbiLuJsW9108b6BefpOEADuAADuAADuAADuAADuAADuAADuBAuwMENwluEtzEARzAARzAARzAARzAARzAARzAARzAARzAgU06QHATcTcpLp9gtH+CAStY4QAO4AAO4AAO4AAO4AAO4AAO4AAO3KsDBDcJbhLcxAEcwAEcwAEcwAEcwAEcwAEcwAEcwAEcwIFNOkBwE3E3Ke69ftpAv/gkDQdwAAdwAAdwAAdwAAdwAAdwAAdwAAfaHSC4SXCT4CYO4AAO4AAO4AAO4AAO4AAO4AAO4AAO4AAObNIBgpuIu0lx+QSj/RMMWMEKB3AAB3AAB3AAB3AAB3AAB3AAB3DgXh0guElwk+AmDuAADuAADuAADuAADuAADuAADuAADuAADmzSAYKbiLtJce/10wb6xSdpOIADOIADOIADOIADOIADOIADOIADONDuAMFNgpsEN3EAB3AAB3AAB3AAB3AAB3AAB3AAB3AAB3Bgkw4Q3ETcTYrLJxjtn2DAClY4gAM4gAM4gAM4gAM4gAM4gAM4gAP36gDBTYKbBDdxAAdwAAdwAAdwAAdwAAdwAAdwAAdwAAdwYJMOPHW8IAABCEAAAhCAAAQgAAEIQAACEIAABCAAAQhskADBzQ0OGk2GAAQgAAEIQAACEIAABCAAAQhAAAIQgAAEuo7gJhZAAAIQgAAEIAABCEAAAhCAAAQgAAEIQAACmyRAcHOTw0ajIQABCEAAAhCAAAQgAAEIQAACEIAABCAAAYKbOAABCEAAAhCAAAQgAAEIQAACEIAABCAAAQhskgDBzU0OG42GAAQgAAEIQAACEIAABCAAAQhAAAIQgAAECG7iAAQgAAEIQAACEIAABCAAAQhAAAIQgAAEILBJAgQ3NzlsNBoCEIAABCAAAQhAAAIQgAAEIAABCEAAAhAguIkDEIAABCAAAQhAAAIQgAAEIAABCEAAAhCAwCYJENzc5LDRaAhAAAIQgAAEIAABCEAAAhCAAAQgAAEIQIDgJg5AAAIQgAAEIAABCEAAAhCAAAQgAAEIQAACmyRAcHOTw0ajIQABCEAAAhCAAAQgAAEIQAACEIAABCAAAYKbOAABCEAAAhCAAAQgAAEIQAACEIAABCAAAQhsksBFwc0f//jH3Te/+c2XHx2XXn/+85+7b33rW917773X/fOf/ywlWfW5f/zjH93bb7+9+9H+HC+YjacMs8dj1trj3/zmN7t1Stu5XkvUOWXflmi/7ylffPHFlF2ZrSyY3Qb1EvfgJeq8Db3+Upe4by4xT/opjLsKs3G8xqSe+x7APB8zOuPSLjFPxrWwP/US7V+izn4Kx6vMzSOLlr0l1pYl6mxhMXWaoXni645RKQalc7wei8DFwc2WgKUla0m7RuxLLBYwG28CzB6PWWuPl/jP9BJ1tvJoSbdE++d+89zCYUwamI2h1Z52iXvwEnW2E5ku5RL3zSXmyXTEut1/kub+wH7rzFr5z30PYJ63jsz4dEusLeNbWc+xRPuXqLNO4PQKc/OUx9DREmvLEnUOcbjF9THzRA9LENy8xSisv8ybBjc92bQwXvOyzI7E52Bpvu503rp+t8fnte0TX0+bqq5c3zV9GcrrNrrNQ+lr1zOTvj70pfVNLTLzfokdzM5HxAxrY7BlZuqt/Sn54Gt2Jm/tub2P10vlma7L7UujtLq5qcw5nwicqk6XYyZmZQZxa8ecNvd3TFlOm8uI9U29r//AD41lS51DHPJ189I212/HnEZP8cvT0mvLzNQfc9G29nIa89CY5VdOUysvp6uxXWJtnLJOlyVmJV7iN+RZLMPsvXWZpfXTabQt3XucpzZGeWynOJ5qnrgc97GvD2LkdNqamfqTy3G6mo9bZhb7W+uf0uS5GXnZAXMwr7x21pwV79pL9eRyammnOO82lubG2PJdVvYrljPEzGkz/z5myuP0tX643r454rqn2k5VZ14ba31Uu/vmeeyXedndEt+p2h/rHdqfsk6X5T7G+Z45OY23JR5bnZtxXqp/tfVFfXb/vS1xyO5ErnF8XW+frzH9FPtT1umyxEJjX3uZW42D85lb3xrkuV4bI5dlt/vKclq1b6g8p2V7XwRWH9z05IkLjaQemkwaJk+WmDcPn8qqye8JPucCNWbi5r74eAyzvv67vNJW+UpcYHZKy2Ohm0SJl1JvlVls9y9/+cvqPDolsj+6dG6OrdP8+9aAUvuuOTdFnfnNZOy39v0yR83H2qu1LOefov0uq3Wb29iaz+lKfMym782Z8+f1zAyc1+XX7jtOr+1cr2uZqZ1u92effba7p5Y8KvXd+cxHZSlvzG/+8ZzLimuhz5XY+lpMf2u+U9Xp8RFbvceIrNyHzNF1RxY+Fzk6/9DW7ydKdfvaJeUO1Vu77v5qe+nLXOWXXuaTHXH/8vlYr9pRe/8X03nfZW6NWWy32h79ct/MMV7zeEV/SvNaZQ5xVBl6H1Qb+zyubtettu5vnx8tdbvdffO8hVmpPc4X+cc2eXz63l/GsY95b7k/RZ3uW/Sl5K7rGhpHs2yZuy6zJe1UHKeqc2ie1dqrfHHux3R2XAzneJXmwth6SzxLTpX6lhmW2uNzJWa+NuTk2D71pZ+qTvPoW88i29KcdDvNu+X9pVi1/D8y1u16alvVP3RfquXl/LYJ3DS42YJGE0M3Zv/Em4kl1mSLL9+k8vmYRvt9k85pXVa8gfraWrdTMbt04pvZEP818VuCmW82qls/c97opmDfx0zl67od0HbMTUR5S28KYrvtWZyb19QZy15y3/3ympe5+Xrst9qrY+Xx+ehXrT+tZdXyr+W8+1FjJv9KPo3xzC7XuNbuR2thlNsxxEzXv//97++eRnXfxCu/5Ft2VGlqzGP+zN9tssNOW6vD19e2Vb/soraZm/rj9d59tl/uS6tntXQup2+rOktj15dnyWvua2QbuZllyR/liec1Jh6DWp+25l2pH2ZiZnm8zdRs8px0mTUWeZ6XuLqOPA9ctrZeY+J4xutr2hcL3U/MRPt/+9vfdj7F+a7rdszjUOpfC7PM2Txq4xWZl8p3/jVu3XY7q23kVnOlxLil765Pabf2ctvFR+03K7mn/TjfzUfXxrzMe0t8zMIO5bbr2HPTLMzS532c85qHnaxx9fqg62t+qX/6UX/ES/vuk47ti7Zm4+tm4P6ZmfOorNJ7b+VveX/pdql81RV9dp2XbrcyPpf2j3x1AosGNyWyJ4ia6Mkk2eNxTKPznlxOt0uc/nFZeWKmZC915jpyurUcT8WshWGtz7XFrJZ+6fNLMVO9XvTFzDeNpXm01D/ELJeh9K03panm5pg6c3uXOtabJrmg+eeXjiO72g05v+GqpXO52tbS5LJinrXttzCrza9a/2MfldfzVOftp/LGl3zTG8EtzOMWZrFv9kEs8qvE1unjG+OcT8c1tmIZXzqOYxCvrW1fbY1u2JcSO7Xd13OffT6WpfRKFz279F7tMaq1a21c1Z6f/vSnO15um9iIhdnpOK6VTue+Ol2NrdN7WyvP19e+Vb81vn33k9yHPCd9Xefz2maunuc+Nmfn9Tj1zeFaXpexpq29EI9Xr17t1qZ3331356H6Xuqnnctsav3OzEr8xcRtUfnxFdtRyxvTr2l/aJ6bpfoeX3ktrKWLebRfY5jTrfHYfY7+ffvb394FjuymnbvUA+Uvratr5KE2qb3RDXug/utlZj6O/YjzxunyuufyXIePzdnlxbJ8bo1bcZAzmneeC/Lpq6++2q35JU61Puf+KW9pPYzpvAaW6onpxHNKD91X9YXXYxFYNLhZQh0niidEXlBqC1IsL5YTz8f9lnJi+rXux762MnM6PQauhV1vXv3jBb3U39YFr5R3TeduzcyczFL15Rvomni0tCUyy+nH3JT6ynG5LXNzTJ0ud41bu+J1zsd2x232nBU/vZRebyr0Kx+eu9pGz1rLch1b2bpfZmYWYhRfYigmmaXT5HJ0XmnzGyzPX62XQ2/kXPbatqW+uo3ZLZ/3PLRzOu9y/KtGHgPn8dZ5o4+6pvQaE5fp49oYubw1b9WXmhfmlTm1emaOcY5rP5eX+eh69jinWfux+26HzDK7kv01W/9qndnlMVI6X/M2p1k7o9w+M6r5UXLVnD0nVabLifPc5yJ/1SNmZq00pVep3lK6NZyzF+qb3bKDtXllNpm7zw8xM8eWe1guU2zdvjXwG9sG++c+mHlmmdOJqdY4u1ebw2ardE6jresb294507vPXpfUF7VdfTcnjb/TaV8/sZ+ZY2x/LCOe39q++mxGaruOS+MrFvG+6LnkvD5W/vgyd5/3cZzXMf2a9tVm91ntlRtqv50pcTIHpet7qWyzq6VrdUx1uZ21ssac9/qgvvB6LAKrC25K7jhR4qT00ChN342pb1J6Mnvhj3W5/K1tL2FmRnkhMdvagt2ykG2B362ZiVO8YeTjLTDKbczM4nVdyy7F6963d0qfX2PnZmuduZ61HfvGbybmkNcmOaR1S1u98rHOuSy711rW2pgMtcf9NDN7ZTaRhZiNWc/iG6Jcj+rL4zLU1rVcz32J7fK1yE/X7Y/Px/47j8cglqd9nRf70nWPl663rBu57LUdRy65be5r5nCNZ8ob14Jcp8fG45avb+lYfRi7ntk951N/7XLf/HWaLTvpsc++eczFMzNwv+1L9DmWZ5flX84TfY51ydOtzfPYF/c/sin5YTaZu88PMXM61yOGrlv8lN8vpYlu52On29I290HHmXOe1/lY/bWX0XGVlddLs40c18jL/VEf9FKfzcV90DXvZ1fkjc5lL93XWJ7PbXGrfsQxL/Xbc8z83E8zFqc+Vs6vNLkMl7XGrfyw5+airfvta7Ht7mvNG6dV2ZG7z8et3bTD8Vrcn9pF9XFL4xRZsH8dgUWDmxbeC4q3eaJoQviatn7asDZRWiabsXmiD01gp196OxWz2sLlxa7EtpZnaSZD9c/NrLSgimfpBjLU9qWutzJz+1pvSlPOzdY63ca1bNXuuJ55P65Bnoe+pm18gkZ9qbHM/rWUtRY2tXa0MPP6ZGa6j/iJDl3LL6eP3JXG/JxXx34pbb4/+drati3M3GbP97zu2x2d109cw5wn81OZrjuXF685n9JozEpp3b41bd1ve+ZtzYtbeSZetTrFdotv6s3KTL2N3tlJX9M2r421/rv8OKezW05jP/P1tR2rnZGF92vtL3ljprqmn8jbvqs8s8m8xcTrptKUXs6r8tf+in1x/91ucSjNLfcvc/f5FmZO6zEs3cNi28wxj5nPr3Wb++n+Ru/UdvXL17TN//cbGgvPc5VTWitLLNfGLM5NtS32OboZ93Mfan705cllrOnY7Y5uaD+PscY3ppFf+bdv7KLdc55clrirLM9vu6nt2l9x/N0/be2W+x77YS7ub7wW91V2ZhWva9/jNcQqup3LuORYfSyt1ZeURZ5tEVgsuGnZ86SS3K0TpTTpWidkHKY48eP5te1PycxlZYZe7EqLUMsi9ujMaly34pjGz30YMzdbbkpTz82WOtfmo9qsN0i66fpl3nku+rq35ue8Sl9aK1tu6Lks17HG7TXMaozUz9p6ZjalN0VbmcdjmdlB9S+/dE7O5mvmZB+dT8dKn9cPXfc1tS++Su2N19eyb065b32emVPus89f6pnKK+V1G/N4rYVhrR3mkdut48w7l+G8dlHbEpucLpej4y3xK80btz/75r6KZ+m+ofND89xl53uYylZ9pXJdb2uamH6p/eiP+2wva/PObmXuzj8FM5eV62iZI0uxzPWak3n6eksfcv/jOLkcbV2H14Oam7X8sayl9/P/yaJ/5iF2OV1sd41tLCumX/O++5zvCbUxzn2JLGpl2R+l1UueaP6qjvjScWlexzRr2I99dl+0tTOZpdpsBrnPuT8qe2jdN2fzzGX4WHWV7tu+Pna7hfk9tk+kbyOwWHAzTrDYVMk9NFGUt5amZaLF+rQfJ36+1nKs/KWFryXvmDRTMvOilhcbL0J5QWtd6Fr7c6/MPEbyofZTupG0cFszs5abktpfm7e1/itPjVdLnbVy43nPhVu/SXE9uT+1ORfbqH31N+aVa6U3Ako3xDmXlesaOvZ6MFTPUDlD169h5rzqa365/aVrzif34qt1nGKeuO8618jMfct9VvvHeOb1L3oaGYh3aZ45X2k8Yv7avvPX6q3lG3ve9WgbX2p3bVw97rlv13jmvKX+qp7SuhDb27rvekpj1lpGa7pau/vuAS5beSMLM8/jpOMhNrUxdl1D27mYuZ7Yb7XNczn75naLZ8nVGhuVE9OXxsNtKa0frlfbXFa81rLvscl9bsk7Jk1kYZ7um/pQcsjOlbhfysxcXab7X3tvqfOXslEbld91jeE1Jm2NX4lRLlf9jy6auc7HVxw/nc/HTqu2xPJ8vnU7BzM7oLr0ivyymyWGOb/7lvP6/KVbMb7Gv9Z6XY+28dUylu6z89ofs3V5Tue5pLLVN+dzOrdF1y95Ob/ruaSMljzRC9eprd0o1W82Q31T2UNzyDwz59x21VVaW3O61mP1ccryWusl3fIEFgtueuJE2bWvBaRvoihNTVaXOTQZI3alLS1aMU3fvheHoXb3ldF6zf2billc5NwGlV3iXzvvfGO2j8IsMhG/0g0kpunbXzuzoZuS3Z1ybg7V2cczXvONV3P4mjGKZdb25UFcv8xFddfYeOzzvPT52GaXN7asWntr57129LW7lnfs+UuYmYPyll46n3nGdO6ftnqVWMf0Lfsuc43MPAdKvEp9d1/MR/33uehj5uJxiWlcfpwXOd/QsXwXV/3ENg3lG3vd7Y+ctK96az45T2lOmpnbbBaRT6mNqrPEq28cS+UMnXN56t9Qm4bKGrpuFuZkFn11O02JvRjF8+5LHLvcJo9VX5qcJx+7nr525zyXHmcP3H7VbY657MzF180yjrPHxH4qreuI5dfKdNnauqyYL15v2Vde9U0/sU0tecekUdmeXx5PO6E2+Foss8TF10vXhpg5j+t1WaWt0sRxK6XpO+exF9c4Z/ryXHotexDr7uuD+ljinjnm8VI7XUcs33wv9dFl3pqZ67EH0b/c11KfYvo4ZrXzMc2YfZU3x9x0H81DbdT+0Dhk75TPbLNX7ou2ernO6E8t7y5D4z+uR22/5XomPm67OWjrPvhabLb7bAbxWtxX2UNrRvY05o/7qiuPRbw+dl99nLK8sfWTfjkCiwU31WVPMi+IEls/caLo2Ne1jQtaxqZrfSJ7ssbySiBs5McAACAASURBVJM6lzt07H7Edg/lufS663IfrmWWyyvxMLc+9mP743rvlVnmIXYltjld3/HamdlJbXNfp5qbeT3oq7OPZb7mcnO7c7prj/1mwu2W/69evdqteWqDX+LlNNrGa06jbS5PaeVJfLWWFfMM7cd6a20bKqP1eqxL/Ssx85snM2u5D4hL38vzzWVe60bsxxqZuZ/eRo9i21uvO522kbXvJ/H6tfeBOP6x3X3je+m17IXGUj+xD6U+ur/ZzVxe9iz2zWXkNO6L2qE0UzJwmbU6XfcUW9flfqofcifWPWY9G0qb65uKncuN7Z6CTy4jz8vS2qg8mYP5aqtrfuXyajyy39F9lVVyNqdxnWO2sdwpHc9tUNmep67TnDS2vpY5RK5O47Jz2szD9biMnN/llLZq27Wuqc+qO7erVN+15zw/3NfSPM9pzL9Ut665LG2VN79a3c75+o7nYOZ2u//RPzvja2rrkGdK43zXOhPZuEzxF5dbvszdYy4m+onutnBQG83XZXmb+5DLU7pY3yX9nYuZ/PBYm5227ruvlfpoHnE9yvPNabS1i7Fv8br3zVfj5nN563ZdwlZ5VEds96XlkG97BBYNbm4PV7nFnsTXTsRy6fd5FmbjxxVm45m15vBN3Tfm1nyPnM5vSvwm5ZFZtPYdZq2kxqfT3OWN7HhuQzlYG4cInV+H2TmTqc4wz6cieVoO7y9PebQcweyUEnPzlEfLEcxaKF2WhuDmZdzuIRfBzQlGkcVpPESYwWw8gdvk8KeX134Ke5vWrbNU/vM+flxgNp5Zaw69idWn/goe85qOAGvjeJYwG8+sNQfzvJXU+HS8J4fZeALHHMzNI4vWPZi1krosnfjygfdl7Laei+DmFSPohYmgSDtEmLWzckqYmcT0Wz9Jx1PXbWz9H3cCSW28lApm7azGpvSTM/JR6ySv6QiwNo5nCbPxzFpyMM9bKF2WhveX47nB7MiMuXlk0boHs1ZS16XTPCW4eR3Drea+OLgZvxtBn/jxggAEIAABCEAAAhCAAAQgAAEIQAACEIDAXAT8G1KOURHcnIv8uuq5KLi5ri7QGghAAAIQgAAEIAABCEAAAhCAAAQgAAEIQOARCRDcfMRRp88QgAAEIAABCEAAAhCAAAQgAAEIQAACELgDAgQ372AQ6QIEIAABCEAAAhCAAAQgAAEIQAACEIAABB6RAMHNRxx1+gwBCEAAAhCAAAQgAAEIQAACEIAABCAAgTsgQHDzDgaRLkAAAhCAAAQgAAEIQAACEIAABCAAAQhA4BEJENx8xFGnzxCAAAQgAAEIQAACEIAABCAAAQhAAAIQuAMCBDfvYBDpAgQgAAEIQAACEIAABCAAAQhAAAIQgAAEHpEAwc1HHHX6DAEIQAACEIAABCAAAQhAAAIQgAAEIACBOyBAcPMOBpEuQAACEIAABCAAAQhAAAIQgAAEIAABCEDgEQkQ3HzEUafPEIAABCAAAQhAAAIQgAAEIAABCEAAAhC4AwIEN+9gEOkCBCAAAQhAAAIQgAAEIAABCEAAAhCAAAQekQDBzUccdfoMAQhAAAIQgAAEIAABCEAAAhCAAAQgAIE7IEBw8w4GkS5AAAIQgAAEIAABCEAAAhCAAAQgAAEIQOARCRDcfMRRp88QgAAEIAABCEAAAhCAAAQgAAEIQAACELgDAgQ372AQ6QIEIAABCEAAAhCAAAQgAAEIQAACEIAABB6RAMHNRxx1+gwBCEAAAhCAAAQgAAEIQAACEIAABCAAgTsgQHDzDgaRLkAAAhCAAAQgAAEIQAACEIAABCAAAQhA4BEJENx8xFGnzxCAAAQgAAEIQAACEIAABCAAAQhAAAIQuAMCBDfvYBDpAgQgAAEIQAACEIAABCAAAQhAAAIQgAAEHpEAwc1HHHX6DAEIQAACEIAABCAAAQhAAAIQgAAEIACBOyBAcPMOBpEuQAACEIAABCAAAQhAAAIQgAAEIAABCEDgEQkQ3HzEUafPEIAABCAAAQhAAAIQgAAEIAABCEAAAhC4AwIEN+9gEOkCBCAAAQhAAAIQgAAEIAABCEAAAhCAAAQekQDBzUccdfoMAQhAAAIQgAAEIAABCEAAAhCAAAQgAIE7IPD0/Pzc8QMDHMABHMABHMABHMABHMABHMABHMABHMABHMCBrTlAcJPgLsFtHMABHMABHMABHMABHMABHMABHMABHMABHNikAwQ3EXeT4m7tUwTayydfOIADOIADOIADOIADOIADOIADOIADODC9AwQ3CW4S3MQBHMABHMABHMABHMABHMABHMABHMABHMCBTTpAcBNxNykun3RM/0kHTGGKAziAAziAAziAAziAAziAAziAAziwNQcIbhLcJLiJAziAAziAAziAAziAAziAAziAAziAAziAA5t0gOAm4m5S3K19ikB7+eQLB3AAB3AAB3AAB3AAB3AAB3AAB3AAB6Z3gOAmwU2CmziAAziAAziAAziAAziAAziAAziAAziAAziwSQcIbiLuJsXlk47pP+mAKUxxAAdwAAdwAAdwAAdwAAdwAAdwAAe25gDBTYKbBDdxAAdwAAdwAAdwAAdwAAdwAAdwAAdwAAdwYJMOENxE3E2Ku7VPEWgvn3zhAA7gAA7gAA7gAA7gAA7gAA7gAA7gwPQOENwkuElwEwdwAAdwAAdwAAdwAAdwAAdwAAdwAAdwAAc26QDBTcTdpLh80jH9Jx0whSkO4AAO4AAO4AAO4AAO4AAO4AAO4MDWHCC4SXCT4CYO4AAO4AAO4AAO4AAO4AAO4AAO4AAO4AAObNIBgpuIu0lxt/YpAu3lky8cwAEcwAEcwAEcwAEcwAEcwAEcwAEcmN4BgpsENwlu4gAO4AAO4AAO4AAO4AAO4AAO4AAO4AAO4MAmHVhPcPPLD7v333mze/+DT7uv55bpDx90T08fdJ/PXO/nP3rqnr7zcfd65nof9lOCVx93bz09dU8vP291H7+a/hOD0XzX2q6Sl7u5cg23/+h++8Yb3Sdv/Ev3Zan8w7m//Ns73SdvvNH9+7/9T3lhXWjOjh7bnj5S1grmHuNTnl9wgQsO4AAO4AAO4AAO4AAO4MCGHLjD4OYX3a/febP7yW+/bhPxEFh661ev29JPOLhzBDfnqOOWQZrXv3prusDzYaw/+MOKgypXBw9v3Ler2zdRcPP5dffxd/hw4JZzj7JvPJcmvJcwVowVDuAADuAADuAADuAADuDAIzuwnuDmZP/RGxPc/Lz7QE/x/ejz2QObkm6OwOMcddxyAq06uPn6s+67H32v+8ZHP+w+eZ0X0q+7T36ma+c/3/1dT+D96uBhbsfEx1e373+6P7z7RvfJu//a/aVvzv/nv+ye3Pztf/a1f9n5e0vvKbtv3LmGHziAAziAAziAAziAAziAAziAA0cHHjq4OWngrC9QU7k2R+BxjjpuOaEmHaPJntw8BC5/9ln3x9/9sD+4+emX4wLnVwcPj5P7JuNydfumDG4+d8+79jx1q34atzL/bzI+1DVuvsELXjiAAziAAziAAziAAziAAziweQcuCG7un4z89ZfP3de//cH+ezL1XZnvfHj6HXq779D8Qff7vz53X/5C1/1TSudrb3bv/+KLc6h//bT7yTuFssL3c562JZR3qPf819T3T31Vfx19Fwjbf7fgLkDo72ksfUfmIWh2/C7H8vd37gN18TsfS79We/h1W9f3dMH3G561Z6DOs/S5zkOb9IRrSnvOL7f/WPdp2sNTdy/9jMzytWMZe8YxrYJ5OX1u/yHgd2h7SyBsP+blcv746fc6P335lzUGNw8Bvxcf05PJOw93Hp9yOx2fU2YvZe3Gq8xlmWAdv56+DPcbB9F5c3F+H4QJTHAAB3AAB3AAB3AAB3AAB3Cg6MDFwc3TP/7zdff7D9IfA/IfCFJw8SVgWUj3MjCHay9pw3+ed8HNfcDyGKTcB1mPZTt946+lDz2BFoJ4x6DPIRgUgkUOWMaAWSkwtj93GpTbnTsJltbKvzyYdF6HOXn7effBSRsOvy5/ElSNAcvQlrOn5s4DTSU+DpAeubrOUz4K2uzzn58/BnTOme2CnalPu/TNwc1j0C+28Vin2T13awtu7nmFMXLgt+DsUxzjs7GsPBU5NG9e5vORUYnblOfO+zxf3VP2g7IYNxzAARzAARzAARzAARzAARzAARwY78Dlwc3w1OQOfHhS83h8/od99k9Ypqc3dwGRhuBmCnzungjN7XhuC24OBv0c3AxBIfXrNN8+CHYeAEsBt0pQ7bSsWiDvEDBM7WiVPdfRlO/Q3mO/HNzMQcbU/2I/E4szhpY2lXUIkg0GN4t1usy0HZF2xy0G/ypBu8HgZvrOTT/xWR2Hq4KHZYb7X90+Bjz3TPOvcue8Fe9S+1zW6ZOdftL2WGe1vxWuo9KPGNdR5U7RNsoofqrGOKS1CU/wBAdwAAdwAAdwAAdwAAdwAAcuduDi4ObxCcrDf9IOT1fq19V3/3E9PLn5cjw4SMPBzVzW5cHNSuAmtrESMDkJFpaedjuUEdPVAnQxzbP/+nMhiHmabtx/ii/LWwl0lZ6GjMyKPHJZ+dj9KY9Jjd0xOLIvT8G1+PTs8brLf375lfrBdLFPA/v14Gao12X86ef7PzDU9z2cKXhY7IfLy9ta3uRymWkal5TnpR21OnJbZj1ObZ+17sI4U//FN6QXz2AIQxzAARzAARzAARzAARzAARzAgUYHCG7WQFWCOyfBwp5Azy7d0/5Jx3IwqfwUaPkJuNJ3c7YFVU7aW+nrvn1+2u64PXtycyi46QBtSLcvOzzBd+Ba7WcK7tbYnQZB/GSp2x7qi32ujOlpWW1cnWdUcPP5udP3dX7jo593f4ztivs9TrnO2rY2jmbtoG6ZaQoQ1lhd0b5au68/n9oeebLPzRAHcAAHcAAHcAAHcAAHcAAHcAAH7toBgps1wSvBnZNgYU+gJ6YrB5NycLP85OK1gZ/YjlJZDog58LVPk4NFh7aFoGWprPM/7KNgYw405rL7g4k1duX6j09nntd7vHba1/76q/UcvBkb3BxM3+PUUFvyr5/X0peZpnGp+J/rsD8OoJ5u89hfx7rWH3t3DMbfqh7KrY8BbGCDAziAAziAAziAAziAAziAAziwjAOTBTfPvktzsV9L7/n19hDIHAr6+Y/e5EDYab4UEHopP50vBawOwaOnEDA8LXsaIcqBLJddC1qm9heeyCxN2P66Up3pCc1SebtzJXYvnF1m2tYCc7XzhfJ2Y3EWmE31PPf9QaHztM/PX3ef/Ox73Td+9ln3l0KdTf3d8ag8ydvYv/I45THPx+qPn5CdK2hZYlg419jvqmO1seD8XX+yhw+FuYTzOI8DOIADOIADOIADOIADOLBBB6YJbh6+b/PkezgXC24+d7vv4nznB93v/9rzn7ehoFklYJIDkPtA0WmwZx8Yi398Zx8oenoJ6B0CR995q4vBTQdUj+l62t8q2yEYVnuq7SyId+i3nsA75qkFQVP7hpi6zQNtOgk6uD0v7M7rPLZzf600JrsyK2N6Ut+ujYfxOmGQ6j30ZfBJTPf55VfSf9h98rpc1q4dAwz3fdv/+n0OvCv/2XiG+t3PtuCmyzp6vHf/re6thqCv65pjWx3vQt/naA919PjNmPBGCQdwAAdwAAdwAAdwAAdwAAdwYGIHLg5uvv/Om138yX/s57kxuLkPRJ6W5XJfysx/rOgAofwHhfQf68PTm6GNJ4HXXf7Sk2nhP+WVQNg+wPNx9zoMRAw47X4tNzyN+RLocJDu6fir2rt8Z2mPgbX4K76lQNZL2aEtpXP97fPTeP6+SgWzMpvG4OZLcM1lhW0OTp7wcLrTIPFLXw7B0COPY8BNac76d/iu05f85lMZ07N0L/0ot2cf0NR3ZxZ+Xp7K/LL7MF9/uRY8c9u8HQhu+lewxaLmxDmP0yc999dPGbrc00DxqRu7azuGZS4ljrc/d2hj9ss82XLTxAEcwAEcwAEcwAEcwAEcwAEcwIG7duDi4OZ5sLAnYLNSifZBnjUFarbHMAavqk8NjnlS85aujAhuxn7Nuj8Y3PQTlXi7G5cGXrOO3y39pey7vhnj6bbvf4wf44cDOIADOIADOIADOIADyznw0MFNP6128qvhBBAuDCD0PN15CCqePhW4gPT3ENxcS6B4FfPk8JQzT21eOGcXmIOr8IZ+86YLB3AAB3AAB3AAB3AAB3AAB+7JgQcPbh7/gvak33P5oP+BLz+56V9tXsGThpsObh6/rqD26+j3tDAN96UnmP6g82+YGTdvGOEADuAADuAADuAADuAADuAADtyfAwQ3FQjZPQ2Xv4NwhYN9CM4dv3vS31WZtgs+ybYPcKb2nH2v6EJsz/itIOAq/9barjUHCbcyZ9fMkLbxxCsO4AAO4AAO4AAO4AAO4AAO4MAdOHBBcHOhwNQdwObTAdzBARzAARzAARzAARzAARzAARzAARzAARzAgekcILhJ0JRPKXAAB3AAB3AAB3AAB3AAB3AAB3AAB3AAB3Bgkw4Q3ETcTYrLJxzTfcIBS1jiAA7gAA7gAA7gAA7gAA7gAA7gAA5s1QGCmwQ3CW7iAA7gAA7gAA7gAA7gAA7gAA7gAA7gAA7gwCYdILiJuJsUd6ufJtBuPgnDARzAARzAARzAARzAARzAARzAARzAgekcILhJcJPgJg7gAA7gAA7gAA7gAA7gAA7gAA7gAA7gAA5s0gGCm4i7SXH5hGO6TzhgCUscwAEcwAEcwAEcwAEcwAEcwAEcwIGtOkBwk+AmwU0cwAEcwAEcwAEcwAEcwAEcwAEcwAEcwAEc2KQDBDcRd5PibvXTBNrNJ2E4gAM4gAM4gAM4gAM4gAM4gAM4gAM4MJ0DBDcJbhLcxAEcwAEcwAEcwAEcwAEcwAEcwAEcwAEcwIFNOkBwE3E3KS6fcEz3CQcsYYkDOIADOIADOIADOIADOIADOIADOLBVBwhuEtwkuIkDOIADOIADOIADOIADOIADOIADOIADOIADm3SA4CbiblLcrX6aQLv5JAwHcAAHcAAHcAAHcAAHcAAHcAAHcAAHpnOA4CbBTYKbOIADOIADOIADOIADOIADOIADOIADOIADOLBJBwhuIu4mxeUTjuk+4YAlLHEAB3AAB3AAB3AAB3AAB3AAB3AAB7bqAMFNgpsEN3EAB3AAB3AAB3AAB3AAB3AAB3AAB3AAB3Bgkw48dbwgAAEIQAACEIAABCAAAQhAAAIQgAAEIAABCGyQwNPr16+7+LPBPtBkCEAAAhCAAAQgAAEIQAACEIAABCAAAQhA4AEJENx8wEGnyxCAAAQgAAEIQAACEIAABCAAAQhAAAIQuAcCBDfvYRTpAwQgAAEIQAACEIAABCAAAQhAAAIQgAAEHpAAwc0HHHS6DAEIQAACEIAABCAAAQhAAAIQgAAEIACBeyBAcPMeRpE+QAACEIAABCAAAQhAAAIQgAAEIAABCEDgAQkQ3HzAQafLEIAABCAAAQhAAAIQgAAEIAABCEAAAhC4BwIEN+9hFOkDBCAAAQhAAAIQgAAEIAABCEAAAhCAAAQekADBzQccdLoMAQhAAAIQgAAEIAABCEAAAhCAAAQgAIF7IEBw8x5GkT5AAAIQgAAEIAABCEAAAhCAAAQgAAEIQOABCRDcfMBBp8sQgAAEIAABCEAAAhCAAAQgAAEIQAACELgHAgQ372EU6QMEIAABCEAAAhCAAAQgAAEIQAACEIAABB6QAMHNBxx0ugwBCEAAAhCAAAQgAAEIQAACEIAABCAAgXsgcFFw88c//nH3zW9+8+VHx6XXn//85+5b3/pW995773X//Oc/S0nu4txvfvObHQtt53otUedcfYv12LUvvvginr7Z/j/+8Y/u7bff3v1o/15fS8zNJepcYvyWmJtzz5MluC4xN3H2diO9xDy5XW/qJc89N5eYJ/Xe3+7KEnNziTpvR7Be8tzOqiVL1FkncJsrS8zNtTqr/xPq/4b6v+QU7++XuJ8sUedtzOwvde65ucQ86SdwvGoWGvtrX0vMTZy9dtTq+e3GFOtZvZbxV9QerbNTxOKG5qavxxjhEjwuDm62QJp74rq+uUEusVjMXacmbcuYj592/TnmXiw8MRXg1P6tX65vihvlmLZ6rsw5pnPXKaZzjWNkP/fcVN1zzpOlnHW9c47p3M66Pu5hcUZNs889bBqOuRTPS+5hmcz1x0vdw+a8n5jSnHUu5azrved7mMdzaEtwc4jQ+XXuYedM5j7jdWqK+53f7835/7C5/3/CPWxuQ8/rmzO4GWu333P/f0ZtuGlw0zdyLQZzvJYCaXHmHMC561zqpqqFUU//amznePkN11w3G8+RKW6UY/i43rnmpto2d51L3VTnnptiO+c88TjO7ezcc3MJZ7mHjVnFxqXlHjaOV2vqpdYD18s9rHWk2tPNeT9xq+as0+5wDzP97W+XeN81d53cw7bvaeyB16E572FzO6s1ds4Pc8x3zvvJknW67rm2Y/4fttT/Z8SC4OYERsy9WKjJc9fJTXUCUQpF+OY295ts1zvnTXXuOpe6qc49N6XVnDdyj+Pczo65qRam2kWn3Ne55slSbwaWcHbuOrmHXTQFBjN5jsy9HrjeueamQMxd51L3sDnvJxZszjo9jnM7+wj3MI/n3Nu57yfq39x1cg+b26rb1ud1aM572NzOcg+7rUNzlz7mHrbU/2fE5KbBzRbomtTxd/Nrk9wT0mljulyG03irvPGV0+c3OErvpwVj2iU+fYjtHrNvqczA/SmVof47nbbmkcuIabSfn270Qu10uU5PCjHNZbvOUvvWdi67WPMi84jpMnMz8zbzyOnFML5cl9Ll9mX/Y7417dsPM9A2c3B7cx/NwxxiGXE/joHLinO8VKfaoHx/+9vfXr4jSumy/y5vjdvMq8RB7c5jEOdwdjByLXHLczzX6bHasrNilv2xi9mDPAYxXS4js81zOKfP80TpPXYxbR6D3MY1HWd/3J9SG7Ob5pHLyFzzHLaTTpfr9PwQ01y26yy1b23nsos1LzKPmC4zNzNvM4+cXgzjy3UpXW5f9j/mW9O+/TADbTMHtzfzcDpziGXE/TgGKiunz84qjcpWPu5hp+91I9fSWOU5XmMvvlt0VnNQP3Yxr2tx3g155v7HPHZd5ZpdniMlX51vTFrnWdM2+9PXV4+BndSxXrkMX/f20e5hY5wVP6U3K23NVddanS2VU/Jc6bbubG5/ZqY++lVzNq8Vkb/2vRa4nJy+NE9U11bvYXJFbddWfcv9kKPxlbnG614PosfOq3ORnf02/1iO83ib6yyV77StW7e1Nlday7kk3aLBTcGLnTaIPAA61uDEtNqPx+q88+fzBuMJFG8GzhPrVP4sgyd8zOty17ZVP9UftdkvHUfpdd59yuc/++yzHUvn1Vb5+/puZnFCeLJ4PFyf2MY6ndfpYr1r25cvP/3pT1+a5T7lxdp9il5pXD7++OOXvNqxk5FbTFAq33niePic2Ma2qNzIOpa9tn1xFV+/zDCzEdOW9UD5IguX662ZRY6l9UDleD1wW5w3jq/LXdu21Vn3PfKQf7/85S9P1hL33SxK/TWzOKfFKrrocrbsrPoZ+2iG2YtWZ50/lhn5mlkcI+eJdXruiK3Pey2JeWPZa9pXP9VutdkvHUd/dN59yue5h5na+Va+cA875zLFmZZ72Bhntb703cM8z+NaXFp7fU7rgdN6LfH6MEX/b1VGq7NeC+MaJ97cw8ojo7H/9re/vVsP5JLW0Xfffbf76quvdu/37UaLZzWffN7exZa4To1bfjmf26DrKiOv9TnfWo7VfrWde9i0I9LqrP2Ja4HXBzvlND52S32+5KzLkLv55XyxvC05q/5wD8ujev2x1zm5+OrVq909Xeus3NCP7/F+b+Bj1Wyn7LHT+Nit8/noXss1pVGeWKcdL/nvMlu2Lqc0V1ryX5Nm0eBmqeE1yC1whkBGiWLdOh9vmKorvgl02lp+X1/z1myirJ5wujb00rjkyeQ8tUnl887n4ziJVIYnb2yby97C1r7YUfeztMjk/gz1vTZGuU6XY9aux+Putvn8FrbmGPs0pj9D87V2XefjeqBjrQeZYd+cWDvf7I/a29ofuyYupVftus97Xvg4jq/KGzPGpfqXPqf+xTVuTH+G0rY66/HNY1TLvzSzlvrNJvZJ/Yxzta+cPr+91thNl+PzdtTHcXyV1i7HtrmMLWzti7Z6uZ+ZR6kvQ32vjVGu0+WYtevyuLttPr+FrTnGPtV4lPrTN19ddh4jn491qhzuYUfCdq02X2vXfd7MfRxZq5atOKt+eP30fBST6NDf//73k0CnKcY02tdL5eW1sc/3vmsl912n+bstW9nai+hdH4PcL/U7u+Y0NTY+73w+zuNkl2PbXPaati3Oqo8lf9QPnbfzOh7rrMdQ45ZfpTrNe6vOuv32R30e42yJibm57MzG52OdKmer9zDxckzJ88x9iz7WuDq/tnrFPGbZ56V5Zs7KW8vXN26uc2hbK3so3xTXVxfczEDzcV+n+0B6cC1ULCfnyyLFtFvd94QST78keomHr8dtX1rzi2U7bxy/vjFw+i1u3X8vPPm4r0+lcYnpxT2/CdH1nM/HpcUrlre1/exd9GmoL31p+1zM46dy4puhoXq3cD330f6or0OvobR962ccT5dzb85m7/JxH988LjHtGGf7xiCWuaV9+xIdjT4N9aUvrbnHsl1eHL++MXD6LW7df+5h049e9i4f99UY3cvpPGZDziqf0nAPOxIsrSXHq8O/rur3zS5HY7rFV3Qx3jPiOvdf//VfO3daPLOTXkfEJNaRGSldyUvXX+LaV14uf23H9iWyHNOfvrRmH8t2/3XO/48wWzvsNFvZRgY1Zx2QL/XRnOxoPhaHWEfmUkqvNOaqvPnVV15Ou8bj3P583Nfm6F5OsC3bHQAADGZJREFUZ5ZDziqf0pTWilzmGo/jOuc1wJ7Efumc52nsh/OYUz42n1JeXetzU2WW8sU2x7aM2ff4eq6NyXtt2kWDmx4gRbTjTwQ9ZhL1gewbXOezOBqI0icE18KeM7/6Epl6333s41FqZ984mF9JYNXnBcl1lm44pTrXek4szDNu3X9t3eehPngOeFxy+hp359N1vfJxLmcLx/YoMtV+9KXGo9Q/MY1rSUxjF80vXnM7PCbR4ZhuS/vqZ+aqYzvrPvu4r292zXxy2j7/1Q6PicspjUEuc63H7kNm6z6q3epfdLivL33jMMZZjUEc374613pNfmWuOrZ3fTxKfeobhz7ucf67ztbxLLVjDefEosTW879vDuf2ew54XPL1Gnfn03W98nEuZwvH9iiztS/2x30e6pOYxrUkpnddHrN4LTqr8/k4pt3K/pCzfTxyH+1azdk+/9UOj4nLaR3P3I6lj9Vuu6k+y1tt7amuObjZ4pnzmYf5lPKq7zpfeq/sfHke+dhtXprfUP3yy22OW3uXeQ2VF8crp+3zP85/17kVhrmfkYH8EVdtY78c3LSHsQxzqo2B3as56/z5uvPFcY77W+Ht/sW2a9/tN+cS28jZ++Ls9dLnvHVdmaWuR2dLxy5jC1v1z+ucPTG/2M/oduxXzqNrMa3HxE7HvNr3ddcZr+tcHmsfu80x/Zj9vvEdU84laRcLbnqwPGHc+DwR8rHTlbZ9IPsGN+eTiBrc0oQr1bu2c2KW22/eUf44OYb60Jc284tlxfHzGOQxj+nXvi8OecLn/ufjvj6VxiWmr3HP+Xys9Ft8mVluf+5/9Gmon31p7WKuT2W6LZ7/KieP+VDda7quPub25z7aH/V16DWUNt7Ic1lxPF1OaQxyvjUeu/15Pcve5eO+vuRxiWnHOMs9LJLb70f38tU+7nH8PAZ5zHN5az5uWQ/6eOS+eR7U1o4a95zPx1tdD8wstz/3Px9nnvE4uhfPa9/1+T4Vr+d8Os73gJh+7ftiltuf+29/ah7GPg6lfZR7WHQx3jPiOjcU3MyBi+ieyszX4zjUOLt+tW+rL3Hg/2HTj16Lsy3BTbnn1xhn87rjMu7BWfctz7vIXP3Nx2ZQ2ka2+brri2PhNDmfjvM9wGnXvo3rnO89Zhz7VePqPErrVyxTHPXdydqWXn1uZs6l/Jee6xvfS8tszbdYcFMDkxd+NTqDrqUrdbAkQEyXy/a1fH5MnS5jaGu5Sn0eyjvmuuvJ//kqsVG/WxeLzCi2yXV6svpaPu/j3Danv3Tr8Zq63NweM8z9zBO4li6Xp2MzyWU6rfpWGqN8fkydLrtlq3bJWY3/LV81F1V/HFePtbZDr8wop685nc/X2pbLG3NsZ/re+I8pr5a25oXrN0d7GFnXynTamrOuU9ziK5/3ca2cmHfM/lzO1lzM/tTSlfpkJpmd0+aya+fH1OkyhrYed+5h752sSUPcWq57vFrmX0t5tTT2K8+5vB7U0pXKtRe5TKdV37iHvbe714uJ5nCJh3nFbY2d0tS4l86PqTPW37dvZ7iHvb37z34fq7HX5rqHqR6vOV6DtLVDulYLFDlNnvdeO1SOruXrkUWf37FtMc81+24z97Dt3sOiFzVnNc6t75Xk0xhnve6p7vyKbcvXLj2ey1m1r3afyP2qpSv1sW+Ou28qP75K58fUGcvq2/dY3voeFhnYNfc59iumi+0unTcj5deP1/GYz/tO6zp9XttS2fH6Nfvmqzrmfi0W3HSnI2zt66YTRfOg5DeDgpWBOW3MH4FmqXTN7ZAcfqncqW9+rlvl9knoNlyzFcfIy31U3bGfblPmVfpLs2YS88c2+nocE6WN7fD4TN1/1aO+TT1msX/ad/sjL/c71+02RV7inf9ausrN4xXrdZ2Rmcctzp3SuVjOJfuuW32Lfb6krKE85mhese7Yd5+PXqls5Y/u6Zy9j5xiO0rMnMftUHrt5/piOZfsu79iG+u6pKy+POYVxy/WHZn5fOSl/Pkvzaq+Pmd1vcRMeWI7Svz7+tJyzf2dw1m7EnlpP9ftNmWHxDvyV/+cNnKK/S4xczuiRx7LXH4sa+y+61b/4pwcW05L+uyX+5jni9uUeXEPK1Mu+WVXxDb6Ip9KvLmHldmao+ehWef5MsZZex/XmFi768zjltea0nocy7lk33VnRy4pqy+POcY5HuuOfff5yEv5uYeVCYuT13Kz09bMS9dcUp9TLvf73/9+9WkilaO6sqsuf8h9pxuz9dzLc3JMGa1pxSD2zf3J88Vtin6rDu5hZdJ2S472OWuuSu+Xx8BrtM9r63KHnHUZqju/fC3WmdOMPXY/5nDWPM3H60Cu221qcXaIieuMPEtrS+ncWJY5vevOczKnu/ZY9XgtMDs7Evtl3l53VW9OH9uivPJVP5FfTKN9l+s643Vfy2MZ01y677Hva9ulZQ/lWyy4qYZFsSyXBqsEWYOiNP4pDZLKtAhOp20EO3Q9tivmGwLZcl19U3uiuC35xqaxrGYgnq9evdpxVRviK6dVnpzG6d1+l5v7kcczj6Pryvlc/qXbOKZTj1luU6zLY/nVV1/tFq5c9xAPl20u5prHYOi6ynG7avPCdY3dug95LMeW05I++6W61Z+SL63rgdtvtrkf5ubr2ipPfKldvjHF89fsxzGtzbdryo95cx/Fs+asb0bmUet3bL/T5n7k8czj6HZt2dnsl/qsn+yZxqPVWXMx1+zk0HXV5XZll6MXl+x7TPNYXlJWX57sl3hyD+sj1n4t+9O3Htgju1jyWjXn8VJ6ueLX0HWlc7u2vB54fpiX+Kk/eb608DC7oTEYuq5y1K7aWu56xm5jH+JYjy2nJb3dMNc+Z7mHtRDdp4lu2iNtPbbRW1/3GNTWApXstDG/W5XHx+Vpm9PncXdalX/py3M013VpebV8Zug2cw+rkRp3foyzJX9q7vQ5Wyonjquu+1VLW6vX+fq2czmrNrgu90/tjszdzuy30tfuA2brMvPaMXTd7drqPUz9c9vth5iW+jWGq9fSzNNjpDrMPG/VpvgqpXUbY7ox+25frmtMGZemXTS4eWmjt5rPA32tMFvt/y3bLaZePG5Zz6OV7YX41m8EH42r+us3EUss/PfMG2dvN7rcw27HlnvYbdiyHtyGq0rlHnYbtjh7G64qlXvY7dhyD7sNW5y9DVeVyj3sdmzt7RL/xyW4ebtxPSnZ0fhahP0kMQejCGji9H1qNKowEp8Q4M3KCY7JDrzoiy+vaQng7LQ8XRr3MJOYfss9bHqmLpH1wCSm3XIPm5ZnLA1nI43p9rmHTccyl8Q9LBOZ5hhnp+FYKoV7WInKdOfMl+DmdExXVZI/GeDpt2mHxZ9uK7C5xOSZtjfrKs1vVAjGTzsufqNCMH5arioNZ6dn6hK5h5nEtFvuYdPyjKWxHkQa0+1zD5uOZS4JZzOR6Y65h03HMpbEPSzSmHYfZ6fl6dK4h5nEbbebDG7G39/n6aPbCkLpEIAABCAAAQhAAAIQgAAEIAABCEAAAhBYE4H4YYfjhPrQbu7XRb+WPncjqQ8CEIAABCAAAQhAAAIQgAAEIAABCEAAAhCAQCZAcDMT4RgCEIAABCAAAQhAAAIQgAAEIAABCEAAAhDYBAGCm5sYJhoJAQhAAAIQgAAEIAABCEAAAhCAAAQgAAEIZAIENzMRjiEAAQhAAAIQgAAEIAABCEAAAhCAAAQgAIFNECC4uYlhopEQgAAEIAABCEAAAhCAAAQgAAEIQAACEIBAJkBwMxPhGAIQgAAEIAABCEAAAhCAAAQgAAEIQAACENgEAYKbmxgmGgkBCEAAAhCAAAQgAAEIQAACEIAABCAAAQhkAgQ3MxGOIQABCEAAAhCAAAQgAAEIQAACEIAABCAAgU0QILi5iWGikRCAAAQgAAEIQAACEIAABCAAAQhAAAIQgEAmQHAzE+EYAhCAAAQgAAEIQAACEIAABCAAAQhAAAIQ2AQBgpubGCYaCQEIQAACEIAABCAAAQhAAAIQgAAEIAABCGQCT//93//dxZ//+7//6/iBAQ7gAA7gAA7gAA7gAA7gAA7gAA7gAA7gAA7gwNodILhJMJdgNg7gAA7gAA7gAA7gAA7gAA7gAA7gAA7gAA5s0oGntUdfaR+fEOAADuAADuAADuAADuAADuAADuAADuAADuAADpQcePrf//3fjh8Y4AAO4AAO4AAO4AAO4AAO4AAO4AAO4AAO4AAObM2B/w9NLtQuxXs/SQAAAABJRU5ErkJggg==)"
   ]
  },
  {
   "cell_type": "code",
   "execution_count": 15,
   "metadata": {
    "colab": {},
    "colab_type": "code",
    "id": "Y63_g9Y4co66"
   },
   "outputs": [],
   "source": [
    "def data_split(node_ids,node_targets,node_embeddings):\n",
    "    '''In this function, we will split the node embeddings into actor_embeddings , movie_embeddings'''\n",
    "    actor_nodes, movie_nodes = [], []\n",
    "    actor_embeddings, movie_embeddings = [], []\n",
    "    # split the node_embeddings into actor_embeddings,movie_embeddings based on node_ids\n",
    "    # By using node_embeddings and node_targets, we can extract actor_embeddings and movie embeddings\n",
    "    # By using node_ids and node_targets, we can extract actor_nodes and movie nodes\n",
    "    for i, node in enumerate(node_ids):\n",
    "        if 'm' in node:\n",
    "            movie_nodes.append(node)\n",
    "            movie_embeddings.append(node_embeddings[i])\n",
    "        if 'a' in node:\n",
    "            actor_nodes.append(node)\n",
    "            actor_embeddings.append(node_embeddings[i])\n",
    "    return actor_nodes, movie_nodes, actor_embeddings, movie_embeddings"
   ]
  },
  {
   "cell_type": "code",
   "execution_count": 16,
   "metadata": {},
   "outputs": [],
   "source": [
    "actor_nodes, movie_nodes, actor_embeddings, movie_embeddings = data_split(node_ids, node_targets, node_embeddings)\n",
    "\n",
    "# print(actor_nodes)\n",
    "# print(len(actor_embeddings))\n",
    "# print(actor_embeddings[1])\n",
    "# print(actor_embeddings[0].shape)\n",
    "\n",
    "# print(movie_nodes)\n",
    "# print(len(movie_embeddings))\n",
    "# print(movie_embeddings[0].shape)"
   ]
  },
  {
   "cell_type": "markdown",
   "metadata": {
    "colab_type": "text",
    "id": "xa7PdnRufRV3"
   },
   "source": [
    "#### *Grader function - 1*"
   ]
  },
  {
   "cell_type": "code",
   "execution_count": 17,
   "metadata": {
    "colab": {},
    "colab_type": "code",
    "id": "PGG8Drj5fNbY"
   },
   "outputs": [
    {
     "data": {
      "text/plain": [
       "True"
      ]
     },
     "execution_count": 17,
     "metadata": {},
     "output_type": "execute_result"
    }
   ],
   "source": [
    "def grader_actors(data):\n",
    "    assert(len(data)==3411)\n",
    "    return True\n",
    "grader_actors(actor_nodes)"
   ]
  },
  {
   "cell_type": "markdown",
   "metadata": {
    "colab_type": "text",
    "id": "3ZuEXUw-fipG"
   },
   "source": [
    "#### *Grader function - 2*"
   ]
  },
  {
   "cell_type": "code",
   "execution_count": 18,
   "metadata": {
    "colab": {},
    "colab_type": "code",
    "id": "tYTGJqQTflxL"
   },
   "outputs": [
    {
     "data": {
      "text/plain": [
       "True"
      ]
     },
     "execution_count": 18,
     "metadata": {},
     "output_type": "execute_result"
    }
   ],
   "source": [
    "def grader_movies(data):\n",
    "    assert(len(data)==1292)\n",
    "    return True\n",
    "grader_movies(movie_nodes)"
   ]
  },
  {
   "cell_type": "markdown",
   "metadata": {
    "colab_type": "text",
    "id": "0Nz_ojodhwOp"
   },
   "source": [
    "### Calculating cost1"
   ]
  },
  {
   "cell_type": "markdown",
   "metadata": {
    "colab_type": "text",
    "id": "xdixgDsZhtM1"
   },
   "source": [
    "Cost1 = $\\frac{1}{N}\\sum_{\\text{each cluster i}}  \\frac{\\text{(number of nodes in the largest connected component in the graph with the actor nodes and its movie neighbours in cluster i)}}{\\text{(total number of nodes in that cluster i)}}$ where N= number of clusters <br><br>\n",
    "<br>"
   ]
  },
  {
   "cell_type": "code",
   "execution_count": 19,
   "metadata": {
    "colab": {},
    "colab_type": "code",
    "id": "7akLq1z6hiiU"
   },
   "outputs": [],
   "source": [
    "def cost1(graph, number_of_clusters):\n",
    "    '''In this function, we will calculate cost1'''\n",
    "   # cost1 =  calculate cost1 \n",
    "    total_nodes = graph.number_of_nodes()\n",
    "    connected_nodes = list(nx.connected_components(graph))\n",
    "    maxList = max(connected_nodes, key = lambda i: len(i))\n",
    "    max_connected_nodes = len(maxList)\n",
    "    cost1 = (1 / number_of_clusters) * (max_connected_nodes / total_nodes)\n",
    "    return cost1"
   ]
  },
  {
   "cell_type": "code",
   "execution_count": 20,
   "metadata": {
    "colab": {
     "base_uri": "https://localhost:8080/",
     "height": 248
    },
    "colab_type": "code",
    "id": "C4EdKJyri-wl",
    "outputId": "5fd95d35-956c-4d39-e2cd-107e5bbc59a7"
   },
   "outputs": [
    {
     "data": {
      "image/png": "[encoded data removed]",
      "text/plain": [
       "<Figure size 432x288 with 1 Axes>"
      ]
     },
     "metadata": {},
     "output_type": "display_data"
    }
   ],
   "source": [
    "import networkx as nx\n",
    "from networkx.algorithms import bipartite\n",
    "graded_graph = nx.Graph()\n",
    "graded_graph.add_nodes_from(['a1','a5','a10','a11'], bipartite=0) # Add the node attribute \"bipartite\"\n",
    "graded_graph.add_nodes_from(['m1','m2','m4','m6','m5','m8'], bipartite=1)\n",
    "\n",
    "graded_graph.add_edges_from([('a1','m1'),('a1','m2'),('a1','m4'),('a11','m6'),('a5','m5'),('a10','m8')])\n",
    "l={'a1','a5','a10','a11'};r={'m1','m2','m4','m6','m5','m8'}\n",
    "\n",
    "pos = {}\n",
    "pos.update((node, (1, index)) for index, node in enumerate(l))\n",
    "pos.update((node, (2, index)) for index, node in enumerate(r))\n",
    "\n",
    "nx.draw_networkx(graded_graph, pos=pos, with_labels=True,node_color='lightblue',alpha=0.8,style='dotted',node_size=500)"
   ]
  },
  {
   "cell_type": "markdown",
   "metadata": {
    "colab_type": "text",
    "id": "fVNEfef6raEn"
   },
   "source": [
    "#### *Grader function - 3*"
   ]
  },
  {
   "cell_type": "code",
   "execution_count": 21,
   "metadata": {
    "colab": {},
    "colab_type": "code",
    "id": "B4YRxNkKj1Qc"
   },
   "outputs": [
    {
     "data": {
      "text/plain": [
       "True"
      ]
     },
     "execution_count": 21,
     "metadata": {},
     "output_type": "execute_result"
    }
   ],
   "source": [
    "graded_cost1=cost1(graded_graph,3)\n",
    "def grader_cost1(data):\n",
    "    assert(data==((1/3)*(4/10))) # 1/3 is number of clusters\n",
    "    return True\n",
    "grader_cost1(graded_cost1)"
   ]
  },
  {
   "cell_type": "markdown",
   "metadata": {
    "colab_type": "text",
    "id": "J7qiz7nxsqJL"
   },
   "source": [
    "### Calculating cost2"
   ]
  },
  {
   "cell_type": "markdown",
   "metadata": {
    "colab_type": "text",
    "id": "XFqzhGqys03U"
   },
   "source": [
    "Cost2 = $\\frac{1}{N}\\sum_{\\text{each cluster i}}  \\frac{\\text{(sum of degress of actor nodes in the graph with the actor nodes and its movie neighbours in cluster i)}}{\\text{(number of unique movie nodes in the graph with the actor nodes and its movie neighbours in cluster i)}}$ where N= number of clusters "
   ]
  },
  {
   "cell_type": "code",
   "execution_count": 22,
   "metadata": {
    "colab": {},
    "colab_type": "code",
    "id": "NH6ayCdKsw0U"
   },
   "outputs": [],
   "source": [
    "def cost2(graph,number_of_clusters, node_type):\n",
    "    '''In this function, we will calculate cost1'''\n",
    "    # cost2 = calculate cost1 \n",
    "    sum_of_degress_of_actor = graph.number_of_edges()\n",
    "    num_of_unique_movie_nodes = len([i for i in graph.nodes() if 'm' in i])\n",
    "    num_of_unique_actor_nodes = len([i for i in graph.nodes() if 'a' in i])\n",
    "    if node_type == 'actor': \n",
    "        cost2 = (1/number_of_clusters)*(sum_of_degress_of_actor/num_of_unique_movie_nodes)\n",
    "    else:\n",
    "        cost2 = (1/number_of_clusters)*(sum_of_degress_of_actor/num_of_unique_actor_nodes)\n",
    "    return cost2"
   ]
  },
  {
   "cell_type": "markdown",
   "metadata": {
    "colab_type": "text",
    "id": "SaL1nOMrtYMT"
   },
   "source": [
    "#### *Grader function - 4*"
   ]
  },
  {
   "cell_type": "code",
   "execution_count": 23,
   "metadata": {
    "colab": {},
    "colab_type": "code",
    "id": "lNC23DCIs-uD"
   },
   "outputs": [
    {
     "data": {
      "text/plain": [
       "True"
      ]
     },
     "execution_count": 23,
     "metadata": {},
     "output_type": "execute_result"
    }
   ],
   "source": [
    "graded_cost2=cost2(graded_graph,3, 'actor')\n",
    "def grader_cost2(data):\n",
    "    assert(data==((1/3)*(6/6))) # 1/3 is number of clusters\n",
    "    return True\n",
    "grader_cost2(graded_cost2)"
   ]
  },
  {
   "cell_type": "markdown",
   "metadata": {
    "colab_type": "text",
    "id": "GIOPhbBizdWd"
   },
   "source": [
    "### Grouping *SIMILAR ACTORS*"
   ]
  },
  {
   "cell_type": "code",
   "execution_count": 24,
   "metadata": {
    "colab": {},
    "colab_type": "code",
    "id": "rJ-I8O4HzNAQ"
   },
   "outputs": [],
   "source": [
    "def get_bi_partit_graphs(clusters,full_graph):\n",
    "    graphs = [nx.Graph() for i in range(len(clusters))]\n",
    "    for index,cluster in enumerate(clusters):\n",
    "        for node in cluster:\n",
    "            sub_graph1=nx.ego_graph(full_graph,node)\n",
    "            graphs[index].add_nodes_from(sub_graph1.nodes)\n",
    "            graphs[index].add_edges_from(sub_graph1.edges())\n",
    "    return graphs"
   ]
  },
  {
   "cell_type": "code",
   "execution_count": 25,
   "metadata": {},
   "outputs": [
    {
     "name": "stdout",
     "output_type": "stream",
     "text": [
      "Cluster having 3 similar actors grouped together has a cost: 3.7084226374380354\n",
      "Cluster having 5 similar actors grouped together has a cost: 3.1015619721478607\n",
      "Cluster having 10 similar actors grouped together has a cost: 2.195846262430624\n",
      "Cluster having 30 similar actors grouped together has a cost: 1.6906829098897527\n",
      "Cluster having 50 similar actors grouped together has a cost: 1.628908945967996\n",
      "Cluster having 100 similar actors grouped together has a cost: 1.5729503631686925\n",
      "Cluster having 200 similar actors grouped together has a cost: 1.712574218949815\n",
      "Cluster having 500 similar actors grouped together has a cost: 1.831098353728634\n"
     ]
    }
   ],
   "source": [
    "from sklearn.cluster import KMeans\n",
    "\n",
    "number_of_clusters = [3, 5, 10, 30, 50, 100, 200, 500]\n",
    "costs = []\n",
    "\n",
    "for k in number_of_clusters:\n",
    "    actor_dict = {}\n",
    "    cost1_loc = 0\n",
    "    cost2_loc = 0\n",
    "    \n",
    "    clusters = [[] for i in range(k)]  \n",
    "    \n",
    "    kmeans  = KMeans(n_clusters = k ,random_state = 42)\n",
    "    kmeans.fit(actor_embeddings)\n",
    "    labels = kmeans.labels_\n",
    "    \n",
    "    for index,label in enumerate(labels):\n",
    "        clusters[label].append(actor_nodes[index])\n",
    "        \n",
    "    graphs = get_bi_partit_graphs(clusters, B)\n",
    "    \n",
    "    for i in range(len(graphs)):\n",
    "        cost1_loc += cost1(graphs[i], k)\n",
    "        cost2_loc += cost2(graphs[i], k, 'actor')\n",
    "        \n",
    "    final_cost = cost1_loc * cost2_loc\n",
    "    \n",
    "    print(\"Cluster having\", k, \"similar actors grouped together has a cost:\", final_cost)\n",
    "    \n",
    "    costs.append(final_cost)"
   ]
  },
  {
   "cell_type": "markdown",
   "metadata": {},
   "source": [
    "### Observation\n",
    "\n",
    "##### *We get the best cost when 3 actors are clustered together.*"
   ]
  },
  {
   "cell_type": "markdown",
   "metadata": {},
   "source": [
    "### Fitting K-Means algorithm with the opimal number of clusters "
   ]
  },
  {
   "cell_type": "code",
   "execution_count": 26,
   "metadata": {},
   "outputs": [],
   "source": [
    "# Since we got the best cost for clustering 3 actors, fitting the K-Means algorithm with 3 clusters. \n",
    "\n",
    "kmeans = KMeans(n_clusters=3)\n",
    "kmeans.fit(actor_embeddings)\n",
    "cluster_number_for_data_points = kmeans.labels_\n",
    "# print(len(cluster_number_for_data_points)) - 3411\n",
    "\n",
    "actor_clusters = []\n",
    "unique = np.unique(cluster_number_for_data_points)\n",
    "dict_of_actor_nodes = dict(zip(actor_nodes, cluster_number_for_data_points))\n",
    "\n",
    "for number in unique:\n",
    "    cluster = []\n",
    "    for node, cluster_number in dict_of_actor_nodes.items():\n",
    "        if cluster_number == number:\n",
    "            cluster.append(node)\n",
    "    actor_clusters.append(cluster)\n",
    "# print(len(actor_clusters)) - 3"
   ]
  },
  {
   "cell_type": "markdown",
   "metadata": {},
   "source": [
    "### ACTORS grouped in respective clusters"
   ]
  },
  {
   "cell_type": "code",
   "execution_count": 27,
   "metadata": {
    "scrolled": false
   },
   "outputs": [
    {
     "name": "stdout",
     "output_type": "stream",
     "text": [
      "There are 68 actors in this cluster.\n",
      "['a973', 'a967', 'a964', 'a1731', 'a970', 'a969', 'a1028', 'a1003', 'a1057', 'a965', 'a959', 'a988', 'a966', 'a49', 'a93', 'a962', 'a1037', 'a971', 'a963', 'a1030', 'a1016', 'a977', 'a960', 'a1027', 'a204', 'a472', 'a968', 'a1020', 'a1035', 'a1026', 'a1004', 'a975', 'a972', 'a1031', 'a306', 'a138', 'a1036', 'a1008', 'a205', 'a1467', 'a1021', 'a987', 'a976', 'a1038', 'a1015', 'a1060', 'a782', 'a1011', 'a974', 'a1750', 'a1005', 'a228', 'a1023', 'a1024', 'a1032', 'a1025', 'a1018', 'a1029', 'a1039', 'a989', 'a1019', 'a1034', 'a1043', 'a1716', 'a1063', 'a1047', 'a1048', 'a1045']\n",
      "\n",
      "There are 2984 actors in this cluster.\n",
      "['a2715', 'a400', 'a1672', 'a1017', 'a1513', 'a1483', 'a1782', 'a1041', 'a217', 'a1042', 'a1022', 'a2349', 'a1040', 'a316', 'a1083', 'a95', 'a2361', 'a370', 'a2460', 'a239', 'a2374', 'a450', 'a2785', 'a22', 'a431', 'a2181', 'a427', 'a1468', 'a2301', 'a2367', 'a534', 'a129', 'a538', 'a1704', 'a2755', 'a1877', 'a2030', 'a1133', 'a1', 'a1033', 'a1416', 'a1294', 'a961', 'a978', 'a1911', 'a1593', 'a996', 'a1490', 'a2720', 'a3254', 'a1730', 'a425', 'a1993', 'a736', 'a2016', 'a2416', 'a243', 'a2461', 'a1376', 'a144', 'a2491', 'a535', 'a1500', 'a153', 'a1518', 'a1835', 'a2169', 'a1773', 'a369', 'a1006', 'a2393', 'a633', 'a923', 'a638', 'a1061', 'a2812', 'a800', 'a2534', 'a950', 'a2646', 'a1078', 'a1748', 'a501', 'a123', 'a3181', 'a107', 'a2323', 'a1052', 'a1516', 'a1622', 'a1718', 'a1677', 'a2840', 'a1087', 'a2788', 'a2011', 'a656', 'a2587', 'a886', 'a708', 'a2719', 'a1058', 'a106', 'a59', 'a531', 'a796', 'a797', 'a665', 'a2009', 'a486', 'a231', 'a2718', 'a134', 'a381', 'a780', 'a2000', 'a1139', 'a377', 'a1976', 'a2007', 'a137', 'a2764', 'a1673', 'a2316', 'a1051', 'a365', 'a575', 'a1438', 'a449', 'a955', 'a2929', 'a2814', 'a1324', 'a2225', 'a12', 'a267', 'a2133', 'a570', 'a154', 'a1448', 'a2802', 'a928', 'a1044', 'a2347', 'a1012', 'a2233', 'a571', 'a251', 'a3207', 'a2792', 'a2134', 'a922', 'a2772', 'a596', 'a655', 'a525', 'a1595', 'a1150', 'a2351', 'a2854', 'a1939', 'a1227', 'a1340', 'a1658', 'a1649', 'a1592', 'a998', 'a319', 'a2171', 'a490', 'a1125', 'a2820', 'a714', 'a2388', 'a2375', 'a1271', 'a2400', 'a1566', 'a2734', 'a1327', 'a3255', 'a1508', 'a723', 'a2725', 'a1763', 'a2790', 'a720', 'a488', 'a155', 'a2338', 'a3256', 'a1120', 'a2971', 'a2938', 'a1014', 'a6', 'a1458', 'a2342', 'a1678', 'a3044', 'a2121', 'a2649', 'a2766', 'a109', 'a156', 'a1785', 'a116', 'a599', 'a1533', 'a2327', 'a1462', 'a640', 'a1947', 'a1396', 'a332', 'a149', 'a3411', 'a1498', 'a1429', 'a127', 'a499', 'a2208', 'a997', 'a1393', 'a1530', 'a749', 'a1983', 'a1515', 'a104', 'a1984', 'a81', 'a374', 'a1328', 'a1580', 'a502', 'a2403', 'a1362', 'a1781', 'a3252', 'a2943', 'a3315', 'a139', 'a1424', 'a1332', 'a2084', 'a2024', 'a1361', 'a2932', 'a1062', 'a236', 'a2088', 'a1484', 'a2939', 'a1359', 'a1365', 'a2602', 'a1766', 'a2312', 'a2232', 'a136', 'a552', 'a1800', 'a1092', 'a2806', 'a942', 'a2314', 'a3208', 'a464', 'a1971', 'a2793', 'a1281', 'a717', 'a1862', 'a2506', 'a2818', 'a1745', 'a678', 'a2804', 'a2332', 'a484', 'a934', 'a3306', 'a1563', 'a1094', 'a221', 'a3259', 'a1088', 'a261', 'a2870', 'a1648', 'a2398', 'a28', 'a131', 'a1487', 'a613', 'a283', 'a442', 'a2354', 'a1258', 'a3023', 'a1543', 'a2038', 'a334', 'a1843', 'a2562', 'a645', 'a2750', 'a2345', 'a2328', 'a110', 'a2920', 'a707', 'a1598', 'a615', 'a2396', 'a291', 'a344', 'a3253', 'a157', 'a253', 'a2298', 'a280', 'a1536', 'a718', 'a429', 'a1114', 'a1425', 'a3219', 'a518', 'a3409', 'a1995', 'a2186', 'a722', 'a726', 'a2836', 'a539', 'a3312', 'a2004', 'a2402', 'a702', 'a2889', 'a1433', 'a141', 'a128', 'a725', 'a2131', 'a2583', 'a719', 'a727', 'a2355', 'a732', 'a1090', 'a1979', 'a3257', 'a657', 'a1714', 'a493', 'a721', 'a2849', 'a548', 'a842', 'a2577', 'a551', 'a660', 'a3407', 'a1496', 'a492', 'a98', 'a3386', 'a2564', 'a1599', 'a1713', 'a2722', 'a1686', 'a1997', 'a751', 'a299', 'a505', 'a506', 'a2782', 'a1343', 'a2908', 'a750', 'a2442', 'a2122', 'a1478', 'a1963', 'a438', 'a1693', 'a3258', 'a705', 'a3431', 'a1948', 'a335', 'a2003', 'a2599', 'a1443', 'a3005', 'a147', 'a733', 'a2191', 'a1931', 'a748', 'a483', 'a2819', 'a1238', 'a2293', 'a523', 'a1388', 'a2658', 'a799', 'a3434', 'a698', 'a1777', 'a1601', 'a2768', 'a463', 'a2104', 'a1339', 'a3022', 'a1269', 'a2498', 'a1970', 'a3478', 'a1434', 'a3002', 'a550', 'a3475', 'a2838', 'a930', 'a2239', 'a150', 'a25', 'a740', 'a1737', 'a2370', 'a3227', 'a1495', 'a701', 'a2141', 'a327', 'a1430', 'a2471', 'a2996', 'a1550', 'a364', 'a1511', 'a3489', 'a1600', 'a2934', 'a2451', 'a470', 'a3211', 'a1422', 'a2399', 'a2535', 'a2525', 'a695', 'a3345', 'a3439', 'a1681', 'a2335', 'a507', 'a1469', 'a1680', 'a1316', 'a3014', 'a3020', 'a2518', 'a2344', 'a1389', 'a3006', 'a2993', 'a366', 'a752', 'a1148', 'a1321', 'a342', 'a1298', 'a1112', 'a1432', 'a1933', 'a3015', 'a103', 'a338', 'a2803', 'a1449', 'a3262', 'a126', 'a1641', 'a3030', 'a3009', 'a1075', 'a662', 'a340', 'a649', 'a2170', 'a3039', 'a2044', 'a1423', 'a3471', 'a2035', 'a567', 'a1097', 'a504', 'a1652', 'a1464', 'a2540', 'a2205', 'a99', 'a439', 'a3351', 'a1925', 'a700', 'a1734', 'a3393', 'a1679', 'a159', 'a763', 'a3013', 'a716', 'a1074', 'a2319', 'a1102', 'a1149', 'a473', 'a418', 'a1292', 'a1099', 'a2490', 'a345', 'a1565', 'a2267', 'a3531', 'a2989', 'a607', 'a230', 'a3024', 'a1369', 'a1380', 'a2395', 'a690', 'a1590', 'a1188', 'a2048', 'a1908', 'a704', 'a706', 'a2203', 'a3234', 'a2481', 'a3330', 'a724', 'a2981', 'a3003', 'a3280', 'a3394', 'a2336', 'a3599', 'a541', 'a522', 'a2591', 'a3389', 'a2988', 'a3413', 'a654', 'a1830', 'a857', 'a938', 'a1583', 'a2953', 'a1525', 'a767', 'a108', 'a1715', 'a3504', 'a1801', 'a754', 'a636', 'a1946', 'a2127', 'a3035', 'a936', 'a318', 'a2138', 'a3001', 'a433', 'a1751', 'a681', 'a3078', 'a2991', 'a3265', 'a2992', 'a1637', 'a1136', 'a3010', 'a729', 'a679', 'a2085', 'a673', 'a1337', 'a3192', 'a3032', 'a663', 'a160', 'a3008', 'a1230', 'a1940', 'a2805', 'a3058', 'a1431', 'a953', 'a1685', 'a1064', 'a2290', 'a2006', 'a158', 'a637', 'a1662', 'a1303', 'a990', 'a259', 'a1960', 'a1632', 'a2179', 'a161', 'a1664', 'a2549', 'a317', 'a3021', 'a396', 'a1046', 'a1837', 'a1426', 'a24', 'a255', 'a125', 'a617', 'a3579', 'a290', 'a1428', 'a3666', 'a1865', 'a333', 'a2096', 'a689', 'a1930', 'a454', 'a2983', 'a1554', 'a3288', 'a2350', 'a443', 'a1964', 'a3031', 'a709', 'a2215', 'a3', 'a66', 'a3424', 'a1660', 'a2164', 'a1934', 'a3025', 'a1738', 'a238', 'a1710', 'a3293', 'a2299', 'a711', 'a2744', 'a574', 'a3359', 'a1257', 'a581', 'a232', 'a148', 'a3004', 'a2984', 'a1740', 'a1881', 'a485', 'a2651', 'a1708', 'a367', 'a394', 'a2545', 'a2247', 'a1676', 'a1606', 'a2248', 'a1892', 'a3028', 'a2968', 'a592', 'a3016', 'a661', 'a3260', 'a3623', 'a753', 'a3061', 'a117', 'a269', 'a2664', 'a2994', 'a1553', 'a2967', 'a2091', 'a2799', 'a785', 'a1473', 'a728', 'a3660', 'a2467', 'a699', 'a772', 'a1450', 'a3019', 'a341', 'a1165', 'a713', 'a70', 'a949', 'a3184', 'a1630', 'a2064', 'a1326', 'a2478', 'a1667', 'a3661', 'a229', 'a2985', 'a3294', 'a2789', 'a294', 'a337', 'a3283', 'a746', 'a743', 'a1812', 'a500', 'a664', 'a642', 'a3027', 'a1884', 'a379', 'a694', 'a3281', 'a328', 'a2733', 'a2624', 'a2192', 'a762', 'a284', 'a1347', 'a1896', 'a2999', 'a634', 'a703', 'a659', 'a935', 'a1122', 'a2584', 'a948', 'a669', 'a3069', 'a937', 'a745', 'a428', 'a1427', 'a947', 'a770', 'a1833', 'a658', 'a560', 'a779', 'a632', 'a2944', 'a2234', 'a3018', 'a979', 'a3338', 'a395', 'a1156', 'a2986', 'a2982', 'a2732', 'a680', 'a64', 'a3182', 'a2931', 'a323', 'a2998', 'a929', 'a3079', 'a2987', 'a1289', 'a3429', 'a940', 'a3428', 'a1421', 'a1538', 'a3053', 'a1510', 'a3037', 'a2692', 'a3297', 'a3038', 'a2339', 'a1200', 'a339', 'a2197', 'a2875', 'a3408', 'a741', 'a3049', 'a2695', 'a1420', 'a1532', 'a954', 'a23', 'a3033', 'a676', 'a2833', 'a1889', 'a1767', 'a3063', 'a3076', 'a696', 'a555', 'a3048', 'a2112', 'a2731', 'a3415', 'a758', 'a670', 'a1813', 'a1479', 'a2723', 'a3404', 'a3050', 'a3051', 'a1647', 'a3047', 'a675', 'a2397', 'a1959', 'a2997', 'a766', 'a1956', 'a478', 'a430', 'a2512', 'a2432', 'a321', 'a3017', 'a2907', 'a2962', 'a2966', 'a2694', 'a3080', 'a932', 'a2241', 'a2933', 'a3437', 'a3007', 'a2761', 'a2218', 'a76', 'a952', 'a2318', 'a3233', 'a3325', 'a2563', 'a3514', 'a553', 'a3060', 'a619', 'a2128', 'a715', 'a738', 'a2464', 'a3036', 'a1887', 'a1891', 'a331', 'a2394', 'a2914', 'a1954', 'a3446', 'a925', 'a2195', 'a1357', 'a1520', 'a927', 'a63', 'a2911', 'a448', 'a330', 'a322', 'a544', 'a1499', 'a3056', 'a1387', 'a1501', 'a371', 'a343', 'a742', 'a2494', 'a2406', 'a2730', 'a1519', 'a2903', 'a1646', 'a162', 'a559', 'a3588', 'a3012', 'a2995', 'a498', 'a2724', 'a991', 'a1720', 'a983', 'a712', 'a710', 'a2391', 'a650', 'a3552', 'a1975', 'a760', 'a3432', 'a562', 'a320', 'a207', 'a1579', 'a2087', 'a2728', 'a2434', 'a242', 'a667', 'a819', 'a3616', 'a100', 'a931', 'a3029', 'a276', 'a2915', 'a102', 'a2868', 'a652', 'a2598', 'a2771', 'a735', 'a2663', 'a3499', 'a644', 'a3068', 'a1417', 'a2930', 'a3026', 'a1791', 'a3381', 'a1154', 'a3046', 'a3371', 'a2559', 'a1418', 'a2781', 'a674', 'a2524', 'a943', 'a1276', 'a1985', 'a3064', 'a946', 'a2412', 'a744', 'a1876', 'a2458', 'a3034', 'a2321', 'a635', 'a1977', 'a1712', 'a2909', 'a3438', 'a2865', 'a1912', 'a2861', 'a481', 'a3502', 'a1485', 'a2526', 'a1817', 'a1815', 'a451', 'a1842', 'a2947', 'a2898', 'a2949', 'a2001', 'a380', 'a2759', 'a3065', 'a2921', 'a2515', 'a1638', 'a91', 'a120', 'a329', 'a1659', 'a2900', 'a605', 'a3457', 'a2940', 'a1651', 'a1825', 'a951', 'a647', 'a1453', 'a3204', 'a3198', 'a939', 'a245', 'a1452', 'a2927', 'a3040', 'a693', 'a530', 'a2644', 'a1895', 'a3011', 'a737', 'a558', 'a1190', 'a3000', 'a1239', 'a1897', 'a2698', 'a2928', 'a3542', 'a2680', 'a1126', 'a2', 'a274', 'a2936', 'a3062', 'a266', 'a2860', 'a373', 'a3631', 'a734', 'a2542', 'a510', 'a764', 'a958', 'a2990', 'a1541', 'a277', 'a2787', 'a1325', 'a2762', 'a1093', 'a1882', 'a3412', 'a2970', 'a3041', 'a2647', 'a2329', 'a765', 'a2154', 'a1274', 'a1336', 'a1474', 'a3658', 'a1967', 'a2221', 'a265', 'a2816', 'a1009', 'a731', 'a2957', 'a3449', 'a1694', 'a2727', 'a1831', 'a260', 'a2520', 'a3500', 'a2779', 'a2652', 'a3045', 'a2912', 'a247', 'a2109', 'a2837', 'a2198', 'a747', 'a96', 'a756', 'a1816', 'a2729', 'a270', 'a303', 'a2954', 'a262', 'a3054', 'a3320', 'a981', 'a646', 'a3442', 'a455', 'a672', 'a1980', 'a1820', 'a494', 'a554', 'a2974', 'a2976', 'a1419', 'a687', 'a1969', 'a653', 'a1661', 'a651', 'a666', 'a2315', 'a3074', 'a2824', 'a1829', 'a336', 'a1885', 'a2353', 'a2660', 'a933', 'a545', 'a271', 'a3201', 'a1890', 'a3326', 'a3232', 'a2862', 'a3066', 'a1819', 'a1526', 'a3422', 'a2825', 'a2513', 'a1893', 'a471', 'a3081', 'a691', 'a3508', 'a3072', 'a1642', 'a252', 'a2428', 'a1143', 'a1463', 'a2834', 'a421', 'a482', 'a3528', 'a3562', 'a2320', 'a264', 'a1616', 'a2672', 'a1157', 'a2020', 'a2745', 'a3071', 'a2352', 'a641', 'a3573', 'a288', 'a286', 'a2885', 'a3420', 'a2778', 'a2176', 'a2108', 'a73', 'a163', 'a75', 'a2780', 'a643', 'a77', 'a2130', 'a1792', 'a843', 'a2585', 'a2948', 'a2604', 'a568', 'a3197', 'a917', 'a1953', 'a1528', 'a2005', 'a1158', 'a2895', 'a1330', 'a3055', 'a1331', 'a2365', 'a2735', 'a1894', 'a446', 'a3042', 'a1527', 'a1729', 'a2899', 'a2503', 'a2916', 'a2702', 'a2285', 'a2950', 'a2959', 'a692', 'a2890', 'a1645', 'a2925', 'a250', 'a2550', 'a1155', 'a74', 'a2110', 'a2888', 'a437', 'a1252', 'a1128', 'a956', 'a497', 'a2809', 'a543', 'a2530', 'a697', 'a2174', 'a2760', 'a2616', 'a2018', 'a2317', 'a71', 'a2902', 'a1229', 'a3497', 'a2896', 'a3092', 'a2963', 'a2392', 'a248', 'a2252', 'a2014', 'a2641', 'a219', 'a1293', 'a1187', 'a2617', 'a2699', 'a2853', 'a1822', 'a2919', 'a2753', 'a1160', 'a2500', 'a2334', 'a1814', 'a1353', 'a3481', 'a2913', 'a300', 'a2894', 'a3346', 'a2594', 'a1545', 'a3052', 'a2906', 'a3454', 'a3425', 'a876', 'a1888', 'a132', 'a2830', 'a3391', 'a3298', 'a2749', 'a3043', 'a3517', 'a1905', 'a2873', 'a2742', 'a2155', 'a1219', 'a420', 'a2427', 'a1279', 'a3075', 'a2973', 'a3418', 'a3556', 'a2918', 'a2237', 'a273', 'a2497', 'a1542', 'a3261', 'a3336', 'a3324', 'a683', 'a422', 'a2640', 'a3670', 'a2588', 'a2423', 'a2083', 'a1883', 'a2769', 'a757', 'a2578', 'a1735', 'a1736', 'a3419', 'a3667', 'a2796', 'a3299', 'a292', 'a413', 'a2743', 'a1493', 'a2188', 'a2879', 'a532', 'a27', 'a453', 'a457', 'a1191', 'a2746', 'a2504', 'a1705', 'a1951', 'a3590', 'a1183', 'a1497', 'a1922', 'a2019', 'a1574', 'a2871', 'a2463', 'a2466', 'a3082', 'a888', 'a401', 'a3292', 'a1644', 'a297', 'a945', 'a376', 'a1344', 'a80', 'a2117', 'a3545', 'a3220', 'a2876', 'a2592', 'a2113', 'a2289', 'a537', 'a1564', 'a2118', 'a1472', 'a1794', 'a487', 'a3400', 'a2219', 'a3629', 'a1455', 'a3473', 'a2965', 'a2726', 'a441', 'a2741', 'a1950', 'a2815', 'a3521', 'a515', 'a2137', 'a793', 'a1640', 'a140', 'a1254', 'a1290', 'a2120', 'a21', 'a17', 'a1604', 'a2575', 'a293', 'a2527', 'a604', 'a2173', 'a3539', 'a2878', 'a2756', 'a1818', 'a2538', 'a3467', 'a2905', 'a2961', 'a3202', 'a3506', 'a302', 'a1287', 'a3363', 'a2786', 'a739', 'a3073', 'a1627', 'a2081', 'a941', 'a1585', 'a1488', 'a2204', 'a3651', 'a1823', 'a1098', 'a3070', 'a1374', 'a557', 'a3090', 'a2566', 'a3633', 'a2529', 'a447', 'a2777', 'a2429', 'a118', 'a830', 'a608', 'a2892', 'a2606', 'a2821', 'a2615', 'a3447', 'a2435', 'a2157', 'a3498', 'a2964', 'a2446', 'a1103', 'a2300', 'a2797', 'a3212', 'a611', 'a639', 'a3179', 'a526', 'a3083', 'a3086', 'a2661', 'a614', 'a3482', 'a256', 'a668', 'a2531', 'a279', 'a1840', 'a1886', 'a1251', 'a2603', 'a2608', 'a3664', 'a2411', 'a240', 'a1228', 'a2249', 'a612', 'a511', 'a1602', 'a3450', 'a2845', 'a2813', 'a2800', 'a1540', 'a2763', 'a1987', 'a142', 'a1739', 'a2874', 'a2773', 'a2062', 'a1855', 'a3427', 'a606', 'a2717', 'a1282', 'a2175', 'a2224', 'a2124', 'a2275', 'a1656', 'a583', 'a895', 'a2265', 'a564', 'a2441', 'a2437', 'a1132', 'a2178', 'a2791', 'a759', 'a3469', 'a3224', 'a508', 'a1928', 'a2942', 'a3327', 'a533', 'a1978', 'a65', 'a1212', 'a1921', 'a519', 'a3468', 'a851', 'a2823', 'a1548', 'a87', 'a2595', 'a2470', 'a2703', 'a3355', 'a685', 'a2716', 'a1929', 'a730', 'a2126', 'a2359', 'a839', 'a1596', 'a3546', 'a585', 'a2610', 'a3636', 'a3635', 'a837', 'a3507', 'a3509', 'a2111', 'a3474', 'a1288', 'a2675', 'a3566', 'a84', 'a2013', 'a419', 'a2721', 'a2114', 'a2180', 'a2886', 'a2258', 'a1504', 'a2505', 'a2748', 'a3059', 'a1706', 'a121', 'a2977', 'a1267', 'a2507', 'a2206', 'a2589', 'a3289', 'a755', 'a1687', 'a569', 'a2922', 'a2572', 'a2202', 'a1250', 'a244', 'a2926', 'a3387', 'a2485', 'a1847', 'a1790', 'a298', 'a2496', 'a2923', 'a1167', 'a1746', 'a151', 'a2828', 'a671', 'a3459', 'a1684', 'a135', 'a2509', 'a146', 'a2653', 'a2601', 'a2263', 'a3390', 'a3645', 'a609', 'a1903', 'a2747', 'a2450', 'a246', 'a2268', 'a1878', 'a216', 'a528', 'a1358', 'a600', 'a1753', 'a2859', 'a1372', 'a2149', 'a479', 'a2848', 'a2424', 'a2422', 'a1166', 'a2543', 'a1295', 'a1218', 'a2561', 'a1296', 'a3640', 'a1988', 'a2373', 'a468', 'a2421', 'a257', 'a3319', 'a2544', 'a2414', 'a3650', 'a3505', 'a2673', 'a1870', 'a2783', 'a1650', 'a1489', 'a2619', 'a1163', 'a579', 'a112', 'a3333', 'a2882', 'a3543', 'a2620', 'a26', 'a475', 'a2754', 'a467', 'a1827', 'a3403', 'a1982', 'a3476', 'a3194', 'a263', 'a2189', 'a2182', 'a83', 'a2071', 'a1811', 'a3421', 'a1586', 'a275', 'a301', 'a3377', 'a2177', 'a2075', 'a1898', 'a2887', 'a2200', 'a610', 'a3536', 'a1568', 'a287', 'a868', 'a684', 'a368', 'a3624', 'a324', 'a3405', 'a2364', 'a2827', 'a1444', 'a3067', 'a2863', 'a1050', 'a1503', 'a459', 'a2857', 'a458', 'a677', 'a2807', 'a2627', 'a1213', 'a2969', 'a2941', 'a3328', 'a3553', 'a1832', 'a480', 'a648', 'a2581', 'a1846', 'a375', 'a496', 'a2751', 'a1302', 'a1725', 'a1284', 'a3313', 'a2560', 'a2884', 'a2236', 'a3580', 'a1161', 'a2829', 'a1270', 'a3084', 'a3568', 'a2980', 'a2937', 'a2893', 'a2418', 'a2210', 'a2023', 'a1856', 'a509', 'a326', 'a3522', 'a879', 'a2528', 'a2891', 'a547', 'a1957', 'a2501', 'a2536', 'a2389', 'a2946', 'a3641', 'a3644', 'a3533', 'a556', 'a2255', 'a2631', 'a2832', 'a2558', 'a2521', 'a2227', 'a1216', 'a1944', 'a512', 'a2183', 'a3656', 'a2488', 'a1584', 'a2607', 'a1456', 'a2924', 'a1795', 'a3458', 'a2855', 'a3554', 'a3491', 'a1113', 'a2548', 'a2554', 'a682', 'a3503', 'a2614', 'a1370', 'a2956', 'a495', 'a2340', 'a1378', 'a2286', 'a477', 'a61', 'a223', 'a3460', 'a3353', 'a2029', 'a3339', 'a258', 'a944', 'a282', 'a926', 'a546', 'a524', 'a3356', 'a2516', 'a3352', 'a1699', 'a2102', 'a3077', 'a2774', 'a1208', 'a1104', 'a1546', 'a68', 'a2952', 'a79', 'a3176', 'a2027', 'a2541', 'a1924', 'a2082', 'a3268', 'a2533', 'a2304', 'a2080', 'a249', 'a295', 'a2700', 'a1506', 'a1529', 'a2904', 'a1668', 'a304', 'a3461', 'a1394', 'a2935', 'a2975', 'a3382', 'a3209', 'a1698', 'a3322', 'a536', 'a1747', 'a2357', 'a2517', 'a2246', 'a1688', 'a849', 'a848', 'a2576', 'a1765', 'a2951', 'a2144', 'a3357', 'a310', 'a1942', 'a1278', 'a2877', 'a602', 'a7', 'a2551', 'a2822', 'a2795', 'a2358', 'a2532', 'a122', 'a2629', 'a2046', 'a2032', 'a2955', 'a2844', 'a2356', 'a3638', 'a3591', 'a1757', 'a2409', 'a1826', 'a82', 'a86', 'a3540', 'a1917', 'a2557', 'a1367', 'a3567', 'a1395', 'a3183', 'a3647', 'a2362', 'a1780', 'a3226', 'a3564', 'a2869', 'a1728', 'a85', 'a2034', 'a2847', 'a781', 'a2468', 'a281', 'a2372', 'a241', 'a2453', 'a2752', 'a2864', 'a1949', 'a3548', 'a2465', 'a1916', 'a3266', 'a3606', 'a3472', 'a2574', 'a1945', 'a957', 'a3494', 'a1461', 'a2668', 'a2537', 'a2655', 'a3470', 'a1588', 'a1902', 'a2105', 'a436', 'a2945', 'a2107', 'a2872', 'a810', 'a2331', 'a3264', 'a1352', 'a3093', 'a2253', 'a3652', 'a847', 'a2371', 'a584', 'a1689', 'a2440', 'a2341', 'a1624', 'a2858', 'a1451', 'a1465', 'a2958', 'a1754', 'a3341', 'a3602', 'a2448', 'a2612', 'a3195', 'a1531', 'a2223', 'a804', 'a2073', 'a2881', 'a1866', 'a1683', 'a2443', 'a3625', 'a1955', 'a2165', 'a3263', 'a48', 'a2739', 'a2547', 'a1355', 'a2483', 'a3648', 'a2012', 'a2565', 'a2897', 'a1356', 'a1966', 'a2076', 'a3483', 'a78', 'a2415', 'a3510', 'a688', 'a2846', 'a582', 'a2662', 'a289', 'a2842', 'a3626', 'a890', 'a3406', 'a2078', 'a1943', 'a3423', 'a469', 'a9', 'a2499', 'a1695', 'a1392', 'a3557', 'a1398', 'a2425', 'a424', 'a1981', 'a2291', 'a1460', 'a3535', 'a1577', 'a3662', 'a1793', 'a2472', 'a2469', 'a1101', 'a1918', 'a1286', 'a10', 'a1217', 'a2439', 'a1390', 'a2770', 'a2910', 'a1764', 'a1236', 'a1272', 'a307', 'a227', 'a3486', 'a1722', 'a1824', 'a2489', 'a589', 'a2043', 'a3235', 'a224', 'a2817', 'a3332', 'a3484', 'a3643', 'a2486', 'a2153', 'a1857', 'a2850', 'a426', 'a1459', 'a2826', 'a1105', 'a2808', 'a902', 'a1873', 'a1674', 'a2250', 'a2369', 'a1502', 'a312', 'a3603', 'a456', 'a3621', 'a2194', 'a3586', 'a2193', 'a3057', 'a3383', 'a2514', 'a3501', 'a235', 'a2960', 'a1134', 'a1760', 'a1189', 'a2459', 'a2669', 'a866', 'a1255', 'a1958', 'a1986', 'a1841', 'a3495', 'a521', 'a2697', 'a2201', 'a1968', 'a3321', 'a3550', 'a2307', 'a2638', 'a1941', 'a2116', 'a1779', 'a2420', 'a2445', 'a3585', 'a3347', 'a2100', 'a1007', 'a3410', 'a2679', 'a3513', 'a2765', 'a1320', 'a2292', 'a1247', 'a1333', 'a1594', 'a1675', 'a2324', 'a2456', 'a2484', 'a566', 'a2160', 'a1927', 'a1346', 'a1096', 'a1914', 'a2678', 'a3547', 'a3223', 'a2480', 'a1666', 'a1952', 'a1322', 'a2348', 'a67', 'a465', 'a3515', 'a823', 'a2047', 'a2447', 'a474', 'a2801', 'a1732', 'a2757', 'a2621', 'a2684', 'a2387', 'a29', 'a1159', 'a2419', 'a3323', 'a1743', 'a3180', 'a2917', 'a268', 'a1354', 'a2758', 'a1691', 'a561', 'a2571', 'a2701', 'a2605', 'a3632', 'a2776', 'a2738', 'a3193', 'a62', 'a2045', 'a3605', 'a2611', 'a1863', 'a2184', 'a5', 'a1277', 'a1996', 'a2609', 'a2596', 'a1778', 'a1744', 'a1770', 'a601', 'a2767', 'a3088', 'a3279', 'a1089', 'a3563', 'a809', 'a1850', 'a2628', 'a1851', 'a1197', 'a1920', 'a2333', 'a2072', 'a2462', 'a278', 'a2067', 'a3399', 'a2185', 'a2636', 'a2775', 'a3668', 'a3534', 'a1915', 'a1858', 'a1762', 'a2841', 'a3329', 'a3290', 'a409', 'a1572', 'a1880', 'a2231', 'a2511', 'a1629', 'a1348', 'a1351', 'a2657', 'a2229', 'a2380', 'a1315', 'a1317', 'a2266', 'a2493', 'a2580', 'a1220', 'a1535', 'a817', 'a1844', 'a3619', 'a2438', 'a2042', 'a1741', 'a514', 'a3392', 'a2343', 'a423', 'a1871', 'a3278', 'a3570', 'a1575', 'a2015', 'a1509', 'a1193', 'a3663', 'a3311', 'a1360', 'a3654', 'a2326', 'a3374', 'a2736', 'a143', 'a3628', 'a2031', 'a840', 'a2430', 'a2689', 'a3480', 'a3402', 'a2033', 'a2519', 'a2010', 'a3087', 'a124', 'a3451', 'a2852', 'a2835', 'a254', 'a3649', 'a2077', 'a529', 'a3225', 'a8', 'a272', 'a2217', 'a2386', 'a3316', 'a3596', 'a1643', 'a2444', 'a311', 'a2159', 'a1207', 'a1859', 'a3614', 'a586', 'a130', 'a1965', 'a2523', 'a864', 'a2784', 'a3277', 'a1240', 'a2839', 'a3519', 'a2368', 'a3558', 'a445', 'a2573', 'a1719', 'a3637', 'a3576', 'a3462', 'a2880', 'a1614', 'a2431', 'a2682', 'a2145', 'a133', 'a2811', 'a1323', 'a3307', 'a3488', 'a3571', 'a19', 'a1318', 'a2259', 'a2408', 'a577', 'a3597', 'a1173', 'a1923', 'a1845', 'a432', 'a3477', 'a853', 'a1696', 'a2455', 'a3274', 'a549', 'a2280', 'a3627', 'a2502', 'a2618', 'a72', 'a2556', 'a3520', 'a2508', 'a1853', 'a1655', 'a3452', 'a2376', 'a2168', 'a3275', 'a220', 'a2405', 'a296', 'a2473', 'a2687', 'a3448', 'a2476', 'a1774', 'a1576', 'a2065', 'a2686', 'a1636', 'a3674', 'a3630', 'a587', 'a2346', 'a3465', 'a588', 'a3282', 'a1821', 'a517', 'a2704', 'a2978', 'a1872', 'a3385', 'a3175', 'a3354', 'a1055', 'a1371', 'a2152', 'a2475', 'a2337', 'a1879', 'a3463', 'a824', 'a1690', 'a1477', 'a3317', 'a2856', 'a1786', 'a145', 'a3479', 'a2555', 'a2979', 'a114', 'a60', 'a2539', 'a1349', 'a1215', 'a3642', 'a1849', 'a1787', 'a907', 'a3496', 'a3295', 'a1171', 'a1514', 'a1733', 'a2737', 'a2297', 'a1184', 'a2212', 'a2407', 'a520', 'a2251', 'a2482', 'a622', 'a3444', 'a2330', 'a1663', 'a3604', 'a1961', 'a2094', 'a2385', 'a2487', 'a1569', 'a3659', 'a3360', 'a3210', 'a873', 'a3269', 'a2040', 'a2436', 'a1707', 'a3617', 'a3318', 'a1364', 'a2433', 'a894', 'a1854', 'a2025', 'a2648', 'a2582', 'a2866', 'a2148', 'a814', 'a3285', 'a1578', 'a2156', 'a1168', 'a597', 'a2593', 'a3309', 'a761', 'a1932', 'a2613', 'a1209', 'a55', 'a513', 'a3492', 'a1116', 'a3526', 'a826', 'a2625', 'a2705', 'a452', 'a1491', 'a489', 'a2366', 'a2683', 'a2264', 'a1224', 'a2567', 'a2417', 'a237', 'a2457', 'a1053', 'a3490', 'a1974', 'a2242', 'a2099', 'a1776', 'a2449', 'a2901', 'a3577', 'a1709', 'a2798', 'a410', 'a2360', 'a2240', 'a1561', 'a1597', 'a1990', 'a2794', 'a2454', 'a2831', 'a798', 'a2092', 'a3615', 'a2867', 'a1300', 'a1570', 'a2586', 'a3344', 'a1466', 'a1476', 'a3379', 'a2522', 'a1086', 'a1628', 'a2714', 'a3350', 'a2284', 'a2053', 'a3569', 'a3091', 'a3089', 'a3653', 'a2310', 'a540', 'a2256', 'a2479', 'a2553', 'a1991', 'a2666', 'a1341', 'a1839', 'a2143', 'a3435', 'a3671', 'a3512', 'a1989', 'a1610', 'a3401', 'a1909', 'a1717', 'a3178', 'a1010', 'a3189', 'a2216', 'a3231', 'a3267', 'a1836', 'a3572', 'a2274', 'a2287', 'a889', 'a3286', 'a1391', 'a3541', 'a2972', 'a3601', 'a1202', 'a1618', 'a912', 'a1080', 'a3538', 'a2382', 'a1867', 'a2630', 'a3574', 'a1439', 'a1771', 'a1152', 'a2681', 'a2740', 'a3589', 'a2685', 'a2568', 'a2022', 'a3362', 'a1486', 'a2843', 'a2492', 'a1900', 'a2129', 'a882', 'a3578', 'a460', 'a234', 'a802', 'a3453', 'a1129', 'a1605', 'a2103', 'a2199', 'a2693', 'a2093', 'a2209', 'a2676', 'a2383', 'a1682', 'a3191', 'a3464', 'a1828', 'a3236', 'a2230', 'a786', 'a1151', 'a2552', 'a2211', 'a1711', 'a2142', 'a3221', 'a2390', 'a2413', 'a1860', 'a1082', 'a3612', 'a2510', 'a1013', 'a1306', 'a1906', 'a3229', 'a795', 'a2069', 'a2163', 'a3218', 'a1186', 'a2008', 'a1457', 'a3646', 'a3433', 'a1441', 'a783', 'a1755', 'a2052', 'a1056', 'a2158', 'a3560', 'a3583', 'a1237', 'a1517', 'a3598', 'a1314', 'a1234', 'a2325', 'a1913', 'a3673', 'a884', 'a3655', 'a1108', 'a2645', 'a3177', 'a572', 'a2654', 'a1789', 'a1999', 'a2066', 'a2656', 'a2097', 'a97', 'a527', 'a2632', 'a2633', 'a1383', 'a2243', 'a2384', 'a2623', 'a852', 'a1904', 'a2379', 'a2667', 'a2642', 'a2074', 'a2079', 'a2161', 'a3190', 'a2590', 'a1297', 'a2172', 'a2167', 'a1591', 'a3085', 'a1769', 'a2041', 'a2106', 'a3271', 'a2452', 'a565', 'a2659', 'a209', 'a1275', 'a1521', 'a2294', 'a2634', 'a3222', 'a3593', 'a305', 'a3331', 'a1345', 'a3584', 'a542', 'a1111', 'a164', 'a3455', 'a1567', 'a1768', 'a3582', 'a3364', 'a3549', 'a2068', 'a3634', 'a2244', 'a308', 'a3555', 'a2190', 'a2226', 'a1848', 'a2381', 'a2166', 'a218', 'a1875', 'a594', 'a3613', 'a1342', 'a3376', 'a3537', 'a2238', 'a2635', 'a54', 'a2378', 'a1153', 'a404', 'a403', 'a1144', 'a2495', 'a3303', 'a3532', 'a1480', 'a1534', 'a2261', 'a2579', 'a1571', 'a2600', 'a1283', 'a1084', 'a2597', 'a3301', 'a3665', 'a1608', 'a2570', 'a3230', 'a2037', 'a3287', 'a573', 'a1059', 'a1263', 'a1874', 'a2426', 'a1724', 'a2135', 'a1199', 'a2401', 'a3196', 'a2688', 'a1245', 'a3308', 'a1838', 'a1145', 'a2313', 'a580', 'a105', 'a1861', 'a2671', 'a1697', 'a2288', 'a2670', 'a3273', 'a2207', 'a2309', 'a1142', 'a1634', 'a3669', 'a2311', 'a1852', 'a3395', 'a2070', 'a4', 'a1557', 'a1319', 'a3358', 'a1972', 'a2410', 'a2260', 'a1118', 'a3304', 'a1935', 'a1549', 'a1522', 'a2269', 'a3340', 'a1868', 'a2063', 'a1555', 'a2677', 'a3565', 'a3551', 'a2151', 'a1562', 'a1147', 'a2546', 'a3523', 'a2028', 'a1311', 'a1703', 'a858', 'a1206', 'a2279', 'a1998', 'a1612', 'a2308', 'a2213', 'a1210', 'a1475', 'a1309', 'a1749', 'a3348', 'a1625', 'a3337', 'a113', 'a1742', 'a1117', 'a2245', 'a3511', 'a1350', 'a2051', 'a3314', 'a3276', 'a1761', 'a3205', 'a914', 'a3524', 'a618', 'a1471', 'a3343', 'a444', 'a2090', 'a2095', 'a3487', 'a1727', 'a616', 'a2883', 'a2363', 'a3300', 'a2098', 'a2569', 'a3600', 'a1481', 'a2696', 'a2101', 'a2690', 'a2810', 'a1264', 'a1375', 'a1726', 'a2322', 'a3527', 'a2302', 'a2150', 'a3302', 'a1231', 'a3639', 'a3525', 'a2691', 'a233', 'a906', 'a402', 'a1559', 'a3618', 'a1201', 'a2162', 'a2257', 'a2404', 'a3272', 'a2017', 'a1772', 'a1633', 'a2220', 'a2477', 'a686', 'a2039', 'a1135', 'a2026', 'a862', 'a3544', 'a1611', 'a1864', 'a2474', 'a993', 'a3622', 'a2639', 'a2187', 'a3291', 'a1198', 'a833', 'a1620', 'a2276', 'a1631', 'a1834', 'a2665', 'a2303', 'a2002', 'a1140', 'a1700', 'a2254', 'a1049', 'a1869', 'a2235', 'a1573', 'a3334', 'a1937', 'a3284', 'a3213', 'a2136', 'a1723', 'a846', 'a3611', 'a1054', 'a1603', 'a1447', 'a111', 'a3456', 'a2196', 'a2115', 'a2049', 'a1775', 'a2050', 'a1470', 'a3581', 'a3398', 'a3270', 'a2283', 'a3466', 'a405', 'a1899', 'a892', 'a1174', 'a225', 'a476', 'a2123', 'a1523', 'a2674', 'a1702', 'a1653', 'a1654', 'a2228', 'a1261', 'a3214', 'a2036', 'a3217', 'a3440', 'a3310', 'a3445', 'a3595', 'a1721', 'a576', 'a3335', 'a1613', 'a2377', 'a3430', 'a1701', 'a2021', 'a1169', 'a3216', 'a2277', 'a1759', 'a1310', 'a1221', 'a2296', 'a3228', 'a2637', 'a1482', 'a1445', 'a2650', 'a3587', 'a1752', 'a1692', 'a3559', 'a2132', 'a3516', 'a3296', 'a1788', 'a1446', 'a2272', 'a57', 'a1621', 'a578', 'a1241', 'a2643', 'a2089', 'a2626', 'a3187', 'a2281', 'a2282', 'a3620', 'a3200', 'a1492', 'a3397', 'a3188', 'a3366', 'a1756', 'a2278', 'a1127', 'a3206', 'a2622', 'a3426', 'a1537', 'a2306', 'a3185', 'a861', 'a3186']\n",
      "\n",
      "There are 359 actors in this cluster.\n",
      "['a1076', 'a768', 'a631', 'a407', 'a1507', 'a1435', 'a921', 'a1436', 'a893', 'a1505', 'a3378', 'a363', 'a1381', 'a595', 'a801', 'a1079', 'a812', 'a3369', 'a773', 'a1366', 'a816', 'a152', 'a393', 'a1442', 'a775', 'a834', 'a1181', 'a222', 'a11', 'a440', 'a1232', 'a52', 'a1524', 'a598', 'a466', 'a2139', 'a90', 'a50', 'a101', 'a807', 'a3561', 'a2305', 'a1758', 'a88', 'a1363', 'a200', 'a462', 'a2222', 'a790', 'a1635', 'a203', 'a51', 'a821', 'a789', 'a1377', 'a820', 'a416', 'a850', 'a1077', 'a924', 'a1177', 'a503', 'a1225', 'a1384', 'a1373', 'a818', 'a854', 'a226', 'a285', 'a1329', 'a325', 'a794', 'a1176', 'a880', 'a777', 'a984', 'a904', 'a378', 'a1301', 'a771', 'a1556', 'a913', 'a791', 'a1280', 'a1305', 'a1170', 'a1123', 'a372', 'a461', 'a3518', 'a1926', 'a2273', 'a115', 'a94', 'a1558', 'a3414', 'a92', 'a2125', 'a1901', 'a603', 'a1907', 'a1164', 'a1222', 'a1100', 'a1244', 'a1783', 'a1223', 'a1454', 'a891', 'a865', 'a1291', 'a806', 'a1512', 'a835', 'a875', 'a994', 'a1091', 'a1962', 'a1185', 'a986', 'a434', 'a885', 'a836', 'a1639', 'a871', 'a1214', 'a905', 'a3375', 'a3368', 'a1437', 'a859', 'a516', 'a856', 'a1179', 'a593', 'a18', 'a1106', 'a1203', 'a1973', 'a2851', 'a815', 'a813', 'a47', 'a13', 'a412', 'a1385', 'a3441', 'a1560', 'a15', 'a2146', 'a2262', 'a803', 'a1178', 'a491', 'a3493', 'a2119', 'a3203', 'a1226', 'a1440', 'a1119', 'a3373', 'a980', 'a2140', 'a1313', 'a855', 'a1262', 'a1919', 'a992', 'a841', 'a3367', 'a1211', 'a910', 'a915', 'a1192', 'a887', 'a909', 'a1551', 'a1246', 'a2061', 'a3417', 'a3436', 'a1095', 'a202', 'a621', 'a778', 'a827', 'a792', 'a411', 'a1141', 'a56', 'a1131', 'a3388', 'a844', 'a1910', 'a1256', 'a776', 'a563', 'a53', 'a3372', 'a3672', 'a1784', 'a1195', 'a1338', 'a208', 'a119', 'a590', 'a2086', 'a1138', 'a58', 'a1626', 'a69', 'a1115', 'a1607', 'a620', 'a3349', 'a1175', 'a1085', 'a1552', 'a896', 'a435', 'a784', 'a1308', 'a1243', 'a3361', 'a1544', 'a210', 'a805', 'a1268', 'a1581', 'a985', 'a3416', 'a1615', 'a408', 'a1368', 'a1137', 'a3365', 'a2295', 'a769', 'a828', 'a3305', 'a1386', 'a774', 'a1205', 'a808', 'a1109', 'a1334', 'a901', 'a1938', 'a3215', 'a201', 'a2270', 'a3529', 'a1589', 'a1397', 'a1494', 'a206', 'a309', 'a89', 'a874', 'a899', 'a825', 'a1130', 'a1233', 'a1124', 'a1587', 'a2271', 'a415', 'a3657', 'a3592', 'a1196', 'a1312', 'a1335', 'a3342', 'a1081', 'a1657', 'a832', 'a995', 'a1617', 'a3396', 'a1609', 'a1235', 'a1547', 'a1265', 'a3370', 'a788', 'a845', 'a1665', 'a1259', 'a1379', 'a1107', 'a1194', 'a1110', 'a3575', 'a918', 'a872', 'a414', 'a1582', 'a417', 'a919', 'a1162', 'a16', 'a883', 'a1307', 'a878', 'a3485', 'a3530', 'a2214', 'a877', 'a1992', 'a811', 'a1994', 'a591', 'a1539', 'a3380', 'a911', 'a1619', 'a1623', 'a1180', 'a881', 'a1172', 'a1304', 'a867', 'a1936', 'a1242', 'a1273', 'a14', 'a903', 'a900', 'a3594', 'a1266', 'a898', 'a3443', 'a787', 'a982', 'a897', 'a1146', 'a1248', 'a831', 'a1260', 'a3384', 'a860', 'a1249', 'a838', 'a2147', 'a1121', 'a3199', 'a822', 'a1382', 'a829', 'a916', 'a1285', 'a908', 'a870', 'a1253', 'a1182', 'a1204', 'a1299', 'a869', 'a863']\n",
      "\n"
     ]
    }
   ],
   "source": [
    "for actor in actor_clusters:\n",
    "    print(f\"There are {len(actor)} actors in this cluster.\")\n",
    "    print(actor)\n",
    "    print()"
   ]
  },
  {
   "cell_type": "markdown",
   "metadata": {
    "colab_type": "text",
    "id": "6xfTd3eOzooZ"
   },
   "source": [
    "### Displaying similar *ACTOR* clusters"
   ]
  },
  {
   "cell_type": "code",
   "execution_count": 28,
   "metadata": {},
   "outputs": [
    {
     "name": "stdout",
     "output_type": "stream",
     "text": [
      "(3411, 128)\n"
     ]
    }
   ],
   "source": [
    "# 1. Data-preprocessing: Standardizing the actor data\n",
    "\n",
    "from sklearn.preprocessing import StandardScaler\n",
    "standardized_actor_data = StandardScaler().fit_transform(actor_embeddings)\n",
    "print(standardized_actor_data.shape)"
   ]
  },
  {
   "cell_type": "code",
   "execution_count": 29,
   "metadata": {},
   "outputs": [
    {
     "name": "stdout",
     "output_type": "stream",
     "text": [
      "(3411,)\n"
     ]
    }
   ],
   "source": [
    "# 2. Apply K-Means algorithm on the data by the using the best n_cluster\n",
    "\n",
    "# Since we got the best cost for clustering 3 actors, fitting the K-Means algorithm with 3 clusters.\n",
    "\n",
    "from sklearn.cluster import KMeans\n",
    "\n",
    "kmeans = KMeans(n_clusters=3)\n",
    "kmeans.fit(standardized_actor_data)\n",
    "predicted_actor_cluster = kmeans.predict(standardized_actor_data)\n",
    "\n",
    "print(predicted_actor_cluster.shape)"
   ]
  },
  {
   "cell_type": "code",
   "execution_count": 30,
   "metadata": {},
   "outputs": [
    {
     "name": "stdout",
     "output_type": "stream",
     "text": [
      "(3411, 2)\n"
     ]
    }
   ],
   "source": [
    "# 3. Apply T-SNE on the actors data\n",
    "\n",
    "from sklearn.manifold import TSNE\n",
    "\n",
    "chosen_model = TSNE \n",
    "\n",
    "model = chosen_model(n_components = 2, random_state = 42)\n",
    "# default perplexity = 30\n",
    "# default learning rate = 200\n",
    "# default number of iterations = 1000\n",
    "\n",
    "actors_data = model.fit_transform(standardized_actor_data)\n",
    "print(actors_data.shape)"
   ]
  },
  {
   "cell_type": "code",
   "execution_count": 31,
   "metadata": {},
   "outputs": [
    {
     "name": "stdout",
     "output_type": "stream",
     "text": [
      "(3, 3411)\n"
     ]
    }
   ],
   "source": [
    "# 4. Perform Vertical Stacking using vstack()\n",
    "\n",
    "required_actor_data = np.vstack((actors_data.T, predicted_actor_cluster.T))\n",
    "\n",
    "# print(required_actor_data)\n",
    "print(required_actor_data.shape)"
   ]
  },
  {
   "cell_type": "code",
   "execution_count": 32,
   "metadata": {},
   "outputs": [
    {
     "name": "stdout",
     "output_type": "stream",
     "text": [
      "Shape of the Actors dataframe: (3411, 3)\n",
      "\n",
      "Distribution of the actors across the 3 clusters\n",
      "1.0    2987\n",
      "0.0     356\n",
      "2.0      68\n",
      "Name: Label, dtype: int64\n"
     ]
    }
   ],
   "source": [
    "# 5. Convert Data into Pandas DataFrame\n",
    "\n",
    "tsne_actor_df = pd.DataFrame(data = required_actor_data.T, columns = (\"Col_1\", \"Col_2\", \"Label\"))\n",
    "\n",
    "print(\"Shape of the Actors dataframe:\", tsne_actor_df.shape)\n",
    "\n",
    "print()\n",
    "\n",
    "print(\"Distribution of the actors across the 3 clusters\")\n",
    "print(tsne_actor_df[\"Label\"].value_counts())"
   ]
  },
  {
   "cell_type": "code",
   "execution_count": 33,
   "metadata": {},
   "outputs": [
    {
     "data": {
      "image/png": "[encoded data removed]",
      "text/plain": [
       "<Figure size 483.875x432 with 1 Axes>"
      ]
     },
     "metadata": {
      "needs_background": "light"
     },
     "output_type": "display_data"
    }
   ],
   "source": [
    "# 6. T-SNE Visualization on the actors data\n",
    "\n",
    "import seaborn as sns\n",
    "sns.FacetGrid(tsne_actor_df, hue=\"Label\", size=6).map(plt.scatter, 'Col_1', 'Col_2').add_legend()\n",
    "\n",
    "plt.title(\"TSNE visualization of actors embedding\")\n",
    "plt.show()"
   ]
  },
  {
   "cell_type": "markdown",
   "metadata": {
    "colab_type": "text",
    "id": "oLtD_0HWzfFA"
   },
   "source": [
    "### Grouping *SIMILAR MOVIES*"
   ]
  },
  {
   "cell_type": "code",
   "execution_count": 34,
   "metadata": {},
   "outputs": [
    {
     "name": "stdout",
     "output_type": "stream",
     "text": [
      "Cluster having 3 similar movies grouped together has a cost: 3.102261140364234\n",
      "Cluster having 5 similar movies grouped together has a cost: 3.1264091194884434\n",
      "Cluster having 10 similar movies grouped together has a cost: 2.360428618787126\n",
      "Cluster having 30 similar movies grouped together has a cost: 2.1890245075608425\n",
      "Cluster having 50 similar movies grouped together has a cost: 1.8480538791231944\n",
      "Cluster having 100 similar movies grouped together has a cost: 1.5579375887107887\n",
      "Cluster having 200 similar movies grouped together has a cost: 1.3962600811464352\n",
      "Cluster having 500 similar movies grouped together has a cost: 1.213682553449796\n"
     ]
    }
   ],
   "source": [
    "from sklearn.cluster import KMeans\n",
    "\n",
    "number_of_clusters = [3, 5, 10, 30, 50, 100, 200, 500]\n",
    "costs = []\n",
    "\n",
    "for k in number_of_clusters:\n",
    "    movie_dict = {}\n",
    "    cost1_loc = 0\n",
    "    cost2_loc = 0\n",
    "    \n",
    "    clusters = [[] for i in range(k)]  \n",
    "    \n",
    "    kmeans  = KMeans(n_clusters = k, random_state = 42)\n",
    "    kmeans.fit(movie_embeddings)\n",
    "    labels = kmeans.labels_\n",
    "    \n",
    "    for index,label in enumerate(labels):\n",
    "        clusters[label].append(movie_nodes[index])\n",
    "        \n",
    "    graphs = get_bi_partit_graphs(clusters, B)\n",
    "    \n",
    "    for i in range(len(graphs)):\n",
    "        cost1_loc += cost1(graphs[i], k)\n",
    "        cost2_loc += cost2(graphs[i], k, 'movie')\n",
    "        \n",
    "    final_cost = cost1_loc * cost2_loc\n",
    "    \n",
    "    print(\"Cluster having\", k, \"similar movies grouped together has a cost:\", final_cost)\n",
    "    \n",
    "    costs.append(final_cost)"
   ]
  },
  {
   "cell_type": "markdown",
   "metadata": {},
   "source": [
    "### Observation\n",
    "\n",
    "##### *We get the best cost when 3 movies are clustered together.*"
   ]
  },
  {
   "cell_type": "markdown",
   "metadata": {},
   "source": [
    "### Fitting K-Means algorithm with the opimal number of clusters "
   ]
  },
  {
   "cell_type": "code",
   "execution_count": 35,
   "metadata": {},
   "outputs": [],
   "source": [
    "# Since we got the best cost for clustering 3 movies, fitting the K-Means algorithm with 3 clusters. \n",
    "\n",
    "kmeans = KMeans(n_clusters=3)\n",
    "kmeans.fit(movie_embeddings)\n",
    "cluster_number_for_data_points = kmeans.labels_\n",
    "movie_clusters = []\n",
    "unique = np.unique(cluster_number_for_data_points)\n",
    "dict_of_movie_nodes = dict(zip(movie_nodes, cluster_number_for_data_points))\n",
    "\n",
    "for number in unique:\n",
    "    cluster = []\n",
    "    for node, cluster_number in dict_of_movie_nodes.items():\n",
    "        if cluster_number == number:\n",
    "            cluster.append(node)\n",
    "    movie_clusters.append(cluster)"
   ]
  },
  {
   "cell_type": "markdown",
   "metadata": {},
   "source": [
    "### MOVIES grouped in respective clusters"
   ]
  },
  {
   "cell_type": "code",
   "execution_count": 36,
   "metadata": {},
   "outputs": [
    {
     "name": "stdout",
     "output_type": "stream",
     "text": [
      "There are 655 movies in this cluster.\n",
      "['m983', 'm914', 'm915', 'm1348', 'm294', 'm973', 'm850', 'm851', 'm306', 'm310', 'm716', 'm653', 'm847', 'm866', 'm943', 'm901', 'm345', 'm282', 'm305', 'm1331', 'm560', 'm340', 'm623', 'm291', 'm932', 'm848', 'm624', 'm856', 'm1336', 'm281', 'm974', 'm307', 'm913', 'm626', 'm715', 'm692', 'm1311', 'm290', 'm911', 'm621', 'm704', 'm283', 'm1339', 'm260', 'm926', 'm719', 'm1064', 'm1034', 'm366', 'm812', 'm343', 'm1192', 'm311', 'm293', 'm702', 'm706', 'm941', 'm944', 'm1081', 'm875', 'm288', 'm673', 'm625', 'm707', 'm265', 'm966', 'm1152', 'm1341', 'm648', 'm27', 'm240', 'm303', 'm1347', 'm667', 'm1014', 'm936', 'm1349', 'm903', 'm350', 'm362', 'm876', 'm1008', 'm962', 'm674', 'm1036', 'm537', 'm724', 'm361', 'm655', 'm975', 'm940', 'm1337', 'm809', 'm650', 'm723', 'm292', 'm1328', 'm357', 'm1217', 'm289', 'm1037', 'm280', 'm666', 'm309', 'm651', 'm708', 'm353', 'm1329', 'm1333', 'm713', 'm277', 'm1373', 'm339', 'm403', 'm349', 'm790', 'm627', 'm908', 'm284', 'm849', 'm882', 'm628', 'm662', 'm259', 'm705', 'm1327', 'm657', 'm1044', 'm837', 'm773', 'm325', 'm923', 'm949', 'm1226', 'm1035', 'm1066', 'm703', 'm1117', 'm720', 'm319', 'm1082', 'm697', 'm693', 'm649', 'm1118', 'm794', 'm916', 'm1074', 'm636', 'm1345', 'm1326', 'm814', 'm969', 'm1077', 'm286', 'm652', 'm631', 'm783', 'm669', 'm686', 'm1084', 'm287', 'm971', 'm788', 'm635', 'm299', 'm832', 'm815', 'm997', 'm927', 'm330', 'm656', 'm684', 'm647', 'm492', 'm1370', 'm760', 'm700', 'm968', 'm826', 'm763', 'm857', 'm998', 'm276', 'm825', 'm899', 'm976', 'm638', 'm527', 'm320', 'm297', 'm342', 'm681', 'm344', 'm355', 'm295', 'm308', 'm1335', 'm1305', 'm1040', 'm246', 'm787', 'm931', 'm629', 'm665', 'm300', 'm810', 'm699', 'm938', 'm679', 'm910', 'm676', 'm1073', 'm922', 'm329', 'm768', 'm545', 'm1325', 'm335', 'm354', 'm331', 'm278', 'm1010', 'm855', 'm728', 'm1322', 'm920', 'm622', 'm302', 'm1068', 'm644', 'm1351', 'm296', 'm274', 'm821', 'm1320', 'm315', 'm685', 'm767', 'm654', 'm332', 'm680', 'm841', 'm764', 'm352', 'm557', 'm1071', 'm904', 'm275', 'm1186', 'm701', 'm1058', 'm1078', 'm610', 'm326', 'm792', 'm496', 'm682', 'm1334', 'm518', 'm645', 'm912', 'm1003', 'm1041', 'm346', 'm758', 'm323', 'm336', 'm762', 'm784', 'm1009', 'm322', 'm772', 'm774', 'm967', 'm791', 'm1032', 'm813', 'm1332', 'm241', 'm524', 'm977', 'm757', 'm358', 'm1344', 'm696', 'm980', 'm646', 'm709', 'm365', 'm1176', 'm852', 'm1216', 'm1055', 'm928', 'm945', 'm694', 'm324', 'm691', 'm364', 'm714', 'm608', 'm894', 'm1119', 'm530', 'm811', 'm671', 'm1174', 'm522', 'm1340', 'm515', 'm695', 'm273', 'm951', 'm313', 'm262', 'm722', 'm595', 'm1039', 'm668', 'm1308', 'm1356', 'm465', 'm263', 'm1144', 'm268', 'm1069', 'm523', 'm1043', 'm711', 'm1233', 'm341', 'm795', 'm1007', 'm348', 'm334', 'm356', 'm873', 'm822', 'm939', 'm301', 'm893', 'm1080', 'm721', 'm970', 'm333', 'm670', 'm243', 'm1338', 'm512', 'm1085', 'm304', 'm839', 'm934', 'm521', 'm1303', 'm630', 'm1202', 'm239', 'm1004', 'm874', 'm793', 'm688', 'm250', 'm754', 'm633', 'm360', 'm327', 'm756', 'm491', 'm249', 'm490', 'm495', 'm789', 'm363', 'm1072', 'm1061', 'm525', 'm1079', 'm238', 'm640', 'm316', 'm531', 'm609', 'm718', 'm1324', 'm765', 'm359', 'm1346', 'm738', 'm642', 'm1227', 'm907', 'm1033', 'm766', 'm1359', 'm1067', 'm338', 'm1065', 'm712', 'm1005', 'm978', 'm658', 'm252', 'm1343', 'm1358', 'm677', 'm247', 'm487', 'm321', 'm234', 'm1354', 'm347', 'm1309', 'm1190', 'm245', 'm881', 'm1352', 'm513', 'm717', 'm535', 'm611', 'm1330', 'm917', 'm879', 'm1304', 'm727', 'm526', 'm285', 'm1062', 'm900', 'm1063', 'm317', 'm643', 'm1197', 'm929', 'm632', 'm639', 'm1221', 'm1076', 'm805', 'm538', 'm271', 'm312', 'm318', 'm556', 'm661', 'm264', 'm761', 'm972', 'm508', 'm498', 'm514', 'm486', 'm1086', 'm683', 'm1301', 'm1164', 'm739', 'm529', 'm520', 'm528', 'm367', 'm1201', 'm740', 'm1355', 'm735', 'm690', 'm328', 'm272', 'm687', 'm659', 'm1360', 'm1365', 'm298', 'm785', 'm236', 'm1180', 'm865', 'm1353', 'm755', 'm1083', 'm883', 'm820', 'm672', 'm1038', 'm1142', 'm1307', 'm698', 'm753', 'm494', 'm1288', 'm534', 'm689', 'm539', 'm1262', 'm532', 'm1070', 'm607', 'm50', 'm1145', 'm618', 'm619', 'm737', 'm786', 'm726', 'm948', 'm267', 'm482', 'm540', 'm637', 'm536', 'm1302', 'm710', 'm1075', 'm771', 'm846', 'm641', 'm493', 'm10', 'm775', 'm1234', 'm950', 'm59', 'm759', 'm484', 'm1310', 'm734', 'm663', 'm732', 'm483', 'm1377', 'm351', 'm1289', 'm279', 'm558', 'm1165', 'm733', 'm368', 'm511', 'm1321', 'm1235', 'm725', 'm507', 'm660', 'm568', 'm675', 'm1368', 'm770', 'm244', 'm1006', 'm1057', 'm481', 'm503', 'm1287', 'm1254', 'm269', 'm488', 'm485', 'm533', 'm258', 'm237', 'm261', 'm516', 'm1042', 'm634', 'm896', 'm612', 'm1161', 'm1342', 'm1306', 'm828', 'm818', 'm519', 'm517', 'm547', 'm509', 'm337', 'm266', 'm678', 'm731', 'm752', 'm872', 'm501', 'm505', 'm1141', 'm1364', 'm868', 'm979', 'm546', 'm314', 'm502', 'm437', 'm906', 'm567', 'm870', 'm504', 'm869', 'm548', 'm827', 'm842', 'm844', 'm747', 'm919', 'm1054', 'm817', 'm1362', 'm489', 'm480', 'm270', 'm664', 'm500', 'm510', 'm935', 'm235', 'm871', 'm497', 'm549', 'm233', 'm867', 'm955', 'm479', 'm1242', 'm543', 'm1146', 'm736', 'm478', 'm1315', 'm506', 'm730', 'm617', 'm251', 'm542', 'm541', 'm895', 'm1137', 'm1171', 'm1312', 'm107', 'm838', 'm776', 'm953', 'm864', 'm1053', 'm257', 'm1056', 'm858', 'm620', 'm570', 'm499', 'm232', 'm454', 'm823', 'm374', 'm66']\n",
      "\n",
      "There are 193 movies in this cluster.\n",
      "['m1094', 'm1111', 'm67', 'm1100', 'm1095', 'm1001', 'm1112', 'm1114', 'm1096', 'm1113', 'm75', 'm453', 'm126', 'm987', 'm1097', 'm816', 'm1261', 'm1022', 'm157', 'm121', 'm32', 'm1357', 'm1232', 'm148', 'm990', 'm1220', 'm147', 'm1106', 'm154', 'm1000', 'm1090', 'm26', 'm796', 'm964', 'm122', 'm1272', 'm988', 'm1024', 'm1092', 'm1011', 'm115', 'm1023', 'm1169', 'm1108', 'm1045', 'm159', 'm155', 'm421', 'm1098', 'm1101', 'm165', 'm963', 'm125', 'm995', 'm565', 'm129', 'm982', 'm1093', 'm989', 'm127', 'm1019', 'm477', 'm429', 'm73', 'm1253', 'm1239', 'm743', 'm135', 'm616', 'm389', 'm985', 'm1016', 'm230', 'm599', 'm141', 'm1049', 'm1102', 'm986', 'm1048', 'm1030', 'm584', 'm128', 'm1116', 'm960', 'm551', 'm145', 'm1103', 'm1026', 'm30', 'm577', 'm1013', 'm452', 'm162', 'm1020', 'm34', 'm1012', 'm947', 'm120', 'm956', 'm84', 'm31', 'm1046', 'm1029', 'm219', 'm152', 'm1110', 'm221', 'm88', 'm385', 'm959', 'm1099', 'm443', 'm380', 'm769', 'm223', 'm984', 'm1089', 'm890', 'm146', 'm83', 'm614', 'm1091', 'm601', 'm1027', 'm991', 'm150', 'm55', 'm39', 'm957', 'm134', 'm475', 'm1170', 'm544', 'm800', 'm1021', 'm228', 'm992', 'm615', 'm996', 'm1025', 'm160', 'm981', 'm118', 'm222', 'm163', 'm1047', 'm86', 'm231', 'm428', 'm613', 'm451', 'm472', 'm1051', 'm61', 'm802', 'm563', 'm859', 'm993', 'm161', 'm1017', 'm891', 'm572', 'm119', 'm552', 'm1088', 'm144', 'm11', 'm373', 'm158', 'm954', 'm218', 'm1002', 'm1107', 'm151', 'm999', 'm606', 'm143', 'm108', 'm892', 'm965', 'm227', 'm1104', 'm958', 'm994', 'm156', 'm164', 'm63', 'm1015', 'm60', 'm1018', 'm1050', 'm1105', 'm961']\n",
      "\n",
      "There are 444 movies in this cluster.\n",
      "['m376', 'm25', 'm902', 'm1213', 'm918', 'm377', 'm430', 'm112', 'm1138', 'm1372', 'm1172', 'm924', 'm1248', 'm1189', 'm1284', 'm587', 'm1263', 'm1212', 'm1198', 'm1159', 'm242', 'm1374', 'm116', 'm215', 'm1225', 'm1185', 'm111', 'm1052', 'm1200', 'm1151', 'm399', 'm1230', 'm909', 'm1148', 'm1223', 'm1163', 'm1300', 'm937', 'm1366', 'm37', 'm169', 'm1162', 'm942', 'm396', 'm573', 'm433', 'm1290', 'm745', 'm862', 'm416', 'm860', 'm420', 'm1260', 'm1140', 'm442', 'm1222', 'm388', 'm1237', 'm1251', 'm179', 'm168', 'm853', 'm1243', 'm905', 'm829', 'm5', 'm798', 'm925', 'm113', 'm1241', 'm1187', 'm415', 'm208', 'm586', 'm1210', 'm1244', 'm1314', 'm1255', 'm1155', 'm603', 'm1153', 'm729', 'm1376', 'm1150', 'm933', 'm407', 'm398', 'm1188', 'm132', 'm411', 'm897', 'm574', 'm830', 'm1268', 'm1160', 'm1257', 'm1178', 'm425', 'm824', 'm1157', 'm582', 'm592', 'm898', 'm1196', 'm395', 'm593', 'm114', 'm186', 'm571', 'm174', 'm172', 'm799', 'm1273', 'm131', 'm1270', 'm203', 'm888', 'm1259', 'm1207', 'm1139', 'm1282', 'm877', 'm406', 'm1154', 'm835', 'm807', 'm210', 'm1194', 'm417', 'm1191', 'm1361', 'm596', 'm843', 'm1211', 'm1274', 'm1367', 'm840', 'm74', 'm589', 'm1173', 'm1236', 'm1181', 'm69', 'm833', 'm880', 'm600', 'm441', 'm1231', 'm440', 'm1250', 'm189', 'm808', 'm854', 'm1149', 'm402', 'm1177', 'm438', 'm386', 'm1278', 'm1193', 'm199', 'm117', 'm946', 'm550', 'm1246', 'm1158', 'm579', 'm1285', 'm426', 'm184', 'm419', 'm797', 'm405', 'm1206', 'm1378', 'm834', 'm248', 'm1205', 'm1297', 'm581', 'm173', 'm1258', 'm1183', 'm598', 'm1281', 'm585', 'm378', 'm194', 'm200', 'm836', 'm384', 'm383', 'm831', 'm1380', 'm1204', 'm575', 'm801', 'm214', 'm434', 'm444', 'm1228', 'm1295', 'm205', 'm590', 'm204', 'm1147', 'm1031', 'm176', 'm559', 'm177', 'm1267', 'm1252', 'm209', 'm930', 'm576', 'm201', 'm192', 'm387', 'm187', 'm1199', 'm180', 'm410', 'm1214', 'm1219', 'm3', 'm845', 'm594', 'm195', 'm1215', 'm1286', 'm394', 'm436', 'm418', 'm1279', 'm413', 'm213', 'm431', 'm439', 'm212', 'm1245', 'm1249', 'm171', 'm188', 'm182', 'm175', 'm1283', 'm1209', 'm1256', 'm1208', 'm583', 'm427', 'm578', 'm375', 'm397', 'm1294', 'm1313', 'm211', 'm1238', 'm193', 'm136', 'm1182', 'm746', 'm742', 'm124', 'm379', 'm1175', 'm744', 'm566', 'm198', 'm1184', 'm1264', 'm921', 'm40', 'm1269', 'm65', 'm36', 'm804', 'm803', 'm1298', 'm190', 'm1266', 'm401', 'm207', 'm1291', 'm381', 'm464', 'm191', 'm1369', 'm1275', 'm1350', 'm1276', 'm393', 'm1280', 'm178', 'm1296', 'm1240', 'm4', 'm1277', 'm1156', 'm391', 'm224', 'm196', 'm602', 'm1375', 'm580', 'm424', 'm226', 'm459', 'm1265', 'm1224', 'm149', 'm476', 'm468', 'm1292', 'm819', 'm1379', 'm1319', 'm166', 'm1293', 'm87', 'm101', 'm51', 'm952', 'm390', 'm1323', 'm409', 'm1028', 'm52', 'm140', 'm38', 'm455', 'm100', 'm466', 'm779', 'm206', 'm1247', 'm469', 'm369', 'm185', 'm561', 'm99', 'm1271', 'm780', 'm9', 'm49', 'm422', 'm863', 'm220', 'm408', 'm64', 'm460', 'm382', 'm470', 'm1195', 'm1381', 'm1143', 'm153', 'm1115', 'm170', 'm414', 'm591', 'm1363', 'm886', 'm750', 'm133', 'm130', 'm1179', 'm142', 'm1229', 'm1218', 'm229', 'm597', 'm2', 'm7', 'm458', 'm62', 'm85', 'm137', 'm58', 'm467', 'm225', 'm123', 'm861', 'm392', 'm554', 'm423', 'm29', 'm604', 'm588', 'm461', 'm1109', 'm457', 'm183', 'm471', 'm751', 'm562', 'm474', 'm456', 'm564', 'm887', 'm181', 'm878', 'm463', 'm473', 'm197', 'm435', 'm41', 'm1318', 'm412', 'm98', 'm139', 'm82', 'm202', 'm35', 'm217', 'm555', 'm57', 'm33', 'm400', 'm749', 'm462', 'm432', 'm72', 'm68', 'm1299', 'm748', 'm889', 'm1087', 'm24', 'm8', 'm404', 'm48', 'm167', 'm110', 'm553', 'm1371', 'm1', 'm1203', 'm1317', 'm56', 'm569', 'm741', 'm28', 'm806']\n",
      "\n"
     ]
    }
   ],
   "source": [
    "for movie in movie_clusters:\n",
    "    print(f\"There are {len(movie)} movies in this cluster.\")\n",
    "    print(movie)\n",
    "    print()"
   ]
  },
  {
   "cell_type": "markdown",
   "metadata": {
    "colab_type": "text",
    "id": "fvhwPpX00EhA"
   },
   "source": [
    "### Displaying similar *MOVIE* clusters"
   ]
  },
  {
   "cell_type": "code",
   "execution_count": 37,
   "metadata": {},
   "outputs": [
    {
     "name": "stdout",
     "output_type": "stream",
     "text": [
      "(1292, 128)\n"
     ]
    }
   ],
   "source": [
    "# 1. Data-preprocessing: Standardizing the movie data\n",
    "\n",
    "from sklearn.preprocessing import StandardScaler\n",
    "standardized_movie_data = StandardScaler().fit_transform(movie_embeddings)\n",
    "print(standardized_movie_data.shape)"
   ]
  },
  {
   "cell_type": "code",
   "execution_count": 38,
   "metadata": {},
   "outputs": [
    {
     "name": "stdout",
     "output_type": "stream",
     "text": [
      "(1292,)\n"
     ]
    }
   ],
   "source": [
    "# 2. Apply K-Means algorithm on the data by the using the best n_cluster\n",
    "\n",
    "# Since we got the best cost for clustering 3 movies, fitting the K-Means algorithm with 3 clusters.\n",
    "\n",
    "from sklearn.cluster import KMeans\n",
    "\n",
    "kmeans = KMeans(n_clusters=3)\n",
    "kmeans.fit(standardized_movie_data)\n",
    "predicted_movie_cluster = kmeans.predict(standardized_movie_data)\n",
    "\n",
    "print(predicted_movie_cluster.shape)"
   ]
  },
  {
   "cell_type": "code",
   "execution_count": 39,
   "metadata": {},
   "outputs": [
    {
     "name": "stdout",
     "output_type": "stream",
     "text": [
      "(1292, 2)\n"
     ]
    }
   ],
   "source": [
    "# 3. Apply T-SNE on the movies data\n",
    "\n",
    "from sklearn.manifold import TSNE\n",
    "\n",
    "chosen_model = TSNE \n",
    "\n",
    "model = chosen_model(n_components = 2, random_state = 42)\n",
    "# default perplexity = 30\n",
    "# default learning rate = 200\n",
    "# default number of iterations = 1000\n",
    "\n",
    "movies_data = model.fit_transform(standardized_movie_data)\n",
    "print(movies_data.shape)"
   ]
  },
  {
   "cell_type": "code",
   "execution_count": 40,
   "metadata": {},
   "outputs": [
    {
     "name": "stdout",
     "output_type": "stream",
     "text": [
      "(3, 1292)\n"
     ]
    }
   ],
   "source": [
    "# 4. Perform Vertical Stacking using vstack()\n",
    "\n",
    "required_movie_data = np.vstack((movies_data.T, predicted_movie_cluster.T))\n",
    "\n",
    "# print(required_movie_data)\n",
    "print(required_movie_data.shape)"
   ]
  },
  {
   "cell_type": "code",
   "execution_count": 41,
   "metadata": {},
   "outputs": [
    {
     "name": "stdout",
     "output_type": "stream",
     "text": [
      "Shape of the Movie dataframe: (1292, 3)\n",
      "\n",
      "Distribution of the movies across the 3 clusters\n",
      "1.0    767\n",
      "0.0    305\n",
      "2.0    220\n",
      "Name: Label, dtype: int64\n"
     ]
    }
   ],
   "source": [
    "# 5. Convert Data into Pandas DataFrame\n",
    "\n",
    "tsne_movie_df = pd.DataFrame(data = required_movie_data.T, columns = (\"Col_1\", \"Col_2\", \"Label\"))\n",
    "\n",
    "print(\"Shape of the Movie dataframe:\", tsne_movie_df.shape)\n",
    "\n",
    "print()\n",
    "\n",
    "print(\"Distribution of the movies across the 3 clusters\")\n",
    "print(tsne_movie_df[\"Label\"].value_counts())"
   ]
  },
  {
   "cell_type": "code",
   "execution_count": 42,
   "metadata": {},
   "outputs": [
    {
     "data": {
      "image/png": "[encoded data removed]",
      "text/plain": [
       "<Figure size 483.875x432 with 1 Axes>"
      ]
     },
     "metadata": {
      "needs_background": "light"
     },
     "output_type": "display_data"
    }
   ],
   "source": [
    "# 6. T-SNE Visualization on the movies data\n",
    "\n",
    "import seaborn as sns\n",
    "sns.FacetGrid(tsne_movie_df, hue=\"Label\", size=6).map(plt.scatter, 'Col_1', 'Col_2').add_legend()\n",
    "\n",
    "plt.title(\"TSNE visualization of movies embedding\")\n",
    "plt.show()"
   ]
  }
 ],
 "metadata": {
  "colab": {
   "collapsed_sections": [],
   "name": "Clustering_Assignment.ipynb",
   "provenance": [],
   "toc_visible": true
  },
  "kernelspec": {
   "display_name": "Python 3",
   "language": "python",
   "name": "python3"
  },
  "language_info": {
   "codemirror_mode": {
    "name": "ipython",
    "version": 3
   },
   "file_extension": ".py",
   "mimetype": "text/x-python",
   "name": "python",
   "nbconvert_exporter": "python",
   "pygments_lexer": "ipython3",
   "version": "3.8.8"
  }
 },
 "nbformat": 4,
 "nbformat_minor": 1
}
