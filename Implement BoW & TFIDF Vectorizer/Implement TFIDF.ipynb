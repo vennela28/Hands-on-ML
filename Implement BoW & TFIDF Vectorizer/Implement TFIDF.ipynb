{
 "cells": [
  {
   "cell_type": "markdown",
   "metadata": {
    "colab_type": "text",
    "id": "h9464I-uxLiw"
   },
   "source": [
    "# Implement TFIDF"
   ]
  },
  {
   "cell_type": "markdown",
   "metadata": {
    "colab_type": "text",
    "id": "IvLvmewlxLix"
   },
   "source": [
    "<font face='georgia'>\n",
    "    \n",
    "   <h4><strong>What does TF-IDF mean?</strong></h4>\n",
    "\n",
    "   <p>    \n",
    "       TF-IDF stands for <b><em>Term Frequency-Inverse Document Frequency</em></b>, and the TF-IDF weight is a weight often used in information retrieval and text mining. This weight is a statistical measure used to evaluate how important a word is to a document in a collection or corpus. The importance increases proportionally to the number of times a word appears in the document but is offset by the frequency of the word in the corpus. Variations of the TF-IDF weighting scheme are often used by search engines as a central tool in scoring and ranking a document's relevance given a user query.\n",
    "</p>\n",
    "    \n",
    "   <p>\n",
    "One of the simplest ranking functions is computed by summing the TF-IDF for each query term; many more sophisticated ranking functions are variants of this simple model.\n",
    "</p>\n",
    "    \n",
    "   <p>\n",
    "TF-IDF can be successfully used for stop-words filtering in various subject fields including text summarization and classification.\n",
    "</p>\n",
    "    \n",
    "</font>"
   ]
  },
  {
   "cell_type": "markdown",
   "metadata": {
    "colab_type": "text",
    "id": "4XLaGFUMxLiy"
   },
   "source": [
    "<font face='georgia'>\n",
    "    <h4><strong>How to Compute:</strong></h4>\n",
    "\n",
    "Typically, the TF-IDF weight is composed by two terms: the first computes the normalized <b>Term Frequency (TF)</b>, aka. the number of times a word appears in a document, divided by the total number of words in that document; the second term is the <b>Inverse Document Frequency (IDF)</b>, computed as the logarithm of the number of the documents in the corpus divided by the number of documents where the specific term appears.\n",
    "\n",
    " <ul>\n",
    "    <li>\n",
    "<strong>TF:</strong> Term Frequency, which measures how frequently a term occurs in a document. Since every document is different in length, it is possible that a term would appear much more times in long documents than shorter ones. Thus, the term frequency is often divided by the document length (aka. the total number of terms in the document) as a way of normalization: <br>\n",
    "\n",
    "$TF(t) = \\frac{\\text{Number of times term t appears in a document}}{\\text{Total number of terms in the document}}.$\n",
    "</li>\n",
    "<li>\n",
    "<strong>IDF:</strong> Inverse Document Frequency, which measures how important a term is. While computing TF, all terms are considered equally important. However, it is known that certain terms, such as \"is\", \"of\", and \"that\", may appear a lot of times but have little importance. Thus we need to weigh down the frequent terms while scale up the rare ones, by computing the following: <br>\n",
    "\n",
    "$IDF(t) = \\log_{e}\\frac{\\text{Total  number of documents}} {\\text{Number of documents with term t in it}}.$\n",
    "    <p>\n",
    "for numerical stabiltiy we will be changing this formula little bit\n",
    "    </p>\n",
    "$IDF(t) = 1 + \\log_{e}\\frac{\\text{Total  number of documents}} {\\text{Number of documents with term t in it}}.$\n",
    "</li>\n",
    "</ul>\n",
    "\n",
    "<br>\n",
    "<h4><strong>Example</strong></h4>\n",
    "<p>\n",
    "\n",
    "Consider a document containing 100 words wherein the word cat appears 3 times. The term frequency (i.e., tf) for cat is then (3 / 100) = 0.03. Now, assume we have 10 million documents and the word cat appears in one thousand of these. Then, the inverse document frequency (i.e., idf) is calculated as log(10,000,000 / 1,000) = 4. Thus, the Tf-idf weight is the product of these quantities: 0.03 * 4 = 0.12.\n",
    "</p>\n",
    "</font>"
   ]
  },
  {
   "cell_type": "markdown",
   "metadata": {
    "colab_type": "text",
    "id": "dg2ooa4DxLiz"
   },
   "source": [
    "## 1. Build a TfidfVectorizer & compare its results with Sklearn"
   ]
  },
  {
   "cell_type": "markdown",
   "metadata": {
    "colab_type": "text",
    "id": "TAcTjhO8xLiz"
   },
   "source": [
    "<font face='georgia'>\n",
    "   \n",
    "<ul>\n",
    "    <li> Implementing TfidfVectorizer on a collection of text documents.</li>\n",
    "    <br>\n",
    "    <li> Compare the results of your own implementation of TfidfVectorizer with that of sklearns implemenation TfidfVectorizer.</li>\n",
    "    <br>\n",
    "    <li> Sklearn does few more tweaks in the implementation of its version of TfidfVectorizer, so to replicate the exact results you would need to add following things to your custom implementation of TfidfVectorizer:\n",
    "       <ol>\n",
    "        <li> Sklearn has its vocabulary generated from idf sorted in alphabetical order</li>\n",
    "        <li> Sklearn formula of idf is different from the standard textbook formula. Here the constant <strong>\"1\"</strong> is added to the numerator and denominator of the idf as if an extra document was seen containing every term in the collection exactly once, which prevents zero divisions.\n",
    "            \n",
    " $IDF(t) = 1+\\log_{e}\\frac{1\\text{ }+\\text{ Total  number of documents in collection}} {1+\\text{Number of documents with term t in it}}.$\n",
    "        </li>\n",
    "        <li> Sklearn applies L2-normalization on its output matrix.</li>\n",
    "        <li> The final output of sklearn tfidf vectorizer is a sparse matrix.</li>\n",
    "    </ol>\n",
    "    <br>\n",
    "    <li>Steps to follow:\n",
    "    <ol>\n",
    "        <li> You would have to write both fit and transform methods for your custom implementation of TfidfVectorizer.</li>\n",
    "        <li> Print out the alphabetically sorted voacb after you fit your data and check if its the same as that of the feature names from sklearn TfidfVectorizer. </li>\n",
    "        <li> Print out the idf values from your implementation and check if its the same as that of sklearns TfidfVectorizer idf values. </li>\n",
    "        <li> Once you get your voacb and idf values to be same as that of sklearns implementation of TfidfVectorizer, proceed to the below steps. </li>\n",
    "        <li> Make sure the output of your implementation is a sparse matrix. Before generating the final output, you need to normalize your sparse matrix using L2 normalization. You can refer to this link https://scikit-learn.org/stable/modules/generated/sklearn.preprocessing.normalize.html </li>\n",
    "        <li> After completing the above steps, print the output of your custom implementation and compare it with sklearns implementation of TfidfVectorizer.</li>\n",
    "        <li> To check the output of a single document in your collection of documents,  you can convert the sparse matrix related only to that document into dense matrix and print it.</li>\n",
    "        </ol>\n",
    "    </li>\n",
    "    <br>\n",
    "   </ul>\n",
    "\n",
    "  <p> <font color=\"#e60000\"><strong>Note-1: </strong></font> All the necessary outputs of sklearns TfidfVectorizer have been provided as reference in this notebook, you can compare your outputs as mentioned in the above steps, with these outputs.<br>\n",
    "   <font color=\"#e60000\"><strong>Note-2: </strong></font> The output of your custom implementation and that of sklearns implementation would match only with the collection of document strings provided to you as reference in this notebook. It would not match for strings that contain capital letters or punctuations, etc, because sklearn version of TfidfVectorizer deals with such strings in a different way. To know further details about how sklearn TfidfVectorizer works with such string, you can always refer to its official documentation.<br>\n",
    "   <font color=\"#e60000\"><strong>Note-3: </strong></font> During this task, it would be helpful for you to debug the code you write with print statements wherever necessary. But when you are finally submitting the assignment, make sure your code is readable and try not to print things which are not part of this task.\n",
    "    </p>"
   ]
  },
  {
   "cell_type": "markdown",
   "metadata": {
    "colab_type": "text",
    "id": "OnV82tg1xLi0"
   },
   "source": [
    "### Corpus"
   ]
  },
  {
   "cell_type": "code",
   "execution_count": 1,
   "metadata": {
    "colab": {},
    "colab_type": "code",
    "id": "bUsYm9wjxLi1"
   },
   "outputs": [],
   "source": [
    "## SkLearn# Collection of string documents\n",
    "\n",
    "corpus = [\n",
    "     'this is the first document',\n",
    "     'this document is the second document',\n",
    "     'and this is the third one',\n",
    "     'is this the first document',\n",
    "]"
   ]
  },
  {
   "cell_type": "markdown",
   "metadata": {
    "colab_type": "text",
    "id": "eLwmFZfKxLi4"
   },
   "source": [
    "### SkLearn Implementation"
   ]
  },
  {
   "cell_type": "code",
   "execution_count": 2,
   "metadata": {
    "colab": {},
    "colab_type": "code",
    "id": "Np4dfQOkxLi4"
   },
   "outputs": [],
   "source": [
    "from sklearn.feature_extraction.text import TfidfVectorizer\n",
    "vectorizer = TfidfVectorizer()\n",
    "vectorizer.fit(corpus)\n",
    "skl_output = vectorizer.transform(corpus)"
   ]
  },
  {
   "cell_type": "code",
   "execution_count": 3,
   "metadata": {
    "colab": {},
    "colab_type": "code",
    "id": "-7Om8YpYxLi6",
    "outputId": "0a3bd0f5-4424-4400-944f-4482a80bd799"
   },
   "outputs": [
    {
     "name": "stdout",
     "output_type": "stream",
     "text": [
      "['and', 'document', 'first', 'is', 'one', 'second', 'the', 'third', 'this']\n"
     ]
    }
   ],
   "source": [
    "# sklearn feature names, they are sorted in alphabetic order by default.\n",
    "\n",
    "print(vectorizer.get_feature_names())"
   ]
  },
  {
   "cell_type": "code",
   "execution_count": 4,
   "metadata": {
    "colab": {},
    "colab_type": "code",
    "id": "dTKplK96xLi-",
    "outputId": "53722fa2-6756-4aa0-f179-37b578bb6890"
   },
   "outputs": [
    {
     "name": "stdout",
     "output_type": "stream",
     "text": [
      "[1.91629073 1.22314355 1.51082562 1.         1.91629073 1.91629073\n",
      " 1.         1.91629073 1.        ]\n"
     ]
    }
   ],
   "source": [
    "# Here we will print the sklearn tfidf vectorizer idf values after applying the fit method\n",
    "# After using the fit function on the corpus the vocab has 9 words in it, and each has its idf value.\n",
    "\n",
    "print(vectorizer.idf_)"
   ]
  },
  {
   "cell_type": "code",
   "execution_count": 5,
   "metadata": {
    "colab": {},
    "colab_type": "code",
    "id": "-CTiWHygxLjA",
    "outputId": "8d5a9cde-2c29-4afe-f7b4-1547e88dba4f"
   },
   "outputs": [
    {
     "data": {
      "text/plain": [
       "(4, 9)"
      ]
     },
     "execution_count": 5,
     "metadata": {},
     "output_type": "execute_result"
    }
   ],
   "source": [
    "# shape of sklearn tfidf vectorizer output after applying transform method.\n",
    "\n",
    "skl_output.shape"
   ]
  },
  {
   "cell_type": "code",
   "execution_count": 6,
   "metadata": {
    "colab": {},
    "colab_type": "code",
    "id": "bDKEpbA-xLjD",
    "outputId": "87dafd65-5313-443f-8c6e-1b05cc8c2543"
   },
   "outputs": [
    {
     "name": "stdout",
     "output_type": "stream",
     "text": [
      "  (0, 8)\t0.38408524091481483\n",
      "  (0, 6)\t0.38408524091481483\n",
      "  (0, 3)\t0.38408524091481483\n",
      "  (0, 2)\t0.5802858236844359\n",
      "  (0, 1)\t0.46979138557992045\n"
     ]
    }
   ],
   "source": [
    "# sklearn tfidf values for first line of the above corpus.\n",
    "# Here the output is a sparse matrix\n",
    "\n",
    "print(skl_output[0])"
   ]
  },
  {
   "cell_type": "code",
   "execution_count": 7,
   "metadata": {
    "colab": {},
    "colab_type": "code",
    "id": "3QWo34hexLjF",
    "outputId": "cdc04e08-989f-4bdc-dd7f-f1c82a9f90be"
   },
   "outputs": [
    {
     "name": "stdout",
     "output_type": "stream",
     "text": [
      "[[0.         0.46979139 0.58028582 0.38408524 0.         0.\n",
      "  0.38408524 0.         0.38408524]]\n"
     ]
    }
   ],
   "source": [
    "# sklearn tfidf values for first line of the above corpus.\n",
    "# To understand the output better, here we are converting the sparse output matrix to dense matrix and printing it.\n",
    "# Notice that this output is normalized using L2 normalization. sklearn does this by default.\n",
    "\n",
    "print(skl_output[0].toarray())"
   ]
  },
  {
   "cell_type": "markdown",
   "metadata": {
    "colab_type": "text",
    "id": "qfIwx5LzxLjI"
   },
   "source": [
    "### Custom implementation"
   ]
  },
  {
   "cell_type": "code",
   "execution_count": 8,
   "metadata": {
    "colab": {},
    "colab_type": "code",
    "id": "HjuCcJwXxLjJ"
   },
   "outputs": [],
   "source": [
    "# Write your code here.\n",
    "# Make sure its well documented and readble with appropriate comments.\n",
    "# Compare your results with the above sklearn tfidf vectorizer\n",
    "# You are not supposed to use any other library apart from the ones given below\n",
    "\n",
    "from collections import Counter\n",
    "from tqdm import tqdm\n",
    "from scipy.sparse import csr_matrix\n",
    "import math\n",
    "import operator\n",
    "from sklearn.preprocessing import normalize\n",
    "import numpy as np"
   ]
  },
  {
   "cell_type": "code",
   "execution_count": 9,
   "metadata": {},
   "outputs": [
    {
     "name": "stdout",
     "output_type": "stream",
     "text": [
      "['this is the first document', 'this document is the second document', 'and this is the third one', 'is this the first document']\n"
     ]
    }
   ],
   "source": [
    "# Having a look at the data in corpus\n",
    "\n",
    "print(corpus)"
   ]
  },
  {
   "cell_type": "code",
   "execution_count": 10,
   "metadata": {
    "colab": {},
    "colab_type": "code",
    "id": "ZULfoOIdxLjQ"
   },
   "outputs": [],
   "source": [
    "# Write your code here.\n",
    "# Try not to hardcode any values.\n",
    "# Make sure its well documented and readble with appropriate comments.\n",
    "\n",
    "# Generate the idf values of all the unique words when ‘fit’ function is called\n",
    "def IDF(corpus, unique_words):\n",
    "    idf_dict = {}\n",
    "    N = len(corpus)\n",
    "    for word in unique_words:\n",
    "        count = 0\n",
    "        for row in corpus:\n",
    "            if word in row.split(\" \"):\n",
    "                count = count + 1\n",
    "            idf_dict[word] = (math.log((1 + N)/(count + 1))) + 1\n",
    "    return idf_dict\n",
    "\n",
    "# Implementation of the fit() method\n",
    "def fit(corpus):\n",
    "    unique_words = []\n",
    "    for row in corpus:\n",
    "        for word in row.split(\" \"):\n",
    "            if len(word) >= 2 and word not in unique_words:\n",
    "                unique_words.append(word)\n",
    "    \n",
    "    # Sort the unique words in the dataset\n",
    "    unique_words.sort()\n",
    "        \n",
    "    # Generate a dictonary of word with the consecutive number to every item in the text\n",
    "    vocabulary = {j : i for i, j in enumerate(unique_words)}\n",
    "    idf_values_unique_words = IDF(corpus, unique_words)\n",
    "    return vocabulary, idf_values_unique_words\n",
    "Vocabulary, idf_of_vocabulary = fit(corpus)"
   ]
  },
  {
   "cell_type": "code",
   "execution_count": 11,
   "metadata": {},
   "outputs": [
    {
     "name": "stdout",
     "output_type": "stream",
     "text": [
      "['and', 'document', 'first', 'is', 'one', 'second', 'the', 'third', 'this']\n"
     ]
    }
   ],
   "source": [
    "print(list(Vocabulary.keys())) "
   ]
  },
  {
   "cell_type": "code",
   "execution_count": 12,
   "metadata": {},
   "outputs": [
    {
     "name": "stdout",
     "output_type": "stream",
     "text": [
      "[1.916290731874155, 1.2231435513142097, 1.5108256237659907, 1.0, 1.916290731874155, 1.916290731874155, 1.0, 1.916290731874155, 1.0]\n"
     ]
    }
   ],
   "source": [
    "print(list(idf_of_vocabulary.values()))"
   ]
  },
  {
   "cell_type": "code",
   "execution_count": 13,
   "metadata": {},
   "outputs": [
    {
     "name": "stdout",
     "output_type": "stream",
     "text": [
      "Normalized Spare Matrix\n",
      "   (0, 1)\t0.4697913855799205\n",
      "  (0, 2)\t0.580285823684436\n",
      "  (0, 3)\t0.3840852409148149\n",
      "  (0, 6)\t0.3840852409148149\n",
      "  (0, 8)\t0.3840852409148149\n",
      "  (1, 1)\t0.6876235979836937\n",
      "  (1, 3)\t0.2810886740337529\n",
      "  (1, 5)\t0.5386476208856762\n",
      "  (1, 6)\t0.2810886740337529\n",
      "  (1, 8)\t0.2810886740337529\n",
      "  (2, 0)\t0.511848512707169\n",
      "  (2, 3)\t0.267103787642168\n",
      "  (2, 4)\t0.511848512707169\n",
      "  (2, 6)\t0.267103787642168\n",
      "  (2, 7)\t0.511848512707169\n",
      "  (2, 8)\t0.267103787642168\n",
      "  (3, 1)\t0.4697913855799205\n",
      "  (3, 2)\t0.580285823684436\n",
      "  (3, 3)\t0.3840852409148149\n",
      "  (3, 6)\t0.3840852409148149\n",
      "  (3, 8)\t0.3840852409148149\n",
      "(4, 9)\n"
     ]
    },
    {
     "name": "stderr",
     "output_type": "stream",
     "text": [
      "C:\\Users\\venne\\anaconda3\\lib\\site-packages\\scipy\\sparse\\_index.py:82: SparseEfficiencyWarning: Changing the sparsity structure of a csr_matrix is expensive. lil_matrix is more efficient.\n",
      "  self._set_intXint(row, col, x.flat[0])\n"
     ]
    }
   ],
   "source": [
    "# Implementation of transform() method\n",
    "\n",
    "def transform(dataset, vocabulary, idf_values):\n",
    "    sparse_matrix = csr_matrix((len(dataset), len(vocabulary)), dtype = np.float64)\n",
    "    for row  in range(0, len(dataset)):\n",
    "        number_of_words_in_row = Counter(dataset[row].split())\n",
    "        for word in dataset[row].split():\n",
    "            if word in list(vocabulary.keys()):\n",
    "                tf_idf_value = (number_of_words_in_row[word] / len(dataset[row].split())) * (idf_values[word])\n",
    "                sparse_matrix[row, vocabulary[word]] = tf_idf_value\n",
    "    print(\"Normalized Spare Matrix\\n\", normalize(sparse_matrix, norm = 'l2', axis = 1, copy = True, return_norm = False))\n",
    "    output = normalize(sparse_matrix, norm = 'l2', axis = 1, copy = True, return_norm = False)\n",
    "    return output\n",
    "final_output = transform(corpus, Vocabulary, idf_of_vocabulary)\n",
    "print(final_output.shape) "
   ]
  },
  {
   "cell_type": "code",
   "execution_count": 14,
   "metadata": {},
   "outputs": [
    {
     "name": "stdout",
     "output_type": "stream",
     "text": [
      "[[0.         0.46979139 0.58028582 0.38408524 0.         0.\n",
      "  0.38408524 0.         0.38408524]]\n"
     ]
    }
   ],
   "source": [
    "# Dense matrix representation for the first document in the corpus\n",
    "\n",
    "print(final_output[0].toarray())"
   ]
  },
  {
   "cell_type": "markdown",
   "metadata": {},
   "source": [
    "# Compare with TfidfVectorizer"
   ]
  },
  {
   "cell_type": "code",
   "execution_count": 15,
   "metadata": {},
   "outputs": [
    {
     "name": "stdout",
     "output_type": "stream",
     "text": [
      "(4, 9)\n",
      "  (0, 1)\t0.46979138557992045\n",
      "  (0, 2)\t0.5802858236844359\n",
      "  (0, 6)\t0.38408524091481483\n",
      "  (0, 3)\t0.38408524091481483\n",
      "  (0, 8)\t0.38408524091481483\n",
      "  (1, 5)\t0.5386476208856763\n",
      "  (1, 1)\t0.6876235979836938\n",
      "  (1, 6)\t0.281088674033753\n",
      "  (1, 3)\t0.281088674033753\n",
      "  (1, 8)\t0.281088674033753\n",
      "  (2, 4)\t0.511848512707169\n",
      "  (2, 7)\t0.511848512707169\n",
      "  (2, 0)\t0.511848512707169\n",
      "  (2, 6)\t0.267103787642168\n",
      "  (2, 3)\t0.267103787642168\n",
      "  (2, 8)\t0.267103787642168\n",
      "  (3, 1)\t0.46979138557992045\n",
      "  (3, 2)\t0.5802858236844359\n",
      "  (3, 6)\t0.38408524091481483\n",
      "  (3, 3)\t0.38408524091481483\n",
      "  (3, 8)\t0.38408524091481483\n"
     ]
    }
   ],
   "source": [
    "from sklearn.feature_extraction.text import TfidfVectorizer\n",
    "tf_idf_vectorizer = TfidfVectorizer(norm = 'l2')\n",
    "method_tfidf = tf_idf_vectorizer.fit_transform(corpus)\n",
    "\n",
    "print(method_tfidf.get_shape())\n",
    "\n",
    "print(method_tfidf)"
   ]
  },
  {
   "cell_type": "markdown",
   "metadata": {},
   "source": [
    "<b><i>When comparing my implementation of TfidfVectorizer with sklearns implementation the results match showing no discrepancy.</i></b>"
   ]
  },
  {
   "cell_type": "markdown",
   "metadata": {},
   "source": [
    "<p></p>"
   ]
  },
  {
   "cell_type": "markdown",
   "metadata": {},
   "source": [
    "<p></p>"
   ]
  },
  {
   "cell_type": "markdown",
   "metadata": {
    "colab_type": "text",
    "id": "MMxBmVZExLjK"
   },
   "source": [
    "## 2. Implement max features functionality"
   ]
  },
  {
   "cell_type": "markdown",
   "metadata": {
    "colab_type": "text",
    "id": "51j_OtqAxLjL"
   },
   "source": [
    "<font face='georgia'>\n",
    "    \n",
    "<ul>\n",
    "    <li> As a part of this task you have to modify your fit and transform functions so that your vocab will contain only 50 terms with top idf scores.</li>\n",
    "    <br>\n",
    "    <li>This task is similar to your previous task, just that here your vocabulary is limited to only top 50 features names based on their idf values. Basically your output will have exactly 50 columns and the number of rows will depend on the number of documents you have in your corpus.</li>\n",
    "    <br>\n",
    "    <li>Here you will be give a pickle file, with file name <strong>cleaned_strings</strong>. You would have to load the corpus from this file and use it as input to your TfidfVectorizer.</li>\n",
    "    <br>\n",
    "    <li>Steps to approach this task:\n",
    "    <ol>\n",
    "        <li> You would have to write both fit and transform methods for your custom implementation of TfidfVectorizer, just like in the previous task. Additionally, here you have to limit the number of features generated to 50 as described above.</li>\n",
    "        <li> Now sort your vocab based in descending order of Idf values and print out the words in the sorted voacb after you fit your data. Here you should be getting only 50 terms in your vocab. And make sure to print Idf values for each term in your vocab. </li>\n",
    "        <li> Make sure the output of your implementation is a sparse matrix. Before generating the final output, you need to normalize your sparse matrix using L2 normalization. You can refer to this link https://scikit-learn.org/stable/modules/generated/sklearn.preprocessing.normalize.html </li>\n",
    "        <li> Now check the output of a single document in your collection of documents,  you can convert the sparse matrix related only to that document into dense matrix and print it. And this dense matrix should contain 1 row and 50 columns. </li>\n",
    "        </ol>\n",
    "    </li>\n",
    "    <br>\n",
    "   </ul>"
   ]
  },
  {
   "cell_type": "code",
   "execution_count": 16,
   "metadata": {
    "colab": {},
    "colab_type": "code",
    "id": "NHxPLlwNxLjL",
    "outputId": "9abd8e08-0e24-4975-9a13-4d3636d60323"
   },
   "outputs": [
    {
     "name": "stdout",
     "output_type": "stream",
     "text": [
      "Number of documents in corpus = 746\n"
     ]
    }
   ],
   "source": [
    "# Below is the code to load the cleaned_strings pickle file provided\n",
    "# Here corpus is of list type\n",
    "\n",
    "import pickle\n",
    "with open('cleaned_strings', 'rb') as f:\n",
    "    dataset = pickle.load(f)\n",
    "    \n",
    "# printing the length of the corpus loaded\n",
    "print(\"Number of documents in corpus =\",len(dataset))"
   ]
  },
  {
   "cell_type": "markdown",
   "metadata": {},
   "source": [
    "# Consider only the top 50 feature names based on their IDF values"
   ]
  },
  {
   "cell_type": "code",
   "execution_count": 17,
   "metadata": {},
   "outputs": [],
   "source": [
    "# Write your code here.\n",
    "# Try not to hardcode any values.\n",
    "# Make sure its well documented and readble with appropriate comments.\n",
    "\n",
    "# Generate the idf values of all the unique words when ‘fit’ function is called\n",
    "def IDF(corpus, unique_words):\n",
    "    idf_dict = {}\n",
    "    N = len(corpus)\n",
    "    for word in unique_words:\n",
    "        count = 0\n",
    "        for row in corpus:\n",
    "            if word in row.split(\" \"):\n",
    "                count = count + 1\n",
    "                idf_dict[word] = (math.log((1 + N)/(count + 1))) + 1\n",
    "    return idf_dict\n",
    "\n",
    "# Implementation of the fit() method\n",
    "def fit(corpus):\n",
    "    unique_words = []\n",
    "    for row in corpus:\n",
    "        for word in row.split(\" \"):\n",
    "            if len(word) >= 2 and word not in unique_words:\n",
    "                unique_words.append(word)\n",
    "    \n",
    "    idf_values_unique_words = IDF(corpus, unique_words)\n",
    "\n",
    "    top50_idf_value_indices = np.argsort(list(idf_values_unique_words.values()))[::-1][:50]\n",
    "    \n",
    "    top50_idf_values = np.take(list(idf_values_unique_words.values()), top50_idf_value_indices)\n",
    "    top50_idf_words = np.take(list(idf_values_unique_words.keys()), top50_idf_value_indices)\n",
    "\n",
    "    wanted_idf_vocabulary = dict(zip(top50_idf_words, top50_idf_values))\n",
    "    wanted_vocabulary = {j: i for i, j in enumerate(list(wanted_idf_vocabulary.keys()))}\n",
    "    return wanted_vocabulary, wanted_idf_vocabulary\n",
    "\n",
    "wanted_vocabulary, wanted_idf_vocabulary = fit(dataset)"
   ]
  },
  {
   "cell_type": "code",
   "execution_count": 18,
   "metadata": {},
   "outputs": [
    {
     "name": "stdout",
     "output_type": "stream",
     "text": [
      "{'exceptionally': 6.922918004572872, 'hatred': 6.922918004572872, 'curtain': 6.922918004572872, 'ive': 6.922918004572872, 'edition': 6.922918004572872, 'lid': 6.922918004572872, 'cant': 6.922918004572872, 'romantic': 6.922918004572872, 'junkyard': 6.922918004572872, 'laughed': 6.922918004572872, 'chosen': 6.922918004572872, 'tortured': 6.922918004572872, 'disgusting': 6.922918004572872, 'blatant': 6.922918004572872, 'propaganda': 6.922918004572872, 'admitted': 6.922918004572872, 'spot': 6.922918004572872, 'elsewhere': 6.922918004572872, 'school': 6.922918004572872, 'pile': 6.922918004572872, 'round': 6.922918004572872, 'enter': 6.922918004572872, 'regrettable': 6.922918004572872, 'thunderbirds': 6.922918004572872, 'motion': 6.922918004572872, 'needlessly': 6.922918004572872, 'repeats': 6.922918004572872, 'backed': 6.922918004572872, 'vehicles': 6.922918004572872, 'corn': 6.922918004572872, 'caught': 6.922918004572872, 'funniest': 6.922918004572872, 'hes': 6.922918004572872, 'yelps': 6.922918004572872, 'northern': 6.922918004572872, 'positive': 6.922918004572872, 'community': 6.922918004572872, 'represents': 6.922918004572872, 'unique': 6.922918004572872, 'vivian': 6.922918004572872, 'schilling': 6.922918004572872, 'theatres': 6.922918004572872, 'screamy': 6.922918004572872, 'masculine': 6.922918004572872, 'casted': 6.922918004572872, 'throwback': 6.922918004572872, 'student': 6.922918004572872, 'experiences': 6.922918004572872, 'abroad': 6.922918004572872, 'interacting': 6.922918004572872}\n"
     ]
    }
   ],
   "source": [
    "print(wanted_idf_vocabulary)"
   ]
  },
  {
   "cell_type": "code",
   "execution_count": 19,
   "metadata": {},
   "outputs": [
    {
     "name": "stdout",
     "output_type": "stream",
     "text": [
      "Normalized Spare Matrix\n",
      "   (205, 34)\t0.5\n",
      "  (205, 35)\t0.5\n",
      "  (205, 36)\t0.5\n",
      "  (205, 37)\t0.5\n",
      "  (209, 38)\t1.0\n",
      "  (210, 39)\t0.7071067811865476\n",
      "  (210, 40)\t0.7071067811865476\n",
      "  (211, 41)\t1.0\n",
      "  (213, 42)\t0.7071067811865476\n",
      "  (213, 43)\t0.7071067811865476\n",
      "  (215, 44)\t1.0\n",
      "  (216, 45)\t0.4472135954999579\n",
      "  (216, 46)\t0.4472135954999579\n",
      "  (216, 47)\t0.4472135954999579\n",
      "  (216, 48)\t0.4472135954999579\n",
      "  (216, 49)\t0.4472135954999579\n",
      "  (222, 2)\t0.3535533905932738\n",
      "  (222, 3)\t0.3535533905932738\n",
      "  (222, 4)\t0.3535533905932738\n",
      "  (222, 5)\t0.3535533905932738\n",
      "  (222, 30)\t0.3535533905932738\n",
      "  (222, 31)\t0.3535533905932738\n",
      "  (222, 32)\t0.3535533905932738\n",
      "  (222, 33)\t0.3535533905932738\n",
      "  (223, 6)\t0.37796447300922725\n",
      "  (223, 7)\t0.37796447300922725\n",
      "  (223, 8)\t0.7559289460184545\n",
      "  (223, 9)\t0.37796447300922725\n",
      "  (224, 10)\t0.4472135954999579\n",
      "  (224, 11)\t0.4472135954999579\n",
      "  (224, 12)\t0.4472135954999579\n",
      "  (224, 13)\t0.4472135954999579\n",
      "  (224, 14)\t0.4472135954999579\n",
      "  (225, 1)\t0.5773502691896257\n",
      "  (225, 15)\t0.5773502691896257\n",
      "  (225, 17)\t0.5773502691896257\n",
      "  (226, 18)\t0.5773502691896257\n",
      "  (226, 19)\t0.5773502691896257\n",
      "  (226, 20)\t0.5773502691896257\n",
      "  (227, 21)\t1.0\n",
      "  (228, 23)\t1.0\n",
      "  (229, 24)\t0.408248290463863\n",
      "  (229, 25)\t0.408248290463863\n",
      "  (229, 26)\t0.408248290463863\n",
      "  (229, 27)\t0.408248290463863\n",
      "  (229, 28)\t0.408248290463863\n",
      "  (229, 29)\t0.408248290463863\n",
      "  (378, 16)\t1.0\n",
      "  (742, 22)\t1.0\n",
      "  (744, 0)\t1.0\n",
      "(746, 50)\n"
     ]
    }
   ],
   "source": [
    "# Implementation of transform() method\n",
    "\n",
    "def transform(dataset, vocabulary, idf_values):\n",
    "    sparse_matrix = csr_matrix((len(dataset), len(vocabulary)), dtype = np.float64)\n",
    "    for row  in range(0, len(dataset)):\n",
    "        number_of_words_in_row = Counter(dataset[row].split())\n",
    "        for word in dataset[row].split():\n",
    "            if word in list(vocabulary.keys()):\n",
    "                tf_idf_value = (number_of_words_in_row[word] / len(dataset[row].split())) * (idf_values[word])\n",
    "                sparse_matrix[row, vocabulary[word]] = tf_idf_value\n",
    "    print(\"Normalized Spare Matrix\\n\", normalize(sparse_matrix, norm = 'l2', axis = 1, copy = True, return_norm = False))\n",
    "    output = normalize(sparse_matrix, norm = 'l2', axis = 1, copy = True, return_norm = False)\n",
    "    return output\n",
    "final_output = transform(dataset, wanted_vocabulary, wanted_idf_vocabulary)\n",
    "print(final_output.shape) "
   ]
  },
  {
   "cell_type": "code",
   "execution_count": 20,
   "metadata": {},
   "outputs": [
    {
     "name": "stdout",
     "output_type": "stream",
     "text": [
      "  (0, 34)\t0.5\n",
      "  (0, 35)\t0.5\n",
      "  (0, 36)\t0.5\n",
      "  (0, 37)\t0.5\n"
     ]
    }
   ],
   "source": [
    "# Sparse matrix representation for the first document in the dataset\n",
    "\n",
    "print(final_output[205])"
   ]
  },
  {
   "cell_type": "code",
   "execution_count": 21,
   "metadata": {},
   "outputs": [
    {
     "name": "stdout",
     "output_type": "stream",
     "text": [
      "[[0.  0.  0.  0.  0.  0.  0.  0.  0.  0.  0.  0.  0.  0.  0.  0.  0.  0.\n",
      "  0.  0.  0.  0.  0.  0.  0.  0.  0.  0.  0.  0.  0.  0.  0.  0.  0.5 0.5\n",
      "  0.5 0.5 0.  0.  0.  0.  0.  0.  0.  0.  0.  0.  0.  0. ]]\n"
     ]
    }
   ],
   "source": [
    "# Dense matrix representation for the first document in the dataset\n",
    "\n",
    "print(final_output[205].toarray())"
   ]
  },
  {
   "cell_type": "markdown",
   "metadata": {},
   "source": [
    "# Compare with TfidfVectorizer"
   ]
  },
  {
   "cell_type": "code",
   "execution_count": 22,
   "metadata": {},
   "outputs": [
    {
     "name": "stdout",
     "output_type": "stream",
     "text": [
      "(746, 50)\n",
      "  (0, 25)\t1.0\n",
      "  (1, 8)\t0.8199426324888012\n",
      "  (1, 30)\t0.572445699981522\n",
      "  (2, 32)\t0.5699230219852334\n",
      "  (2, 0)\t0.5202944244602254\n",
      "  (2, 10)\t0.5273651853196742\n",
      "  (2, 25)\t0.35548195762874873\n",
      "  (3, 20)\t1.0\n",
      "  (4, 4)\t0.859534997767905\n",
      "  (4, 25)\t0.5110768901174535\n",
      "  (5, 25)\t1.0\n",
      "  (7, 17)\t0.9412322291499969\n",
      "  (7, 25)\t0.33776010837475723\n",
      "  (11, 21)\t0.5533799348242362\n",
      "  (11, 23)\t0.5366405664621315\n",
      "  (11, 4)\t0.5475363087512142\n",
      "  (11, 25)\t0.32556342048857684\n",
      "  (12, 4)\t1.0\n",
      "  (14, 25)\t1.0\n",
      "  (15, 37)\t0.7118629038754104\n",
      "  (15, 0)\t0.7023184506234106\n",
      "  (16, 11)\t0.6478335937139895\n",
      "  (16, 14)\t0.4007783298922675\n",
      "  (16, 23)\t0.6478335937139895\n",
      "  (17, 14)\t0.4986460786244059\n",
      "  :\t:\n",
      "  (38, 31)\t0.36065823271591674\n",
      "  (38, 21)\t0.46637408670079394\n",
      "  (38, 17)\t0.38230065758919324\n",
      "  (38, 25)\t0.27437630701549015\n",
      "  (39, 41)\t0.8498083336390599\n",
      "  (39, 30)\t0.5270918288852563\n",
      "  (40, 3)\t0.5520268346392149\n",
      "  (40, 43)\t0.7192311074525178\n",
      "  (40, 14)\t0.42186844858419265\n",
      "  (41, 3)\t0.6737177870807189\n",
      "  (41, 0)\t0.7389887302057179\n",
      "  (42, 10)\t1.0\n",
      "  (45, 44)\t0.752414504053191\n",
      "  (45, 34)\t0.6586899225662942\n",
      "  (46, 28)\t0.5620433605229302\n",
      "  (46, 38)\t0.5328900834062933\n",
      "  (46, 22)\t0.5437096773394934\n",
      "  (46, 25)\t0.32328811711337196\n",
      "  (47, 9)\t1.0\n",
      "  (49, 43)\t0.4345914424449457\n",
      "  (49, 9)\t0.40438104930103613\n",
      "  (49, 46)\t0.3788490551641894\n",
      "  (49, 33)\t0.4204152019986475\n",
      "  (49, 5)\t0.43984793186836\n",
      "  (49, 0)\t0.3658749694644035\n"
     ]
    }
   ],
   "source": [
    "from sklearn.feature_extraction.text import TfidfVectorizer\n",
    "tf_idf_vectorizer = TfidfVectorizer(norm = 'l2', max_features = 50)\n",
    "method_tfidf = tf_idf_vectorizer.fit_transform(dataset)\n",
    "\n",
    "print(method_tfidf.get_shape())\n",
    "\n",
    "print(method_tfidf[:50])"
   ]
  }
 ],
 "metadata": {
  "colab": {
   "collapsed_sections": [],
   "name": "Assignment_3_Instructions.ipynb",
   "provenance": []
  },
  "kernelspec": {
   "display_name": "Python 3",
   "language": "python",
   "name": "python3"
  },
  "language_info": {
   "codemirror_mode": {
    "name": "ipython",
    "version": 3
   },
   "file_extension": ".py",
   "mimetype": "text/x-python",
   "name": "python",
   "nbconvert_exporter": "python",
   "pygments_lexer": "ipython3",
   "version": "3.8.5"
  }
 },
 "nbformat": 4,
 "nbformat_minor": 1
}
