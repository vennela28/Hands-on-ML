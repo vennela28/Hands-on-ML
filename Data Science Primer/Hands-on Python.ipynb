{
 "cells": [
  {
   "cell_type": "markdown",
   "metadata": {
    "colab_type": "text",
    "id": "l0ZzOlyxB-kf"
   },
   "source": [
    "<h1>Python: without numpy or sklearn </h1>"
   ]
  },
  {
   "cell_type": "markdown",
   "metadata": {
    "colab_type": "text",
    "id": "C0xO8JV9B-ki"
   },
   "source": [
    "<h3> Q1: Given two matrices please print the product of those two matrices </h3>\n",
    "<pre>\n",
    "\n",
    "Ex 1: A   = [[1 3 4]\n",
    "             [2 5 7]\n",
    "             [5 9 6]]\n",
    "      B   = [[1 0 0]\n",
    "             [0 1 0]\n",
    "             [0 0 1]]\n",
    "      A*B = [[1 3 4]\n",
    "             [2 5 7]\n",
    "             [5 9 6]]\n",
    "\n",
    "     \n",
    "Ex 2: A   = [[1 2]\n",
    "             [3 4]]\n",
    "      B   = [[1 2 3 4 5]\n",
    "             [5 6 7 8 9]]\n",
    "      A*B = [[11 14 17 20 23]\n",
    "             [23 30 36 42 51]]\n",
    "             \n",
    "Ex 3: A   = [[1 2]\n",
    "             [3 4]]\n",
    "      B   = [[1 4]\n",
    "             [5 6]\n",
    "             [7 8]\n",
    "             [9 6]]\n",
    "      A*B =Not possible\n",
    "</pre>"
   ]
  },
  {
   "cell_type": "code",
   "execution_count": 3,
   "metadata": {},
   "outputs": [
    {
     "name": "stdout",
     "output_type": "stream",
     "text": [
      "Enter number of rows of matrix A: 2\n",
      "Enter number of columns of matrix A: 2\n",
      "Enter number of rows of matrix B: 2\n",
      "Enter number of columns of matrix B: 5\n",
      "\n",
      "Matrix A\n",
      "1\n",
      "2\n",
      "3\n",
      "4\n",
      "  1   2 \n",
      "\n",
      "  3   4 \n",
      "\n",
      "Matrix B\n",
      "1\n",
      "2\n",
      "3\n",
      "4\n",
      "5\n",
      "5\n",
      "6\n",
      "7\n",
      "8\n",
      "9\n",
      "  1   2   3   4   5 \n",
      "\n",
      "  5   6   7   8   9 \n",
      "\n"
     ]
    }
   ],
   "source": [
    "def print_matrix(matrix):\n",
    "    for i in range(len(matrix)):\n",
    "        for j in range(len(matrix[0])):\n",
    "            print(\" \", matrix[i][j], end = \" \")\n",
    "        print(\"\\n\")\n",
    "        \n",
    "m = int(input(\"Enter number of rows of matrix A: \"))\n",
    "n = int(input(\"Enter number of columns of matrix A: \"))\n",
    "p = int(input(\"Enter number of rows of matrix B: \"))\n",
    "q = int(input(\"Enter number of columns of matrix B: \"))\n",
    "\n",
    "if n != p:\n",
    "    print(\"Matrix multiplication is not possible\")\n",
    "\n",
    "A = [[0 for j in range(0, n)] for i in range(0, m)]\n",
    "B = [[0 for j in range(0, q)] for i in range(0, p)]\n",
    "C = [[0 for j in range(0, q)] for i in range(0, m)]\n",
    "\n",
    "print(\"\\nMatrix A\")\n",
    "for i in range(m):\n",
    "    for j in range(n):\n",
    "        A[i][j] = int(input())\n",
    "        \n",
    "print_matrix(A)\n",
    "\n",
    "print(\"Matrix B\")\n",
    "for i in range(0, p):\n",
    "    for j in range(0, q):\n",
    "        B[i][j] = int(input())\n",
    "\n",
    "print_matrix(B)\n"
   ]
  },
  {
   "cell_type": "code",
   "execution_count": 4,
   "metadata": {
    "colab": {},
    "colab_type": "code",
    "id": "rnssAfpgB-kj"
   },
   "outputs": [
    {
     "name": "stdout",
     "output_type": "stream",
     "text": [
      "  11   14   17   20   23 \n",
      "\n",
      "  23   30   37   44   51 \n",
      "\n"
     ]
    }
   ],
   "source": [
    "## write your python code here\n",
    "## you can take the above example as sample input for your program to test\n",
    "## it should work for any general input try not to hard code for only given input examples\n",
    "\n",
    "## you can free to change all these codes/structure\n",
    "## here A and B are list of lists\n",
    "def matrix_mul(A, B):    \n",
    "    # iterate through rows of A\n",
    "    for i in range(len(A)): \n",
    "        # iterate through columns of B\n",
    "        for j in range(len(B[0])): \n",
    "            # iterate through rows of B\n",
    "            for k in range(len(B)): \n",
    "            # resulted matrix \n",
    "                C[i][j] += A[i][k] * B[k][j] \n",
    "    # return(#multiplication_of_A_and_B)\n",
    "    return C \n",
    "    \n",
    "print_matrix(matrix_mul(A, B))"
   ]
  },
  {
   "cell_type": "markdown",
   "metadata": {
    "colab_type": "text",
    "id": "at4VwLggB-kn"
   },
   "source": [
    "<h3> Q2: Select a number randomly with probability proportional to its magnitude from the given array of n elements</h3>\n",
    "\n",
    "Consider an experiment, selecting an element from the list A randomly with probability proportional to its magnitude.\n",
    "Assume we are doing the same experiment for 100 times with replacement, in each experiment you will print a number that is selected randomly from A.\n",
    "\n",
    "<pre>\n",
    "Ex 1: A = [0 5 27 6 13 28 100 45 10 79]\n",
    "let f(x) denote the number of times x getting selected in 100 experiments.\n",
    "f(100) > f(79) > f(45) > f(28) > f(27) > f(13) > f(10) > f(6) > f(5) > f(0)\n",
    "</pre>"
   ]
  },
  {
   "cell_type": "code",
   "execution_count": 91,
   "metadata": {
    "colab": {},
    "colab_type": "code",
    "id": "B6S2dpBhB-kn"
   },
   "outputs": [
    {
     "name": "stdout",
     "output_type": "stream",
     "text": [
      "[1, 5, 27, 6, 13, 28, 100, 45, 10, 79] 314\n",
      "135\n",
      "88\n",
      "257\n",
      "129\n",
      "109\n",
      "235\n",
      "217\n",
      "276\n",
      "141\n",
      "262\n",
      "290\n",
      "45\n",
      "92\n",
      "64\n",
      "103\n",
      "245\n",
      "20\n",
      "76\n",
      "131\n",
      "80\n",
      "288\n",
      "17\n",
      "20\n",
      "250\n",
      "289\n",
      "274\n",
      "138\n",
      "193\n",
      "245\n",
      "82\n",
      "202\n",
      "242\n",
      "157\n",
      "224\n",
      "154\n",
      "235\n",
      "15\n",
      "124\n",
      "46\n",
      "235\n",
      "294\n",
      "284\n",
      "189\n",
      "209\n",
      "200\n",
      "161\n",
      "140\n",
      "217\n",
      "197\n",
      "119\n",
      "25\n",
      "156\n",
      "13\n",
      "65\n",
      "63\n",
      "69\n",
      "138\n",
      "104\n",
      "102\n",
      "168\n",
      "49\n",
      "60\n",
      "195\n",
      "287\n",
      "194\n",
      "102\n",
      "295\n",
      "312\n",
      "222\n",
      "180\n",
      "133\n",
      "57\n",
      "163\n",
      "281\n",
      "74\n",
      "18\n",
      "296\n",
      "238\n",
      "120\n",
      "71\n",
      "33\n",
      "173\n",
      "157\n",
      "270\n",
      "27\n",
      "248\n",
      "259\n",
      "194\n",
      "272\n",
      "29\n",
      "141\n",
      "208\n",
      "89\n",
      "148\n",
      "35\n",
      "265\n",
      "161\n",
      "200\n",
      "201\n",
      "{100: 32, 79: 27, 45: 17, 13: 3, 28: 9, 27: 9, 6: 2}\n"
     ]
    }
   ],
   "source": [
    "from random import uniform\n",
    "\n",
    "# write your python code here\n",
    "# you can take the above example as sample input for your program to test\n",
    "# it should work for any general input try not to hard code for only given input examples\n",
    "\n",
    "\n",
    "# you can free to change all these codes/structure\n",
    "def pick_a_number_from_list(A):\n",
    "    # your code here for picking an element from with the probability propotional to its magnitude\n",
    "    sum = 0\n",
    "    cumulative_sum = []\n",
    "    for i in range(len(A)):\n",
    "        sum = sum + A[i]\n",
    "        cumulative_sum.append(sum)\n",
    "#     print(cumulative_sum)\n",
    "    \n",
    "    r = int(uniform(0, sum))\n",
    "    print(r)\n",
    "    number = 0\n",
    "    for i in range(len(cumulative_sum)):\n",
    "        if (r >= cumulative_sum[i] and r < cumulative_sum[i + 1]):\n",
    "            return A[i + 1]\n",
    "    return number       # return selected_random_number\n",
    "        \n",
    "\n",
    "def sampling_based_on_magnitude():\n",
    "    A = [1, 5, 27, 6, 13, 28, 100, 45, 10, 79]\n",
    "    a = dict()\n",
    "    print(A, sum(A))\n",
    "    for i in range(1,100):\n",
    "        number = pick_a_number_from_list(A)\n",
    "#         print(\"number: \",number)\n",
    "        if number not in a:\n",
    "            a[number] = 1\n",
    "        else:\n",
    "            a[number] += 1\n",
    "    print(a)\n",
    "\n",
    "sampling_based_on_magnitude()"
   ]
  },
  {
   "cell_type": "markdown",
   "metadata": {
    "colab_type": "text",
    "id": "D1xQy2WWB-kq"
   },
   "source": [
    "<h3> Q3: Replace the digits in the string with #</h3>\n",
    "\n",
    "consider a string that will have digits in that, we need to remove all the not digits and replace the digits with #\n",
    "<pre>\n",
    "Ex 1: A = 234                Output: ###\n",
    "Ex 2: A = a2b3c4             Output: ###\n",
    "Ex 3: A = abc                Output:   (empty string)\n",
    "Ex 5: A = #2a$#b%c%561#      Output: ####\n",
    "</pre>"
   ]
  },
  {
   "cell_type": "code",
   "execution_count": 74,
   "metadata": {
    "colab": {},
    "colab_type": "code",
    "id": "fxczi2jzB-kr"
   },
   "outputs": [
    {
     "name": "stdout",
     "output_type": "stream",
     "text": [
      "Original String: #2a$#b%c%561#\n",
      "Modified String: ####\n"
     ]
    }
   ],
   "source": [
    "import re\n",
    "# write your python code here\n",
    "# you can take the above example as sample input for your program to test\n",
    "# it should work for any general input try not to hard code for only given input examples\n",
    "\n",
    "# you can free to change all these codes/structure\n",
    "# String: it will be the input to your program\n",
    "def replace_digits(string):\n",
    "    # write your code \n",
    "    replaced = '#' * len(re.sub(r'\\D', '', string))\n",
    "    return replaced # modified string which is after replacing the # with digits\n",
    "\n",
    "string = \"#2a$#b%c%561#\"\n",
    "print(\"Original String:\",string)\n",
    "print(\"Modified String:\",replace_digits(string))"
   ]
  },
  {
   "cell_type": "markdown",
   "metadata": {
    "colab_type": "text",
    "id": "j7h0Ywg7B-kw"
   },
   "source": [
    "<h3> Q4: Students marks dashboard</h3>\n",
    "\n",
    "Consider the marks list of class students given two lists <br>\n",
    "Students = ['student1','student2','student3','student4','student5','student6','student7','student8','student9','student10'] <br>\n",
    "Marks = [45, 78, 12, 14, 48, 43, 45, 98, 35, 80] <br>\n",
    "from the above two lists the Student[0] got Marks[0],  Student[1] got Marks[1] and so on <br><br>\n",
    "Your task is to print the name of students:<br>\n",
    "<strong>a. Who got top 5 ranks, in the descending order of marks</strong> <br>\n",
    "<strong>b. Who got least 5 ranks, in the increasing order of marks</strong><br>\n",
    "<strong>d. Who got marks between  &gt;25th percentile &lt;75th percentile, in the increasing order of marks</strong>\n",
    "\n",
    "<pre>\n",
    "Ex 1: \n",
    "Students=['student1','student2','student3','student4','student5','student6','student7','student8','student9','student10'] \n",
    "Marks = [45, 78, 12, 14, 48, 43, 47, 98, 35, 80]\n",
    "a. \n",
    "student8  98\n",
    "student10 80\n",
    "student2  78\n",
    "student5  48\n",
    "student7  47\n",
    "b.\n",
    "student3 12\n",
    "student4 14\n",
    "student9 35\n",
    "student6 43\n",
    "student1 45\n",
    "c.\n",
    "student9 35\n",
    "student6 43\n",
    "student1 45\n",
    "student7 47\n",
    "student5 48\n",
    "</pre>"
   ]
  },
  {
   "cell_type": "code",
   "execution_count": 43,
   "metadata": {
    "colab": {},
    "colab_type": "code",
    "id": "cxPJgItsB-kx"
   },
   "outputs": [
    {
     "name": "stdout",
     "output_type": "stream",
     "text": [
      "[('student8', 98), ('student10', 80), ('student2', 78), ('student5', 48), ('student7', 47)]\n",
      "[('student3', 12), ('student4', 14), ('student9', 35), ('student6', 43), ('student1', 45)]\n",
      "[('student9', 35), ('student6', 43), ('student1', 45), ('student7', 47), ('student5', 48)]\n"
     ]
    }
   ],
   "source": [
    "# write your python code here\n",
    "# you can take the above example as sample input for your program to test\n",
    "# it should work for any general input try not to hard code for only given input examples\n",
    "import math\n",
    "\n",
    "Students=['student1','student2','student3','student4','student5','student6','student7','student8','student9','student10'] \n",
    "Marks = [45, 78, 12, 14, 48, 43, 47, 98, 35, 80]\n",
    "\n",
    "# zip will bind together students with corresponding marks as a list of tuples\n",
    "grades = list(zip(Students, Marks))\n",
    "\n",
    "# sort the list of tuples on the grades, so selecting the second element (index 1) of the tuple  \n",
    "grades.sort(key = lambda e: e[1])\n",
    "#print(grades)\n",
    "\n",
    "# you can free to change all these codes/structure\n",
    "def display_dash_board(students, marks):\n",
    "    # write code for computing top top 5 students\n",
    "    # Use slicing on 'grades' list of tuples\n",
    "    top_5 = grades[5:]\n",
    "    top = top_5[::-1]\n",
    "    top_5_students = top\n",
    "    # write code for computing top least 5 students\n",
    "    least = grades[:5]\n",
    "    least_5_students = least\n",
    "    # write code for computing marks between 25th percentile and 75th percentile\n",
    "    # Slice out 25th percentile and 75th percentile based on the length of the 'grades' list\n",
    "    twenty_fifth = math.ceil(len(grades) // 4)\n",
    "    seventy_fifth = math.floor(3 * len(grades) // 4)\n",
    "    middle = grades[twenty_fifth:seventy_fifth]\n",
    "    students_within_25_and_75 = middle# compute this\n",
    "    \n",
    "    return top_5_students, least_5_students, students_within_25_and_75\n",
    "\n",
    "top_5_students, least_5_students, students_within_25_and_75 = display_dash_board(Students, Marks)\n",
    "print(top_5_students)\n",
    "print(least_5_students)\n",
    "print(students_within_25_and_75)"
   ]
  },
  {
   "cell_type": "markdown",
   "metadata": {
    "colab_type": "text",
    "id": "qha0OhQHB-k1"
   },
   "source": [
    "<h3> Q5: Find the closest points</h3>\n",
    "\n",
    "Consider you have given n data points in the form of list of tuples like S=[(x1,y1),(x2,y2),(x3,y3),(x4,y4),(x5,y5),..,(xn,yn)] and a point P=(p,q) <br> your task is to find 5 closest points(based on cosine distance) in S from P\n",
    "<br>cosine distance between two points (x,y) and (p,q) is defind as $cos^{-1}(\\frac{(x\\cdot p+y\\cdot q)}{\\sqrt(x^2+y^2)\\cdot\\sqrt(p^2+q^2)})$\n",
    "<pre>\n",
    "Ex:\n",
    "\n",
    "S = [(1,2),(3,4),(-1,1),(6,-7),(0, 6),(-5,-8),(-1,-1)(6,0),(1,-1)]\n",
    "P = (3,-4)\n",
    "<img src='https://i.imgur.com/vIFPOcG.jpg', width=300>\n",
    "Output:\n",
    "(6,-7)\n",
    "(1,-1)\n",
    "(6,0)\n",
    "(-5,-8)\n",
    "(-1,-1)\n",
    "</pre>"
   ]
  },
  {
   "cell_type": "code",
   "execution_count": 44,
   "metadata": {
    "colab": {},
    "colab_type": "code",
    "id": "wA5I1g-2B-k2"
   },
   "outputs": [
    {
     "name": "stdout",
     "output_type": "stream",
     "text": [
      "(6, -7)\n",
      "(1, -1)\n",
      "(6, 0)\n",
      "(-5, -8)\n",
      "(-1, -1)\n"
     ]
    }
   ],
   "source": [
    "import math\n",
    "\n",
    "# write your python code here\n",
    "# you can take the above example as sample input for your program to test\n",
    "# it should work for any general input try not to hard code for only given input examples\n",
    "# you can free to change all these codes/structure\n",
    "\n",
    "#def closest_points_to_p(S, P):\n",
    "    # write your code here\n",
    "    # return closest_points_to_p  # its list of tuples\n",
    "    \n",
    "    \n",
    "    \n",
    "# here S is list of tuples and P is a tuple ot len=2\n",
    "cosine_dist = []\n",
    "S = [(1,2), (3,4), (-1,1), (6,-7), (0, 6), (-5,-8), (-1,-1), (6,0), (1,-1)]\n",
    "P = (3,-4)\n",
    "\n",
    "# To find out the inverse of cosine in Python we use math.acos() function of Python Standard math Library. \n",
    "# The inverse of cosine is also called arc cosine.\n",
    "for a, b in S:\n",
    "    numerator = a * P[0] + b * P[1]\n",
    "    denominator = math.sqrt(a ** 2 + b ** 2) * math.sqrt(P[0] ** 2 + P[1] **2)       \n",
    "    cosine_dist.append(math.acos(numerator / denominator))\n",
    "\n",
    "X = cosine_dist\n",
    "Y = [S for S in sorted(zip(S,X), key = lambda i: i[1])]\n",
    "k = Y[:5] \n",
    "for i, j in k:\n",
    "    print(i)"
   ]
  },
  {
   "cell_type": "markdown",
   "metadata": {
    "colab_type": "text",
    "id": "-g11jeAiB-k5"
   },
   "source": [
    "<h3> Q6: Find which line separates oranges and apples</h3>\n",
    "consider you have given two set of data points in the form of list of tuples like \n",
    "<pre>\n",
    "Red =[(R11,R12),(R21,R22),(R31,R32),(R41,R42),(R51,R52),..,(Rn1,Rn2)]\n",
    "Blue=[(B11,B12),(B21,B22),(B31,B32),(B41,B42),(B51,B52),..,(Bm1,Bm2)]\n",
    "</pre>\n",
    "and set of line equations(in the string formate, i.e list of strings)\n",
    "<pre>\n",
    "Lines = [a1x+b1y+c1,a2x+b2y+c2,a3x+b3y+c3,a4x+b4y+c4,..,K lines]\n",
    "Note: you need to string parsing here and get the coefficients of x,y and intercept\n",
    "</pre>\n",
    "your task is to for each line that is given print \"YES\"/\"NO\", you will print yes, if all the red points are one side of the line and blue points are other side of the line, otherwise no\n",
    "<pre>\n",
    "Ex:\n",
    "Red= [(1,1),(2,1),(4,2),(2,4), (-1,4)]\n",
    "Blue= [(-2,-1),(-1,-2),(-3,-2),(-3,-1),(1,-3)]\n",
    "Lines=[\"1x+1y+0\",\"1x-1y+0\",\"1x+0y-3\",\"0x+1y-0.5\"]\n",
    "<img src='https://i.imgur.com/DoQf7mE.jpg' width=400>\n",
    "Output:\n",
    "YES\n",
    "NO\n",
    "NO\n",
    "YES\n",
    "</pre>"
   ]
  },
  {
   "cell_type": "code",
   "execution_count": 40,
   "metadata": {
    "colab": {},
    "colab_type": "code",
    "id": "eRxExaTRB-k6"
   },
   "outputs": [
    {
     "name": "stdout",
     "output_type": "stream",
     "text": [
      "YES\n",
      "NO\n",
      "NO\n",
      "YES\n"
     ]
    }
   ],
   "source": [
    "import math\n",
    "# write your python code here\n",
    "# you can take the above example as sample input for your program to test\n",
    "# it should work for any general input try not to hard code for only given input strings\n",
    "    \n",
    "# you can free to change all these codes/structure\n",
    "def i_am_the_one(red,blue,line):\n",
    "    # your code\n",
    "    sign_of_r_pts_eq = -1\n",
    "\n",
    "    if eval(line.replace('x', '*%s' % red[0][0]).replace('y', '*%s' % red[0][1])) > 0:\n",
    "        sign_of_r_pts_eq = 1\n",
    "\n",
    "    for r_pt in red:\n",
    "        if sign_of_r_pts_eq == 1 and eval(\n",
    "                line.replace('x', '*%s' % r_pt[0]).replace('y', '*%s' % r_pt[1])) < 0:\n",
    "            return 'NO'\n",
    "\n",
    "        if sign_of_r_pts_eq == -1 and eval(\n",
    "                line.replace('x', '*%s' % r_pt[0]).replace('y', '*%s' % r_pt[1])) > 0:\n",
    "            return 'NO'\n",
    "\n",
    "\n",
    "    sign_of_b_pts_eq = -1 * sign_of_r_pts_eq\n",
    "\n",
    "    for b_pts in blue:\n",
    "        if sign_of_b_pts_eq == 1 and eval(\n",
    "                line.replace('x', '*%s' % b_pts[0]).replace('y', '*%s' % b_pts[1])) < 0:\n",
    "            return 'NO'\n",
    "\n",
    "        if sign_of_b_pts_eq == -1 and eval(\n",
    "                line.replace('x', '*%s' % b_pts[0]).replace('y', '*%s' % b_pts[1])) > 0:\n",
    "            return 'NO'\n",
    "\n",
    "    return 'YES'\n",
    "\n",
    "Red = [(1, 1), (2, 1), (4, 2), (2, 4), (-1, 4)]\n",
    "Blue = [(-2, -1), (-1, -2), (-3, -2), (-3, -1), (1, -3)]\n",
    "\n",
    "Lines = [\"1x+1y+0\", \"1x-1y+0\", \"1x+0y-3\", \"0x+1y-0.5\"]\n",
    "\n",
    "for i in Lines:\n",
    "    yes_or_no = find_who(Red, Blue, i)\n",
    "    print(yes_or_no) "
   ]
  },
  {
   "cell_type": "markdown",
   "metadata": {
    "colab_type": "text",
    "id": "9OBpURbNB-k9"
   },
   "source": [
    "<h3> Q7: Filling the missing values in the specified format</h3>\n",
    "You will be given a string with digits and '\\_'(missing value) symbols you have to replace the '\\_' symbols as explained \n",
    "<pre>\n",
    "Ex 1: _, _, _, 24 ==> 24/4, 24/4, 24/4, 24/4 i.e we. have distributed the 24 equally to all 4 places <br>\n",
    "Ex 2: 40, _, _, _, 60 ==> (60+40)/5,(60+40)/5,(60+40)/5,(60+40)/5,(60+40)/5 ==> 20, 20, 20, 20, 20 i.e. the sum of (60+40) is distributed qually to all 5 places<br>\n",
    "Ex 3: 80, _, _, _, _  ==> 80/5,80/5,80/5,80/5,80/5 ==> 16, 16, 16, 16, 16 i.e. the 80 is distributed qually to all 5 missing values that are right to it<br>\n",
    "Ex 4: _, _, 30, _, _, _, 50, _, _  \n",
    "==> we will fill the missing values from left to right \n",
    "    a. first we will distribute the 30 to left two missing values (10, 10, 10, _, _, _, 50, _, _)\n",
    "    b. now distribute the sum (10+50) missing values in between (10, 10, 12, 12, 12, 12, 12, _, _) \n",
    "    c. now we will distribute 12 to right side missing values (10, 10, 12, 12, 12, 12, 4, 4, 4)\n",
    "</pre>\n",
    "for a given string with comma seprate values, which will have both missing values numbers like ex: \"_, _, x, _, _, _\"\n",
    "you need fill the missing values\n",
    "\n",
    "Q: your program reads a string like ex: \"_, _, x, _, _, _\" and returns the filled sequence\n",
    "\n",
    "Ex: \n",
    "<pre>\n",
    "Input1: \"_,_,_,24\"\n",
    "Output1: 6,6,6,6\n",
    "\n",
    "Input2: \"40,_,_,_,60\"\n",
    "Output2: 20,20,20,20,20\n",
    "\n",
    "Input3: \"80,_,_,_,_\"\n",
    "Output3: 16,16,16,16,16\n",
    "\n",
    "Input4: \"_,_,30,_,_,_,50,_,_\"\n",
    "Output4: 10,10,12,12,12,12,4,4,4\n",
    "</pre>\n",
    "\n"
   ]
  },
  {
   "cell_type": "code",
   "execution_count": 65,
   "metadata": {
    "colab": {},
    "colab_type": "code",
    "id": "nZmpzHs_B-k-"
   },
   "outputs": [
    {
     "name": "stdout",
     "output_type": "stream",
     "text": [
      "[10, 10, 12, 12, 12, 12, 4, 4, 4]\n"
     ]
    }
   ],
   "source": [
    "# write your python code here\n",
    "# you can take the above example as sample input for your program to test\n",
    "# it should work for any general input try not to hard code for only given input strings\n",
    "    \n",
    "# you can free to change all these codes/structure\n",
    "def curve_smoothing(string):\n",
    "    # your code\n",
    "    index_of_non_empty_cells_list = []\n",
    "\n",
    "    split_string = string.split(',')\n",
    "    \n",
    "    for i in range(len(split_string)):\n",
    "        if split_string[i] != '_':\n",
    "            index_of_non_empty_cells_list.append(i)\n",
    "            \n",
    "    # add the length of the original list to index_of_non_empty_cells_list\n",
    "    index_of_non_empty_cells_list.append(len(split_string) - 1)\n",
    "    \n",
    "    #print(index_of_non_empty_cells_list)\n",
    "    \n",
    "    # Loop over the index_of_non_empty_cells_list to modify the original list by filling up empty slots\n",
    "    \n",
    "    start = 0\n",
    "    \n",
    "    for ele in index_of_non_empty_cells_list:\n",
    "        # Whenever there is a missing value, add the proceeding value and the immediately next available value\n",
    "        # and divide it by the number of missing values.\n",
    "        # Calculate the cumulative_sum of available non-empty cells.\n",
    "        cumulative_sum_prev_and_next_value = int(split_string[ele]) if split_string[ele] != '_' else 0\n",
    "        cumulative_sum_prev_and_next_value += int(split_string[start]) if split_string[start] != '_' and start != ele else 0\n",
    "#       print(cumulative_sum_prev_and_next_value)\n",
    "        # Divide the cumulative_sum of prev and next value by the number of missing values\n",
    "        integer_to_replace = cumulative_sum_prev_and_next_value // (ele - start + 1)\n",
    "        split_string = [integer_to_replace if start <= x <= ele else split_string[x] for x in range(len(split_string))]\n",
    "        start = ele\n",
    "    return split_string#list of values\n",
    "\n",
    "S =  \"_,_,30,_,_,_,50,_,_\"\n",
    "smoothed_values= curve_smoothing(S)\n",
    "print(smoothed_values)"
   ]
  },
  {
   "cell_type": "markdown",
   "metadata": {
    "colab_type": "text",
    "id": "RBz4pzlfB-lB"
   },
   "source": [
    "<h3> Q8: Filling the missing values in the specified format</h3>\n",
    "You will be given a list of lists, each sublist will be of length 2 i.e. [[x,y],[p,q],[l,m]..[r,s]]<br>\n",
    "Consider it like a martrix of n rows and two columns<br>\n",
    "1. the first column F will contain only 5 uniques values (F1, F2, F3, F4, F5)<br>\n",
    "2. the second column S will contain only 3 uniques values (S1, S2, S3)<br>\n",
    "<pre>\n",
    "Your task is to find\n",
    "<strong>\n",
    "a. Probability of P(F = F1|S == S1), P(F = F1|S == S2), P(F = F1|S == S3)\n",
    "b. Probability of P(F = F2|S == S1), P(F = F2|S == S2), P(F = F2|S == S3)\n",
    "c. Probability of P(F = F3|S == S1), P(F = F3|S == S2), P(F = F3|S == S3)\n",
    "d. Probability of P(F = F4|S == S1), P(F = F4|S == S2), P(F = F4|S == S3)\n",
    "e. Probability of P(F = F5|S == S1), P(F = F5|S == S2), P(F = F5|S == S3)\n",
    "</strong>\n",
    "</pre>\n",
    "Ex:\n",
    "\n",
    "<pre>\n",
    "[[F1,S1],[F2,S2],[F3,S3],[F1,S2],[F2,S3],[F3,S2],[F2,S1],[F4,S1],[F4,S3],[F5,S1]]\n",
    "\n",
    "a. P(F=F1|S==S1)=1/4, P(F=F1|S==S2)=1/3, P(F=F1|S==S3)=0/3\n",
    "b. P(F=F2|S==S1)=1/4, P(F=F2|S==S2)=1/3, P(F=F2|S==S3)=1/3\n",
    "c. P(F=F3|S==S1)=0/4, P(F=F3|S==S2)=1/3, P(F=F3|S==S3)=1/3\n",
    "d. P(F=F4|S==S1)=1/4, P(F=F4|S==S2)=0/3, P(F=F4|S==S3)=1/3\n",
    "e. P(F=F5|S==S1)=1/4, P(F=F5|S==S2)=0/3, P(F=F5|S==S3)=0/3\n",
    "</pre>\n",
    "\n",
    "\n"
   ]
  },
  {
   "cell_type": "code",
   "execution_count": 68,
   "metadata": {
    "colab": {},
    "colab_type": "code",
    "id": "e-1giz1MB-lC"
   },
   "outputs": [
    {
     "name": "stdout",
     "output_type": "stream",
     "text": [
      "P(F = F1 | S == S1) = 1/4\n",
      "P(F = F1 | S == S2) = 1/3\n",
      "P(F = F1 | S == S3) = 0/3\n",
      "P(F = F2 | S == S1) = 1/4\n",
      "P(F = F2 | S == S2) = 1/3\n",
      "P(F = F2 | S == S3) = 1/3\n",
      "P(F = F3 | S == S1) = 0/4\n",
      "P(F = F3 | S == S2) = 1/3\n",
      "P(F = F3 | S == S3) = 1/3\n",
      "P(F = F4 | S == S1) = 1/4\n",
      "P(F = F4 | S == S2) = 0/3\n",
      "P(F = F4 | S == S3) = 1/3\n",
      "P(F = F5 | S == S1) = 1/4\n",
      "P(F = F5 | S == S2) = 0/3\n",
      "P(F = F5 | S == S3) = 0/3\n"
     ]
    }
   ],
   "source": [
    "# write your python code here\n",
    "# you can take the above example as sample input for your program to test\n",
    "# it should work for any general input try not to hard code for only given input strings\n",
    "\n",
    "\n",
    "\n",
    "# you can free to change all these codes/structure\n",
    "def compute_conditional_probabilites(F, S):\n",
    "    # your code\n",
    "    numerator = 0\n",
    "    denominator = 0\n",
    "    for i in range(len(A)):\n",
    "        if(A[i][1] == S):\n",
    "            denominator = denominator + 1\n",
    "            if(A[i][0] == F):\n",
    "                numerator = numerator + 1\n",
    "    print('P(F = {} | S == {}) = {}/{}'.format(F, S, str(numerator), str(denominator)))\n",
    "    # print the output as per the instructions\n",
    "\n",
    "A = [['F1','S1'],['F2','S2'],['F3','S3'],['F1','S2'],['F2','S3'],['F3','S2'],['F2','S1'],['F4','S1'],['F4','S3'],['F5','S1']]\n",
    "\n",
    "for i in ['F1', 'F2', 'F3', 'F4', 'F5']:\n",
    "    for j in ['S1', 'S2', 'S3']:\n",
    "        compute_conditional_probabilites(i, j)"
   ]
  },
  {
   "cell_type": "markdown",
   "metadata": {
    "colab_type": "text",
    "id": "n4HS87QmB-lF"
   },
   "source": [
    "<h3> Q9: Given two sentences S1, S2</h3>\n",
    "You will be given two sentances S1, S2 your task is to find \n",
    "<pre>\n",
    "a. Number of common words between S1, S2\n",
    "b. Words in S1 but not in S2\n",
    "c. Words in S2 but not in S1\n",
    "</pre>\n",
    "\n",
    "Ex: \n",
    "<pre>\n",
    "S1= \"the first column F will contain only 5 uniques values\"\n",
    "S2= \"the second column S will contain only 3 uniques values\"\n",
    "Output:\n",
    "a. 7\n",
    "b. ['first','F','5']\n",
    "c. ['second','S','3']\n",
    "</pre>"
   ]
  },
  {
   "cell_type": "code",
   "execution_count": 69,
   "metadata": {
    "colab": {},
    "colab_type": "code",
    "id": "Ez7hlHK0B-lG"
   },
   "outputs": [
    {
     "name": "stdout",
     "output_type": "stream",
     "text": [
      "7\n",
      "['F', '5', 'first']\n",
      "['3', 'S', 'second']\n"
     ]
    }
   ],
   "source": [
    "# write your python code here\n",
    "# you can take the above example as sample input for your program to test\n",
    "# it should work for any general input try not to hard code for only given input strings\n",
    "\n",
    "# you can free to change all these codes/structure\n",
    "def string_features(S1, S2):\n",
    "    # your code\n",
    "    # Split the words of the sentences and put the words in a set\n",
    "    S1_words = set(S1.split())\n",
    "    S2_words = set(S2.split())\n",
    "    # Use set intersection operation to get the common words between 2 sets and compute the length of the resultant set\n",
    "    a = len(S1_words & S2_words)\n",
    "    # Use set difference operation to get the words that present in either of the set and display the words as a list\n",
    "    b = set(S1_words) - (set(S2_words))\n",
    "    b_l = list(b)\n",
    "    c = set(S2_words) - (set(S1_words))\n",
    "    c_l = list(c)\n",
    "    return a, b_l, c_l\n",
    "\n",
    "S1 = \"the first column F will contain only 5 uniques values\"\n",
    "S2 = \"the second column S will contain only 3 uniques values\"\n",
    "a, b_l, c_l = string_features(S1, S2)\n",
    "print(a)\n",
    "print(b_l)\n",
    "print(c_l)"
   ]
  },
  {
   "cell_type": "markdown",
   "metadata": {
    "colab_type": "text",
    "id": "XefXVEjCB-lI"
   },
   "source": [
    "<h3> Q10: Given two sentences S1, S2</h3>\n",
    "You will be given a list of lists, each sublist will be of length 2 i.e. [[x,y],[p,q],[l,m]..[r,s]]\n",
    "consider its like a martrix of n rows and two columns\n",
    "\n",
    "a. the first column Y will contain interger values <br>\n",
    "b. the second column $Y_{score}$ will be having float values <br>\n",
    "Your task is to find the value of $f(Y,Y_{score}) = -1*\\frac{1}{n}\\Sigma_{for each Y,Y_{score} pair}(Ylog10(Y_{score})+(1-Y)log10(1-Y_{score}))$ here n is the number of rows in the matrix\n",
    "<pre>\n",
    "Ex:\n",
    "[[1, 0.4], [0, 0.5], [0, 0.9], [0, 0.3], [0, 0.6], [1, 0.1], [1, 0.9], [1, 0.8]]\n",
    "output:\n",
    "0.4243099\n",
    "</pre>\n",
    "$\\frac{-1}{8}\\cdot((1\\cdot log_{10}(0.4)+0\\cdot log_{10}(0.6))+(0\\cdot log_{10}(0.5)+1\\cdot log_{10}(0.5)) + ... + (1\\cdot log_{10}(0.8)+0\\cdot log_{10}(0.2)) )$"
   ]
  },
  {
   "cell_type": "code",
   "execution_count": 70,
   "metadata": {
    "colab": {},
    "colab_type": "code",
    "id": "N9zkagyNB-lJ"
   },
   "outputs": [
    {
     "name": "stdout",
     "output_type": "stream",
     "text": [
      "0.42430993457031635\n"
     ]
    }
   ],
   "source": [
    "# write your python code here\n",
    "# you can take the above example as sample input for your program to test\n",
    "# it should work for any general input try not to hard code for only given input strings\n",
    "from math import log\n",
    "\n",
    "# you can free to change all these codes/structure\n",
    "def compute_log_loss(A):\n",
    "    # your code\n",
    "    loss = 0\n",
    "    for row in A:\n",
    "        loss += (row[0] * log(row[1], 10)) + ((1 - row[0]) * log(1 - row[1], 10))\n",
    "        log_loss = -1 * loss / len(A)\n",
    "    return log_loss\n",
    "\n",
    "A = [[1, 0.4], [0, 0.5], [0, 0.9], [0, 0.3], [0, 0.6], [1, 0.1], [1, 0.9], [1, 0.8]]\n",
    "loss = compute_log_loss(A)\n",
    "print(loss)"
   ]
  }
 ],
 "metadata": {
  "colab": {
   "collapsed_sections": [],
   "name": "1.Python Assignment.ipynb",
   "provenance": []
  },
  "kernelspec": {
   "display_name": "Python 3",
   "language": "python",
   "name": "python3"
  },
  "language_info": {
   "codemirror_mode": {
    "name": "ipython",
    "version": 3
   },
   "file_extension": ".py",
   "mimetype": "text/x-python",
   "name": "python",
   "nbconvert_exporter": "python",
   "pygments_lexer": "ipython3",
   "version": "3.8.5"
  }
 },
 "nbformat": 4,
 "nbformat_minor": 1
}
