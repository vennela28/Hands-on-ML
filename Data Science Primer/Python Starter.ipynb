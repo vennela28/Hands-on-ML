{
 "cells": [
  {
   "cell_type": "markdown",
   "metadata": {},
   "source": [
    "# 1. Multiplication table of any number"
   ]
  },
  {
   "cell_type": "code",
   "execution_count": 19,
   "metadata": {},
   "outputs": [
    {
     "name": "stdout",
     "output_type": "stream",
     "text": [
      "Enter a number: 19\n",
      "The multiplication table of 19\n",
      "19 x 1 = 19\n",
      "19 x 2 = 38\n",
      "19 x 3 = 57\n",
      "19 x 4 = 76\n",
      "19 x 5 = 95\n",
      "19 x 6 = 114\n",
      "19 x 7 = 133\n",
      "19 x 8 = 152\n",
      "19 x 9 = 171\n",
      "19 x 10 = 190\n"
     ]
    }
   ],
   "source": [
    "def multiplication_table(num):\n",
    "    for i in range(1, 11):\n",
    "        print(num, 'x', i, '=', (num * i))\n",
    "        \n",
    "n = int(input(\"Enter a number: \"))\n",
    "print('The multiplication table of', n)\n",
    "multiplication_table(n)"
   ]
  },
  {
   "cell_type": "markdown",
   "metadata": {},
   "source": [
    "# 2. Twin primes upto 1000"
   ]
  },
  {
   "cell_type": "code",
   "execution_count": 30,
   "metadata": {},
   "outputs": [
    {
     "name": "stdout",
     "output_type": "stream",
     "text": [
      "3 , 5\n",
      "5 , 7\n",
      "11 , 13\n",
      "17 , 19\n",
      "29 , 31\n",
      "41 , 43\n",
      "59 , 61\n",
      "71 , 73\n",
      "101 , 103\n",
      "107 , 109\n",
      "137 , 139\n",
      "149 , 151\n",
      "179 , 181\n",
      "191 , 193\n",
      "197 , 199\n",
      "227 , 229\n",
      "239 , 241\n",
      "269 , 271\n",
      "281 , 283\n",
      "311 , 313\n",
      "347 , 349\n",
      "419 , 421\n",
      "431 , 433\n",
      "461 , 463\n",
      "521 , 523\n",
      "569 , 571\n",
      "599 , 601\n",
      "617 , 619\n",
      "641 , 643\n",
      "659 , 661\n",
      "809 , 811\n",
      "821 , 823\n",
      "827 , 829\n",
      "857 , 859\n",
      "881 , 883\n"
     ]
    }
   ],
   "source": [
    "def primes(n):\n",
    "    f = 0\n",
    "    for i in range(2, (n // 2) + 1):\n",
    "        if n % i == 0:\n",
    "            f = 1\n",
    "            break\n",
    "    return f\n",
    "\n",
    "for k in range(2, 1001):\n",
    "    if primes(k) == 0 and primes(k + 2) == 0:\n",
    "        print(k,',',(k + 2))    "
   ]
  },
  {
   "cell_type": "markdown",
   "metadata": {},
   "source": [
    "# 3. Prime factors of a number"
   ]
  },
  {
   "cell_type": "code",
   "execution_count": 27,
   "metadata": {},
   "outputs": [
    {
     "name": "stdout",
     "output_type": "stream",
     "text": [
      "Enter a number: 56\n",
      "The prime factors of 56 are\n",
      "[2, 7]\n"
     ]
    }
   ],
   "source": [
    "lst = []\n",
    "def factors(n):\n",
    "    for i in range(2, n + 1):\n",
    "        if n % i == 0:\n",
    "            prime = 1\n",
    "            for j in range(2, (i // 2) + 1):\n",
    "                if i % j == 0:\n",
    "                    prime = 0\n",
    "                    break\n",
    "            if prime == 1:\n",
    "                lst.append(i)\n",
    "    print(lst)\n",
    "\n",
    "num = int(input(\"Enter a number: \"))\n",
    "print(\"The prime factors of\", num, \"are\")\n",
    "factors(num)"
   ]
  },
  {
   "cell_type": "markdown",
   "metadata": {},
   "source": [
    "# 4. Permutations and Combinations"
   ]
  },
  {
   "cell_type": "markdown",
   "metadata": {},
   "source": [
    "<b>Code to show permutations and combinations of a number</b>"
   ]
  },
  {
   "cell_type": "code",
   "execution_count": 27,
   "metadata": {},
   "outputs": [
    {
     "name": "stdout",
     "output_type": "stream",
     "text": [
      "Permutation:  30240\n",
      "Combination:  252\n"
     ]
    }
   ],
   "source": [
    "def factorial(num):\n",
    "    if num == 0 or num == 1:\n",
    "        return 1\n",
    "    else:\n",
    "        return num * factorial(num - 1)\n",
    "    \n",
    "def permutation(n, r):\n",
    "    return int(factorial(n) / factorial(r))\n",
    "\n",
    "def combination(n, r):\n",
    "    return permutation(n, r) * 1 // int(factorial(r))\n",
    "\n",
    "print(\"Permutation: \", permutation(10, 5))\n",
    "print(\"Combination: \", combination(10, 5))"
   ]
  },
  {
   "cell_type": "markdown",
   "metadata": {},
   "source": [
    "<b>Code to show permutations and combinations on a list of elements using in-built functions</b>"
   ]
  },
  {
   "cell_type": "code",
   "execution_count": 30,
   "metadata": {
    "scrolled": true
   },
   "outputs": [
    {
     "name": "stdout",
     "output_type": "stream",
     "text": [
      "Permuations\n",
      "(1, 2)\n",
      "(1, 3)\n",
      "(2, 1)\n",
      "(2, 3)\n",
      "(3, 1)\n",
      "(3, 2)\n",
      "Combinations\n",
      "(1, 2)\n",
      "(1, 3)\n",
      "(2, 3)\n"
     ]
    }
   ],
   "source": [
    "from itertools import permutations, combinations\n",
    "\n",
    "lst = [1, 2, 3]\n",
    "\n",
    "perm = permutations(lst, 2)\n",
    "\n",
    "print(\"Permuations\")\n",
    "for i in list(perm):\n",
    "    print(i)\n",
    "    \n",
    "combine = combinations(lst, 2)\n",
    "\n",
    "print(\"Combinations\")\n",
    "for j in list(combine):\n",
    "    print(j)"
   ]
  },
  {
   "cell_type": "markdown",
   "metadata": {},
   "source": [
    "# 5. Decimal to Binary"
   ]
  },
  {
   "cell_type": "code",
   "execution_count": 28,
   "metadata": {},
   "outputs": [
    {
     "name": "stdout",
     "output_type": "stream",
     "text": [
      "Enter the number: 18\n"
     ]
    },
    {
     "data": {
      "text/plain": [
       "10010"
      ]
     },
     "execution_count": 28,
     "metadata": {},
     "output_type": "execute_result"
    }
   ],
   "source": [
    "def decimal_binary(n):\n",
    "    binary = 0\n",
    "    i = 1\n",
    "    while(n != 0):\n",
    "        reminder = n % 2\n",
    "        n = n // 2\n",
    "        binary = binary + reminder * i\n",
    "        i = i * 10\n",
    "    return binary\n",
    "    \n",
    "n = int(input(\"Enter the number: \"))\n",
    "decimal_binary(n)"
   ]
  },
  {
   "cell_type": "markdown",
   "metadata": {},
   "source": [
    "# 6. Armstrong Number"
   ]
  },
  {
   "cell_type": "code",
   "execution_count": 34,
   "metadata": {},
   "outputs": [
    {
     "name": "stdout",
     "output_type": "stream",
     "text": [
      "Enter the number: 153\n",
      "153 is an Armstrong number.\n",
      "\n",
      "The Armstrong numbers between 1 to 1000:\n",
      "[1, 153, 370, 371, 407]\n"
     ]
    }
   ],
   "source": [
    "def cubesum(n):\n",
    "    sum = 0\n",
    "    cube = 1\n",
    "    while n > 0:\n",
    "        digit = n % 10\n",
    "        cube = digit ** 3\n",
    "        sum += cube\n",
    "        n = n // 10\n",
    "    return sum\n",
    "\n",
    "\n",
    "def isArmstrong(num):\n",
    "    if num == cubesum(num):\n",
    "        print(num, \"is an Armstrong number.\")\n",
    "    else:\n",
    "        print(num, \"is not an Armstrong number.\")\n",
    "        \n",
    "num = int(input(\"Enter the number: \"))\n",
    "isArmstrong(num)\n",
    "print()\n",
    "\n",
    "lst = []\n",
    "def printArmstrong():\n",
    "    for i in range(1, 1001):\n",
    "        if i == cubesum(i):\n",
    "            lst.append(i)\n",
    "    print(list(lst))\n",
    "            \n",
    "print(\"The Armstrong numbers between 1 to 1000:\")\n",
    "printArmstrong()\n"
   ]
  },
  {
   "cell_type": "markdown",
   "metadata": {},
   "source": [
    "# 7. Product of digits"
   ]
  },
  {
   "cell_type": "code",
   "execution_count": 80,
   "metadata": {},
   "outputs": [
    {
     "name": "stdout",
     "output_type": "stream",
     "text": [
      "Enter a number: 1249\n",
      "72\n"
     ]
    }
   ],
   "source": [
    "def prodDigits(n):\n",
    "    prod = 1\n",
    "    while n > 0:\n",
    "        digit = n % 10\n",
    "        prod = prod * digit\n",
    "        n = n // 10       \n",
    "    print(prod)\n",
    "        \n",
    "n = int(input(\"Enter a number: \"))\n",
    "prodDigits(n)"
   ]
  },
  {
   "cell_type": "markdown",
   "metadata": {},
   "source": [
    "# 8. MDR() & MPersistence()"
   ]
  },
  {
   "cell_type": "code",
   "execution_count": 30,
   "metadata": {},
   "outputs": [
    {
     "name": "stdout",
     "output_type": "stream",
     "text": [
      "Enter a number: 341\n",
      "\n",
      "Multiplicative Digit Root of 341\n",
      "2\n",
      "\n",
      "Multiplicative Persistence of 341\n"
     ]
    },
    {
     "data": {
      "text/plain": [
       "2"
      ]
     },
     "execution_count": 30,
     "metadata": {},
     "output_type": "execute_result"
    }
   ],
   "source": [
    "def prodDigits(n):\n",
    "    prod = 1\n",
    "    while n > 0:\n",
    "        digit = n % 10\n",
    "        prod = prod * digit\n",
    "        n = n // 10\n",
    "    return prod\n",
    "    \n",
    "def MDR(n):\n",
    "    str_num = str(n)\n",
    "    while len(str_num) > 1:\n",
    "        str_num = str(prodDigits(int(str_num)))\n",
    "    return int(str_num)\n",
    "\n",
    "\n",
    "def MPersistence(n):\n",
    "    count = 0\n",
    "    str_num = str(n)\n",
    "    while len(str_num) > 1:\n",
    "        str_num = str(prodDigits(int(str_num)))\n",
    "        count += 1\n",
    "    return count\n",
    "    \n",
    "num = int(input(\"Enter a number: \"))\n",
    "print()\n",
    "print(\"Multiplicative Digit Root of\", num)\n",
    "mdr = print(MDR(num))\n",
    "print()\n",
    "print(\"Multiplicative Persistence of\", num)\n",
    "MPersistence(num)"
   ]
  },
  {
   "cell_type": "markdown",
   "metadata": {},
   "source": [
    "# 9. Sum of the Divisors"
   ]
  },
  {
   "cell_type": "code",
   "execution_count": 4,
   "metadata": {},
   "outputs": [
    {
     "name": "stdout",
     "output_type": "stream",
     "text": [
      "Enter the number: 36\n",
      "List of divisors of 36\n",
      "[1, 2, 3, 4, 6, 9, 12, 18]\n",
      "The sum of the divisors of 36 is 55\n"
     ]
    }
   ],
   "source": [
    "lst = []\n",
    "def sumPdivisors(n):\n",
    "    sum = 0\n",
    "    for i in range(1, n):\n",
    "        if n % i == 0:\n",
    "            lst.append(i) \n",
    "            sum = sum + i\n",
    "    print(lst)# Prints the divisors of a number\n",
    "    return sum\n",
    "            \n",
    "num = int(input(\"Enter the number: \"))\n",
    "print(\"List of divisors of\",num)\n",
    "print(\"The sum of the divisors of\",num, \"is\",sumPdivisors(num))"
   ]
  },
  {
   "cell_type": "markdown",
   "metadata": {},
   "source": [
    "# 10. Perfect Number"
   ]
  },
  {
   "cell_type": "code",
   "execution_count": 5,
   "metadata": {},
   "outputs": [
    {
     "name": "stdout",
     "output_type": "stream",
     "text": [
      "Perfect numbers from 1 to 1000:\n",
      "[6, 28, 496]\n"
     ]
    }
   ],
   "source": [
    "def sumPdivisors(n):\n",
    "    sum = 0\n",
    "    for i in range(1, n):\n",
    "        if n % i == 0:\n",
    "            sum = sum + i\n",
    "    return sum\n",
    "\n",
    "def perfectNumber():\n",
    "    lst = []\n",
    "    for i in range(1, 1000):\n",
    "        if i == sumPdivisors(i):\n",
    "            lst.append(i)\n",
    "    print(lst)\n",
    "            \n",
    "print(\"Perfect numbers from 1 to 1000:\")\n",
    "perfectNumber()"
   ]
  },
  {
   "cell_type": "markdown",
   "metadata": {},
   "source": [
    "# 11. Amicable numbers"
   ]
  },
  {
   "cell_type": "code",
   "execution_count": 6,
   "metadata": {},
   "outputs": [
    {
     "name": "stdout",
     "output_type": "stream",
     "text": [
      "220 , 284\n"
     ]
    }
   ],
   "source": [
    "def sumOfDivisors(n):\n",
    "    sum = 0\n",
    "    for i in range(1, n):\n",
    "        if n % i == 0:\n",
    "            sum = sum + i\n",
    "    return sum\n",
    "            \n",
    "# num = int(input(\"Enter a number: \"))\n",
    "# divisors(num)\n",
    "\n",
    "def amicable():\n",
    "    for num1 in range(1, 1000):\n",
    "        num2 = sumOfDivisors(num1)\n",
    "        if num1 < num2 and sumOfDivisors(num2) == num1:\n",
    "            print(num1,',',num2)\n",
    "                \n",
    "amicable()"
   ]
  },
  {
   "cell_type": "markdown",
   "metadata": {},
   "source": [
    "# 12. Using filter()"
   ]
  },
  {
   "cell_type": "code",
   "execution_count": 7,
   "metadata": {},
   "outputs": [
    {
     "name": "stdout",
     "output_type": "stream",
     "text": [
      "Enter a number: 10\n",
      "[0, 1, 2, 3, 4, 5, 6, 7, 8, 9, 10]\n",
      "[1, 3, 5, 7, 9]\n"
     ]
    }
   ],
   "source": [
    "lst = []\n",
    "n = int(input(\"Enter a number: \"))\n",
    "\n",
    "# Function to generate a list of numbers upto n\n",
    "def genList(lst):\n",
    "    for i in range(0, n + 1):\n",
    "        lst.append(i)\n",
    "    print(lst)    \n",
    "genList(lst)\n",
    "\n",
    "# Function to identify the odd numbers in a list\n",
    "def odd_numbers(lst):\n",
    "    if lst % 2 != 0:\n",
    "        return True\n",
    "    else:\n",
    "        return False\n",
    "\n",
    "# Using the filter() function\n",
    "odd_list = filter(odd_numbers, lst)\n",
    "print(list(odd_list))"
   ]
  },
  {
   "cell_type": "markdown",
   "metadata": {},
   "source": [
    "# 13. Using map()"
   ]
  },
  {
   "cell_type": "code",
   "execution_count": 8,
   "metadata": {},
   "outputs": [
    {
     "name": "stdout",
     "output_type": "stream",
     "text": [
      "Enter a number: 10\n",
      "[0, 1, 2, 3, 4, 5, 6, 7, 8, 9, 10]\n",
      "[0, 1, 8, 27, 64, 125, 216, 343, 512, 729, 1000]\n"
     ]
    }
   ],
   "source": [
    "lst = []\n",
    "n = int(input(\"Enter a number: \"))\n",
    "\n",
    "# Function to generate a list of numbers upto n\n",
    "def genList(lst):\n",
    "    for i in range(0, n + 1):\n",
    "        lst.append(i)\n",
    "    print(lst)\n",
    "genList(lst)\n",
    "\n",
    "# Function to compute the cube of elements of list\n",
    "def computeCube(n):\n",
    "    return n * n * n\n",
    "\n",
    "# Using map() function\n",
    "cubes = map(computeCube, lst)\n",
    "print(list(cubes))"
   ]
  },
  {
   "cell_type": "markdown",
   "metadata": {},
   "source": [
    "# 14. Using map() & filter()"
   ]
  },
  {
   "cell_type": "code",
   "execution_count": 10,
   "metadata": {},
   "outputs": [
    {
     "name": "stdout",
     "output_type": "stream",
     "text": [
      "Enter a number: 10\n",
      "[0, 1, 2, 3, 4, 5, 6, 7, 8, 9, 10]\n",
      "[0, 8, 64, 216, 512, 1000]\n"
     ]
    }
   ],
   "source": [
    "lst = []\n",
    "n = int(input(\"Enter a number: \"))\n",
    "\n",
    "# Function to generate a list of numbers upto n\n",
    "def genList(lst):\n",
    "    for i in range(0, n + 1):\n",
    "        lst.append(i)\n",
    "    print(lst)\n",
    "genList(lst)\n",
    "\n",
    "# Function to identify the odd numbers in a list\n",
    "def even(lst):\n",
    "    if(lst % 2 == 0):\n",
    "        return True\n",
    "    else:\n",
    "        return False\n",
    "    \n",
    "# Function to compute the cube of elements of list\n",
    "def cube(n):\n",
    "    return n * n * n\n",
    "\n",
    "# Using filter() function\n",
    "even_list = filter(even, lst)\n",
    "\n",
    "# Using map() function\n",
    "even_cubeList = map(cube, even_list)\n",
    "print(list(even_cubeList))"
   ]
  }
 ],
 "metadata": {
  "kernelspec": {
   "display_name": "Python 3",
   "language": "python",
   "name": "python3"
  },
  "language_info": {
   "codemirror_mode": {
    "name": "ipython",
    "version": 3
   },
   "file_extension": ".py",
   "mimetype": "text/x-python",
   "name": "python",
   "nbconvert_exporter": "python",
   "pygments_lexer": "ipython3",
   "version": "3.8.5"
  }
 },
 "nbformat": 4,
 "nbformat_minor": 4
}
